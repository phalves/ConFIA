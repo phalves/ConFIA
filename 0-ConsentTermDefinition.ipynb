{
 "cells": [
  {
   "cell_type": "markdown",
   "id": "42f5acb8",
   "metadata": {},
   "source": [
    "# 0 - Consent term definition\n",
    "\n",
    "The consent term must have all the information presented in LGPD Art. 9:\n",
    "\n",
    "\n",
    "- I - finalidade específica do tratamento;\n",
    "- II - forma e duração do tratamento, observados os segredos comercial - e industrial;\n",
    "- III - identificação do controlador;\n",
    "- IV - informações de contato do controlador;\n",
    "- V - informações acerca do uso compartilhado de dados pelo controlador e a finalidade;\n",
    "- VI - responsabilidades dos agentes que realizarão o tratamento; e\n",
    "- VII - direitos do titular, com menção explícita aos direitos contidos no art. 18 desta Lei. \n",
    "\n",
    "*Source: LGPD Art. 9 -* http://www.planalto.gov.br/ccivil_03/_ato2015-2018/2018/lei/L13709.htm\n",
    "\n",
    "\n",
    "To do so, each command line bellow represent a insertion of an fact into the fact's database:"
   ]
  },
  {
   "cell_type": "markdown",
   "id": "839bfc86",
   "metadata": {},
   "source": [
    "The Data Subject Paulo allows ..."
   ]
  },
  {
   "cell_type": "code",
   "execution_count": 1,
   "id": "7f72b909",
   "metadata": {},
   "outputs": [
    {
     "name": "stdout",
     "output_type": "stream",
     "text": []
    }
   ],
   "source": [
    "dataSubject(paulo)."
   ]
  },
  {
   "cell_type": "markdown",
   "id": "e33b2832",
   "metadata": {},
   "source": [
    "... the Data Controller Fiocruz ..."
   ]
  },
  {
   "cell_type": "code",
   "execution_count": 2,
   "id": "04b21de0",
   "metadata": {},
   "outputs": [
    {
     "name": "stdout",
     "output_type": "stream",
     "text": []
    }
   ],
   "source": [
    "dataController(fiocruz)."
   ]
  },
  {
   "cell_type": "markdown",
   "id": "4f211fc8",
   "metadata": {},
   "source": [
    "... access, store, and process his personal data ..."
   ]
  },
  {
   "cell_type": "code",
   "execution_count": 3,
   "id": "c1b8c01a",
   "metadata": {},
   "outputs": [
    {
     "name": "stdout",
     "output_type": "stream",
     "text": []
    }
   ],
   "source": [
    "personalData(paulo,976635869)."
   ]
  },
  {
   "cell_type": "markdown",
   "id": "a50ff23f",
   "metadata": {},
   "source": [
    "... and his health data ..."
   ]
  },
  {
   "cell_type": "code",
   "execution_count": 4,
   "id": "6c0f4df6",
   "metadata": {},
   "outputs": [
    {
     "name": "stdout",
     "output_type": "stream",
     "text": []
    }
   ],
   "source": [
    "healthData(paulo, oPlus)."
   ]
  },
  {
   "cell_type": "markdown",
   "id": "6a65fbe8",
   "metadata": {},
   "source": [
    "... under the purpose to perform research ..."
   ]
  },
  {
   "cell_type": "code",
   "execution_count": 5,
   "id": "283697a3",
   "metadata": {},
   "outputs": [
    {
     "name": "stdout",
     "output_type": "stream",
     "text": []
    }
   ],
   "source": [
    "purpose(fiocruz,paulo,research)."
   ]
  },
  {
   "cell_type": "markdown",
   "id": "8af2595f",
   "metadata": {},
   "source": [
    "... regarding genetic factors related to COVID-19 ..."
   ]
  },
  {
   "cell_type": "code",
   "execution_count": 6,
   "id": "6b5384da",
   "metadata": {},
   "outputs": [
    {
     "name": "stdout",
     "output_type": "stream",
     "text": []
    }
   ],
   "source": [
    "specificPurpose(fiocruz,paulo,research,'genetic_factors_related_to_COVID-19')."
   ]
  },
  {
   "cell_type": "markdown",
   "id": "1600abdb",
   "metadata": {},
   "source": [
    "... using statistical analysis ..."
   ]
  },
  {
   "cell_type": "code",
   "execution_count": 7,
   "id": "4adc0eb8",
   "metadata": {},
   "outputs": [
    {
     "name": "stdout",
     "output_type": "stream",
     "text": []
    }
   ],
   "source": [
    "form(fiocruz,paulo,research,'genetic_factors_related_to_COVID-19','statistic_analysis')."
   ]
  },
  {
   "cell_type": "markdown",
   "id": "3649328c",
   "metadata": {},
   "source": [
    "... for 180 days. "
   ]
  },
  {
   "cell_type": "code",
   "execution_count": 8,
   "id": "bbd92200",
   "metadata": {},
   "outputs": [
    {
     "name": "stdout",
     "output_type": "stream",
     "text": []
    }
   ],
   "source": [
    "timeLength(fiocruz,paulo,research,'genetic_factors_related_to_COVID-19',180)."
   ]
  },
  {
   "cell_type": "markdown",
   "id": "1e56a9f6",
   "metadata": {},
   "source": [
    "The Data Controller is allowed to share the Data Subject data only with the vaccination priorization purpose."
   ]
  },
  {
   "cell_type": "code",
   "execution_count": 9,
   "id": "6e0ebc27",
   "metadata": {},
   "outputs": [
    {
     "name": "stdout",
     "output_type": "stream",
     "text": []
    }
   ],
   "source": [
    "thirdyPartySharingPurpose(fiocruz,paulo,research,'genetic_factors_related_to_COVID-19',180,'vaccination_priorization')."
   ]
  },
  {
   "cell_type": "markdown",
   "id": "6d201d64",
   "metadata": {},
   "source": [
    "To do any request, please use the Data Controller communication channel by email lgpd@fiocruz.br."
   ]
  },
  {
   "cell_type": "code",
   "execution_count": 10,
   "id": "1f56fd60",
   "metadata": {},
   "outputs": [
    {
     "name": "stdout",
     "output_type": "stream",
     "text": []
    }
   ],
   "source": [
    "channelToProvideInformation(fiocruz,paulo,'e-mail','lgpd@fiocruz.br')."
   ]
  },
  {
   "cell_type": "markdown",
   "id": "af781cd4",
   "metadata": {},
   "source": [
    "PS: The Data Controllers must inform in any case if they are processing the personal data, if requested. "
   ]
  },
  {
   "cell_type": "code",
   "execution_count": 11,
   "id": "c212401c",
   "metadata": {},
   "outputs": [
    {
     "name": "stdout",
     "output_type": "stream",
     "text": []
    }
   ],
   "source": [
    "dsRight(processingConfirmation,dataSubject(paulo),dataController(fiocruz))."
   ]
  }
 ],
 "metadata": {
  "kernelspec": {
   "display_name": "SWI-Prolog",
   "language": "",
   "name": "jswipl"
  },
  "language_info": {
   "mimetype": "text/plain",
   "name": "swipl"
  }
 },
 "nbformat": 4,
 "nbformat_minor": 5
}
