{
 "cells": [
  {
   "cell_type": "markdown",
   "id": "2dba5670",
   "metadata": {},
   "source": [
    "# Exploring Simulation Scenarios to Mitigate Information Asymmetry Under the LGPD Perspective"
   ]
  },
  {
   "cell_type": "markdown",
   "id": "d13fadbf",
   "metadata": {},
   "source": [
    "## Table of Contents\n",
    "1. [LGPD Ontology](#LGPD-Ontology)\n",
    "1. [Scenario Structure](#Scenario-Structure)\n",
    "1. [Scenario Description](#Scenario-Description)\n",
    "2. [Scene 1: Set Consent Term](#Scene-1:-Set-consent-term.)\n",
    "3. [Scene 2: Data Subject Agrees with the Consent Term](#Scene-2:-Data-Subject-agrees-with-the-consent-term.)\n",
    "4. [Scene 3: Defining the Data Subject's Rights](#Scene-3:-Defining-the-Data-Subject's-rights.)\n",
    "5. [Scene 4: Data Subject's Consent Revocation](#Scene-4:-Data-Subject's-consent-revocation.)\n",
    "6. [Questions to Ask](#Questions-to-ask)\n",
    "    \n",
    "    8.1 [Cause-Effect 1: Consent revocation not respected](#Cause-effect:-1-How-to-evidence-when-the-Data-Controller-did-not-respect-the-consent-revocation?)\n",
    "    \n",
    "    8.2 [Cause-Effect 2: Evidencing data leak](#Cause-effect-2:-How-to-get-evidences-that-the-Data-Controller-leaked-the-Data-Subject's-data?)\n",
    "    \n",
    "    8.3 [Cause-effect 2: Data breach, what to do?](#Cause-effect-2:-Data-breach,-what-to-do?)\n",
    "    \n",
    "    8.4 [Cause-Effect 3: Requesting data correction](#Cause-effect-3:-Requesting-data-correction)\n",
    "\n",
    "    8.5 [Cause-Effect 4: Requesting data anonymization](#Cause-effect-4:-Requesting-anonymization)\n"
   ]
  },
  {
   "cell_type": "markdown",
   "id": "099fbaca",
   "metadata": {},
   "source": [
    "### LGPD Ontology\n",
    "\n",
    "This notebook aims to describe the ontology developed to map the LGPD entities and their relationships. Next, we create scenarios to show samples of law's application using Prolog.\n",
    "To do so, we based our approach on the PrOnto ontology, which was developed in the GDPR context and it has many intersections with the LGPD concepts.\n",
    "\n",
    "There are differences between the GDPR and LGPD. The former is more normative and detailed. The latter is generalist and, as law, lets the clauses open to interpretations case by case.\n",
    "\n",
    "The LGPD cases can present intersections with other laws in the Brazilian constitution, depending on the case, as depicted in the following image. It defines: \n",
    " - legal basis: consent is the most popular, but there are others foreseen in the law, \n",
    " - data protection guidelines: general guidelines, \n",
    " - applicability: there are some situations that the LGPD cannot be applied, such as when the data is anonymized,\n",
    " - concepts: LGPD qualifies personal data, sensitive personal data, data controller, among others,\n",
    " - rights and duties: LGPD sets rights and duties for data subjects, controllers and processors.\n",
    "\n",
    "![LGPD_Structure](./img/LGPD_Structure.png \"LGPD Structure\")\n",
    "\n",
    "In this sense, we decided to create a new ontology to highlight the essential concepts in the LGPD and their relationships, as depicted in the following image.\n",
    "\n",
    "![LGPD_Ontology](./img/LGPD_Ontology.png \"LGPD Ontology\")\n",
    "\n",
    "In a detailed view, the following image depicts the relationships between the entities, and it is important to note that the \"consent term\" and the \"right\" are the central ontology points; they have many connections with other concepts as well as the entity \"dispute resolution\". For instance, if the purpose limitation changed, the data controller must get a new consent term from the data subject. Hence, depending on the data subject will, he/she can disagree, and it will interrupt the data collection. Still, if the data controller does not stop collecting the data subject's personal data, it will violate the data subject's rights, and fines will be applied to the data controller.\n",
    "\n",
    "![LGPD_Ontology_Relationships](./img/LGPD_Ontology_Relationships.png \"LGPD Ontology Relationships\")\n",
    "\n",
    "\n",
    "### Scenario Structure\n",
    "\n",
    "This scenario structure was developed based on the PrOnto ontology, but some changed were made. PrOnto ontology presents many modules to describe the ontology entities in details, however it might be hard to an common people, aka citizens,  to understand what are the main concerns when sharing his/her data.\n",
    "\n",
    "In this sense, we gather the PrOnto definitions to create our scenario sctructure, as depicted in the image below.\n",
    "\n",
    "\n",
    "Our scenario presents four pillars: Agent, Action, Right, and DeonticOperator , which will be detailed and depicted below:\n",
    " - **Agent**: Scenarios have to define the agents, i.e., who are the Data Subjects, Data Controllers and Data Processors that will be involved and their actions.\n",
    " - **Action**: The actions are narrowed by the consent term, which defines the agents, the purpose, the data that will be used, and the time frame. Moreover, the actions are executed under a jurisdiction and entails risks, such as the risk of data leak. Last but not least, actions are composed by steps, which are executed based on the current rights available for the agents and persisted by log registries.\n",
    " - **Right**: The agents may have different rights depending on the classification, time frame and previous actions. The rights are complemented by the Deontic Operators.\n",
    " - **Deontic Operator**: The deontic concepts defines if there is a obligation, prohibition, and permission. Furthermore, PrOnto includes violation and compliance as status related to an obligation or prohibition.\n",
    " \n",
    "![Scenario_Structure](./img/Scenario_Structure.png \"Scenario Structure\")\n",
    "\n",
    "Our scenarios follows the structure presented below. First, we define the scenario context and formulate basic questions regarding the data subject's rights and how the data controller can address such questions. Then, we elaborate more complex scenarios in order to explore non-trivial situations to stress the scenario context and document the evidence. We aim to create a simulation tool that data subjects and controllers can explore the possible scenarios already developed and contribute with new perspectives. The collaborative contribution can generate a solid database for exploring LGPD compliance in many different situations.\n",
    "\n",
    "<div>\n",
    "<img src=\"./img/Scenario_Methodology.png\" width=\"600\"/>\n",
    "</div>\n",
    " \n",
    "\n",
    "### Scenario Description\n",
    "\n",
    "**Data Subject agrees with the Data Controller consent term, but then decided to revoke his/her consent.**\n",
    "\n",
    "The Data Controller Fiocruz wants to use Paulo's (Data Subject) personal data and health data to research genetic factors related to COVID-19 from Wednesday, May 26, 2021 1:21:00 PM to Thursday, November 25, 2021 1:21:00 PM (180 days).\n",
    "\n",
    "To do so, the Data Controller must send the consent term to the Data Subject. The consent term must present all the information defined in the LGPD art. 9.\n",
    "\n",
    "However, after accepting the consent term, the Data Subjects decides to revoke his consent on Saturday, June 26, 2021 1:07:55 PM.\n",
    "\n",
    "Agents\n",
    " - Data Subject - Paulo\n",
    " - Data Controller and processor - Fiocruz\n",
    "\n",
    "Action\n",
    " - Defined in the consent term.\n",
    " - Risk: data breach - impact: low; there is no religion, ethic, political opinion data that could generate discrimination actions to the data subject.\n",
    "\n",
    "Right\n",
    " - After the Data Subject decides to agree with the consent terms, he will have all the LGPD foreseen rights\n",
    " - The consent revocation should not impact the other rights.\n",
    " \n",
    "Deontic Operator\n",
    " - The Data Subject has the permission to call for any action related to his rights\n",
    " - The Data Controller is obligated to abide by the Data Subject solicitations, except when the law says the opposite.\n",
    " - The Data Controller is prohibited from using the personal data collected under other circumstances than the ones that are in the consent term\n",
    " - Violation and compliance will be explored in the extended scnarios in the end of this notebook\n",
    "\n",
    "\n",
    "\n",
    "The following figure depicts this macro scenario process.\n",
    "\n",
    "![Scenario2_Process](./img/Scenario2_Process.png \"Process 2\")\n",
    "\n",
    "Moreover, other four cause-effect scenarios were explored in order to show some possibilities regarding to the data subject's rights. \n",
    "\n",
    "The goal is to creating a scenario with Prolog to explore the facts in different time range and some cause-effect scenarios. This notebook tries to keep general facts that could occurr in any domain. Specific domain facts were not exploered.\n",
    " \n",
    "*PS-1: The timestamp is used to provide the time spectrum. The following tool was used to convert human time to timestamp and the other way around. https://www.epochconverter.com/ - 180 days is equivalent to add the value 15811200 in the timestamp*\n",
    "\n",
    "*PS-2: To help the usage of timestamp, we considered the following association.*\n",
    "- *Wednesday, May 26, 2021 1:21:00 PM = 1622035260*\n",
    "- *Friday, November 26, 2021 1:07:55 PM = 1637846460*\n",
    "- *Saturday, June 26, 2021 1:07:55 PM = 1624712875*\n",
    "\n",
    " \n",
    " ---------"
   ]
  },
  {
   "cell_type": "markdown",
   "id": "598222fa",
   "metadata": {},
   "source": [
    "### Scene 1: Set consent term."
   ]
  },
  {
   "cell_type": "markdown",
   "id": "e030a8e9",
   "metadata": {},
   "source": [
    "The first step is the consent setup. The consent must have all information described in the LGPD Art. 9. The following method receives all the required information.\n",
    "\n",
    "\n",
    "The **Data Subject Paulo** allows the **Data Controller Fiocruz** to access, store, and process his **phone number** and **blood factor/type** to perform **research** regarding **genetic factors related to COVID-19** using **statistical analysis** for **180 days**. However, the phone number **will not be public available** and will be used only in emergency situations.\n",
    "\n",
    "The Data Controller is allowed to **share** the Data Subject data **only** with the **vaccination prioritization purpose**.\n",
    "\n",
    "\n",
    "To make any request, please use the Data Controller communication channel by **email lgpd@fiocruz.br**.\n",
    "\n",
    "\n",
    "PS: The Data Controllers must inform in any case if they are processing the personal data if requested.\n"
   ]
  },
  {
   "cell_type": "code",
   "execution_count": 1,
   "id": "64c60967",
   "metadata": {},
   "outputs": [
    {
     "name": "stdout",
     "output_type": "stream",
     "text": []
    }
   ],
   "source": [
    "% Description: This function defines a consent term including all required information described in the LGPD Art. 9\n",
    "% The consent term must inform:\n",
    "%    i. Data Controller\n",
    "%   ii. Data Subject\n",
    "%  iii. Specific Purpose\n",
    "%   iv. Form (Processing techniques)\n",
    "%    v. Time length of processing\n",
    "%   vi. The purpose when sharing the data with third parties, when applied\n",
    "%  vii. Communication channel to the data subject request any information\n",
    "% viii. Data Controller contact\n",
    "\n",
    "createConsentTerm(DC,DS,PData,HData,Purpose,\n",
    "                SpecificPurpose,\n",
    "                Form,\n",
    "                TimeLength,\n",
    "                ThirdPartyPurpose,\n",
    "                Channel,\n",
    "                DCContact) :-\n",
    "\n",
    "                assertz(dataSubject(DS)),\n",
    "                assertz(dataController(DC)),\n",
    "                assertz(personalData(DS,PData)),\n",
    "                assertz(healthData(DS, HData)),\n",
    "                assertz(purpose(DC,DS,Purpose)),\n",
    "                assertz(specificPurpose(DC,DS,Purpose,SpecificPurpose)),\n",
    "                assertz(form(DC,DS,Purpose,SpecificPurpose,Form)),\n",
    "                assertz(timeLength(DC,DS,Purpose,SpecificPurpose,TimeLength)),\n",
    "                assertz(thirdyPartySharingPurpose(DC,DS,Purpose,SpecificPurpose,\n",
    "                                                    TimeLength,ThirdPartyPurpose)),\n",
    "                assertz(channelToProvideInformation(DC,DS,Channel,DCContact))."
   ]
  },
  {
   "cell_type": "code",
   "execution_count": 2,
   "id": "4747b8a8",
   "metadata": {},
   "outputs": [
    {
     "name": "stdout",
     "output_type": "stream",
     "text": [
      "true."
     ]
    }
   ],
   "source": [
    "% This is a function call that defines a consent term with the informed params\n",
    "\n",
    "?- createConsentTerm(fiocruz,paulo,976635869,oPlus,research,\n",
    "                'genetic_factors_related_to_COVID-19',\n",
    "                'statistic_analysis',\n",
    "                15811200,\n",
    "                'vaccination_priorization',\n",
    "                'e-mail',\n",
    "                'lgpd@fiocruz.br')."
   ]
  },
  {
   "cell_type": "code",
   "execution_count": 3,
   "id": "027715ee",
   "metadata": {},
   "outputs": [
    {
     "name": "stdout",
     "output_type": "stream",
     "text": [
      "true."
     ]
    }
   ],
   "source": [
    "% This function defines the right to request processing confirmation to the Data Subject\n",
    "\n",
    "dsRight(processingConfirmation,dataSubject(paulo),dataController(fiocruz)).\n",
    "?- assertz(log('Data Subject can ask if the Data Controller is processing his/her data',1622035260))."
   ]
  },
  {
   "cell_type": "markdown",
   "id": "329c71df",
   "metadata": {},
   "source": [
    " ---------"
   ]
  },
  {
   "cell_type": "markdown",
   "id": "78ad55c8",
   "metadata": {},
   "source": [
    "### Scene 2: Data Subject agrees with the consent term."
   ]
  },
  {
   "cell_type": "markdown",
   "id": "f06757c0",
   "metadata": {},
   "source": [
    "First, the Data Subject verifies if all the crutial elements are described in the consent term present by the Data Controller. If so, the program will set that the consent term is ok, i.e., it has all the required information."
   ]
  },
  {
   "cell_type": "code",
   "execution_count": 4,
   "id": "9a29c4ee",
   "metadata": {},
   "outputs": [
    {
     "name": "stdout",
     "output_type": "stream",
     "text": []
    }
   ],
   "source": [
    "% Description: This function verifies if a consent term includes all required information described in the LGPD Art. 9\n",
    "% The consent term must inform:\n",
    "%    i. Data Controller\n",
    "%   ii. Data Subject\n",
    "%  iii. Specific Purpose\n",
    "%   iv. Form (Processing techniques)\n",
    "%    v. Time length of processing\n",
    "%   vi. The purpose when sharing the data with third parties, when applied\n",
    "%  vii. Communication channel to the data subject request any information\n",
    "% viii. Data Controller contact\n",
    "\n",
    "checkConsentTerm(dataController(DC),\n",
    "                dataSubject(DS),\n",
    "                purpose(DC,Purpose),\n",
    "                SpecificPurpose,\n",
    "                Form,\n",
    "                TimeLength,\n",
    "                ThirdPartyPurpose,\n",
    "                Channel,\n",
    "                DCContact,\n",
    "                Date) :-\n",
    "    (\n",
    "        form(DC,DS,Purpose,SpecificPurpose,Form),\n",
    "        timeLength(DC,DS,Purpose,SpecificPurpose,TimeLength),\n",
    "        thirdyPartySharingPurpose(DC,DS,Purpose,SpecificPurpose,TimeLength,ThirdPartyPurpose),\n",
    "        channelToProvideInformation(DC,DS,Channel,DCContact),\n",
    "        purpose(DC,DS,Purpose),\n",
    "        specificPurpose(DC,DS,Purpose,SpecificPurpose),\n",
    "        assertz(consentTermOk(dataController(DC),dataSubject(DS))),\n",
    "        assertz(log('Data Subject verified the consent term and it was ok',Date))\n",
    "    )."
   ]
  },
  {
   "cell_type": "code",
   "execution_count": 5,
   "id": "0c30406f",
   "metadata": {},
   "outputs": [
    {
     "name": "stdout",
     "output_type": "stream",
     "text": [
      "true."
     ]
    }
   ],
   "source": [
    "% This is a function call returns true if the consent term is ok, or false if not.\n",
    "\n",
    "?- checkConsentTerm(dataController(fiocruz),\n",
    "                        dataSubject(paulo),\n",
    "                        purpose(fiocruz,research),\n",
    "                        'genetic_factors_related_to_COVID-19',\n",
    "                        'statistic_analysis',\n",
    "                        15811200,\n",
    "                        'vaccination_priorization',\n",
    "                        'e-mail',\n",
    "                        'lgpd@fiocruz.br',\n",
    "                        1622035260)."
   ]
  },
  {
   "cell_type": "markdown",
   "id": "2364d019",
   "metadata": {},
   "source": [
    "So, if the consent term is ok, the Data Subject can inform that he/she agrees with the consent term.\n",
    "\n",
    "Hence, the Data Controller can collect, store and process the Data Subject's data."
   ]
  },
  {
   "cell_type": "code",
   "execution_count": 6,
   "id": "56ad4032",
   "metadata": {},
   "outputs": [
    {
     "name": "stdout",
     "output_type": "stream",
     "text": []
    }
   ],
   "source": [
    "% Description: This function sets that the Data Subject agreed with the consent term.\n",
    "% This function receives the params:\n",
    "%    i. Consent ID\n",
    "%   ii. Data Subject\n",
    "%  iii. Data Controller\n",
    "%   iv. Personal Data\n",
    "%    v. Health Data\n",
    "%   vi. Start Date - Timestamp\n",
    "%   vi. End Date - Timestamp\n",
    "\n",
    "setThatdsAgreeWithConsentTerms(id(ID),dataSubject(DS),\n",
    "                                dataController(DC),\n",
    "                                personalData(DS,PData),\n",
    "                                healthData(DS,HData),\n",
    "                                startDate(StartTS),\n",
    "                                endDate(EndTS)) :-\n",
    "    consentTermOk(dataController(DC),dataSubject(DS)),\n",
    "    \n",
    "    assertz(dsAgreeWithConsentTerms(dataSubject(DS),dataController(DC),startDate(TS),endDate(TS))),\n",
    "    assertz(log('Data Subject agrees with consent term',StartTS)),\n",
    "\n",
    "    assertz(dcIsCollectingDSData(id(ID),dataController(DC),dataSubject(DS),personalData(DS,PData),healthData(DS,HData),startDate(StartTS),endDate(EndTS))),\n",
    "    assertz(log('Data Controller can collect the Data Subject information',StartTS)),\n",
    "    \n",
    "    assertz(dcIsStoringDSData(id(ID),dataController(DC),dataSubject(DS),personalData(DS,PData),healthData(DS,HData),startDate(StartTS),endDate(EndTS))),\n",
    "    assertz(log('Data Controller can store the Data Subject information',StartTS)),\n",
    "        \n",
    "    assertz(dcIsProcessingDSData(id(ID),dataController(DC),dataSubject(DS),personalData(DS,PData),healthData(DS,HData),startDate(StartTS),endDate(EndTS))),\n",
    "    assertz(log('Data Controller can process the Data Subject information',StartTS))."
   ]
  },
  {
   "cell_type": "code",
   "execution_count": 7,
   "id": "08b164c9",
   "metadata": {},
   "outputs": [
    {
     "name": "stdout",
     "output_type": "stream",
     "text": [
      "EndDate = 1637846460 ."
     ]
    }
   ],
   "source": [
    "% This is a function call returns true in case of success.\n",
    "\n",
    "?- setThatdsAgreeWithConsentTerms(id(10),\n",
    "                                dataSubject(paulo),\n",
    "                                dataController(fiocruz),\n",
    "                                personalData(paulo,976635869),\n",
    "                                healthData(paulo,oPlus),\n",
    "                                startDate(1622035260),\n",
    "                                endDate(EndDate)), EndDate is 1622035260+15811200."
   ]
  },
  {
   "cell_type": "markdown",
   "id": "0248cdc8",
   "metadata": {},
   "source": [
    "Now, the Data Controller can collect, store and process the Data Subject's data."
   ]
  },
  {
   "cell_type": "code",
   "execution_count": 8,
   "id": "edb753c9",
   "metadata": {},
   "outputs": [
    {
     "name": "stdout",
     "output_type": "stream",
     "text": [
      "true."
     ]
    }
   ],
   "source": [
    "?- dcIsCollectingDSData(id(10),dataController(fiocruz),dataSubject(paulo),\n",
    "                        personalData(paulo,976635869),healthData(paulo,oPlus),\n",
    "                        startDate(1622035260),endDate(1637846460)),\n",
    "                        \n",
    "dcIsProcessingDSData(id(10),dataController(fiocruz),dataSubject(paulo),\n",
    "                    personalData(paulo,976635869),healthData(paulo,oPlus),\n",
    "                    startDate(1622035260),endDate(1637846460)),\n",
    "                    \n",
    "dcIsStoringDSData(id(10),dataController(fiocruz),dataSubject(paulo),\n",
    "                    personalData(paulo,976635869),healthData(paulo,oPlus),\n",
    "                    startDate(1622035260),endDate(1637846460))."
   ]
  },
  {
   "cell_type": "markdown",
   "id": "eea5829e",
   "metadata": {},
   "source": [
    "---------"
   ]
  },
  {
   "cell_type": "markdown",
   "id": "8d60c694",
   "metadata": {},
   "source": [
    "### Scene 3: Defining the Data Subject's rights."
   ]
  },
  {
   "cell_type": "markdown",
   "id": "079be990",
   "metadata": {},
   "source": [
    "According to the LGPD Art. 18, when the Data Subject is sharing data with a Data Controller, he/she has the following rights:\n",
    "1. Data Acess\n",
    "2. Data Copy\n",
    "3. Data Correction\n",
    "4. Data Anonymization\n",
    "5. Data Portability\n",
    "6. Data Deletion\n",
    "7. Information regarding the data sharing with a third party\n",
    "8. Request consent revocation."
   ]
  },
  {
   "cell_type": "code",
   "execution_count": 9,
   "id": "f689d793",
   "metadata": {},
   "outputs": [
    {
     "name": "stdout",
     "output_type": "stream",
     "text": []
    }
   ],
   "source": [
    "% Description: This function sets all Data Subject right's foreseed in the LGPD.\n",
    "% This function receives the params:\n",
    "%  i. Data Subject\n",
    "% ii. Data Controller\n",
    "\n",
    "setDSRights(dataSubject(DS),dataController(DC),startDate(StartTS)) :-\n",
    "    assertz(dsRight(dataAccess,dataSubject(DS),dataController(DC))),\n",
    "    assertz(dsRight(dataCopy,dataSubject(DS),dataController(DC))),\n",
    "    assertz(dsRight(dataCorrection,dataSubject(DS),dataController(DC))),\n",
    "    assertz(dsRight(dataAnonymization,dataSubject(DS),dataController(DC))),\n",
    "    assertz(dsRight(dataPortability,dataSubject(DS),dataController(DC))),\n",
    "    assertz(dsRight(dataDeletion,dataSubject(DS),dataController(DC))),\n",
    "    assertz(dsRight(dataSharingInformation,dataSubject(DS),dataController(DC))),\n",
    "    assertz(dsRight(requestConsentRevocation,dataSubject(DS),dataController(DC))),\n",
    "    assertz(log('Data Subject can now have all foressen rights',StartTS))."
   ]
  },
  {
   "cell_type": "code",
   "execution_count": 10,
   "id": "d23962ea",
   "metadata": {},
   "outputs": [
    {
     "name": "stdout",
     "output_type": "stream",
     "text": [
      "true."
     ]
    }
   ],
   "source": [
    "% This is a function call returns true if all Data Subject's right was associated to him/her.\n",
    "\n",
    "?- setDSRights(dataSubject(paulo),dataController(fiocruz),startDate(1622035260))."
   ]
  },
  {
   "cell_type": "markdown",
   "id": "ac406f89",
   "metadata": {},
   "source": [
    " ---------"
   ]
  },
  {
   "cell_type": "markdown",
   "id": "e56931ef",
   "metadata": {},
   "source": [
    "### Scene 4: Data Subject's consent revocation."
   ]
  },
  {
   "cell_type": "markdown",
   "id": "ee33ba60",
   "metadata": {},
   "source": [
    "As mentioned in the scenario's description, the Data Subject decides to revoke his/her consent.\n",
    "The Data Subject considered that the purpose limitation is not adequate. \n",
    "\n",
    "Once performed, the action of requesting the consent revocation cannot be executed again, and the Data Controller is forbidden to still collecting the Data Subject's data."
   ]
  },
  {
   "cell_type": "code",
   "execution_count": 11,
   "id": "a0ec4159",
   "metadata": {},
   "outputs": [
    {
     "name": "stdout",
     "output_type": "stream",
     "text": []
    }
   ],
   "source": [
    "% Description: This function revoke the Data Controller's action of collecting the Data Subject's data.\n",
    "% This function receives the params:\n",
    "%   i. Consent ID\n",
    "%  ii. Data Subject\n",
    "% iii. Data Controller\n",
    "%  iv. Personal Data\n",
    "%   v. Health Data\n",
    "\n",
    "setDSRevokeConsent(id(ID),\n",
    "                    dataSubject(DS),\n",
    "                    dataController(DC),\n",
    "                    personalData(DS,PData),\n",
    "                    healthData(DS,HData),\n",
    "                    now(Date),\n",
    "                    startDate(StartTS),\n",
    "                    endDate(EndTS),\n",
    "                    requestDate(ReqDate)) :-\n",
    "                    \n",
    "    not(dsRight(requestConsentRevocation,dataSubject(paulo),dataController(fiocruz))),\n",
    "    assertz(log('Data Subject tried to revoke his/her consent, but fail',ReqDate));\n",
    "    \n",
    "    retract(dsRight(requestConsentRevocation,dataSubject(DS),dataController(DC))),\n",
    "    assertz(log('Data Subject requested to the Data Controller to revoke his/her consent',Date)),\n",
    "    \n",
    "    retract(dcIsCollectingDSData(id(ID),dataController(DC),dataSubject(DS),personalData(DS,PData),healthData(DS,HData),startDate(StartTS),endDate(EndTS))),\n",
    "    assertz(log('From now, the Data Controller cannot collect the Data Subject information',Date)),\n",
    "    \n",
    "    retract(dcIsProcessingDSData(id(ID),dataController(DC),dataSubject(DS),personalData(DS,PData),healthData(DS,HData),startDate(StartTS),endDate(EndTS))),\n",
    "    assertz(log('From now, the Data Controller cannot process the Data Subject information',Date)).\n",
    "\n",
    "    "
   ]
  },
  {
   "cell_type": "code",
   "execution_count": 12,
   "id": "3c113b41",
   "metadata": {},
   "outputs": [
    {
     "name": "stdout",
     "output_type": "stream",
     "text": [
      "true.\n",
      "EndDate = 1637846460 ."
     ]
    }
   ],
   "source": [
    "% This call store the Data Subject's motivation to request the cosent revocation.\n",
    "?- assertz(log('Data Subject considered that the purpose limitation is not adequate',1624712875)).\n",
    "\n",
    "% This is a function call returns true if all Data Subject's request was successfully performed.\n",
    "?- setDSRevokeConsent(id(10),\n",
    "                        dataSubject(paulo),\n",
    "                        dataController(fiocruz),\n",
    "                        personalData(paulo,976635869),\n",
    "                        healthData(paulo,oPlus),\n",
    "                        now(1624712875),\n",
    "                        startDate(1622035260),\n",
    "                        endDate(EndDate),\n",
    "                        requestDate(1624712875)), \n",
    "                        EndDate is 1622035260+15811200.\n",
    "    "
   ]
  },
  {
   "cell_type": "markdown",
   "id": "680944f7",
   "metadata": {},
   "source": [
    " ---------"
   ]
  },
  {
   "cell_type": "markdown",
   "id": "4283b37f",
   "metadata": {},
   "source": [
    "### Questions to ask"
   ]
  },
  {
   "cell_type": "markdown",
   "id": "6239f32d",
   "metadata": {},
   "source": [
    "Are the fiocruz data controller using the data subject Paulo's data? \n",
    "\n",
    "Expected: As the Data Subject requested to revoke his consent, the data controller is **prohibited** to still using the Data Subjects data."
   ]
  },
  {
   "cell_type": "code",
   "execution_count": 13,
   "id": "b31d83d3",
   "metadata": {},
   "outputs": [
    {
     "name": "stdout",
     "output_type": "stream",
     "text": [
      "false."
     ]
    }
   ],
   "source": [
    "?- dcIsProcessingDSData(id(10),dataController(fiocruz),dataSubject(paulo),personalData(paulo,PData),healthData(paulo,HData),startDate(1622035260),endDate(1637846460))."
   ]
  },
  {
   "cell_type": "markdown",
   "id": "0cc10cfe",
   "metadata": {},
   "source": [
    "What are the Data Subject rights right now?\n",
    "\n",
    "Expected: As the Data Subject requested to revoke his consent, he is **prohibited** to create such request again, even though he has **permission** to request the other rights foreseen by the LGPD."
   ]
  },
  {
   "cell_type": "code",
   "execution_count": 14,
   "id": "2c241578",
   "metadata": {},
   "outputs": [
    {
     "name": "stdout",
     "output_type": "stream",
     "text": [
      "RIGHT = processingConfirmation ;\n",
      "RIGHT = dataAccess ;\n",
      "RIGHT = dataCopy ;\n",
      "RIGHT = dataCorrection ;\n",
      "RIGHT = dataAnonymization ;\n",
      "RIGHT = dataPortability ;\n",
      "RIGHT = dataDeletion ;\n",
      "RIGHT = dataSharingInformation ."
     ]
    }
   ],
   "source": [
    "?- dsRight(RIGHT,dataSubject(paulo),dataController(fiocruz))."
   ]
  },
  {
   "cell_type": "markdown",
   "id": "723dfcb6",
   "metadata": {},
   "source": [
    "Can all items from art. 9 be informed?"
   ]
  },
  {
   "cell_type": "code",
   "execution_count": 15,
   "id": "aad7d26d",
   "metadata": {
    "scrolled": true
   },
   "outputs": [
    {
     "name": "stdout",
     "output_type": "stream",
     "text": [
      "SPECIFICPURPOSE = genetic_factors_related_to_COVID-19 ."
     ]
    }
   ],
   "source": [
    "?- specificPurpose(fiocruz,paulo,research,SPECIFICPURPOSE)."
   ]
  },
  {
   "cell_type": "code",
   "execution_count": 16,
   "id": "d25f269d",
   "metadata": {},
   "outputs": [
    {
     "name": "stdout",
     "output_type": "stream",
     "text": [
      "TimeRange = 15811200 ."
     ]
    }
   ],
   "source": [
    "?- timeLength(fiocruz, paulo, research, 'genetic_factors_related_to_COVID-19',TimeRange)."
   ]
  },
  {
   "cell_type": "markdown",
   "id": "fc11dcb4",
   "metadata": {},
   "source": [
    "Who are collecting the Data Subject's personal data and what are the respective data?"
   ]
  },
  {
   "cell_type": "code",
   "execution_count": 17,
   "id": "74a410e4",
   "metadata": {},
   "outputs": [
    {
     "name": "stdout",
     "output_type": "stream",
     "text": [
      "false."
     ]
    }
   ],
   "source": [
    "?- dcIsCollectingDSData(id(ID),dataController(DC),dataSubject(paulo),personalData(paulo,PData),healthData(paulo,HData),startDate(1622035260),endDate(1637846460))."
   ]
  },
  {
   "cell_type": "markdown",
   "id": "4e2db676",
   "metadata": {},
   "source": [
    "Who are storing the Data Subject's personal data and what are the respective data?\n",
    "\n",
    "Expected: Although the Data Subject requested to revoke his consent, he did not request for data deletion, so the Data Controller is **permitted** to store his dada."
   ]
  },
  {
   "cell_type": "code",
   "execution_count": 18,
   "id": "86967521",
   "metadata": {},
   "outputs": [
    {
     "name": "stdout",
     "output_type": "stream",
     "text": [
      "ID = 10, DC = fiocruz, PData = 976635869, HData = oPlus ."
     ]
    }
   ],
   "source": [
    "?- dcIsStoringDSData(id(ID),dataController(DC),dataSubject(paulo),personalData(paulo,PData),healthData(paulo,HData),startDate(1622035260),endDate(1637846460))."
   ]
  },
  {
   "cell_type": "markdown",
   "id": "68d9afd5",
   "metadata": {},
   "source": [
    "Show all events."
   ]
  },
  {
   "cell_type": "code",
   "execution_count": 19,
   "id": "7f036d4f",
   "metadata": {},
   "outputs": [
    {
     "name": "stdout",
     "output_type": "stream",
     "text": [
      "Event = Data Subject can ask if the Data Controller is processing his/her data, Date = 1622035260 ;\n",
      "Event = Data Subject verified the consent term and it was ok, Date = 1622035260 ;\n",
      "Event = Data Subject agrees with consent term, Date = 1622035260 ;\n",
      "Event = Data Controller can collect the Data Subject information, Date = 1622035260 ;\n",
      "Event = Data Controller can store the Data Subject information, Date = 1622035260 ;\n",
      "Event = Data Controller can process the Data Subject information, Date = 1622035260 ;\n",
      "Event = Data Subject can now have all foressen rights, Date = 1622035260 ;\n",
      "Event = Data Subject considered that the purpose limitation is not adequate, Date = 1624712875 ;\n",
      "Event = Data Subject requested to the Data Controller to revoke his/her consent, Date = 1624712875 ;\n",
      "Event = From now, the Data Controller cannot collect the Data Subject information, Date = 1624712875 ;\n",
      "Event = From now, the Data Controller cannot process the Data Subject information, Date = 1624712875 ."
     ]
    }
   ],
   "source": [
    "?- log(Event,Date) {-1}."
   ]
  },
  {
   "cell_type": "markdown",
   "id": "7d719688",
   "metadata": {},
   "source": [
    "----"
   ]
  },
  {
   "cell_type": "markdown",
   "id": "070e5cea",
   "metadata": {},
   "source": [
    "#### Cause-effect: 1 How to evidence when the Data Controller did not respect the consent revocation?\n",
    "\n",
    "Let's picture that the Data Controller did not respect the Data Subject's request and still collecting the Data Subject's data. In such plot, fines must be applied.\n",
    "\n",
    "<div>\n",
    "<img src=\"./img/Scenario2.1_Process.png\" width=\"600\"/>\n",
    "</div>"
   ]
  },
  {
   "cell_type": "code",
   "execution_count": 20,
   "id": "dfcc2a44",
   "metadata": {},
   "outputs": [
    {
     "name": "stdout",
     "output_type": "stream",
     "text": []
    }
   ],
   "source": [
    "% This command sets that the Data Controller is collecting the Data Subject's data.\n",
    "\n",
    "dcIsCollectingDSData(id(10),dataController(fiocruz),dataSubject(paulo),\n",
    "                        personalData(paulo,976635869),healthData(paulo,oPlus),\n",
    "                        startDate(1622035260),endDate(1637846460))."
   ]
  },
  {
   "cell_type": "markdown",
   "id": "232ba410",
   "metadata": {},
   "source": [
    "So, now the data controller is collecting unauthorized data, it was **prohibited** since the data subject requested consent revocation. The following command will check the environment facts and will insert the inconsistency in the log."
   ]
  },
  {
   "cell_type": "code",
   "execution_count": 21,
   "id": "d74e9295",
   "metadata": {},
   "outputs": [
    {
     "name": "stdout",
     "output_type": "stream",
     "text": [
      "true."
     ]
    }
   ],
   "source": [
    "% This command:\n",
    "%   (i) verifies if the Data Controller is collecting the Data Subject's data;\n",
    "%  (ii) verifies in the log if the Data Subject requested consent revocation;\n",
    "% (iii) if all previous verifications are true, insert in the log that the Data Controller did not respect \n",
    "%       the Data Subject's will.\n",
    "\n",
    "?- dcIsCollectingDSData(id(10),dataController(fiocruz),dataSubject(paulo),\n",
    "                        personalData(paulo,976635869),healthData(paulo,oPlus),\n",
    "                        startDate(1622035260),endDate(1637846460)),\n",
    "                        \n",
    "    log('Data Subject requested to the Data Controller to revoke his/her consent',1624712875),\n",
    "    \n",
    "    assertz(log('Data Controller did not respect the consent revocation requested by the Data Subject, \n",
    "                and still processing. Thus, fines should be applied',1624712875))."
   ]
  },
  {
   "cell_type": "markdown",
   "id": "c4979ee1",
   "metadata": {},
   "source": [
    "In this sense, the program log should help the Data Subject to create evidence of his/her requests. The log will show that the consent was violated revoked and the Data Controller **violated** the data subject will."
   ]
  },
  {
   "cell_type": "code",
   "execution_count": 22,
   "id": "cd9900ed",
   "metadata": {
    "scrolled": true
   },
   "outputs": [
    {
     "name": "stdout",
     "output_type": "stream",
     "text": [
      "Event = Data Subject can ask if the Data Controller is processing his/her data, Date = 1622035260 ;\n",
      "Event = Data Subject verified the consent term and it was ok, Date = 1622035260 ;\n",
      "Event = Data Subject agrees with consent term, Date = 1622035260 ;\n",
      "Event = Data Controller can collect the Data Subject information, Date = 1622035260 ;\n",
      "Event = Data Controller can store the Data Subject information, Date = 1622035260 ;\n",
      "Event = Data Controller can process the Data Subject information, Date = 1622035260 ;\n",
      "Event = Data Subject can now have all foressen rights, Date = 1622035260 ;\n",
      "Event = Data Subject considered that the purpose limitation is not adequate, Date = 1624712875 ;\n",
      "Event = Data Subject requested to the Data Controller to revoke his/her consent, Date = 1624712875 ;\n",
      "Event = From now, the Data Controller cannot collect the Data Subject information, Date = 1624712875 ;\n",
      "Event = From now, the Data Controller cannot process the Data Subject information, Date = 1624712875 ;\n",
      "Event = Data Controller did not respect the consent revocation requested by the Data Subject, and still processing. Thus, fines should be applied, Date = 1624712875 ."
     ]
    }
   ],
   "source": [
    "?- log(Event,Date) {-1}."
   ]
  },
  {
   "cell_type": "code",
   "execution_count": 23,
   "id": "36da4884",
   "metadata": {},
   "outputs": [
    {
     "name": "stdout",
     "output_type": "stream",
     "text": [
      "true."
     ]
    }
   ],
   "source": [
    "% Resetting scenario\n",
    "?- retract(dcIsCollectingDSData(id(10),dataController(fiocruz),dataSubject(paulo),\n",
    "                        personalData(paulo,976635869),healthData(paulo,oPlus),\n",
    "                        startDate(1622035260),endDate(1637846460))),\n",
    "                        \n",
    "    retract((log('Data Controller did not respect the consent revocation requested by the Data Subject, \n",
    "                and still processing. Thus, fines should be applied',1624712875)))."
   ]
  },
  {
   "cell_type": "markdown",
   "id": "cf288a4f",
   "metadata": {},
   "source": [
    "----\n",
    "#### Cause-effect 2: Data breach, what to do? \n",
    "\n",
    "The Data Controller must inform to national authority and to the Data Subject when a data breach occurs that may cause risks or damage to the Data Subject.\n",
    "\n",
    "Such communication has to be done as soon as possible and should inform:\n",
    "- personal data category\n",
    "- what data were leaked\n",
    "- what were the technical and security measures used to protect data\n",
    "- the risks related to the incident\n",
    "- what the data controller will do to revert or mitigate the damage\n",
    "\n",
    "Depending on the incident severity, the Data Controller will have to disclose such an event in high-impact communication media.\n",
    "\n",
    "In this sense, lets picture that Fiocruz suffered from a hacker attack and Paulo's personal data were leaked on the social media and he is receiving few calls from different numbers. So, Fiocruz is **obligated to** inform the incident to ANPD and inform Paulo that his phone number was leaked. \n",
    "\n",
    "Even as Paulo has revoked his consent, he has to be informed regarding the data breach as his data still on the Fiocruz database.\n",
    "\n",
    "![Scenario2_DataBreach](./img/Scenario2_DataBreach.png \"Process 2.2\")\n",
    "\n",
    "Thus, let translate this scenario in Prolog facts.\n",
    "\n",
    "First, once Fiocruz figure out that there is a data breach, the ANPD and the data subjects involved have to be informed about that.\n"
   ]
  },
  {
   "cell_type": "code",
   "execution_count": 24,
   "id": "d41a24f2",
   "metadata": {},
   "outputs": [
    {
     "name": "stdout",
     "output_type": "stream",
     "text": []
    }
   ],
   "source": [
    "log('Data Controller Fiocruz triggered an alert to ANPD and all data subjects affected by\n",
    "    the data breach informing that all phone numbers were exposed',1624712870)."
   ]
  },
  {
   "cell_type": "markdown",
   "id": "3a86cdf4",
   "metadata": {},
   "source": [
    "Next, Fiocruz has to explain that they had adopted security actions to avoid data breach. "
   ]
  },
  {
   "cell_type": "code",
   "execution_count": 25,
   "id": "bbb211dc",
   "metadata": {},
   "outputs": [
    {
     "name": "stdout",
     "output_type": "stream",
     "text": []
    }
   ],
   "source": [
    "log('Data Controller Fiocruz informed the security measures to do not let data breach occurs',1624712871)."
   ]
  },
  {
   "cell_type": "markdown",
   "id": "1f87c3df",
   "metadata": {},
   "source": [
    "Then, Fiocruz fixed the vulnerability and inform the data subjects as well."
   ]
  },
  {
   "cell_type": "code",
   "execution_count": 26,
   "id": "c1b360b5",
   "metadata": {},
   "outputs": [
    {
     "name": "stdout",
     "output_type": "stream",
     "text": []
    }
   ],
   "source": [
    "log('Data Controller Fiocruz informed that the vulnerability was found \n",
    "    and there is no unouthorized access anymore',1624712872)."
   ]
  },
  {
   "cell_type": "markdown",
   "id": "6591d9c5",
   "metadata": {},
   "source": [
    "Furthermore, Fiocruz inform to Data Subjects that there is a technical group available to help anyone that have had troubles caused by this incident."
   ]
  },
  {
   "cell_type": "code",
   "execution_count": 27,
   "id": "035a3579",
   "metadata": {},
   "outputs": [
    {
     "name": "stdout",
     "output_type": "stream",
     "text": []
    }
   ],
   "source": [
    "log('Data Controller Fiocruz created a technical team to help any data subject \n",
    "    that have had issues with this incident',1624712873)."
   ]
  },
  {
   "cell_type": "markdown",
   "id": "470856e5",
   "metadata": {},
   "source": [
    "As the log shows, this case can present many different ends depending on the damage caused to the data subjects involved. Here, as the data subject received just a few calls and there was low damage, he decided not to enter in dispute to get reparation compensations, even though the data controller has **violated** the Data Subject's privacy.\n",
    "\n",
    "Moreover, the omission of any fact related to informing the Data Subjects about unauthorized access or neglect the system security, fines should be applied to the Data Controller.\n",
    "\n",
    "Last but not least, if the Data Controller noticed a data breach, once informed, the Data Controller has to act immediately. **LGPD Art. 48**"
   ]
  },
  {
   "cell_type": "code",
   "execution_count": 28,
   "id": "f9de3ca5",
   "metadata": {},
   "outputs": [
    {
     "name": "stdout",
     "output_type": "stream",
     "text": [
      "Event = Data Subject can ask if the Data Controller is processing his/her data, Date = 1622035260 ;\n",
      "Event = Data Subject verified the consent term and it was ok, Date = 1622035260 ;\n",
      "Event = Data Subject agrees with consent term, Date = 1622035260 ;\n",
      "Event = Data Controller can collect the Data Subject information, Date = 1622035260 ;\n",
      "Event = Data Controller can store the Data Subject information, Date = 1622035260 ;\n",
      "Event = Data Controller can process the Data Subject information, Date = 1622035260 ;\n",
      "Event = Data Subject can now have all foressen rights, Date = 1622035260 ;\n",
      "Event = Data Subject considered that the purpose limitation is not adequate, Date = 1624712875 ;\n",
      "Event = Data Subject requested to the Data Controller to revoke his/her consent, Date = 1624712875 ;\n",
      "Event = From now, the Data Controller cannot collect the Data Subject information, Date = 1624712875 ;\n",
      "Event = From now, the Data Controller cannot process the Data Subject information, Date = 1624712875 ;\n",
      "Event = Data Controller Fiocruz triggered an alert to ANPD and all data subjects affected by the data breach informing that all phone numbers were exposed, Date = 1624712870 ;\n",
      "Event = Data Controller Fiocruz informed the security measures to do not let data breach occurs, Date = 1624712871 ;\n",
      "Event = Data Controller Fiocruz informed that the vulnerability was found and there is no unouthorized access anymore, Date = 1624712872 ;\n",
      "Event = Data Controller Fiocruz created a technical team to help any data subject that have had issues with this incident, Date = 1624712873 ."
     ]
    }
   ],
   "source": [
    "?- log(Event,Date) {-1}."
   ]
  },
  {
   "cell_type": "code",
   "execution_count": 29,
   "id": "4d1d2bef",
   "metadata": {},
   "outputs": [
    {
     "name": "stdout",
     "output_type": "stream",
     "text": [
      "true.\n",
      "true.\n",
      "true.\n",
      "true."
     ]
    }
   ],
   "source": [
    "% Resetting scenario\n",
    "?- retract(log('Data Controller Fiocruz triggered an alert to ANPD and all data subjects affected by\n",
    "    the data breach informing that all phone numbers were exposed',1624712870)).\n",
    "    \n",
    "?- retract(log('Data Controller Fiocruz informed the security measures to do not let data breach \n",
    "    occurs',1624712871)).\n",
    "                        \n",
    "?- retract(log('Data Controller Fiocruz informed that the vulnerability was found \n",
    "    and there is no unouthorized access anymore',1624712872)).\n",
    "    \n",
    "?- retract(log('Data Controller Fiocruz created a technical team to help any data subject \n",
    "    that have had issues with this incident',1624712873))."
   ]
  },
  {
   "cell_type": "markdown",
   "id": "bf5f8293",
   "metadata": {},
   "source": [
    "----\n",
    "#### Cause-effect 3: How to get evidences that the Data Controller leaked the Data Subject's data? "
   ]
  },
  {
   "cell_type": "markdown",
   "id": "adc3c232",
   "metadata": {},
   "source": [
    "To create concrete evidence that a Data Controller leaked a Data Subject's data, first, it is important to verify who has such data. If there is just one Data Controller legally storing such data; hence, the chances of such Data Controller had leaked personal data is higher.\n",
    "\n",
    "Moreover, the data controller is **obligated** to inform if personal or sensitive data is stored in the database. The data subject can request such information for each data controller.\n",
    "\n",
    "Last but not least, the data subject should check the consent term to verify if there is any clause/ condition which permits the data controller to share data with others. If the data subject disagrees with such clause, he is **permitted** to revoke the consent term anytime.\n",
    "\n",
    "![Scenario2.2_Process](./img/Scenario2.2_Process.png \"Process 2.2\")"
   ]
  },
  {
   "cell_type": "code",
   "execution_count": 29,
   "id": "4e3d352b",
   "metadata": {},
   "outputs": [
    {
     "name": "stdout",
     "output_type": "stream",
     "text": [
      "ID = 10, DataController = fiocruz ."
     ]
    }
   ],
   "source": [
    "% This command verifies who is storing Paulo's personal and health data.\n",
    "\n",
    "?- dcIsStoringDSData(id(ID),dataController(DataController),dataSubject(paulo),\n",
    "                    personalData(paulo,976635869),healthData(paulo,oPlus),\n",
    "                    startDate(1622035260),endDate(1637846460))."
   ]
  },
  {
   "cell_type": "markdown",
   "id": "91fa04a8",
   "metadata": {},
   "source": [
    "Now, let's picture that the Data Controller Butantan has Paulo's data."
   ]
  },
  {
   "cell_type": "code",
   "execution_count": 30,
   "id": "c0c202ba",
   "metadata": {},
   "outputs": [
    {
     "name": "stdout",
     "output_type": "stream",
     "text": []
    }
   ],
   "source": [
    "dcIsStoringDSData(id(null),dataController(butantan),dataSubject(paulo),\n",
    "                    personalData(paulo,976635869),healthData(paulo,oPlus),\n",
    "                    startDate(1622035260),endDate(1637846460))."
   ]
  },
  {
   "cell_type": "code",
   "execution_count": 31,
   "id": "f48d2bbf",
   "metadata": {},
   "outputs": [
    {
     "name": "stdout",
     "output_type": "stream",
     "text": [
      "true."
     ]
    }
   ],
   "source": [
    "% This command:\n",
    "%   (i) verifies if the Data Controller is storing the Data Subject's data;\n",
    "%  (ii) verifies if there is any evidence that the Data Subject allowed the Data Controller to process his/her data;\n",
    "% (iii) if all previous verifications are true, insert in the log that the Data Controller is not allowed \n",
    "%       to collect the Data Subject's data.\n",
    "\n",
    "?- dcIsStoringDSData(id(null),dataController(butantan),dataSubject(paulo),\n",
    "                    personalData(paulo,976635869),healthData(paulo,oPlus),\n",
    "                    startDate(1622035260),endDate(1637846460)),\n",
    "\n",
    "    not(dsAgreeWithConsentTerms(dataSubject(butantan),dataController(paulo),startDate(1622035260),endDate(1637846460))),\n",
    "\n",
    "    assertz(log('Data Subject did not agree with Butantan consent term, so the data was improperly collected, \n",
    "    fines should be applied',1624712875))."
   ]
  },
  {
   "cell_type": "markdown",
   "id": "c4f55ab5",
   "metadata": {},
   "source": [
    "Therefore, the event log will show that there is not consent agreement between Paulo and Butantan. \n",
    "\n",
    "Hence, Butantan was **prohibited** to use such data, i.e., the data was improperly collected. \n",
    "Moreover, as Fiocruz is the only Data Controller storing Paulo's data, probably Fiocruz **violated**, on purpose or not, the consent term and the data was leaked from Friocruz to Butantan."
   ]
  },
  {
   "cell_type": "code",
   "execution_count": 32,
   "id": "59302011",
   "metadata": {},
   "outputs": [
    {
     "name": "stdout",
     "output_type": "stream",
     "text": [
      "Event = Data Subject can ask if the Data Controller is processing his/her data, Date = 1622035260 ;\n",
      "Event = Data Subject verified the consent term and it was ok, Date = 1622035260 ;\n",
      "Event = Data Subject agrees with consent term, Date = 1622035260 ;\n",
      "Event = Data Controller can collect the Data Subject information, Date = 1622035260 ;\n",
      "Event = Data Controller can store the Data Subject information, Date = 1622035260 ;\n",
      "Event = Data Controller can process the Data Subject information, Date = 1622035260 ;\n",
      "Event = Data Subject can now have all foressen rights, Date = 1622035260 ;\n",
      "Event = Data Subject considered that the purpose limitation is not adequate, Date = 1624712875 ;\n",
      "Event = Data Subject requested to the Data Controller to revoke his/her consent, Date = 1624712875 ;\n",
      "Event = From now, the Data Controller cannot collect the Data Subject information, Date = 1624712875 ;\n",
      "Event = From now, the Data Controller cannot process the Data Subject information, Date = 1624712875 ;\n",
      "Event = Data Controller Fiocruz triggered an alert to all data subjects affected by the data breach informing that all phone numbers were exposed, Date = 1624712870 ;\n",
      "Event = Data Controller Fiocruz informed that the vulnerability was found and there is no unouthorized access anymore, Date = 1624712871 ;\n",
      "Event = Data Controller Fiocruz create a technical team to help any data subject that have had issues with this incident, Date = 1624712872 ;\n",
      "Event = Data Subject did not agree with Butantan consent term, so the data was improperly collected, fines should be applied, Date = 1624712875 ."
     ]
    }
   ],
   "source": [
    "?- log(Event,Date) {-1}."
   ]
  },
  {
   "cell_type": "code",
   "execution_count": 33,
   "id": "ff397b10",
   "metadata": {},
   "outputs": [
    {
     "name": "stdout",
     "output_type": "stream",
     "text": [
      "true."
     ]
    }
   ],
   "source": [
    "% Resetting scenario\n",
    "?- retract(log('Data Subject did not agree with Butantan consent term, so the data was improperly collected, \n",
    "    fines should be applied',1624712875)),\n",
    "    \n",
    "    retract(dcIsStoringDSData(id(null),dataController(butantan),dataSubject(paulo),\n",
    "                    personalData(paulo,976635869),healthData(paulo,oPlus),\n",
    "                    startDate(1622035260),endDate(1637846460)))."
   ]
  },
  {
   "cell_type": "markdown",
   "id": "96f2c683",
   "metadata": {},
   "source": [
    "----\n",
    "#### Cause-effect 3: Requesting data correction"
   ]
  },
  {
   "cell_type": "markdown",
   "id": "356082fe",
   "metadata": {},
   "source": [
    "Data correction is one of the Data Subject's right foreseen in LGPD in the moment that the consent term was accepted.\n",
    "Even if the Data Subject revoke his/her consent, the data will not be deleted; a express data deletion request is required.\n",
    "\n",
    "So, in order to check if the data corretion request was accomplished, the Data Subject should call another right - data access.\n",
    "\n",
    "The data controller is **obligated** to abide by the data subjects' requests as correction as data access.\n",
    "\n",
    "\n",
    "<div>\n",
    "<img src=\"./img/Scenario2.3_Process.png\" width=\"600\"/>\n",
    "</div>\n",
    "\n",
    "First, the Data Subject should verify if the Data Controller is storing his/her data."
   ]
  },
  {
   "cell_type": "code",
   "execution_count": 34,
   "id": "119ccf93",
   "metadata": {},
   "outputs": [
    {
     "name": "stdout",
     "output_type": "stream",
     "text": [
      "true."
     ]
    }
   ],
   "source": [
    "?- dcIsStoringDSData(id(10),dataController(fiocruz),dataSubject(paulo),\n",
    "                    personalData(paulo,976635869),healthData(paulo,oPlus),\n",
    "                    startDate(1622035260),endDate(1637846460))."
   ]
  },
  {
   "cell_type": "markdown",
   "id": "01e403cf",
   "metadata": {},
   "source": [
    "If true, the Data Subject should have the right to data access and data correction."
   ]
  },
  {
   "cell_type": "code",
   "execution_count": 35,
   "id": "ba89c6ce",
   "metadata": {},
   "outputs": [
    {
     "name": "stdout",
     "output_type": "stream",
     "text": [
      "true."
     ]
    }
   ],
   "source": [
    "?- dsRight(dataAccess,dataSubject(paulo),dataController(fiocruz)),\n",
    "    dsRight(dataCorrection,dataSubject(paulo),dataController(fiocruz))."
   ]
  },
  {
   "cell_type": "markdown",
   "id": "18b3db3a",
   "metadata": {},
   "source": [
    "Then, the Data Subject is able to request and verify if the data was changed."
   ]
  },
  {
   "cell_type": "code",
   "execution_count": 36,
   "id": "209b62a5",
   "metadata": {},
   "outputs": [
    {
     "name": "stdout",
     "output_type": "stream",
     "text": []
    }
   ],
   "source": [
    "log('Data Subject requested to change his blood type to A+',1624712876)."
   ]
  },
  {
   "cell_type": "markdown",
   "id": "c934599e",
   "metadata": {},
   "source": [
    "And the Data Controller executed this correction."
   ]
  },
  {
   "cell_type": "code",
   "execution_count": 37,
   "id": "634be98e",
   "metadata": {
    "scrolled": true
   },
   "outputs": [
    {
     "name": "stdout",
     "output_type": "stream",
     "text": [
      "true."
     ]
    }
   ],
   "source": [
    "% First, the Data Controller verifies if the Data Subject has the rights requiered to perform such action.\n",
    "% Then, remove the incorrect data and insert the new data.\n",
    "\n",
    "\n",
    "?-  dsRight(dataCorrection,dataSubject(paulo),dataController(fiocruz)),\n",
    "\n",
    "    retract(dcIsStoringDSData(id(10),dataController(fiocruz),dataSubject(paulo),\n",
    "                    personalData(paulo,976635869),healthData(paulo,oPlus),\n",
    "                    startDate(1622035260),endDate(1637846460))),\n",
    "\n",
    "    assertz(dcIsStoringDSData(id(10),dataController(fiocruz),dataSubject(paulo),\n",
    "                    personalData(paulo,976635869),healthData(paulo,'A+'),\n",
    "                    startDate(1622035260),endDate(1637846460))),\n",
    "                    \n",
    "    assertz(log('Data Controller changed the data as requested by the Data Subject',1624712876))."
   ]
  },
  {
   "cell_type": "markdown",
   "id": "5f66160a",
   "metadata": {},
   "source": [
    "Hence, as the data controler attended the data subject's request, it still in **compliance** with the LGPD. The Data Subject can verify if the data was fixed."
   ]
  },
  {
   "cell_type": "code",
   "execution_count": 38,
   "id": "46ac038a",
   "metadata": {},
   "outputs": [
    {
     "name": "stdout",
     "output_type": "stream",
     "text": [
      "DataController = fiocruz, BloodType = A+ ."
     ]
    }
   ],
   "source": [
    "% If the Data Subject has the right to access his/her data, then he/she is able to verify if his/her data was fixed.\n",
    "\n",
    "?-  dsRight(dataAccess,dataSubject(paulo),dataController(fiocruz)),\n",
    "    dcIsStoringDSData(id(10),dataController(DataController),dataSubject(paulo),\n",
    "                    personalData(paulo,976635869),healthData(paulo,BloodType),\n",
    "                    startDate(1622035260),endDate(1637846460)),\n",
    "    assertz(log('Data Subject confirmed that the data was fixed',1624712876))."
   ]
  },
  {
   "cell_type": "code",
   "execution_count": 39,
   "id": "80439aab",
   "metadata": {},
   "outputs": [
    {
     "name": "stdout",
     "output_type": "stream",
     "text": [
      "Event = Data Subject requested to change his blood type to A+, Date = 1624712876 ;\n",
      "Event = Data Controller changed the data as requested by the Data Subject, Date = 1624712876 ;\n",
      "Event = Data Subject confirmed that the data was fixed, Date = 1624712876 ."
     ]
    }
   ],
   "source": [
    "?- log(Event,Date), Date >= 1624712876 {-1}."
   ]
  },
  {
   "cell_type": "code",
   "execution_count": 40,
   "id": "cb481a4d",
   "metadata": {},
   "outputs": [
    {
     "name": "stdout",
     "output_type": "stream",
     "text": [
      "true."
     ]
    }
   ],
   "source": [
    "% Resetting scenario\n",
    "?-  retract(log('Data Subject requested to change his blood type to A+',1624712876)),\n",
    "    retract(log('Data Subject confirmed that the data was fixed',1624712876)),\n",
    "    retract(log('Data Controller changed the data as requested by the Data Subject',1624712876)),\n",
    "    retract(dcIsStoringDSData(id(10),dataController(fiocruz),dataSubject(paulo),\n",
    "                    personalData(paulo,976635869),healthData(paulo,'A+'),\n",
    "                    startDate(1622035260),endDate(1637846460))),\n",
    "    assertz(dcIsStoringDSData(id(10),dataController(fiocruz),dataSubject(paulo),\n",
    "                    personalData(paulo,976635869),healthData(paulo,oPlus),\n",
    "                    startDate(1622035260),endDate(1637846460)))."
   ]
  },
  {
   "cell_type": "markdown",
   "id": "89f7c177",
   "metadata": {},
   "source": [
    "----\n",
    "#### Cause-effect 4: Requesting anonymization\n",
    "\n",
    "Let's picture that the Data Subject requested the data anonymization right. Once the data is anonymized, the Data Controller will not have the resources to give any details about such data, including correction. Hence, after this request, the data controller is **not obligated** to comply with requests that should involve deidentification actions.\n",
    "\n",
    "Here, questions regarding the anonymization algorithms could emerge, but this is not the focus of this work.\n",
    "This work focus on the causes and consequences understanding of possible scenarios.\n",
    "\n",
    "<div>\n",
    "<img src=\"./img/Scenario2.4_Process.png\" width=\"600\"/>\n",
    "</div>\n",
    "\n",
    "First, the Data Subject should show that the Data Controller has his data."
   ]
  },
  {
   "cell_type": "code",
   "execution_count": 41,
   "id": "386639b6",
   "metadata": {},
   "outputs": [
    {
     "name": "stdout",
     "output_type": "stream",
     "text": [
      "true."
     ]
    }
   ],
   "source": [
    "?- dcIsStoringDSData(id(10),dataController(fiocruz),dataSubject(paulo),\n",
    "                    personalData(paulo,976635869),healthData(paulo,oPlus),\n",
    "                    startDate(1622035260),endDate(1637846460)),\n",
    "                    \n",
    "    assertz(log('Data Subject requested to anonymize his data',1624712877))."
   ]
  },
  {
   "cell_type": "markdown",
   "id": "8930e4c8",
   "metadata": {},
   "source": [
    "Next, the Data Controller accomplish the Data Subject request."
   ]
  },
  {
   "cell_type": "code",
   "execution_count": 42,
   "id": "d093fa07",
   "metadata": {},
   "outputs": [
    {
     "name": "stdout",
     "output_type": "stream",
     "text": [
      "true."
     ]
    }
   ],
   "source": [
    "?- dcIsStoringDSData(id(10),dataController(fiocruz),dataSubject(paulo),\n",
    "                    personalData(paulo,976635869),healthData(paulo,oPlus),\n",
    "                    startDate(1622035260),endDate(1637846460)), \n",
    "\n",
    "    retract(dcIsStoringDSData(id(10),dataController(fiocruz),dataSubject(paulo),\n",
    "                    personalData(paulo,976635869),healthData(paulo,oPlus),\n",
    "                    startDate(1622035260),endDate(1637846460))),\n",
    "\n",
    "    assertz(dcIsStoringDSData(id(_),dataController(fiocruz),dataSubject(_),\n",
    "                    personalData(_,_),healthData(_,'A+'),\n",
    "                    startDate(1622035260),endDate(1637846460))),\n",
    "                    \n",
    "    assertz(log('Data Controller anonymized the Data Subjects data',1624712878)),\n",
    "    assertz(log('Data Subject cannot request data: access, copy, correction,anonymization, \n",
    "            portability, deletion, and details of data sharing',1624712878)),\n",
    "    \n",
    "    retract(dsRight(dataAccess,dataSubject(paulo),dataController(fiocruz))),\n",
    "    retract(dsRight(dataCopy,dataSubject(paulo),dataController(fiocruz))),\n",
    "    retract(dsRight(dataCorrection,dataSubject(paulo),dataController(fiocruz))),\n",
    "    retract(dsRight(dataAnonymization,dataSubject(paulo),dataController(fiocruz))),\n",
    "    retract(dsRight(dataPortability,dataSubject(paulo),dataController(fiocruz))),\n",
    "    retract(dsRight(dataDeletion,dataSubject(paulo),dataController(fiocruz))),\n",
    "    retract(dsRight(dataSharingInformation,dataSubject(paulo),dataController(fiocruz)))."
   ]
  },
  {
   "cell_type": "markdown",
   "id": "e0855f52",
   "metadata": {},
   "source": [
    "Now, the Data Subject's blood type is not associated with any personal data that could identify that such data is from the Data Subject. Hence, the data controller is in **compliance** with LGPD."
   ]
  },
  {
   "cell_type": "code",
   "execution_count": 43,
   "id": "2ff0d1fa",
   "metadata": {},
   "outputs": [
    {
     "name": "stdout",
     "output_type": "stream",
     "text": [
      "DataSubject = Variable(70) ."
     ]
    }
   ],
   "source": [
    "?- dcIsStoringDSData(id(_),dataController(fiocruz),dataSubject(DataSubject),\n",
    "                    personalData(_,_),healthData(_,'A+'),\n",
    "                    startDate(1622035260),endDate(1637846460))."
   ]
  },
  {
   "cell_type": "code",
   "execution_count": 44,
   "id": "db733936",
   "metadata": {},
   "outputs": [
    {
     "name": "stdout",
     "output_type": "stream",
     "text": [
      "Event = Data Subject requested to anonymize his data, Date = 1624712877 ;\n",
      "Event = Data Controller anonymized the Data Subjects data, Date = 1624712878 ;\n",
      "Event = Data Subject cannot request data: access, copy, correction,anonymization, portability, deletion, and details of data sharing, Date = 1624712878 ."
     ]
    }
   ],
   "source": [
    "?- log(Event,Date), Date >= 1624712876 {-1}."
   ]
  },
  {
   "cell_type": "markdown",
   "id": "6055ee75",
   "metadata": {},
   "source": [
    "So, the remain right is the one that every Data Subject has: the right to ask if a Data Controller is processing his/her data."
   ]
  },
  {
   "cell_type": "code",
   "execution_count": 45,
   "id": "cbf59d01",
   "metadata": {},
   "outputs": [
    {
     "name": "stdout",
     "output_type": "stream",
     "text": [
      "RIGHT = processingConfirmation ."
     ]
    }
   ],
   "source": [
    "?- dsRight(RIGHT,dataSubject(paulo),dataController(fiocruz))."
   ]
  }
 ],
 "metadata": {
  "kernelspec": {
   "display_name": "SWI-Prolog",
   "language": "",
   "name": "jswipl"
  },
  "language_info": {
   "mimetype": "text/plain",
   "name": "swipl"
  }
 },
 "nbformat": 4,
 "nbformat_minor": 5
}
