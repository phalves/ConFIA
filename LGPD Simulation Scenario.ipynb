{
 "cells": [
  {
   "cell_type": "markdown",
   "id": "2dba5670",
   "metadata": {},
   "source": [
    "# Exploring Simulation Scenarios to Mitigate Information Asymmetry Under the LGPD Perspective"
   ]
  },
  {
   "cell_type": "markdown",
   "id": "d13fadbf",
   "metadata": {},
   "source": [
    "## Table of Contents\n",
    "1. [LGPD Ontology](#LGPD-Ontology)\n",
    "1. [Scenario Structure](#Scenario-Structure)\n",
    "1. [Scenario Description](#Scenario-Description)\n",
    "2. [Scene 1: Set Consent Term](#Scene-1:-Set-consent-term.)\n",
    "3. [Scene 2: Data Subject Agrees with the Consent Term](#Scene-2:-Data-Subject-agrees-with-the-consent-term.)\n",
    "4. [Scene 3: Defining the Data Subject's Rights](#Scene-3:-Defining-the-Data-Subject's-rights.)\n",
    "5. [Scene 4: Data Subject's Consent Revocation](#Scene-4:-Data-Subject's-consent-revocation.)\n",
    "6. [Questions to Ask](#Questions-to-ask)\n",
    "    \n",
    "    8.1 [Cause-Effect: Consent revocation not respected](#Cause-effect:-How-to-evidence-when-the-Data-Controller-did-not-respect-the-consent-revocation?)\n",
    "    \n",
    "    8.2 [Cause-Effect: Evidencing data leak](#Cause-effect:-How-to-get-evidences-that-the-Data-Controller-leaked-the-Data-Subject's-data?)\n",
    "    \n",
    "    8.3 [Cause-effect: Data breach, what to do?](#Cause-effect:-Data-breach,-what-to-do?)\n",
    "    \n",
    "    8.4 [Cause-Effect: Requesting data correction](#Cause-effect:-Requesting-data-correction)\n",
    "\n",
    "    8.5 [Cause-Effect: Requesting data anonymization](#Cause-effect:-Requesting-anonymization)\n",
    "    \n",
    "    8.6 [Cause-effect: Data deletion](#Cause-effect:-Data-deletion)\n",
    "    \n",
    "    8.7 [Cause-effect: Technology unavailability](#Cause-effect:-Technology-unavailability)\n",
    "    \n",
    "    8.8 [Cause-effect: Data portability](#Cause-effect:-Data-portability)"
   ]
  },
  {
   "cell_type": "markdown",
   "id": "099fbaca",
   "metadata": {},
   "source": [
    "### LGPD Ontology\n",
    "\n",
    "This notebook aims to apply the PrOnto Ontology in the LGPD context. Initially, PrOnto was developed to map the GDPR entities and their relationships; however, as the LGPD as an intense sinergy with GDPR, we also used such an ontology to apply in the LGPD Scenarios. Therefore, the first step was evalute GDPR and LGPD to identify the main differences. The former is more normative and detailed. The latter is generalist and, as law, lets the clauses open to interpretations case by case.\n",
    "\n",
    "The LGPD cases can present intersections with other laws in the Brazilian constitution, depending on the case, as depicted in Figure 1. \n",
    "\n",
    "LGPD defines: \n",
    " - legal basis: consent is the most popular, but there are others foreseen in the law, \n",
    " - data protection guidelines: general guidelines, \n",
    " - applicability: there are some situations that the LGPD cannot be applied, such as when the data is anonymized,\n",
    " - concepts: LGPD qualifies personal data, sensitive personal data, data controller, among others,\n",
    " - rights and duties: LGPD sets rights and duties for data subjects, controllers and processors.\n",
    "\n",
    "![LGPD_Structure](./img/LGPD_Structure.png \"LGPD Structure\")\n",
    "Fig.1 - LGPD under Constitution.\n",
    "\n",
    "\n",
    "[comment]: <> (In this sense, we decided to create a straight-to-the-point ontology version to highlight the essential concepts in the LGPD and their relationships. Moreover, we added the auditing concerns to this version, as depicted in the following image.)\n",
    "\n",
    "<!-- ![LGPD_Ontology](./img/LGPD_Ontology.png \"LGPD Ontology\")\n",
    "Fig.2 - GDPR ontology applied to LGPD.. -->\n",
    "\n",
    "In a detailed view, Figure 2 depicts the relationships between the ontology entities, and it is important to note that the \"consent term\" and the \"right\" are the central ontology points; they have many connections with other concepts as well as the entity \"dispute resolution\". For instance, if the purpose limitation changed, the data controller must get a new consent term from the data subject. Hence, depending on the data subject will, he/she can disagree, and it will interrupt the data collection. Still, if the data controller does not stop collecting the data subject's personal data, it will violate the data subject's rights, and fines will be applied to the data controller.\n",
    "\n",
    "Even though the LGPD did not specify the data processing modalities, we decided to insert information regarding data security, access restriction, technologies applied, and sharing politics. These pieces of information are important to understand the environmental factors related to the scenario execution and explanation. \n",
    "\n",
    "Furthermore, there are 10 (ten) legal bases foreseen in the LGPD and we decided to start our study on Consent legal basis. We decided to use consent as a study object because it can be applied in most situations.\n",
    "\n",
    "![LGPD_Ontology_Relationships](./img/LGPD_Ontology_Relationships.png \"LGPD Ontology Relationships\")\n",
    "Fig.2 - LGPD Relationships.\n",
    "\n",
    "In this sense, we developed a simulation tool to evaluate the LGPD application in a pre-set scenarios. We aim to contribute with a tool to drive data subjects and controllers to think about the requirements and consequences of sharing and using personal and sensitive data. Then, this tool will generate explanations regarding the data subjects' and controllers' behavior, their effects, and the risks. As the code is open-source, and the built scenarios are also available, the contribution is open to be used by any society member.\n",
    "\n",
    "\n",
    "Moreover, the developed structure could be applied in other data regulation scenarios adapting the ontology and the rules established. We tried to document as detailed as possible to allow further reuse.\n",
    "\n",
    "Next, we create scenarios to show samples of law's application using Prolog.\n",
    "\n",
    "### Scenario Structure\n",
    "\n",
    "This scenario structure was developed based on the PrOnto ontology, but some changed were made. PrOnto ontology presents many modules to describe the ontology entities in details, however it might be hard to an common people, aka citizens,  to understand what are the main concerns when sharing his/her data.\n",
    "\n",
    "In this sense, we gather the PrOnto definitions to create our scenario sctructure, as depicted in the image below.\n",
    "\n",
    "\n",
    "Our scenario presents five pillars: Agent, Action, Consent Term, Right, and DeonticOperator , which will be detailed and depicted below:\n",
    " - **Agent**: Scenarios have to define the agents, i.e., who are the Data Subjects, Data Controllers and Data Processors that will be involved and their actions.\n",
    " - **Action**: The actions are narrowed by the consent term, which defines the agents, the purpose, the data that will be used, and the time frame. Moreover, the actions are executed under a jurisdiction and entail risks, such as the risk of a data leak. Last but not least, actions are composed of steps, which are executed based on the current rights available for the agents and persisted by log registries. Moreover, the Action can be classified by types, which will help the explanation process filtering the activity log.\n",
    " - **Consent Term**: As the study object, the consent term has an important role in defining all required information to let the data subject be aware of data sharing conditions, narrow the data controller actions and context of use the data subjects information.\n",
    " - **Right**: The agents may have different rights depending on the classification, time frame and previous actions. The rights are complemented by the Deontic Operators.\n",
    " - **Deontic Operator**: The deontic concepts defines if there is an obligation, prohibition, and permission. Furthermore, PrOnto includes violation and compliance as status related to an obligation or prohibition as well.\n",
    " \n",
    "All actions are persisted in an **activity log** to be used as a explanation evidence. The logs are composed of: \n",
    "\n",
    "<ol type=\"i\">\n",
    "  <li>action description;</li>\n",
    "  <li>action type;</li>\n",
    "  <li>deontic operator;</li>\n",
    "  <li>action timestamp.</li>\n",
    "</ol>\n",
    "\n",
    "![Scenario_Structure](./img/Scenario_Structure.png \"Scenario Structure\")\n",
    "Fig.3 - Scenario Structure.\n",
    "\n",
    "Our scenarios follows the structure presented below. First, we define the scenario context and formulate basic questions regarding the data subject's rights and how the data controller can address such questions. Then, we elaborate more complex scenarios in order to explore non-trivial situations to stress the scenario context and document the evidence. We aim to create a simulation tool that data subjects and controllers can explore the possible scenarios already developed and contribute with new perspectives. The collaborative contribution can generate a solid database for exploring LGPD compliance in many different situations.\n",
    "\n",
    "<div>\n",
    "<img src=\"./img/Scenario_Methodology.png\" width=\"600\"/>\n",
    "</div>\n",
    "Fig.4 - Scenario Methodology."
   ]
  },
  {
   "cell_type": "markdown",
   "id": "cc83b3b0",
   "metadata": {},
   "source": [
    "### Scenario Description\n",
    "\n",
    "**Data Subject agrees with the Data Controller consent term, but then decided to revoke his/her consent.**\n",
    "\n",
    "The Data Controller Fiocruz wants to use Paulo's (Data Subject) personal data and health data to research genetic factors related to COVID-19 from Wednesday, May 26, 2021 1:21:00 PM to Thursday, November 25, 2021 1:21:00 PM (180 days). Also, Fiocruz will apply cryptographic algorithms and access politics to avoid data breaches and unauthorized access. The personal and sensitive data will be stored in a private cloud where Fiocruz has complete control of applied technologies. Furthermore, Fiocruz is committed to share the data with third parties if the purpose is vaccination prioritization information.\n",
    "\n",
    "To do so, the Data Controller must send the consent term to the Data Subject. The consent term must present all the information defined in the LGPD art. 9.\n",
    "\n",
    "However, after accepting the consent term, the Data Subjects decides to revoke his consent on Saturday, June 26, 2021 1:07:55 PM.\n",
    "\n",
    "Agents\n",
    " - Data Subject - Paulo\n",
    " - Data Controller and processor - Fiocruz\n",
    "\n",
    "Action\n",
    " - Defined in the consent term.\n",
    " - Risk: data breach - impact: low; there is no religion, ethic, political opinion data that could generate discrimination actions to the data subject.\n",
    " - Juristiction: Brazilian Law\n",
    " \n",
    "Consent Term\n",
    " - As the scenario description has all the required information for a consent term, it will be considered as the consent term on this occasion.\n",
    "\n",
    "Right\n",
    " - After the Data Subject decides to agree with the consent terms, he will have all the LGPD foreseen rights\n",
    " - The consent revocation should not impact the other rights.\n",
    " \n",
    "Deontic Operator\n",
    " - The Data Subject has the permission to call for any action related to his rights\n",
    " - The Data Controller is obligated to abide by the Data Subject solicitations, except when the law says the opposite.\n",
    " - The Data Controller is prohibited from using the personal data collected under other circumstances than the ones that are in the consent term\n",
    " - Violation and compliance will be explored in the extended scnarios in the end of this notebook\n",
    "\n",
    "\n",
    "\n",
    "The following figure depicts this macro scenario process.\n",
    "\n",
    "![Scenario2_Process](./img/Scenario2_Process.png \"Process 2\")\n",
    "Fig.5 - Macro Scenario Process.\n",
    "\n",
    "Moreover, other four cause-effect scenarios were explored in order to show some possibilities regarding to the data subject's rights. \n",
    "\n",
    "The goal is to creating a scenario with Prolog to explore the facts in different time range and some cause-effect scenarios. This notebook tries to keep general facts that could occurr in any domain. Specific domain facts were not exploered.\n",
    " \n",
    "*PS-1: The timestamp is used to provide the time spectrum. The following tool was used to convert human time to timestamp and the other way around. https://www.epochconverter.com/ - 180 days is equivalent to add the value 15811200 in the timestamp*\n",
    "\n",
    "*PS-2: To help the usage of timestamp, we considered the following association.*\n",
    "- *Wednesday, May 26, 2021 1:21:00 PM = 1622035260*\n",
    "- *Friday, November 26, 2021 1:07:55 PM = 1637846460*\n",
    "- *Saturday, June 26, 2021 1:07:55 PM = 1624712875*\n",
    "\n",
    " \n",
    " ---------"
   ]
  },
  {
   "cell_type": "markdown",
   "id": "598222fa",
   "metadata": {},
   "source": [
    "### Scene 1: Set consent term."
   ]
  },
  {
   "cell_type": "markdown",
   "id": "e030a8e9",
   "metadata": {},
   "source": [
    "The first step is the consent setup. The consent must have all information described in the LGPD Art. 9. The following method receives all the required information.\n",
    "\n",
    "\n",
    "The **Data Subject Paulo** allows the **Data Controller Fiocruz** to access, store, and process his **phone number** and **blood factor/type** to perform **research** regarding **genetic factors related to COVID-19** using **statistical analysis** for **180 days**. However, the phone number **will not be public available** and will be used only in emergency situations. \n",
    "\n",
    "Fiocruz will apply **cryptographic algorithms** and **access politics** to avoid data breaches and unauthorized access. The personal and sensitive data will be **stored in a private cloud** where Fiocruz has complete control of applied technologies. \n",
    "\n",
    "The Data Controller is allowed to **share** the Data Subject data **only** with the **vaccination prioritization purpose**.\n",
    "\n",
    "To make any request, please use the Data Controller communication channel by **email lgpd@fiocruz.br**.\n",
    "\n",
    "\n",
    "PS: The Data Controllers must inform in any case if they are processing the personal data if requested.\n"
   ]
  },
  {
   "cell_type": "code",
   "execution_count": 1,
   "id": "64c60967",
   "metadata": {},
   "outputs": [
    {
     "name": "stdout",
     "output_type": "stream",
     "text": []
    }
   ],
   "source": [
    "% Description: This function defines a consent term including all required information described in the LGPD Art. 9\n",
    "% The consent term must inform:\n",
    "%    i. Data Controller\n",
    "%   ii. Data Subject\n",
    "%  iii. Specific Purpose\n",
    "%   iv. Form (Processing techniques)\n",
    "%    v. Time length of processing\n",
    "%   vi. The purpose when sharing the data with third parties, when applied\n",
    "%  vii. Communication channel to the data subject request any information\n",
    "% viii. Data Controller contact\n",
    "%   iv. Cryptography Algoritm\n",
    "%    x. Access Politics\n",
    "%   xi. Storage Platform\n",
    "\n",
    "\n",
    "createConsentTerm(DC,DS,PData,HData,Purpose,\n",
    "                SpecificPurpose,\n",
    "                Form,\n",
    "                TimeLength,\n",
    "                ThirdPartyPurpose,\n",
    "                Channel,\n",
    "                DCContact,\n",
    "                CA, AP, SP) :-\n",
    "\n",
    "                assertz(dataSubject(DS)),\n",
    "                assertz(dataController(DC)),\n",
    "                assertz(personalData(DS,PData)),\n",
    "                assertz(healthData(DS, HData)),\n",
    "                assertz(purpose(DC,DS,Purpose)),\n",
    "                assertz(specificPurpose(DC,DS,Purpose,SpecificPurpose)),\n",
    "                assertz(form(DC,DS,Purpose,SpecificPurpose,Form)),\n",
    "                assertz(timeLength(DC,DS,Purpose,SpecificPurpose,TimeLength)),\n",
    "                assertz(thirdyPartySharingPurpose(DC,DS,Purpose,SpecificPurpose,\n",
    "                                                    TimeLength,ThirdPartyPurpose)),\n",
    "                assertz(channelToProvideInformation(DC,DS,Channel,DCContact)),\n",
    "                assertz(criptographyAlgoritm(CA)),\n",
    "                assertz(accessPolitics(AP)),\n",
    "                assertz(storagePlatform(SP))."
   ]
  },
  {
   "cell_type": "code",
   "execution_count": 2,
   "id": "4747b8a8",
   "metadata": {},
   "outputs": [
    {
     "name": "stdout",
     "output_type": "stream",
     "text": [
      "true."
     ]
    }
   ],
   "source": [
    "% This is a function call that defines a consent term with the informed params\n",
    "\n",
    "?- createConsentTerm(fiocruz,paulo,976635869,oPlus,research,\n",
    "                'genetic_factors_related_to_COVID-19',\n",
    "                'statistic_analysis',\n",
    "                15811200,\n",
    "                'vaccination_priorization',\n",
    "                'e-mail',\n",
    "                'lgpd@fiocruz.br',\n",
    "                'SHA256',\n",
    "                'Authorized researchers can access the data only',\n",
    "                'Fiocruz private cloud')."
   ]
  },
  {
   "cell_type": "code",
   "execution_count": 3,
   "id": "027715ee",
   "metadata": {},
   "outputs": [
    {
     "name": "stdout",
     "output_type": "stream",
     "text": [
      "true."
     ]
    }
   ],
   "source": [
    "% This function defines the right to request processing confirmation to the Data Subject\n",
    "\n",
    "dsRight(processingConfirmation,dataSubject(paulo),dataController(fiocruz)).\n",
    "?- assertz(log('Data Subject can ask if the Data Controller is processing his/her data','Observe','Permission',1622035260))."
   ]
  },
  {
   "cell_type": "markdown",
   "id": "329c71df",
   "metadata": {},
   "source": [
    " ---------"
   ]
  },
  {
   "cell_type": "markdown",
   "id": "78ad55c8",
   "metadata": {},
   "source": [
    "### Scene 2: Data Subject agrees with the consent term."
   ]
  },
  {
   "cell_type": "markdown",
   "id": "f06757c0",
   "metadata": {},
   "source": [
    "First, the Data Subject verifies if all the crutial elements are described in the consent term present by the Data Controller. If so, the program will set that the consent term is ok, i.e., it has all the required information."
   ]
  },
  {
   "cell_type": "code",
   "execution_count": 4,
   "id": "9a29c4ee",
   "metadata": {},
   "outputs": [
    {
     "name": "stdout",
     "output_type": "stream",
     "text": []
    }
   ],
   "source": [
    "% Description: This function verifies if a consent term includes all required information described in the LGPD Art. 9\n",
    "% The consent term must inform:\n",
    "%    i. Data Controller\n",
    "%   ii. Data Subject\n",
    "%  iii. Specific Purpose\n",
    "%   iv. Form (Processing techniques)\n",
    "%    v. Time length of processing\n",
    "%   vi. The purpose when sharing the data with third parties, when applied\n",
    "%  vii. Communication channel to the data subject request any information\n",
    "% viii. Data Controller contact\n",
    "\n",
    "checkConsentTerm(dataController(DC),\n",
    "                dataSubject(DS),\n",
    "                purpose(DC,Purpose),\n",
    "                SpecificPurpose,\n",
    "                Form,\n",
    "                TimeLength,\n",
    "                ThirdPartyPurpose,\n",
    "                Channel,\n",
    "                DCContact,\n",
    "                Date) :-\n",
    "    (\n",
    "        form(DC,DS,Purpose,SpecificPurpose,Form),\n",
    "        timeLength(DC,DS,Purpose,SpecificPurpose,TimeLength),\n",
    "        thirdyPartySharingPurpose(DC,DS,Purpose,SpecificPurpose,TimeLength,ThirdPartyPurpose),\n",
    "        channelToProvideInformation(DC,DS,Channel,DCContact),\n",
    "        purpose(DC,DS,Purpose),\n",
    "        specificPurpose(DC,DS,Purpose,SpecificPurpose),\n",
    "        assertz(consentTermOk(dataController(DC),dataSubject(DS))),\n",
    "        assertz(log('Data Subject verified the consent term and it was ok','Observe','Obligation',Date))\n",
    "    )."
   ]
  },
  {
   "cell_type": "code",
   "execution_count": 5,
   "id": "0c30406f",
   "metadata": {},
   "outputs": [
    {
     "name": "stdout",
     "output_type": "stream",
     "text": [
      "true."
     ]
    }
   ],
   "source": [
    "% This is a function call returns true if the consent term is ok, or false if not.\n",
    "\n",
    "?- checkConsentTerm(dataController(fiocruz),\n",
    "                        dataSubject(paulo),\n",
    "                        purpose(fiocruz,research),\n",
    "                        'genetic_factors_related_to_COVID-19',\n",
    "                        'statistic_analysis',\n",
    "                        15811200,\n",
    "                        'vaccination_priorization',\n",
    "                        'e-mail',\n",
    "                        'lgpd@fiocruz.br',\n",
    "                        1622035260)."
   ]
  },
  {
   "cell_type": "markdown",
   "id": "2364d019",
   "metadata": {},
   "source": [
    "So, if the consent term is ok, the Data Subject can inform that he/she agrees with the consent term.\n",
    "\n",
    "Hence, the Data Controller can collect, store and process the Data Subject's data."
   ]
  },
  {
   "cell_type": "code",
   "execution_count": 6,
   "id": "56ad4032",
   "metadata": {},
   "outputs": [
    {
     "name": "stdout",
     "output_type": "stream",
     "text": []
    }
   ],
   "source": [
    "% Description: This function sets that the Data Subject agreed with the consent term.\n",
    "% This function receives the params:\n",
    "%    i. Consent ID\n",
    "%   ii. Data Subject\n",
    "%  iii. Data Controller\n",
    "%   iv. Personal Data\n",
    "%    v. Health Data\n",
    "%   vi. Start Date - Timestamp\n",
    "%   vi. End Date - Timestamp\n",
    "\n",
    "setThatdsAgreeWithConsentTerms(id(ID),dataSubject(DS),\n",
    "                                dataController(DC),\n",
    "                                personalData(DS,PData),\n",
    "                                healthData(DS,HData),\n",
    "                                startDate(StartTS),\n",
    "                                endDate(EndTS)) :-\n",
    "    consentTermOk(dataController(DC),dataSubject(DS)),\n",
    "    \n",
    "    assertz(dsAgreeWithConsentTerms(dataSubject(DS),dataController(DC),startDate(TS),endDate(TS))),\n",
    "    assertz(log('Data Subject agrees with consent term','Comunicate','Compliance',StartTS)),\n",
    "\n",
    "    assertz(dcIsCollectingDSData(id(ID),dataController(DC),dataSubject(DS),personalData(DS,PData),healthData(DS,HData),startDate(StartTS),endDate(EndTS))),\n",
    "    assertz(log('Data Controller can collect the Data Subject information','Observe','Permission',StartTS)),\n",
    "    \n",
    "    assertz(dcIsStoringDSData(id(ID),dataController(DC),dataSubject(DS),personalData(DS,PData),healthData(DS,HData),startDate(StartTS),endDate(EndTS))),\n",
    "    assertz(log('Data Controller can store the Data Subject information','Observe','Permission',StartTS)),\n",
    "        \n",
    "    assertz(dcIsProcessingDSData(id(ID),dataController(DC),dataSubject(DS),personalData(DS,PData),healthData(DS,HData),startDate(StartTS),endDate(EndTS))),\n",
    "    assertz(log('Data Controller can process the Data Subject information','Observe','Permission',StartTS))."
   ]
  },
  {
   "cell_type": "code",
   "execution_count": 7,
   "id": "08b164c9",
   "metadata": {},
   "outputs": [
    {
     "name": "stdout",
     "output_type": "stream",
     "text": [
      "EndDate = 1637846460 ."
     ]
    }
   ],
   "source": [
    "% This is a function call returns true in case of success.\n",
    "\n",
    "?- setThatdsAgreeWithConsentTerms(id(10),\n",
    "                                dataSubject(paulo),\n",
    "                                dataController(fiocruz),\n",
    "                                personalData(paulo,976635869),\n",
    "                                healthData(paulo,oPlus),\n",
    "                                startDate(1622035260),\n",
    "                                endDate(EndDate)), EndDate is 1622035260+15811200."
   ]
  },
  {
   "cell_type": "markdown",
   "id": "0248cdc8",
   "metadata": {},
   "source": [
    "Now, the Data Controller can collect, store and process the Data Subject's data."
   ]
  },
  {
   "cell_type": "code",
   "execution_count": 8,
   "id": "edb753c9",
   "metadata": {},
   "outputs": [
    {
     "name": "stdout",
     "output_type": "stream",
     "text": [
      "true."
     ]
    }
   ],
   "source": [
    "?- dcIsCollectingDSData(id(10),dataController(fiocruz),dataSubject(paulo),\n",
    "                        personalData(paulo,976635869),healthData(paulo,oPlus),\n",
    "                        startDate(1622035260),endDate(1637846460)),\n",
    "                        \n",
    "dcIsProcessingDSData(id(10),dataController(fiocruz),dataSubject(paulo),\n",
    "                    personalData(paulo,976635869),healthData(paulo,oPlus),\n",
    "                    startDate(1622035260),endDate(1637846460)),\n",
    "                    \n",
    "dcIsStoringDSData(id(10),dataController(fiocruz),dataSubject(paulo),\n",
    "                    personalData(paulo,976635869),healthData(paulo,oPlus),\n",
    "                    startDate(1622035260),endDate(1637846460))."
   ]
  },
  {
   "cell_type": "markdown",
   "id": "eea5829e",
   "metadata": {},
   "source": [
    "---------"
   ]
  },
  {
   "cell_type": "markdown",
   "id": "8d60c694",
   "metadata": {},
   "source": [
    "### Scene 3: Defining the Data Subject's rights."
   ]
  },
  {
   "cell_type": "markdown",
   "id": "079be990",
   "metadata": {},
   "source": [
    "According to the LGPD Art. 18, when the Data Subject is sharing data with a Data Controller, he/she has the following rights:\n",
    "1. Data Acess\n",
    "2. Data Copy\n",
    "3. Data Correction\n",
    "4. Data Anonymization\n",
    "5. Data Portability\n",
    "6. Data Deletion\n",
    "7. Information regarding the data sharing with a third party\n",
    "8. Request consent revocation."
   ]
  },
  {
   "cell_type": "code",
   "execution_count": 9,
   "id": "f689d793",
   "metadata": {},
   "outputs": [
    {
     "name": "stdout",
     "output_type": "stream",
     "text": []
    }
   ],
   "source": [
    "% Description: This function sets all Data Subject right's foreseed in the LGPD.\n",
    "% This function receives the params:\n",
    "%  i. Data Subject\n",
    "% ii. Data Controller\n",
    "\n",
    "setDSRights(dataSubject(DS),dataController(DC),startDate(StartTS)) :-\n",
    "    assertz(dsRight(dataAccess,dataSubject(DS),dataController(DC))),\n",
    "    assertz(dsRight(dataCopy,dataSubject(DS),dataController(DC))),\n",
    "    assertz(dsRight(dataCorrection,dataSubject(DS),dataController(DC))),\n",
    "    assertz(dsRight(dataAnonymization,dataSubject(DS),dataController(DC))),\n",
    "    assertz(dsRight(dataPortability,dataSubject(DS),dataController(DC))),\n",
    "    assertz(dsRight(dataDeletion,dataSubject(DS),dataController(DC))),\n",
    "    assertz(dsRight(dataSharingInformation,dataSubject(DS),dataController(DC))),\n",
    "    assertz(dsRight(requestConsentRevocation,dataSubject(DS),dataController(DC))),\n",
    "    assertz(log('Data Subject can now have all foressen rights','Observe','Permission',StartTS))."
   ]
  },
  {
   "cell_type": "code",
   "execution_count": 10,
   "id": "d23962ea",
   "metadata": {},
   "outputs": [
    {
     "name": "stdout",
     "output_type": "stream",
     "text": [
      "true."
     ]
    }
   ],
   "source": [
    "% This is a function call returns true if all Data Subject's right was associated to him/her.\n",
    "\n",
    "?- setDSRights(dataSubject(paulo),dataController(fiocruz),startDate(1622035260))."
   ]
  },
  {
   "cell_type": "markdown",
   "id": "ac406f89",
   "metadata": {},
   "source": [
    " ---------"
   ]
  },
  {
   "cell_type": "markdown",
   "id": "e56931ef",
   "metadata": {},
   "source": [
    "### Scene 4: Data Subject's consent revocation."
   ]
  },
  {
   "cell_type": "markdown",
   "id": "ee33ba60",
   "metadata": {},
   "source": [
    "As mentioned in the scenario's description, the Data Subject decides to revoke his/her consent.\n",
    "The Data Subject considered that the purpose limitation is not adequate. \n",
    "\n",
    "Once performed, the action of requesting the consent revocation cannot be executed again, and the Data Controller is forbidden to still collecting the Data Subject's data."
   ]
  },
  {
   "cell_type": "code",
   "execution_count": 11,
   "id": "a0ec4159",
   "metadata": {},
   "outputs": [
    {
     "name": "stdout",
     "output_type": "stream",
     "text": []
    }
   ],
   "source": [
    "% Description: This function revoke the Data Controller's action of collecting the Data Subject's data.\n",
    "% This function receives the params:\n",
    "%   i. Consent ID\n",
    "%  ii. Data Subject\n",
    "% iii. Data Controller\n",
    "%  iv. Personal Data\n",
    "%   v. Health Data\n",
    "\n",
    "setDSRevokeConsent(id(ID),\n",
    "                    dataSubject(DS),\n",
    "                    dataController(DC),\n",
    "                    personalData(DS,PData),\n",
    "                    healthData(DS,HData),\n",
    "                    now(Date),\n",
    "                    startDate(StartTS),\n",
    "                    endDate(EndTS),\n",
    "                    requestDate(ReqDate)) :-\n",
    "                    \n",
    "    not(dsRight(requestConsentRevocation,dataSubject(paulo),dataController(fiocruz))),\n",
    "    assertz(log('Data Subject tried to revoke his/her consent, but fail','Observe','Prohibition',ReqDate));\n",
    "    \n",
    "    retract(dsRight(requestConsentRevocation,dataSubject(DS),dataController(DC))),\n",
    "    assertz(log('Data Subject requested to the Data Controller to revoke his/her consent','Comunicate','Permission',Date)),\n",
    "    \n",
    "    retract(dcIsCollectingDSData(id(ID),dataController(DC),dataSubject(DS),personalData(DS,PData),healthData(DS,HData),startDate(StartTS),endDate(EndTS))),\n",
    "    assertz(log('From now, the Data Controller cannot collect the Data Subject information','Comunicate','Prohibition',Date)),\n",
    "    \n",
    "    retract(dcIsProcessingDSData(id(ID),dataController(DC),dataSubject(DS),personalData(DS,PData),healthData(DS,HData),startDate(StartTS),endDate(EndTS))),\n",
    "    assertz(log('From now, the Data Controller cannot process the Data Subject information','Comunicate','Prohibition',Date)).\n",
    "\n",
    "    "
   ]
  },
  {
   "cell_type": "code",
   "execution_count": 12,
   "id": "3c113b41",
   "metadata": {},
   "outputs": [
    {
     "name": "stdout",
     "output_type": "stream",
     "text": [
      "true.\n",
      "EndDate = 1637846460 ."
     ]
    }
   ],
   "source": [
    "% This call store the Data Subject's motivation to request the cosent revocation.\n",
    "?- assertz(log('Data Subject considered that the purpose limitation is not adequate','Comunicate','Permission',1624712875)).\n",
    "\n",
    "% This is a function call returns true if all Data Subject's request was successfully performed.\n",
    "?- setDSRevokeConsent(id(10),\n",
    "                        dataSubject(paulo),\n",
    "                        dataController(fiocruz),\n",
    "                        personalData(paulo,976635869),\n",
    "                        healthData(paulo,oPlus),\n",
    "                        now(1624712875),\n",
    "                        startDate(1622035260),\n",
    "                        endDate(EndDate),\n",
    "                        requestDate(1624712875)), \n",
    "                        EndDate is 1622035260+15811200.\n",
    "    "
   ]
  },
  {
   "cell_type": "markdown",
   "id": "62f7bcf1",
   "metadata": {},
   "source": [
    "Therefore, the consent revocation request, motivited by diagreement with the purpose of data colleting, impacts many LGPD relationships as depicted in Figure 6."
   ]
  },
  {
   "cell_type": "markdown",
   "id": "8633f172",
   "metadata": {},
   "source": [
    "![RootScenarioImpact](./img/RootScenarioImpact.png \"Root Scenario Impact\")\n",
    "Fig.6 - Consent Revocation Impact.\n",
    "\n",
    "The red entities suffered impact directly, or indirectly, when the consent was revoked. First,  the data controller must stop collecting personal data immediately. Next, the data controller must update the sharing politics and access restriction in order to do not have unauthorized access or new data processing."
   ]
  },
  {
   "cell_type": "markdown",
   "id": "680944f7",
   "metadata": {},
   "source": [
    " ---------"
   ]
  },
  {
   "cell_type": "markdown",
   "id": "4283b37f",
   "metadata": {},
   "source": [
    "### Questions to ask\n",
    "\n",
    "Here, we are going to perform questions regarding access confirmation, rights compliance, and information about consent term.\n"
   ]
  },
  {
   "cell_type": "markdown",
   "id": "6239f32d",
   "metadata": {},
   "source": [
    "Are the fiocruz data controller using the data subject Paulo's data? \n",
    "\n",
    "Expected: As the Data Subject requested to revoke his consent, the data controller is **prohibited** to still using the Data Subjects data."
   ]
  },
  {
   "cell_type": "code",
   "execution_count": 13,
   "id": "b31d83d3",
   "metadata": {},
   "outputs": [
    {
     "name": "stdout",
     "output_type": "stream",
     "text": []
    }
   ],
   "source": [
    "?- dcIsProcessingDSData(id(10),dataController(fiocruz),dataSubject(paulo),personalData(paulo,PData),healthData(paulo,HData),startDate(1622035260),endDate(1637846460))"
   ]
  },
  {
   "cell_type": "markdown",
   "id": "5a038590",
   "metadata": {},
   "source": [
    "Why?"
   ]
  },
  {
   "cell_type": "code",
   "execution_count": 14,
   "id": "71a0d901",
   "metadata": {},
   "outputs": [
    {
     "name": "stdout",
     "output_type": "stream",
     "text": [
      "Event = Data Subject considered that the purpose limitation is not adequate, Type = Permission ;\n",
      "Event = Data Subject requested to the Data Controller to revoke his/her consent, Type = Permission ;\n",
      "Event = From now, the Data Controller cannot collect the Data Subject information, Type = Prohibition ;\n",
      "Event = From now, the Data Controller cannot process the Data Subject information, Type = Prohibition ."
     ]
    }
   ],
   "source": [
    "?- log(Event,'Comunicate',Type, 1624712875)."
   ]
  },
  {
   "cell_type": "markdown",
   "id": "0cc10cfe",
   "metadata": {},
   "source": [
    "What are the Data Subject rights right now?\n",
    "\n",
    "Expected: As the Data Subject requested to revoke his consent, he is **prohibited** to create such request again, even though he has **permission** to request the other rights foreseen by the LGPD."
   ]
  },
  {
   "cell_type": "code",
   "execution_count": 15,
   "id": "2c241578",
   "metadata": {},
   "outputs": [
    {
     "name": "stdout",
     "output_type": "stream",
     "text": [
      "RIGHT = processingConfirmation ;\n",
      "RIGHT = dataAccess ;\n",
      "RIGHT = dataCopy ;\n",
      "RIGHT = dataCorrection ;\n",
      "RIGHT = dataAnonymization ;\n",
      "RIGHT = dataPortability ;\n",
      "RIGHT = dataDeletion ;\n",
      "RIGHT = dataSharingInformation ."
     ]
    }
   ],
   "source": [
    "?- dsRight(RIGHT,dataSubject(paulo),dataController(fiocruz))."
   ]
  },
  {
   "cell_type": "markdown",
   "id": "723dfcb6",
   "metadata": {},
   "source": [
    "Can all items from art. 9 be informed?"
   ]
  },
  {
   "cell_type": "code",
   "execution_count": 16,
   "id": "aad7d26d",
   "metadata": {
    "scrolled": true
   },
   "outputs": [
    {
     "name": "stdout",
     "output_type": "stream",
     "text": [
      "SPECIFICPURPOSE = genetic_factors_related_to_COVID-19 ."
     ]
    }
   ],
   "source": [
    "?- specificPurpose(fiocruz,paulo,research,SPECIFICPURPOSE)."
   ]
  },
  {
   "cell_type": "code",
   "execution_count": 17,
   "id": "d25f269d",
   "metadata": {},
   "outputs": [
    {
     "name": "stdout",
     "output_type": "stream",
     "text": [
      "TimeRange = 15811200 ."
     ]
    }
   ],
   "source": [
    "?- timeLength(fiocruz, paulo, research, 'genetic_factors_related_to_COVID-19',TimeRange)."
   ]
  },
  {
   "cell_type": "markdown",
   "id": "fc11dcb4",
   "metadata": {},
   "source": [
    "Who are collecting the Data Subject's personal data and what are the respective data?"
   ]
  },
  {
   "cell_type": "code",
   "execution_count": 18,
   "id": "74a410e4",
   "metadata": {},
   "outputs": [
    {
     "name": "stdout",
     "output_type": "stream",
     "text": [
      "false."
     ]
    }
   ],
   "source": [
    "?- dcIsCollectingDSData(id(ID),dataController(DC),dataSubject(paulo),personalData(paulo,PData),healthData(paulo,HData),startDate(1622035260),endDate(1637846460))."
   ]
  },
  {
   "cell_type": "markdown",
   "id": "1fe9ab2c",
   "metadata": {},
   "source": [
    "Why?"
   ]
  },
  {
   "cell_type": "code",
   "execution_count": 19,
   "id": "88e4ca2e",
   "metadata": {},
   "outputs": [
    {
     "name": "stdout",
     "output_type": "stream",
     "text": [
      "Event = Data Subject considered that the purpose limitation is not adequate, Type = Permission ;\n",
      "Event = Data Subject requested to the Data Controller to revoke his/her consent, Type = Permission ;\n",
      "Event = From now, the Data Controller cannot collect the Data Subject information, Type = Prohibition ;\n",
      "Event = From now, the Data Controller cannot process the Data Subject information, Type = Prohibition ."
     ]
    }
   ],
   "source": [
    "?- log(Event,'Comunicate',Type, 1624712875)."
   ]
  },
  {
   "cell_type": "markdown",
   "id": "4e2db676",
   "metadata": {},
   "source": [
    "Who are storing the Data Subject's personal data and what are the respective data?\n",
    "\n",
    "Expected: Although the Data Subject requested to revoke his consent, he did not request for data deletion, so the Data Controller is **permitted** to store his dada."
   ]
  },
  {
   "cell_type": "code",
   "execution_count": 20,
   "id": "86967521",
   "metadata": {},
   "outputs": [
    {
     "name": "stdout",
     "output_type": "stream",
     "text": [
      "ID = 10, DC = fiocruz, PData = 976635869, HData = oPlus ."
     ]
    }
   ],
   "source": [
    "?- dcIsStoringDSData(id(ID),dataController(DC),dataSubject(paulo),personalData(paulo,PData),healthData(paulo,HData),startDate(1622035260),endDate(1637846460))."
   ]
  },
  {
   "cell_type": "markdown",
   "id": "68d9afd5",
   "metadata": {},
   "source": [
    "Show all events."
   ]
  },
  {
   "cell_type": "code",
   "execution_count": 21,
   "id": "7f036d4f",
   "metadata": {},
   "outputs": [
    {
     "name": "stdout",
     "output_type": "stream",
     "text": [
      "Event = Data Subject can ask if the Data Controller is processing his/her data, Type = Observe, DeonticOperator = Permission, Date = 1622035260 ;\n",
      "Event = Data Subject verified the consent term and it was ok, Type = Observe, DeonticOperator = Obligation, Date = 1622035260 ;\n",
      "Event = Data Subject agrees with consent term, Type = Comunicate, DeonticOperator = Compliance, Date = 1622035260 ;\n",
      "Event = Data Controller can collect the Data Subject information, Type = Observe, DeonticOperator = Permission, Date = 1622035260 ;\n",
      "Event = Data Controller can store the Data Subject information, Type = Observe, DeonticOperator = Permission, Date = 1622035260 ;\n",
      "Event = Data Controller can process the Data Subject information, Type = Observe, DeonticOperator = Permission, Date = 1622035260 ;\n",
      "Event = Data Subject can now have all foressen rights, Type = Observe, DeonticOperator = Permission, Date = 1622035260 ;\n",
      "Event = Data Subject considered that the purpose limitation is not adequate, Type = Comunicate, DeonticOperator = Permission, Date = 1624712875 ;\n",
      "Event = Data Subject requested to the Data Controller to revoke his/her consent, Type = Comunicate, DeonticOperator = Permission, Date = 1624712875 ;\n",
      "Event = From now, the Data Controller cannot collect the Data Subject information, Type = Comunicate, DeonticOperator = Prohibition, Date = 1624712875 ;\n",
      "Event = From now, the Data Controller cannot process the Data Subject information, Type = Comunicate, DeonticOperator = Prohibition, Date = 1624712875 ."
     ]
    }
   ],
   "source": [
    "?- log(Event,Type,DeonticOperator,Date) {-1}."
   ]
  },
  {
   "cell_type": "markdown",
   "id": "7d719688",
   "metadata": {},
   "source": [
    "----"
   ]
  },
  {
   "cell_type": "markdown",
   "id": "070e5cea",
   "metadata": {},
   "source": [
    "#### Cause-effect: How to evidence when the Data Controller did not respect the consent revocation?\n",
    "\n",
    "Let's picture that the Data Controller did not respect the Data Subject's request and still collecting the Data Subject's data. In such plot, fines must be applied.\n",
    "\n",
    "<div>\n",
    "<img src=\"./img/Scenario2.1_Process.png\" width=\"600\"/>\n",
    "</div>\n",
    "Fig.7 - Consent Revocation Scenario Process."
   ]
  },
  {
   "cell_type": "code",
   "execution_count": 22,
   "id": "dfcc2a44",
   "metadata": {},
   "outputs": [
    {
     "name": "stdout",
     "output_type": "stream",
     "text": []
    }
   ],
   "source": [
    "% This command sets that the Data Controller is collecting the Data Subject's data.\n",
    "\n",
    "dcIsCollectingDSData(id(10),dataController(fiocruz),dataSubject(paulo),\n",
    "                        personalData(paulo,976635869),healthData(paulo,oPlus),\n",
    "                        startDate(1622035260),endDate(1637846460))."
   ]
  },
  {
   "cell_type": "markdown",
   "id": "232ba410",
   "metadata": {},
   "source": [
    "So, now the data controller is collecting unauthorized data, it was **prohibited** since the data subject requested consent revocation. The following command will check the environment facts and will insert the inconsistency in the log."
   ]
  },
  {
   "cell_type": "code",
   "execution_count": 23,
   "id": "d74e9295",
   "metadata": {},
   "outputs": [
    {
     "name": "stdout",
     "output_type": "stream",
     "text": [
      "true."
     ]
    }
   ],
   "source": [
    "% This command:\n",
    "%   (i) verifies if the Data Controller is collecting the Data Subject's data;\n",
    "%  (ii) verifies in the log if the Data Subject requested consent revocation;\n",
    "% (iii) if all previous verifications are true, insert in the log that the Data Controller did not respect \n",
    "%       the Data Subject's will.\n",
    "\n",
    "?- dcIsCollectingDSData(id(10),dataController(fiocruz),dataSubject(paulo),\n",
    "                        personalData(paulo,976635869),healthData(paulo,oPlus),\n",
    "                        startDate(1622035260),endDate(1637846460)),\n",
    "                        \n",
    "    assertz(log('Data Subject requested to the Data Controller to revoke his/her consent','Observe','Permission',1624712875)),\n",
    "    \n",
    "    assertz(log('Data Controller did not respect the consent revocation requested by the Data Subject, \n",
    "                and still processing. Thus, fines should be applied','Comunicate','Violation',1624712875))."
   ]
  },
  {
   "cell_type": "markdown",
   "id": "c4979ee1",
   "metadata": {},
   "source": [
    "In this sense, the program log should help the Data Subject to create evidence of his/her requests. The log will show that the consent was violated revoked and the Data Controller **violated** the data subject will."
   ]
  },
  {
   "cell_type": "code",
   "execution_count": 24,
   "id": "cd9900ed",
   "metadata": {
    "scrolled": true
   },
   "outputs": [
    {
     "name": "stdout",
     "output_type": "stream",
     "text": [
      "Event = Data Subject can ask if the Data Controller is processing his/her data, Type = Observe, DeonticConcept = Permission, Date = 1622035260 ;\n",
      "Event = Data Subject verified the consent term and it was ok, Type = Observe, DeonticConcept = Obligation, Date = 1622035260 ;\n",
      "Event = Data Subject agrees with consent term, Type = Comunicate, DeonticConcept = Compliance, Date = 1622035260 ;\n",
      "Event = Data Controller can collect the Data Subject information, Type = Observe, DeonticConcept = Permission, Date = 1622035260 ;\n",
      "Event = Data Controller can store the Data Subject information, Type = Observe, DeonticConcept = Permission, Date = 1622035260 ;\n",
      "Event = Data Controller can process the Data Subject information, Type = Observe, DeonticConcept = Permission, Date = 1622035260 ;\n",
      "Event = Data Subject can now have all foressen rights, Type = Observe, DeonticConcept = Permission, Date = 1622035260 ;\n",
      "Event = Data Subject considered that the purpose limitation is not adequate, Type = Comunicate, DeonticConcept = Permission, Date = 1624712875 ;\n",
      "Event = Data Subject requested to the Data Controller to revoke his/her consent, Type = Comunicate, DeonticConcept = Permission, Date = 1624712875 ;\n",
      "Event = From now, the Data Controller cannot collect the Data Subject information, Type = Comunicate, DeonticConcept = Prohibition, Date = 1624712875 ;\n",
      "Event = From now, the Data Controller cannot process the Data Subject information, Type = Comunicate, DeonticConcept = Prohibition, Date = 1624712875 ;\n",
      "Event = Data Subject requested to the Data Controller to revoke his/her consent, Type = Observe, DeonticConcept = Permission, Date = 1624712875 ;\n",
      "Event = Data Controller did not respect the consent revocation requested by the Data Subject, and still processing. Thus, fines should be applied, Type = Comunicate, DeonticConcept = Violation, Date = 1624712875 ."
     ]
    }
   ],
   "source": [
    "?- log(Event,Type,DeonticConcept,Date) {-1}."
   ]
  },
  {
   "cell_type": "markdown",
   "id": "eaf1700d",
   "metadata": {},
   "source": [
    "Moreover, Figure 6 may also be used to mitigate if the consent revocation was properly attended. If there is no modification in the red entities, something is not in compliance with LGPD."
   ]
  },
  {
   "cell_type": "code",
   "execution_count": 25,
   "id": "36da4884",
   "metadata": {},
   "outputs": [
    {
     "name": "stdout",
     "output_type": "stream",
     "text": [
      "true."
     ]
    }
   ],
   "source": [
    "% Resetting scenario\n",
    "?- retract(dcIsCollectingDSData(id(10),dataController(fiocruz),dataSubject(paulo),\n",
    "                        personalData(paulo,976635869),healthData(paulo,oPlus),\n",
    "                        startDate(1622035260),endDate(1637846460))),\n",
    "                        \n",
    "    retract(log('Data Subject requested to the Data Controller to revoke his/her consent','Observe','Permission',1624712875)),\n",
    "    retract((log('Data Controller did not respect the consent revocation requested by the Data Subject, \n",
    "                and still processing. Thus, fines should be applied','Comunicate','Violation',1624712875)))."
   ]
  },
  {
   "cell_type": "markdown",
   "id": "cf288a4f",
   "metadata": {},
   "source": [
    "----\n",
    "#### Cause-effect: Data breach, what to do? \n",
    "\n",
    "The Data Controller must inform to national authority and to the Data Subject when a data breach occurs that may cause risks or damage to the Data Subject.\n",
    "\n",
    "Such communication has to be done as soon as possible and should inform:\n",
    "- personal data category\n",
    "- what data were leaked\n",
    "- what were the technical and security measures used to protect data\n",
    "- the risks related to the incident\n",
    "- what the data controller will do to revert or mitigate the damage\n",
    "\n",
    "Depending on the incident severity, the Data Controller will have to disclose such an event in high-impact communication media.\n",
    "\n",
    "In this sense, lets picture that Fiocruz suffered from a hacker attack and Paulo's personal data were leaked on the social media and he is receiving few calls from different numbers. So, Fiocruz is **obligated to** inform the incident to ANPD and inform Paulo that his phone number was leaked. \n",
    "\n",
    "Even as Paulo has revoked his consent, he has to be informed regarding the data breach as his data still on the Fiocruz database.\n",
    "\n",
    "![Scenario2_DataBreach](./img/Scenario2_DataBreach.png \"Process 2.2\")\n",
    "Fig.8 - Data Breach Scenario Process.\n",
    "\n",
    "Thus, let translate this scenario in Prolog facts.\n",
    "\n",
    "First, once Fiocruz figure out that there is a data breach, the ANPD and the data subjects involved have to be informed about that.\n"
   ]
  },
  {
   "cell_type": "code",
   "execution_count": 26,
   "id": "d41a24f2",
   "metadata": {},
   "outputs": [
    {
     "name": "stdout",
     "output_type": "stream",
     "text": []
    }
   ],
   "source": [
    "log('Data Controller Fiocruz triggered an alert to ANPD and to all data subjects affected by\n",
    "    the data breach informing that all phone numbers were exposed','Comunicate','Obligation',1624712870)."
   ]
  },
  {
   "cell_type": "markdown",
   "id": "3a86cdf4",
   "metadata": {},
   "source": [
    "Next, Fiocruz has to explain that they had adopted security actions to avoid data breach. "
   ]
  },
  {
   "cell_type": "code",
   "execution_count": 27,
   "id": "bbb211dc",
   "metadata": {},
   "outputs": [
    {
     "name": "stdout",
     "output_type": "stream",
     "text": []
    }
   ],
   "source": [
    "log('Data Controller Fiocruz informed the security measures to do not let data breach occurs',\n",
    "    'Comunicate','Obligation',1624712871)."
   ]
  },
  {
   "cell_type": "markdown",
   "id": "1f87c3df",
   "metadata": {},
   "source": [
    "Then, Fiocruz fixed the vulnerability and inform the data subjects as well."
   ]
  },
  {
   "cell_type": "code",
   "execution_count": 28,
   "id": "c1b360b5",
   "metadata": {},
   "outputs": [
    {
     "name": "stdout",
     "output_type": "stream",
     "text": []
    }
   ],
   "source": [
    "log('Data Controller Fiocruz informed that the vulnerability was found \n",
    "    and there is no unouthorized access anymore','Comunicate','Compliance',1624712872)."
   ]
  },
  {
   "cell_type": "markdown",
   "id": "6591d9c5",
   "metadata": {},
   "source": [
    "Furthermore, Fiocruz inform to Data Subjects that there is a technical group available to help anyone that have had troubles caused by this incident."
   ]
  },
  {
   "cell_type": "code",
   "execution_count": 29,
   "id": "035a3579",
   "metadata": {},
   "outputs": [
    {
     "name": "stdout",
     "output_type": "stream",
     "text": []
    }
   ],
   "source": [
    "log('Data Controller Fiocruz created a technical team to help any data subject \n",
    "    that have had issues with this incident','Comunicate','Obligation',1624712873)."
   ]
  },
  {
   "cell_type": "markdown",
   "id": "470856e5",
   "metadata": {},
   "source": [
    "As the log shows, this case can present many different ends depending on the damage caused to the data subjects involved. Here, as the data subject received just a few calls and there was low damage, he decided not to enter in dispute to get reparation compensations, even though the data controller has **violated** the Data Subject's privacy.\n",
    "\n",
    "Moreover, the omission of any fact related to informing the Data Subjects about unauthorized access or neglect the system security, fines should be applied to the Data Controller.\n",
    "\n",
    "Last but not least, if the Data Controller noticed a data breach, once informed, the Data Controller has to act immediately. **LGPD Art. 48**"
   ]
  },
  {
   "cell_type": "code",
   "execution_count": 30,
   "id": "f9de3ca5",
   "metadata": {},
   "outputs": [
    {
     "name": "stdout",
     "output_type": "stream",
     "text": [
      "Event = Data Subject can ask if the Data Controller is processing his/her data, Type = Observe, DeonticOperator = Permission, Date = 1622035260 ;\n",
      "Event = Data Subject verified the consent term and it was ok, Type = Observe, DeonticOperator = Obligation, Date = 1622035260 ;\n",
      "Event = Data Subject agrees with consent term, Type = Comunicate, DeonticOperator = Compliance, Date = 1622035260 ;\n",
      "Event = Data Controller can collect the Data Subject information, Type = Observe, DeonticOperator = Permission, Date = 1622035260 ;\n",
      "Event = Data Controller can store the Data Subject information, Type = Observe, DeonticOperator = Permission, Date = 1622035260 ;\n",
      "Event = Data Controller can process the Data Subject information, Type = Observe, DeonticOperator = Permission, Date = 1622035260 ;\n",
      "Event = Data Subject can now have all foressen rights, Type = Observe, DeonticOperator = Permission, Date = 1622035260 ;\n",
      "Event = Data Subject considered that the purpose limitation is not adequate, Type = Comunicate, DeonticOperator = Permission, Date = 1624712875 ;\n",
      "Event = Data Subject requested to the Data Controller to revoke his/her consent, Type = Comunicate, DeonticOperator = Permission, Date = 1624712875 ;\n",
      "Event = From now, the Data Controller cannot collect the Data Subject information, Type = Comunicate, DeonticOperator = Prohibition, Date = 1624712875 ;\n",
      "Event = From now, the Data Controller cannot process the Data Subject information, Type = Comunicate, DeonticOperator = Prohibition, Date = 1624712875 ;\n",
      "Event = Data Controller Fiocruz triggered an alert to ANPD and to all data subjects affected by the data breach informing that all phone numbers were exposed, Type = Comunicate, DeonticOperator = Obligation, Date = 1624712870 ;\n",
      "Event = Data Controller Fiocruz informed the security measures to do not let data breach occurs, Type = Comunicate, DeonticOperator = Obligation, Date = 1624712871 ;\n",
      "Event = Data Controller Fiocruz informed that the vulnerability was found and there is no unouthorized access anymore, Type = Comunicate, DeonticOperator = Compliance, Date = 1624712872 ;\n",
      "Event = Data Controller Fiocruz created a technical team to help any data subject that have had issues with this incident, Type = Comunicate, DeonticOperator = Obligation, Date = 1624712873 ."
     ]
    }
   ],
   "source": [
    "?- log(Event,Type,DeonticOperator,Date) {-1}."
   ]
  },
  {
   "cell_type": "markdown",
   "id": "d45ce67d",
   "metadata": {},
   "source": [
    "Therefore, the data breach impacts many LGPD relationships as depicted in Figure 9.\n"
   ]
  },
  {
   "cell_type": "markdown",
   "id": "88ff8393",
   "metadata": {},
   "source": [
    "![DataBreachImpact](./img/DataBreachImpact.png \"Data Breach Impact\")\n",
    "Fig.9 - Data Breach Impact."
   ]
  },
  {
   "cell_type": "markdown",
   "id": "17b86437",
   "metadata": {},
   "source": [
    "First, as mentioned before, a data breach event must be informed to all agents impacted. This message must contain the security methods and the storage technologies applied to avoid a data breach. However, this is an event that could trigger other impacts. For instance, after a data breach, the data subject could enter in a dispute resolution claiming discrimination, loss, and unauthorized uses of his/her data. \n",
    "\n",
    "Furthermore, the Data Subject might request changes in the consent term, impacting the sharing politics and access restriction. Also, the Data Subject might request consent revocation, data deletion, which affects data collecting, processing, and storing."
   ]
  },
  {
   "cell_type": "code",
   "execution_count": 31,
   "id": "4d1d2bef",
   "metadata": {},
   "outputs": [
    {
     "name": "stdout",
     "output_type": "stream",
     "text": [
      "true.\n",
      "true.\n",
      "true.\n",
      "true."
     ]
    }
   ],
   "source": [
    "% Resetting scenario\n",
    "?- retract(log('Data Controller Fiocruz triggered an alert to ANPD and to all data subjects affected by\n",
    "    the data breach informing that all phone numbers were exposed','Comunicate','Obligation',1624712870)).\n",
    "    \n",
    "?- retract(log('Data Controller Fiocruz informed the security measures to do not let data breach \n",
    "    occurs','Comunicate','Obligation',1624712871)).\n",
    "                        \n",
    "?- retract(log('Data Controller Fiocruz informed that the vulnerability was found \n",
    "    and there is no unouthorized access anymore','Comunicate','Compliance',1624712872)).\n",
    "    \n",
    "?- retract(log('Data Controller Fiocruz created a technical team to help any data subject \n",
    "    that have had issues with this incident','Comunicate','Obligation',1624712873))."
   ]
  },
  {
   "cell_type": "markdown",
   "id": "bf5f8293",
   "metadata": {},
   "source": [
    "----\n",
    "#### Cause-effect: How to get evidences that the Data Controller leaked the Data Subject's data? "
   ]
  },
  {
   "cell_type": "markdown",
   "id": "adc3c232",
   "metadata": {},
   "source": [
    "To create concrete evidence that a Data Controller leaked a Data Subject's data, first, it is important to verify who has such data. If there is just one Data Controller legally storing such data; hence, the chances of such Data Controller had leaked personal data is higher.\n",
    "\n",
    "Moreover, the data controller is **obligated** to inform if personal or sensitive data is stored in the database. The data subject can request such information for each data controller.\n",
    "\n",
    "Last but not least, the data subject should check the consent term to verify if there is any clause/ condition which permits the data controller to share data with others. If the data subject disagrees with such clause, he is **permitted** to revoke the consent term anytime.\n",
    "\n",
    "![Scenario2.2_Process](./img/Scenario2.2_Process.png \"Process 2.2\")\n",
    "Fig.10 - Data Leak Process."
   ]
  },
  {
   "cell_type": "code",
   "execution_count": 32,
   "id": "4e3d352b",
   "metadata": {},
   "outputs": [
    {
     "name": "stdout",
     "output_type": "stream",
     "text": [
      "ID = 10, DataController = fiocruz ."
     ]
    }
   ],
   "source": [
    "% This command verifies who is storing Paulo's personal and health data.\n",
    "\n",
    "?- dcIsStoringDSData(id(ID),dataController(DataController),dataSubject(paulo),\n",
    "                    personalData(paulo,976635869),healthData(paulo,oPlus),\n",
    "                    startDate(1622035260),endDate(1637846460))."
   ]
  },
  {
   "cell_type": "markdown",
   "id": "91fa04a8",
   "metadata": {},
   "source": [
    "Now, let's picture that the Data Controller Butantan has Paulo's data."
   ]
  },
  {
   "cell_type": "code",
   "execution_count": 33,
   "id": "c0c202ba",
   "metadata": {},
   "outputs": [
    {
     "name": "stdout",
     "output_type": "stream",
     "text": []
    }
   ],
   "source": [
    "dcIsStoringDSData(id(null),dataController(butantan),dataSubject(paulo),\n",
    "                    personalData(paulo,976635869),healthData(paulo,oPlus),\n",
    "                    startDate(1622035260),endDate(1637846460))."
   ]
  },
  {
   "cell_type": "code",
   "execution_count": 35,
   "id": "f48d2bbf",
   "metadata": {},
   "outputs": [
    {
     "name": "stdout",
     "output_type": "stream",
     "text": [
      "true.\n",
      "false.\n",
      "true."
     ]
    }
   ],
   "source": [
    "% These commands:\n",
    "%   (i) verifies if the Data Controller is storing the Data Subject's data;\n",
    "%  (ii) verifies if there is any evidence that the Data Subject allowed the Data Controller to process his/her data;\n",
    "% (iii) if all previous verifications are true, insert in the log that the Data Controller is not allowed \n",
    "%       to collect the Data Subject's data.\n",
    "\n",
    "?- dcIsStoringDSData(id(null),dataController(butantan),dataSubject(paulo),\n",
    "                    personalData(paulo,976635869),healthData(paulo,oPlus),\n",
    "                    startDate(1622035260),endDate(1637846460)).\n",
    "\n",
    "?- dsAgreeWithConsentTerms(dataSubject(butantan),dataController(paulo),startDate(1622035260),endDate(1637846460)).\n",
    "\n",
    "?- assertz(log('Data Subject did not agree with Butantan consent term, so the data was improperly collected, \n",
    "    fines should be applied','Observe','Violation',1624712875))."
   ]
  },
  {
   "cell_type": "markdown",
   "id": "c4f55ab5",
   "metadata": {},
   "source": [
    "Therefore, the event log will show that there is not consent agreement between Paulo and Butantan. \n",
    "\n",
    "Hence, Butantan was **prohibited** to use such data, i.e., the data was improperly collected. \n",
    "Moreover, as Fiocruz is the only Data Controller storing Paulo's data, probably Fiocruz **violated**, on purpose or not, the consent term and the data was leaked from Friocruz to Butantan.\n",
    "\n",
    "Moreover, this scenario presents the same possible impacts depicted in Figure 9 of the previous plot."
   ]
  },
  {
   "cell_type": "code",
   "execution_count": 35,
   "id": "59302011",
   "metadata": {},
   "outputs": [
    {
     "name": "stdout",
     "output_type": "stream",
     "text": [
      "Event = Data Subject can ask if the Data Controller is processing his/her data, Type = Observe, DeonticOperator = Permission, Date = 1622035260 ;\n",
      "Event = Data Subject verified the consent term and it was ok, Type = Observe, DeonticOperator = Obligation, Date = 1622035260 ;\n",
      "Event = Data Subject agrees with consent term, Type = Comunicate, DeonticOperator = Compliance, Date = 1622035260 ;\n",
      "Event = Data Controller can collect the Data Subject information, Type = Observe, DeonticOperator = Permission, Date = 1622035260 ;\n",
      "Event = Data Controller can store the Data Subject information, Type = Observe, DeonticOperator = Permission, Date = 1622035260 ;\n",
      "Event = Data Controller can process the Data Subject information, Type = Observe, DeonticOperator = Permission, Date = 1622035260 ;\n",
      "Event = Data Subject can now have all foressen rights, Type = Observe, DeonticOperator = Permission, Date = 1622035260 ;\n",
      "Event = Data Subject considered that the purpose limitation is not adequate, Type = Comunicate, DeonticOperator = Permission, Date = 1624712875 ;\n",
      "Event = Data Subject requested to the Data Controller to revoke his/her consent, Type = Comunicate, DeonticOperator = Permission, Date = 1624712875 ;\n",
      "Event = From now, the Data Controller cannot collect the Data Subject information, Type = Comunicate, DeonticOperator = Prohibition, Date = 1624712875 ;\n",
      "Event = From now, the Data Controller cannot process the Data Subject information, Type = Comunicate, DeonticOperator = Prohibition, Date = 1624712875 ;\n",
      "Event = Data Subject did not agree with Butantan consent term, so the data was improperly collected, fines should be applied, Type = Observe, DeonticOperator = Violation, Date = 1624712875 ."
     ]
    }
   ],
   "source": [
    "?- log(Event,Type,DeonticOperator,Date) {-1}."
   ]
  },
  {
   "cell_type": "code",
   "execution_count": 36,
   "id": "ff397b10",
   "metadata": {},
   "outputs": [
    {
     "name": "stdout",
     "output_type": "stream",
     "text": [
      "true."
     ]
    }
   ],
   "source": [
    "% Resetting scenario\n",
    "?- retract(log('Data Subject did not agree with Butantan consent term, so the data was improperly collected, \n",
    "    fines should be applied','Observe','Violation',1624712875)),\n",
    "    \n",
    "    retract(dcIsStoringDSData(id(null),dataController(butantan),dataSubject(paulo),\n",
    "                    personalData(paulo,976635869),healthData(paulo,oPlus),\n",
    "                    startDate(1622035260),endDate(1637846460)))."
   ]
  },
  {
   "cell_type": "markdown",
   "id": "96f2c683",
   "metadata": {},
   "source": [
    "----\n",
    "#### Cause-effect: Requesting data correction"
   ]
  },
  {
   "cell_type": "markdown",
   "id": "356082fe",
   "metadata": {},
   "source": [
    "Data correction is one of the Data Subject's right foreseen in LGPD in the moment that the consent term was accepted.\n",
    "Even if the Data Subject revoke his/her consent, the data will not be deleted; a express data deletion request is required.\n",
    "\n",
    "So, in order to check if the data corretion request was accomplished, the Data Subject should call another right - data access.\n",
    "\n",
    "The data controller is **obligated** to abide by the data subjects' requests as correction as data access.\n",
    "Also, the controller is **obligated** to inform all processors regarding the correction.\n",
    "\n",
    "\n",
    "<div>\n",
    "<img src=\"./img/Scenario2.3_Process.png\" width=\"600\"/>\n",
    "</div>\n",
    "Fig.11 - Data Correction Process.\n",
    "\n",
    "First, the Data Subject should verify if the Data Controller is storing his/her data."
   ]
  },
  {
   "cell_type": "code",
   "execution_count": 37,
   "id": "119ccf93",
   "metadata": {},
   "outputs": [
    {
     "name": "stdout",
     "output_type": "stream",
     "text": [
      "true."
     ]
    }
   ],
   "source": [
    "?- dcIsStoringDSData(id(10),dataController(fiocruz),dataSubject(paulo),\n",
    "                    personalData(paulo,976635869),healthData(paulo,oPlus),\n",
    "                    startDate(1622035260),endDate(1637846460))."
   ]
  },
  {
   "cell_type": "markdown",
   "id": "01e403cf",
   "metadata": {},
   "source": [
    "If true, the Data Subject should have the right to data access and data correction."
   ]
  },
  {
   "cell_type": "code",
   "execution_count": 38,
   "id": "ba89c6ce",
   "metadata": {},
   "outputs": [
    {
     "name": "stdout",
     "output_type": "stream",
     "text": [
      "true."
     ]
    }
   ],
   "source": [
    "?- dsRight(dataAccess,dataSubject(paulo),dataController(fiocruz)),\n",
    "    dsRight(dataCorrection,dataSubject(paulo),dataController(fiocruz))."
   ]
  },
  {
   "cell_type": "markdown",
   "id": "18b3db3a",
   "metadata": {},
   "source": [
    "Then, the Data Subject is able to request and verify if the data was changed."
   ]
  },
  {
   "cell_type": "code",
   "execution_count": 39,
   "id": "209b62a5",
   "metadata": {},
   "outputs": [
    {
     "name": "stdout",
     "output_type": "stream",
     "text": []
    }
   ],
   "source": [
    "log('Data Subject requested to change his blood type to A+','Comunicate','Permission',1624712876)."
   ]
  },
  {
   "cell_type": "markdown",
   "id": "c934599e",
   "metadata": {},
   "source": [
    "And the Data Controller executed this correction."
   ]
  },
  {
   "cell_type": "code",
   "execution_count": 40,
   "id": "634be98e",
   "metadata": {
    "scrolled": true
   },
   "outputs": [
    {
     "name": "stdout",
     "output_type": "stream",
     "text": [
      "true."
     ]
    }
   ],
   "source": [
    "% First, the Data Controller verifies if the Data Subject has the rights requiered to perform such action.\n",
    "% Then, remove the incorrect data and insert the new data.\n",
    "\n",
    "\n",
    "?-  dsRight(dataCorrection,dataSubject(paulo),dataController(fiocruz)),\n",
    "\n",
    "    retract(dcIsStoringDSData(id(10),dataController(fiocruz),dataSubject(paulo),\n",
    "                    personalData(paulo,976635869),healthData(paulo,oPlus),\n",
    "                    startDate(1622035260),endDate(1637846460))),\n",
    "\n",
    "    assertz(dcIsStoringDSData(id(10),dataController(fiocruz),dataSubject(paulo),\n",
    "                    personalData(paulo,976635869),healthData(paulo,'A+'),\n",
    "                    startDate(1622035260),endDate(1637846460))),\n",
    "    \n",
    "    assertz(log('Data Controller has to execute the Data Subject s requerst','Observe','Obligation',1624712876)),\n",
    "        \n",
    "    assertz(log('Data Controller changed the data as requested by the Data Subject','Comunicate','Compliance',1624712876)),\n",
    "    \n",
    "    assertz(log('Data Controller notified all processors regarding the data corretion','Comunicate','Compliance',1624712876))."
   ]
  },
  {
   "cell_type": "markdown",
   "id": "5f66160a",
   "metadata": {},
   "source": [
    "Hence, as the data controler attended the data subject's request, it still in **compliance** with the LGPD. The Data Subject can verify if the data was fixed."
   ]
  },
  {
   "cell_type": "code",
   "execution_count": 41,
   "id": "46ac038a",
   "metadata": {},
   "outputs": [
    {
     "name": "stdout",
     "output_type": "stream",
     "text": [
      "DataController = fiocruz, BloodType = A+ ."
     ]
    }
   ],
   "source": [
    "% If the Data Subject has the right to access his/her data, then he/she is able to verify if his/her data was fixed.\n",
    "\n",
    "?-  dsRight(dataAccess,dataSubject(paulo),dataController(fiocruz)),\n",
    "    dcIsStoringDSData(id(10),dataController(DataController),dataSubject(paulo),\n",
    "                    personalData(paulo,976635869),healthData(paulo,BloodType),\n",
    "                    startDate(1622035260),endDate(1637846460)),\n",
    "    assertz(log('Data Subject confirmed that the data was fixed','Observe','Permission',1624712876))."
   ]
  },
  {
   "cell_type": "code",
   "execution_count": 42,
   "id": "80439aab",
   "metadata": {},
   "outputs": [
    {
     "name": "stdout",
     "output_type": "stream",
     "text": [
      "Event = Data Subject requested to change his blood type to A+, Type = Comunicate, DeonticOperator = Permission, Date = 1624712876 ;\n",
      "Event = Data Controller has to execute the Data Subject s requerst, Type = Observe, DeonticOperator = Obligation, Date = 1624712876 ;\n",
      "Event = Data Controller changed the data as requested by the Data Subject, Type = Comunicate, DeonticOperator = Compliance, Date = 1624712876 ;\n",
      "Event = Data Controller notified all processors regarding the data corretion, Type = Comunicate, DeonticOperator = Compliance, Date = 1624712876 ;\n",
      "Event = Data Subject confirmed that the data was fixed, Type = Observe, DeonticOperator = Permission, Date = 1624712876 ."
     ]
    }
   ],
   "source": [
    "?- log(Event,Type,DeonticOperator,Date), Date >= 1624712876 {-1}."
   ]
  },
  {
   "cell_type": "markdown",
   "id": "3f8c30a5",
   "metadata": {},
   "source": [
    "Therefore, the data correction impacts many LGPD relationships as depicted in Figure 12."
   ]
  },
  {
   "cell_type": "markdown",
   "id": "c2d1e593",
   "metadata": {},
   "source": [
    "![DataCorrectionImpact](./img/DataCorrectionImpact.png \"Data Correction Impact\")\n",
    "Fig.12 - Data Correction Impact."
   ]
  },
  {
   "cell_type": "markdown",
   "id": "c4acbc1b",
   "metadata": {},
   "source": [
    "The data correction impacts data processing and data storage, as the personal or sensitive data were changed. Therefore, Data Controllers and Processors should also verify if the copy requested by the Data Subject is the updated personal and sensitive data."
   ]
  },
  {
   "cell_type": "code",
   "execution_count": 43,
   "id": "cb481a4d",
   "metadata": {},
   "outputs": [
    {
     "name": "stdout",
     "output_type": "stream",
     "text": [
      "true."
     ]
    }
   ],
   "source": [
    "% Resetting scenario\n",
    "?-  retract(log('Data Subject requested to change his blood type to A+','Comunicate','Permission',1624712876)),\n",
    "    retract(log('Data Controller has to execute the Data Subject s requerst','Observe','Obligation',1624712876)),\n",
    "    retract(log('Data Controller changed the data as requested by the Data Subject','Comunicate','Compliance',1624712876)),\n",
    "    retract(log('Data Subject confirmed that the data was fixed','Observe','Permission',1624712876)),\n",
    "    retract(log('Data Controller notified all processors regarding the data corretion','Comunicate','Compliance',1624712876)),\n",
    "    retract(dcIsStoringDSData(id(10),dataController(fiocruz),dataSubject(paulo),\n",
    "                    personalData(paulo,976635869),healthData(paulo,'A+'),\n",
    "                    startDate(1622035260),endDate(1637846460))),\n",
    "    assertz(dcIsStoringDSData(id(10),dataController(fiocruz),dataSubject(paulo),\n",
    "                    personalData(paulo,976635869),healthData(paulo,oPlus),\n",
    "                    startDate(1622035260),endDate(1637846460)))."
   ]
  },
  {
   "cell_type": "markdown",
   "id": "89f7c177",
   "metadata": {},
   "source": [
    "----\n",
    "#### Cause-effect: Requesting anonymization\n",
    "\n",
    "Let's picture that the Data Subject requested the data anonymization right. Once the data is anonymized, the Data Controller will not have the resources to give any details about such data, including correction. Hence, after this request, the data controller is **not obligated** to comply with requests that should involve deidentification actions.\n",
    "\n",
    "Also, the controller is **obligated** to inform all processors regarding the anonymization.\n",
    "\n",
    "Here, questions regarding the anonymization algorithms could emerge, but this is not the focus of this work.\n",
    "This work focus on the causes and consequences understanding of possible scenarios.\n",
    "\n",
    "\n",
    "<div>\n",
    "<img src=\"./img/Scenario2.4_Process.png\" width=\"600\"/>\n",
    "</div>\n",
    "Fig.13 - Data Anonymization Process.\n",
    "\n",
    "First, the Data Subject should show that the Data Controller has his data."
   ]
  },
  {
   "cell_type": "code",
   "execution_count": 44,
   "id": "386639b6",
   "metadata": {},
   "outputs": [
    {
     "name": "stdout",
     "output_type": "stream",
     "text": [
      "true."
     ]
    }
   ],
   "source": [
    "?- dcIsStoringDSData(id(10),dataController(fiocruz),dataSubject(paulo),\n",
    "                    personalData(paulo,976635869),healthData(paulo,oPlus),\n",
    "                    startDate(1622035260),endDate(1637846460)),\n",
    "                    \n",
    "    assertz(log('Data Subject requested to anonymize his data','Comunicate','Permission',1624712877))."
   ]
  },
  {
   "cell_type": "markdown",
   "id": "8930e4c8",
   "metadata": {},
   "source": [
    "Next, the Data Controller accomplish the Data Subject request."
   ]
  },
  {
   "cell_type": "code",
   "execution_count": 45,
   "id": "d093fa07",
   "metadata": {},
   "outputs": [
    {
     "name": "stdout",
     "output_type": "stream",
     "text": [
      "true."
     ]
    }
   ],
   "source": [
    "?- dcIsStoringDSData(id(10),dataController(fiocruz),dataSubject(paulo),\n",
    "                    personalData(paulo,976635869),healthData(paulo,oPlus),\n",
    "                    startDate(1622035260),endDate(1637846460)), \n",
    "\n",
    "    retract(dcIsStoringDSData(id(10),dataController(fiocruz),dataSubject(paulo),\n",
    "                    personalData(paulo,976635869),healthData(paulo,oPlus),\n",
    "                    startDate(1622035260),endDate(1637846460))),\n",
    "\n",
    "    assertz(dcIsStoringDSData(id(_),dataController(fiocruz),dataSubject(_),\n",
    "                    personalData(_,_),healthData(_,'A+'),\n",
    "                    startDate(1622035260),endDate(1637846460))),\n",
    "\n",
    "    assertz(log('Data Controller has to execute the Data Subject s request','Delete-Anonymise','Compliance',1624712878)),\n",
    "    assertz(log('Data Controller has to notify all processors regarding the anonymization request','Delete-Anonymise','Compliance',1624712878)),\n",
    "    assertz(log('Data Controller anonymized the Data Subjects data','Delete-Anonymise','Compliance',1624712878)),\n",
    "    assertz(log('Data Subject cannot request data: access, copy, correction,anonymization, \n",
    "            portability, deletion, and details of data sharing','Comunicate','Prohibition',1624712878)),\n",
    "    \n",
    "    retract(dsRight(dataAccess,dataSubject(paulo),dataController(fiocruz))),\n",
    "    retract(dsRight(dataCopy,dataSubject(paulo),dataController(fiocruz))),\n",
    "    retract(dsRight(dataCorrection,dataSubject(paulo),dataController(fiocruz))),\n",
    "    retract(dsRight(dataAnonymization,dataSubject(paulo),dataController(fiocruz))),\n",
    "    retract(dsRight(dataPortability,dataSubject(paulo),dataController(fiocruz))),\n",
    "    retract(dsRight(dataDeletion,dataSubject(paulo),dataController(fiocruz))),\n",
    "    retract(dsRight(dataSharingInformation,dataSubject(paulo),dataController(fiocruz)))."
   ]
  },
  {
   "cell_type": "markdown",
   "id": "e0855f52",
   "metadata": {},
   "source": [
    "Now, the Data Subject's blood type is not associated with any personal data that could identify that such data is from the Data Subject. Hence, the data controller is in **compliance** with LGPD."
   ]
  },
  {
   "cell_type": "code",
   "execution_count": 46,
   "id": "2ff0d1fa",
   "metadata": {},
   "outputs": [
    {
     "name": "stdout",
     "output_type": "stream",
     "text": [
      "DataSubject = Variable(70) ."
     ]
    }
   ],
   "source": [
    "?- dcIsStoringDSData(id(_),dataController(fiocruz),dataSubject(DataSubject),\n",
    "                    personalData(_,_),healthData(_,'A+'),\n",
    "                    startDate(1622035260),endDate(1637846460))."
   ]
  },
  {
   "cell_type": "code",
   "execution_count": 47,
   "id": "db733936",
   "metadata": {},
   "outputs": [
    {
     "name": "stdout",
     "output_type": "stream",
     "text": [
      "Event = Data Subject requested to anonymize his data, Type = Comunicate, DeonticOperator = Permission, Date = 1624712877 ;\n",
      "Event = Data Controller has to execute the Data Subject s request, Type = Delete-Anonymise, DeonticOperator = Compliance, Date = 1624712878 ;\n",
      "Event = Data Controller has to notify all processors regarding the anonymization request, Type = Delete-Anonymise, DeonticOperator = Compliance, Date = 1624712878 ;\n",
      "Event = Data Controller anonymized the Data Subjects data, Type = Delete-Anonymise, DeonticOperator = Compliance, Date = 1624712878 ;\n",
      "Event = Data Subject cannot request data: access, copy, correction,anonymization, portability, deletion, and details of data sharing, Type = Comunicate, DeonticOperator = Prohibition, Date = 1624712878 ."
     ]
    }
   ],
   "source": [
    "?- log(Event,Type,DeonticOperator,Date), Date >= 1624712876 {-1}."
   ]
  },
  {
   "cell_type": "markdown",
   "id": "6055ee75",
   "metadata": {},
   "source": [
    "So, the remain right is the one that every Data Subject has: the right to ask if a Data Controller is processing his/her data."
   ]
  },
  {
   "cell_type": "code",
   "execution_count": 48,
   "id": "46123744",
   "metadata": {},
   "outputs": [
    {
     "name": "stdout",
     "output_type": "stream",
     "text": [
      "RIGHT = processingConfirmation ."
     ]
    }
   ],
   "source": [
    "?- dsRight(RIGHT,dataSubject(paulo),dataController(fiocruz))."
   ]
  },
  {
   "cell_type": "markdown",
   "id": "876ea09a",
   "metadata": {},
   "source": [
    "Therefore, the data anonymization impacts many LGPD relationships, as depicted in Figure 14."
   ]
  },
  {
   "cell_type": "markdown",
   "id": "a68e562c",
   "metadata": {},
   "source": [
    "![DataAnonymizationImpact](./img/DataAnonymizationImpact.png \"Data Anonymization Impact\")\n",
    "Fig.14-  Data anonymization Impact."
   ]
  },
  {
   "cell_type": "markdown",
   "id": "d50d1085",
   "metadata": {},
   "source": [
    "Data anonymization impacts almost all Data Subjects Rights. The anonymization process may turn the personal data not identifiable anymore. Hence, the anonymized data is out of LGPD's scope. In this sense, requests related to data access, deletion, correction, portability, or copy, may not be answered by the Data Controller, as the Controller might not identify the Data Subject anymore."
   ]
  },
  {
   "cell_type": "code",
   "execution_count": 49,
   "id": "ed8d00f4",
   "metadata": {},
   "outputs": [
    {
     "name": "stdout",
     "output_type": "stream",
     "text": [
      "true."
     ]
    }
   ],
   "source": [
    "% Resetting scenario\n",
    "?-  assertz(dcIsStoringDSData(id(10),dataController(fiocruz),dataSubject(paulo),\n",
    "                    personalData(paulo,976635869),healthData(paulo,oPlus),\n",
    "                    startDate(1622035260),endDate(1637846460))),\n",
    "    retract(dcIsStoringDSData(id(_),dataController(fiocruz),dataSubject(_),\n",
    "                    personalData(_,_),healthData(_,'A+'),\n",
    "                    startDate(1622035260),endDate(1637846460))),\n",
    "    retract(log('Data Subject requested to anonymize his data','Comunicate','Permission',1624712877)),\n",
    "    retract(log('Data Controller has to execute the Data Subject s request','Delete-Anonymise','Compliance',1624712878)),\n",
    "    retract(log('Data Controller has to notify all processors regarding the anonymization request','Delete-Anonymise','Compliance',1624712878)),\n",
    "    retract(log('Data Controller anonymized the Data Subjects data','Delete-Anonymise','Compliance',1624712878)),\n",
    "    retract(log('Data Subject cannot request data: access, copy, correction,anonymization, \n",
    "            portability, deletion, and details of data sharing','Comunicate','Prohibition',1624712878)),\n",
    "    assertz(dsRight(dataAccess,dataSubject(paulo),dataController(fiocruz))),\n",
    "    assertz(dsRight(dataCopy,dataSubject(paulo),dataController(fiocruz))),\n",
    "    assertz(dsRight(dataCorrection,dataSubject(paulo),dataController(fiocruz))),\n",
    "    assertz(dsRight(dataAnonymization,dataSubject(paulo),dataController(fiocruz))),\n",
    "    assertz(dsRight(dataPortability,dataSubject(paulo),dataController(fiocruz))),\n",
    "    assertz(dsRight(dataDeletion,dataSubject(paulo),dataController(fiocruz))),\n",
    "    assertz(dsRight(dataSharingInformation,dataSubject(paulo),dataController(fiocruz)))."
   ]
  },
  {
   "cell_type": "markdown",
   "id": "ecba5029",
   "metadata": {},
   "source": [
    "----\n",
    "#### Cause-effect: Data deletion"
   ]
  },
  {
   "cell_type": "markdown",
   "id": "8f31665e",
   "metadata": {},
   "source": [
    "As mentioned before, there is more than one definition for data deletion. In the case aforementioned, we anonymized the data, which can be considered as data deletion. Now, let's picture that the Data Subject Paulo wants to destroy his data from the Fiocruz database. \n",
    "\n",
    "However, the LGPD foresees some situations that the Data Controller can persist the personal data even with an explicit request to delete from the Data Subject.\n",
    "\n",
    "The following purposes, also described in LGPD art. 16, legitimizes, i.e., **allow** the Data Controller to have still the personal data stored in the database:\n",
    " - I - compliance with a legal or regulatory obligation by the controller;\n",
    " - II - study by a research institution, ensuring, whenever possible, the anonymization of personal data;\n",
    " - III - transfer to a third party, provided that the data processing requirements set out in this Law is respected; or\n",
    " - IV - exclusive use of the controller, its access by a third party is prohibited, and anonymization is required as well."
   ]
  },
  {
   "cell_type": "markdown",
   "id": "e59e67fd",
   "metadata": {},
   "source": [
    "<div>\n",
    "<img src=\"./img/Scenario2_DataDeletion.png\" width=\"600\"/>\n",
    "</div>\n",
    "Fig.15 - Data Deletion Process."
   ]
  },
  {
   "cell_type": "markdown",
   "id": "03fff1f7",
   "metadata": {},
   "source": [
    "As the Fiocruz purpose is based on the research; hence, Fiocruz can reject the Data Subject request."
   ]
  },
  {
   "cell_type": "code",
   "execution_count": 50,
   "id": "a775aa85",
   "metadata": {},
   "outputs": [
    {
     "name": "stdout",
     "output_type": "stream",
     "text": [
      "Purpose = research ."
     ]
    }
   ],
   "source": [
    "?- purpose(fiocruz,paulo,Purpose)."
   ]
  },
  {
   "cell_type": "markdown",
   "id": "515afe66",
   "metadata": {},
   "source": [
    "In order to specify the rule that defines if the Data Controller has the right to keep the Data Subject's data, we developed the following function."
   ]
  },
  {
   "cell_type": "code",
   "execution_count": 51,
   "id": "4d8de40d",
   "metadata": {},
   "outputs": [
    {
     "name": "stdout",
     "output_type": "stream",
     "text": []
    }
   ],
   "source": [
    "% Description: This function verifies if the Data Controller purpose is elegible to hold the Data Subject's data.\n",
    "% This function receives the params:\n",
    "%  i. Data Subject\n",
    "% ii. Data Controller\n",
    "\n",
    "verifyIfDCCanHoldDSData(dataController(DC),dataSubject(DS)) :-\n",
    "    purpose(DC,DS,legalObligation), assertz(dcCanHoldData(dataController(DC),dataSubject(DS)));\n",
    "    purpose(DC,DS,research), assertz(dcCanHoldData(dataController(DC),dataSubject(DS)));\n",
    "    purpose(DC,DS,transferToThirdParty), assertz(dcCanHoldData(dataController(DC),dataSubject(DS)));\n",
    "    purpose(DC,DS,exclusiveDCUse), assertz(dcCanHoldData(dataController(DC),dataSubject(DS)));\n",
    "    assertz(dcCanHoldData('',''))."
   ]
  },
  {
   "cell_type": "markdown",
   "id": "ee6de86b",
   "metadata": {},
   "source": [
    "So, let's run the above function to verify if a new fact is generated informing that the Data Controller can hold de Data Subject's data."
   ]
  },
  {
   "cell_type": "code",
   "execution_count": 52,
   "id": "7154aa75",
   "metadata": {},
   "outputs": [
    {
     "name": "stdout",
     "output_type": "stream",
     "text": [
      " ;\n",
      " ."
     ]
    }
   ],
   "source": [
    "?- verifyIfDCCanHoldDSData(dataController(fiocruz),dataSubject(paulo))."
   ]
  },
  {
   "cell_type": "markdown",
   "id": "3fabdba6",
   "metadata": {},
   "source": [
    "Then, let's verify if such a fact was generated."
   ]
  },
  {
   "cell_type": "code",
   "execution_count": 53,
   "id": "0dcb3074",
   "metadata": {},
   "outputs": [
    {
     "name": "stdout",
     "output_type": "stream",
     "text": [
      "true."
     ]
    }
   ],
   "source": [
    "?- dcCanHoldData(dataController(fiocruz),dataSubject(paulo))."
   ]
  },
  {
   "cell_type": "markdown",
   "id": "251f1922",
   "metadata": {},
   "source": [
    "In this sense, let's simulate the request for data deletion from the Data Subject Paulo to the Data Controller Fiocruz."
   ]
  },
  {
   "cell_type": "code",
   "execution_count": 54,
   "id": "10ac9091",
   "metadata": {},
   "outputs": [
    {
     "name": "stdout",
     "output_type": "stream",
     "text": []
    }
   ],
   "source": [
    "log('Data Subject requested to delete his data','Comunicate','Permission',1624712877)."
   ]
  },
  {
   "cell_type": "code",
   "execution_count": 55,
   "id": "61c9e45a",
   "metadata": {},
   "outputs": [
    {
     "name": "stdout",
     "output_type": "stream",
     "text": []
    }
   ],
   "source": [
    "log('Data Controller received the data deletion request and will evaluate the solicitation','Comunicate','Compliance',1624712878)."
   ]
  },
  {
   "cell_type": "code",
   "execution_count": 56,
   "id": "541e5c4c",
   "metadata": {},
   "outputs": [
    {
     "name": "stdout",
     "output_type": "stream",
     "text": [
      "true."
     ]
    }
   ],
   "source": [
    "?- dcCanHoldData(dataController(fiocruz),dataSubject(paulo)),\n",
    "    \n",
    "    assertz(log('Data Controller can hold the data because its purpose allows it.','Observe','Permission',1624712879)),\n",
    "\n",
    "    assertz(log('Data Controller decided to keep the data on the database.','Comunicate','Compliance',1624712880))."
   ]
  },
  {
   "cell_type": "code",
   "execution_count": 57,
   "id": "14724c28",
   "metadata": {},
   "outputs": [
    {
     "name": "stdout",
     "output_type": "stream",
     "text": []
    }
   ],
   "source": [
    "% Description: This function defines delete the Data Subject's data if the Data Controller is allowed to do that.\n",
    "% This function receives the params:\n",
    "%    i. Data Subject\n",
    "%   ii. Data Controller\n",
    "%  iii. Date Time\n",
    "\n",
    "\n",
    "requestToDeleteDSData(dataSubject(DS),dataController(DC),date(DT)) :- \n",
    " not(dcCanHoldData(dataController(DC),dataSubject(DS))),\n",
    " assertz(log('Data Controller has to delete the data.','Comunicate','Obligation',DT))."
   ]
  },
  {
   "cell_type": "code",
   "execution_count": 58,
   "id": "a6b2a066",
   "metadata": {},
   "outputs": [
    {
     "name": "stdout",
     "output_type": "stream",
     "text": [
      "false."
     ]
    }
   ],
   "source": [
    "?- requestToDeleteDSData(dataSubject(paulo),dataController(fiocruz),date(1624712881))."
   ]
  },
  {
   "cell_type": "markdown",
   "id": "4c83e9fd",
   "metadata": {},
   "source": [
    "Why 1: This method returned false because the Data Controller can hold the Data Subject's data, as presented bellow."
   ]
  },
  {
   "cell_type": "code",
   "execution_count": 59,
   "id": "c4ad5b58",
   "metadata": {},
   "outputs": [
    {
     "name": "stdout",
     "output_type": "stream",
     "text": [
      "true."
     ]
    }
   ],
   "source": [
    "?-  dcCanHoldData(dataController(fiocruz),dataSubject(paulo))."
   ]
  },
  {
   "cell_type": "markdown",
   "id": "f6c6f7df",
   "metadata": {},
   "source": [
    "Why 2: The Data Controller can hold personal data because it will be used for research purposes."
   ]
  },
  {
   "cell_type": "code",
   "execution_count": 60,
   "id": "6308c253",
   "metadata": {},
   "outputs": [
    {
     "name": "stdout",
     "output_type": "stream",
     "text": [
      "DC = fiocruz, Purpose = research ."
     ]
    }
   ],
   "source": [
    "?- purpose(DC,paulo,Purpose)."
   ]
  },
  {
   "cell_type": "markdown",
   "id": "cae27e3b",
   "metadata": {},
   "source": [
    "It means that the purpose presented by the Data Controller is valid to **permits** that Fiocruz holds the Data Subject's data. However, it is important to note that LGPD recommends anonymizing data in these cases."
   ]
  },
  {
   "cell_type": "code",
   "execution_count": 55,
   "id": "fbdf9f95",
   "metadata": {},
   "outputs": [
    {
     "name": "stdout",
     "output_type": "stream",
     "text": [
      "Event = Data Subject requested to delete his data, Type = Comunicate, DeonticOperator = Permission, Date = 1624712877 ;\n",
      "Event = Data Controller received the data deletion request and will evaluate the solicitation, Type = Comunicate, DeonticOperator = Compliance, Date = 1624712878 ;\n",
      "Event = Data Controller can hold the data because its purpose allows it., Type = Observe, DeonticOperator = Permission, Date = 1624712879 ;\n",
      "Event = Data Controller decided to keep the data on the database., Type = Comunicate, DeonticOperator = Compliance, Date = 1624712880 ."
     ]
    }
   ],
   "source": [
    "?- log(Event,Type,DeonticOperator,Date), Date >= 1624712876 {-1}."
   ]
  },
  {
   "cell_type": "markdown",
   "id": "1c0d4fe1",
   "metadata": {},
   "source": [
    "Therefore, as depicted in Figure 16, the request for data deletion may impacts differently depending on the purpose limitation. For example, the data storage may have to anonymize the data. Moreover, if the data was deleted or anonymized, the Data Controller cannot achieve requests related to data correction, portability, and copy anymore."
   ]
  },
  {
   "cell_type": "markdown",
   "id": "3ac906a8",
   "metadata": {},
   "source": [
    "![DataDeletionImpact](./img/DataDeletionImpact.png \"Data Deletion Impact\")\n",
    "Fig.16 - Data Deletion Impact."
   ]
  },
  {
   "cell_type": "code",
   "execution_count": 56,
   "id": "572c79a3",
   "metadata": {},
   "outputs": [
    {
     "name": "stdout",
     "output_type": "stream",
     "text": [
      "true."
     ]
    }
   ],
   "source": [
    "% Resetting scenario\n",
    "?-  retract(dcCanHoldData(dataController(fiocruz),dataSubject(paulo))),\n",
    "    retract(log('Data Subject requested to delete his data','Comunicate','Permission',1624712877)),\n",
    "    retract(log('Data Controller received the data deletion request and will evaluate the solicitation',\n",
    "        'Comunicate','Compliance',1624712878)),\n",
    "    retract(log('Data Controller can hold the data because its purpose allows it.','Observe','Permission',1624712879)),\n",
    "    retract(log('Data Controller decided to keep the data on the database.','Comunicate','Compliance',1624712880))."
   ]
  },
  {
   "cell_type": "markdown",
   "id": "da157333",
   "metadata": {},
   "source": [
    "----\n",
    "#### Cause-effect: Technology unavailability\n",
    "\n",
    "Companies are vulnerable to technical fault, unavailability, or security breach. In this sense, Data Subjects might be impacted by technology throubles, or not. In some cases, the technology unavailability may not impact Data Subjects, but only internal companies' processes.\n",
    "\n",
    "In this scenario, we will simulate an event of technology unavailability, i.e., let's picture that Fiocruz cloud server, which has the personal data storage, is offline. Internally, Fiocruz suffered a high impact of this unavailability; all systems that depend on this database are offline, i.e., the internal data governance is jeopardized/ compromised.\n",
    "\n",
    "Figure 17 depicts the impact of system unavailability."
   ]
  },
  {
   "cell_type": "markdown",
   "id": "9f3d7033",
   "metadata": {},
   "source": [
    "![DataUnavailabilityImpact](./img/DataUnavailabilityImpact.png \"Data Unavilability Impact\")\n",
    "Fig.17 - Data Unavailability Impact."
   ]
  },
  {
   "cell_type": "markdown",
   "id": "1337b002",
   "metadata": {},
   "source": [
    "Besides the governance, data unavailability may impacts directly the users' rights. For example, without the system, the Data Controller and Processor cannot delete or execute data corrections. Moreover, if a Data Controller requests for portability, anonymization, or portability, the Data Controller will not be able to attend to such requests as fast as expected; a considerable delay is expected, instead. Furthermore, depending on the delay, fines can be applied, but they should be evaluated case-by-case."
   ]
  },
  {
   "cell_type": "markdown",
   "id": "81ded592",
   "metadata": {},
   "source": [
    "----\n",
    "#### Cause-effect: Data portability\n"
   ]
  },
  {
   "cell_type": "markdown",
   "id": "e34d49b1",
   "metadata": {},
   "source": [
    "Data portability can be explored at least in two ways. First, as cellphone companies, data portability means migrating the data subject phone number to another company. The client information should be migrated from one company to another. Second, like streaming video companies, data portability may mean just the act of copying the data to another company. Both companies would have the same client data at the moment of data portability request. \n",
    "\n",
    "In our scenario, let's define that data portability acts like the second case. The Data Subject wants to share his personal data with Butantan, another health institution. But, first, the Data Subject has to accept the Butantan's consent term and then ask Fiocruz to send a copy of his data.\n",
    "In this sense, Fiocruz is **obligated** to comply with such request and send the requested information. \n",
    "\n",
    "<div>\n",
    "<img src=\"./img/Scenario2_DataPortability.png\" width=\"800\"/>\n",
    "</div>\n",
    "Fig.17 - Data Portability Process."
   ]
  },
  {
   "cell_type": "markdown",
   "id": "a8347841",
   "metadata": {},
   "source": [
    "In this sense, lets create the consent term from Butantan to Paulo."
   ]
  },
  {
   "cell_type": "code",
   "execution_count": 57,
   "id": "e6c2789a",
   "metadata": {},
   "outputs": [
    {
     "name": "stdout",
     "output_type": "stream",
     "text": [
      "true."
     ]
    }
   ],
   "source": [
    "?- createConsentTerm(butantan,paulo,\"Cellphone number to be informed by data portability\",\"Blood type to be informed by data portability\",research,\n",
    "                'genetic_factors_related_to_COVID-19',\n",
    "                'statistic_analysis',\n",
    "                15811200,\n",
    "                'vaccination_priorization',\n",
    "                'e-mail',\n",
    "                'lgpd@butantan.br',\n",
    "                'SHA256',\n",
    "                'Authorized researchers can access the data only',\n",
    "                'Fiocruz private cloud')."
   ]
  },
  {
   "cell_type": "code",
   "execution_count": 58,
   "id": "9274ddf5",
   "metadata": {},
   "outputs": [
    {
     "name": "stdout",
     "output_type": "stream",
     "text": [
      "true."
     ]
    }
   ],
   "source": [
    "% This function defines the right to request processing confirmation to the Data Subject\n",
    "\n",
    "dsRight(processingConfirmation,dataSubject(paulo),dataController(butantan)).\n",
    "?- assertz(log('Data Subject can ask if the Data Controller is processing his/her data','Observe','Permission',1624712876))."
   ]
  },
  {
   "cell_type": "code",
   "execution_count": 59,
   "id": "79c7cefc",
   "metadata": {},
   "outputs": [
    {
     "name": "stdout",
     "output_type": "stream",
     "text": [
      "EndDate = 1637846470 ."
     ]
    }
   ],
   "source": [
    "?- checkConsentTerm(dataController(butantan),\n",
    "                        dataSubject(paulo),\n",
    "                        purpose(butantan,research),\n",
    "                        'genetic_factors_related_to_COVID-19',\n",
    "                        'statistic_analysis',\n",
    "                        15811200,\n",
    "                        'vaccination_priorization',\n",
    "                        'e-mail',\n",
    "                        'lgpd@butantan.br',\n",
    "                        1622035270),\n",
    "    \n",
    "    setThatdsAgreeWithConsentTerms(id(11),\n",
    "                                dataSubject(paulo),\n",
    "                                dataController(butantan),\n",
    "                                personalData(paulo,\"Cellphone number to be informed by data portability\"),\n",
    "                                healthData(paulo,\"Blood type to be informed by data portability\"),\n",
    "                                startDate(1622035270),\n",
    "                                endDate(EndDate)), EndDate is 1622035270+15811200,\n",
    "\n",
    "    setDSRights(dataSubject(paulo),dataController(butantan),startDate(1622035270)),\n",
    "    \n",
    "    dcIsStoringDSData(id(11),dataController(butantan),dataSubject(paulo),\n",
    "                    personalData(paulo,\"Cellphone number to be informed by data portability\"),\n",
    "                    healthData(paulo,\"Blood type to be informed by data portability\"),\n",
    "                    startDate(1622035270),endDate(1637846470))."
   ]
  },
  {
   "cell_type": "markdown",
   "id": "f8cae545",
   "metadata": {},
   "source": [
    "Now, the Data Subject requests data portability from Fiocruz to Butantan, which means a data copy from one institution to another."
   ]
  },
  {
   "cell_type": "code",
   "execution_count": 60,
   "id": "2c12a76e",
   "metadata": {},
   "outputs": [
    {
     "name": "stdout",
     "output_type": "stream",
     "text": [
      "true."
     ]
    }
   ],
   "source": [
    "?- assertz(log('Data Subject requestested data portability from Fiocruz to Butantan','Comunicate','Obligation',1624712877))."
   ]
  },
  {
   "cell_type": "code",
   "execution_count": 61,
   "id": "e9358daa",
   "metadata": {},
   "outputs": [
    {
     "name": "stdout",
     "output_type": "stream",
     "text": [
      "true.\n",
      "true.\n",
      "true.\n",
      "true."
     ]
    }
   ],
   "source": [
    "?- \n",
    "\n",
    "% First, Fiocruz should have the right to store Paulo s data.\n",
    "\n",
    "    dcIsStoringDSData(id(10),dataController(fiocruz),dataSubject(paulo),\n",
    "                    personalData(paulo,976635869),healthData(paulo,oPlus),\n",
    "                    startDate(1622035260),endDate(1637846460)). \n",
    "                    \n",
    "?-\n",
    "% As the Data Subject agreed with the consent term, the Data Controller has the right to store the DS personal data.\n",
    "\n",
    "    dcIsStoringDSData(id(11),dataController(butantan),dataSubject(paulo),\n",
    "                    personalData(paulo,\"Cellphone number to be informed by data portability\"),\n",
    "                    healthData(paulo,\"Blood type to be informed by data portability\"),\n",
    "                    startDate(1622035270),endDate(1624712870)).\n",
    "                    \n",
    "?- \n",
    "% Next, we have to update the Butantan s database with data with the data sent from Fiocruz. \n",
    "    retract(dcIsStoringDSData(id(11),dataController(butantan),dataSubject(paulo),\n",
    "                    personalData(paulo,\"Cellphone number to be informed by data portability\"),\n",
    "                    healthData(paulo,\"Blood type to be informed by data portability\"),\n",
    "                    startDate(1622035270),endDate(1624712870))),\n",
    "                    \n",
    "    assertz(dcIsStoringDSData(id(11),dataController(butantan),dataSubject(paulo),\n",
    "                    personalData(paulo,976635869),healthData(paulo,oPlus),\n",
    "                    startDate(1622035270),endDate(1624712870))).\n",
    "\n",
    "?- \n",
    "% Last but not least, the following log registered the action log.\n",
    "                    \n",
    "    assertz(log('Data Controller Fiocruz achived the Data Subject request','Comunicate','Obligation',1624712878)),\n",
    "    \n",
    "    assertz(log('Data Subject should check if the data are correct','Observe','Permission',1624712879)).\n",
    "                "
   ]
  },
  {
   "cell_type": "code",
   "execution_count": 62,
   "id": "41c21d94",
   "metadata": {},
   "outputs": [
    {
     "name": "stdout",
     "output_type": "stream",
     "text": [
      "Event = Data Subject can ask if the Data Controller is processing his/her data, Type = Observe, DeonticOperator = Permission, Date = 1624712876 ;\n",
      "Event = Data Subject requestested data portability from Fiocruz to Butantan, Type = Comunicate, DeonticOperator = Obligation, Date = 1624712877 ;\n",
      "Event = Data Controller Fiocruz achived the Data Subject request, Type = Comunicate, DeonticOperator = Obligation, Date = 1624712878 ;\n",
      "Event = Data Subject should check if the data are correct, Type = Observe, DeonticOperator = Permission, Date = 1624712879 ."
     ]
    }
   ],
   "source": [
    "?- log(Event,Type,DeonticOperator,Date), Date >= 1624712876 {-1}."
   ]
  },
  {
   "cell_type": "markdown",
   "id": "7c247232",
   "metadata": {},
   "source": [
    "In this sense, as the new relationship between Paulo and Butantan requires a new consent term, all relationships are impacted, as depicted in Figure 16.\n",
    "\n",
    "![DataPortabilityImpact](./img/DataPortabilityImpact.png \"Data Portability Impact\")\n",
    "Fig.17 - Data Portability Impact."
   ]
  },
  {
   "cell_type": "markdown",
   "id": "f7a16bf5",
   "metadata": {},
   "source": [
    "Finally, let's check who has the Paulo's data."
   ]
  },
  {
   "cell_type": "code",
   "execution_count": 63,
   "id": "e5fb8ebf",
   "metadata": {},
   "outputs": [
    {
     "name": "stdout",
     "output_type": "stream",
     "text": [
      "ID = 10, DataController = fiocruz, StartDate = 1622035260, EndDate = 1637846460 ;\n",
      "ID = 11, DataController = butantan, StartDate = 1622035270, EndDate = 1624712870 ."
     ]
    }
   ],
   "source": [
    "?- dcIsStoringDSData(id(ID),dataController(DataController),dataSubject(paulo),\n",
    "                    personalData(paulo,976635869),healthData(paulo,oPlus),\n",
    "                    startDate(StartDate),endDate(EndDate))."
   ]
  }
 ],
 "metadata": {
  "kernelspec": {
   "display_name": "SWI-Prolog",
   "language": "",
   "name": "jswipl"
  },
  "language_info": {
   "mimetype": "text/plain",
   "name": "swipl"
  }
 },
 "nbformat": 4,
 "nbformat_minor": 5
}
