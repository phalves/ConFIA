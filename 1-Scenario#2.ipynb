{
 "cells": [
  {
   "cell_type": "markdown",
   "id": "2dba5670",
   "metadata": {},
   "source": [
    "### Scenario 2 - Data Subject agrees with the Data Controller consent term, but then revoke his/her consent."
   ]
  },
  {
   "cell_type": "markdown",
   "id": "598222fa",
   "metadata": {},
   "source": [
    "#### Set consent term."
   ]
  },
  {
   "cell_type": "markdown",
   "id": "e030a8e9",
   "metadata": {},
   "source": [
    "The Data Subject Paulo allows the Data Controller Fiocruz to access, store, and process his personal data and his health data with the purpose to perform research regarding genetic factors related to COVID-19 using statistical analysis for 180 days.\n",
    "<p>The Data Controller is allowed to share the Data Subject data only with the vaccination priorization purpose.</p>\n",
    "<p>To do any request, please use the Data Controller communication channel by email lgpd@fiocruz.br.</p>\n",
    "<p>PS: The Data Controllers must inform in any case if they are processing the personal data, if requested. </p>\n"
   ]
  },
  {
   "cell_type": "code",
   "execution_count": 1,
   "id": "7bc79718",
   "metadata": {},
   "outputs": [
    {
     "name": "stdout",
     "output_type": "stream",
     "text": []
    }
   ],
   "source": [
    "dataSubject(paulo)."
   ]
  },
  {
   "cell_type": "code",
   "execution_count": 2,
   "id": "5ad706aa",
   "metadata": {},
   "outputs": [
    {
     "name": "stdout",
     "output_type": "stream",
     "text": []
    }
   ],
   "source": [
    "dataController(fiocruz)."
   ]
  },
  {
   "cell_type": "code",
   "execution_count": 3,
   "id": "4287ec2b",
   "metadata": {},
   "outputs": [
    {
     "name": "stdout",
     "output_type": "stream",
     "text": []
    }
   ],
   "source": [
    "personalData(paulo,976635869)."
   ]
  },
  {
   "cell_type": "code",
   "execution_count": 4,
   "id": "84e309e7",
   "metadata": {},
   "outputs": [
    {
     "name": "stdout",
     "output_type": "stream",
     "text": []
    }
   ],
   "source": [
    "healthData(paulo, oPlus)."
   ]
  },
  {
   "cell_type": "code",
   "execution_count": 5,
   "id": "d8d2a3b5",
   "metadata": {},
   "outputs": [
    {
     "name": "stdout",
     "output_type": "stream",
     "text": []
    }
   ],
   "source": [
    "purpose(fiocruz,paulo,research)."
   ]
  },
  {
   "cell_type": "code",
   "execution_count": 6,
   "id": "2a294882",
   "metadata": {},
   "outputs": [
    {
     "name": "stdout",
     "output_type": "stream",
     "text": []
    }
   ],
   "source": [
    "specificPurpose(fiocruz,paulo,research,'genetic_factors_related_to_COVID-19')."
   ]
  },
  {
   "cell_type": "code",
   "execution_count": 7,
   "id": "b28281ae",
   "metadata": {},
   "outputs": [
    {
     "name": "stdout",
     "output_type": "stream",
     "text": []
    }
   ],
   "source": [
    "form(fiocruz,paulo,research,'genetic_factors_related_to_COVID-19','statistic_analysis')."
   ]
  },
  {
   "cell_type": "code",
   "execution_count": 8,
   "id": "cad7c749",
   "metadata": {},
   "outputs": [
    {
     "name": "stdout",
     "output_type": "stream",
     "text": []
    }
   ],
   "source": [
    "timeLength(fiocruz,paulo,research,'genetic_factors_related_to_COVID-19',180)."
   ]
  },
  {
   "cell_type": "code",
   "execution_count": 9,
   "id": "66203b57",
   "metadata": {},
   "outputs": [
    {
     "name": "stdout",
     "output_type": "stream",
     "text": []
    }
   ],
   "source": [
    "thirdyPartySharingPurpose(fiocruz,paulo,research,'genetic_factors_related_to_COVID-19',180,'vaccination_priorization')."
   ]
  },
  {
   "cell_type": "code",
   "execution_count": 10,
   "id": "6dff3755",
   "metadata": {},
   "outputs": [
    {
     "name": "stdout",
     "output_type": "stream",
     "text": []
    }
   ],
   "source": [
    "channelToProvideInformation(fiocruz,paulo,'e-mail','lgpd@fiocruz.br')."
   ]
  },
  {
   "cell_type": "code",
   "execution_count": 11,
   "id": "027715ee",
   "metadata": {},
   "outputs": [
    {
     "name": "stdout",
     "output_type": "stream",
     "text": []
    }
   ],
   "source": [
    "dsRight(processingConfirmation,dataSubject(paulo),dataController(fiocruz))."
   ]
  },
  {
   "cell_type": "markdown",
   "id": "174b3fb3",
   "metadata": {},
   "source": [
    "Data Subject agrees with the Data Controller consent term."
   ]
  },
  {
   "cell_type": "markdown",
   "id": "f06757c0",
   "metadata": {},
   "source": [
    "First, the Data Subject verifies if all the crutial elements are described in the consent term present by the Data Controller"
   ]
  },
  {
   "cell_type": "code",
   "execution_count": 12,
   "id": "9a29c4ee",
   "metadata": {},
   "outputs": [
    {
     "name": "stdout",
     "output_type": "stream",
     "text": []
    }
   ],
   "source": [
    "checkConsentTerm(dataController(DC),\n",
    "\t\t\t\tdataSubject(DS),\n",
    "\t\t\t\tpurpose(DC,Purpose),\n",
    "\t\t\t\tSpecificPurpose,\n",
    "\t\t\t\tForm,\n",
    "\t\t\t\tTimeLength,\n",
    "\t\t\t\tThirdPartyPurpose,\n",
    "\t\t\t\tChannel,\n",
    "\t\t\t\tDCContact) :-\n",
    "\t(\n",
    "\t\tform(DC,DS,Purpose,SpecificPurpose,Form),\n",
    "\t\ttimeLength(DC,DS,Purpose,SpecificPurpose,TimeLength),\n",
    "\t\tthirdyPartySharingPurpose(DC,DS,Purpose,SpecificPurpose,TimeLength,ThirdPartyPurpose),\n",
    "\t\tchannelToProvideInformation(DC,DS,Channel,DCContact),\n",
    "\t\tpurpose(DC,DS,Purpose),\n",
    "\t\tspecificPurpose(DC,DS,Purpose,SpecificPurpose),\n",
    "\t\tassertz(consentTermOk(dataController(DC),dataSubject(DS)))\n",
    "\t)."
   ]
  },
  {
   "cell_type": "code",
   "execution_count": 13,
   "id": "0c30406f",
   "metadata": {},
   "outputs": [
    {
     "name": "stdout",
     "output_type": "stream",
     "text": [
      "true."
     ]
    }
   ],
   "source": [
    "?- checkConsentTerm(dataController(fiocruz),dataSubject(paulo),purpose(fiocruz,research),\n",
    "'genetic_factors_related_to_COVID-19','statistic_analysis',180,'vaccination_priorization','e-mail','lgpd@fiocruz.br')."
   ]
  },
  {
   "cell_type": "markdown",
   "id": "2364d019",
   "metadata": {},
   "source": [
    "If ok, the Data Subject decides to agree with the presented terms."
   ]
  },
  {
   "cell_type": "code",
   "execution_count": 14,
   "id": "56ad4032",
   "metadata": {},
   "outputs": [
    {
     "name": "stdout",
     "output_type": "stream",
     "text": []
    }
   ],
   "source": [
    "setThatdsAgreeWithConsentTerms(id(ID),dataSubject(DS),\n",
    "                                dataController(DC),\n",
    "                                personalData(DS,PData),\n",
    "                                healthData(DS,HData)) :-\n",
    "\tconsentTermOk(dataController(DC),dataSubject(DS)),\n",
    "\tassertz(dsAgreeWithConsentTerms(dataSubject(DS),dataController(DC))),\n",
    "\tassertz(dcCanCollectStoreAndProcessDSData(dataController(DC),dataSubject(DS))),\n",
    "   \tassertz(dcIsProcessingDSData(id(ID),dataController(DC),dataSubject(DS),personalData(DS,PData),healthData(DS,HData))),\n",
    "   \tassertz(dcIsCollectingDSData(id(ID),dataController(DC),dataSubject(DS),personalData(DS,PData),healthData(DS,HData))).\n"
   ]
  },
  {
   "cell_type": "code",
   "execution_count": 15,
   "id": "08b164c9",
   "metadata": {},
   "outputs": [
    {
     "name": "stdout",
     "output_type": "stream",
     "text": [
      "true."
     ]
    }
   ],
   "source": [
    "?- setThatdsAgreeWithConsentTerms(id(10),dataSubject(paulo),dataController(fiocruz),personalData(paulo,976635869),healthData(paulo,oPlus))."
   ]
  },
  {
   "cell_type": "markdown",
   "id": "0248cdc8",
   "metadata": {},
   "source": [
    "Now, the Data Controller can collect, store and process the Data Subject's data."
   ]
  },
  {
   "cell_type": "code",
   "execution_count": 16,
   "id": "aad899c9",
   "metadata": {},
   "outputs": [
    {
     "name": "stdout",
     "output_type": "stream",
     "text": []
    }
   ],
   "source": [
    "dcCanCollectStoreAndPRocessDSData(dataController(DC),dataSubject(DS)) :- \n",
    "    dsAgreeWithConsentTerms(dataSubject(DS),dataController(DC)),\n",
    "    assertz(dcCanCollectStoreAndProcessDSData(dataController(DC),dataSubject(DS)));\n",
    "    not(dsAgreeWithConsentTerms(dataSubject(DS),dataController(DC))),\n",
    "    assertz(dcCanCollectStoreAndProcessDSData(dataController(''),dataSubject('')))."
   ]
  },
  {
   "cell_type": "code",
   "execution_count": 17,
   "id": "7a9b62ee",
   "metadata": {},
   "outputs": [
    {
     "name": "stdout",
     "output_type": "stream",
     "text": [
      "true."
     ]
    }
   ],
   "source": [
    "?- dcCanCollectStoreAndProcessDSData(dataController(fiocruz),dataSubject(paulo))."
   ]
  },
  {
   "cell_type": "markdown",
   "id": "079be990",
   "metadata": {},
   "source": [
    "And the Data Subject is able to request his/her other rights."
   ]
  },
  {
   "cell_type": "code",
   "execution_count": 18,
   "id": "f689d793",
   "metadata": {},
   "outputs": [
    {
     "name": "stdout",
     "output_type": "stream",
     "text": []
    }
   ],
   "source": [
    "setDSRights(dataSubject(DS),dataController(DC)) :-\n",
    "\tassertz(dsRight(dataAccess,dataSubject(DS),dataController(DC))),\n",
    "\tassertz(dsRight(dataCopy,dataSubject(DS),dataController(DC))),\n",
    "\tassertz(dsRight(dataCorrection,dataSubject(DS),dataController(DC))),\n",
    "\tassertz(dsRight(dataAnonimization,dataSubject(DS),dataController(DC))),\n",
    "\tassertz(dsRight(dataPortability,dataSubject(DS),dataController(DC))),\n",
    "\tassertz(dsRight(dataDeletion,dataSubject(DS),dataController(DC))),\n",
    "\tassertz(dsRight(dataSharingInformation,dataSubject(DS),dataController(DC))),\n",
    "\tassertz(dsRight(requestConsentRevokation,dataSubject(DS),dataController(DC)))."
   ]
  },
  {
   "cell_type": "code",
   "execution_count": 19,
   "id": "d23962ea",
   "metadata": {},
   "outputs": [
    {
     "name": "stdout",
     "output_type": "stream",
     "text": [
      "true."
     ]
    }
   ],
   "source": [
    "?- setDSRights(dataSubject(paulo),dataController(fiocruz))."
   ]
  },
  {
   "cell_type": "markdown",
   "id": "ee33ba60",
   "metadata": {},
   "source": [
    "#### However, the Data Subject decides to revoke his consent."
   ]
  },
  {
   "cell_type": "code",
   "execution_count": 20,
   "id": "a0ec4159",
   "metadata": {},
   "outputs": [
    {
     "name": "stdout",
     "output_type": "stream",
     "text": []
    }
   ],
   "source": [
    "setDSRevokeConsent(id(ID),dataSubject(DS),dataController(DC),personalData(DS,PData),healthData(DS,HData)) :-\n",
    "\tretract(dsRight(requestConsentRevokation,dataSubject(DS),dataController(DC))),\n",
    "   \tretract(dcIsCollectingDSData(id(ID),dataController(DC),dataSubject(DS),personalData(DS,PData),healthData(DS,HData)))."
   ]
  },
  {
   "cell_type": "code",
   "execution_count": 21,
   "id": "3c113b41",
   "metadata": {},
   "outputs": [
    {
     "name": "stdout",
     "output_type": "stream",
     "text": [
      "true."
     ]
    }
   ],
   "source": [
    "?- setDSRevokeConsent(id(10),dataSubject(paulo),dataController(fiocruz),personalData(paulo,976635869),healthData(paulo,oPlus))."
   ]
  },
  {
   "cell_type": "markdown",
   "id": "4283b37f",
   "metadata": {},
   "source": [
    "#### Questions to ask"
   ]
  },
  {
   "cell_type": "markdown",
   "id": "6239f32d",
   "metadata": {},
   "source": [
    "Are the fiocruz data controller using the data subject Paulo's data? "
   ]
  },
  {
   "cell_type": "code",
   "execution_count": 22,
   "id": "b31d83d3",
   "metadata": {},
   "outputs": [
    {
     "name": "stdout",
     "output_type": "stream",
     "text": [
      "true."
     ]
    }
   ],
   "source": [
    "?- dsRight(processingConfirmation,dataSubject(paulo),dataController(fiocruz))."
   ]
  },
  {
   "cell_type": "markdown",
   "id": "0cc10cfe",
   "metadata": {},
   "source": [
    "What are the Data Subject rights right now?"
   ]
  },
  {
   "cell_type": "code",
   "execution_count": 23,
   "id": "2c241578",
   "metadata": {},
   "outputs": [
    {
     "name": "stdout",
     "output_type": "stream",
     "text": [
      "RIGHT = processingConfirmation ;\n",
      "RIGHT = dataAccess ;\n",
      "RIGHT = dataCopy ;\n",
      "RIGHT = dataCorrection ;\n",
      "RIGHT = dataAnonimization ;\n",
      "RIGHT = dataPortability ;\n",
      "RIGHT = dataDeletion ;\n",
      "RIGHT = dataSharingInformation ."
     ]
    }
   ],
   "source": [
    "?- dsRight(RIGHT,dataSubject(paulo),dataController(fiocruz))."
   ]
  },
  {
   "cell_type": "markdown",
   "id": "723dfcb6",
   "metadata": {},
   "source": [
    "Can all items from art. 9 be informed?"
   ]
  },
  {
   "cell_type": "code",
   "execution_count": 24,
   "id": "aad7d26d",
   "metadata": {},
   "outputs": [
    {
     "name": "stdout",
     "output_type": "stream",
     "text": [
      "SPECIFICPURPOSE = genetic_factors_related_to_COVID-19 ."
     ]
    }
   ],
   "source": [
    "?- specificPurpose(fiocruz,paulo,research,SPECIFICPURPOSE)."
   ]
  },
  {
   "cell_type": "code",
   "execution_count": 25,
   "id": "d25f269d",
   "metadata": {},
   "outputs": [
    {
     "name": "stdout",
     "output_type": "stream",
     "text": [
      "DAYS = 180 ."
     ]
    }
   ],
   "source": [
    "?- timeLength(fiocruz, paulo, research, 'genetic_factors_related_to_COVID-19',DAYS)."
   ]
  },
  {
   "cell_type": "markdown",
   "id": "9b071aa1",
   "metadata": {},
   "source": [
    "Who are processing the Data Subject's personal data and what are the respective data?"
   ]
  },
  {
   "cell_type": "code",
   "execution_count": 26,
   "id": "fb76ac29",
   "metadata": {},
   "outputs": [
    {
     "name": "stdout",
     "output_type": "stream",
     "text": [
      "ID = 10, DC = fiocruz, PData = 976635869, HData = oPlus ."
     ]
    }
   ],
   "source": [
    "?- dcIsProcessingDSData(id(ID),dataController(DC),dataSubject(paulo),personalData(paulo,PData),healthData(paulo,HData))."
   ]
  },
  {
   "cell_type": "markdown",
   "id": "fc11dcb4",
   "metadata": {},
   "source": [
    "Who are collecting the Data Subject's personal data and what are the respective data?"
   ]
  },
  {
   "cell_type": "code",
   "execution_count": 27,
   "id": "74a410e4",
   "metadata": {},
   "outputs": [
    {
     "name": "stdout",
     "output_type": "stream",
     "text": [
      "false."
     ]
    }
   ],
   "source": [
    "?- dcIsCollectingDSData(id(ID),dataController(DC),dataSubject(paulo),personalData(paulo,PData),healthData(paulo,HData))."
   ]
  }
 ],
 "metadata": {
  "kernelspec": {
   "display_name": "SWI-Prolog",
   "language": "",
   "name": "jswipl"
  },
  "language_info": {
   "mimetype": "text/plain",
   "name": "swipl"
  }
 },
 "nbformat": 4,
 "nbformat_minor": 5
}
