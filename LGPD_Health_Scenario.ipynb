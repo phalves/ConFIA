{
 "cells": [
  {
   "cell_type": "markdown",
   "id": "2dba5670",
   "metadata": {},
   "source": [
    "# Exploring Simulation Scenarios to Mitigate Information Asymmetry Under the LGPD Perspective - Health Scenario"
   ]
  },
  {
   "cell_type": "markdown",
   "id": "d13fadbf",
   "metadata": {},
   "source": [
    "## Table of Contents\n",
    "1. [Scenario Description: Public Health](#Scene-0:-Public-Health)\n",
    "2. [Scene 1: Set Consent Term](#Scene-1:-Set-consent-term.)\n",
    "3. [Scene 2: Data Subject Agrees with the Consent Term](#Scene-2:-Data-Subject-agrees-with-the-consent-term.)\n",
    "4. [Scene 3: Defining the Data Subject's Rights](#Scene-3:-Defining-the-Data-Subject's-rights.)\n",
    "5. [Scene 4: Data Subject's Consent Revocation](#Scene-4:-Data-Subject's-consent-revocation.)\n",
    "6. [Performing explanation exercises regarding possible scenarios](#Performing-explanation-exercises-regarding-possible-scenarios)\n",
    "    \n",
    "    6.1 [Cause-Effect: Consent revocation not respected](#Cause-effect:-How-to-evidence-when-the-Data-Controller-did-not-respect-the-consent-revocation?)\n",
    "    \n",
    "    6.2 [Cause-Effect: Evidencing data leak](#Cause-effect:-How-to-get-evidences-that-the-Data-Controller-leaked-the-Data-Subject's-data?)\n",
    "    \n",
    "    6.3 [Cause-effect: Data breach, what to do?](#Cause-effect:-Data-breach,-what-to-do?)\n",
    "    \n",
    "    6.4 [Cause-Effect: Requesting data correction](#Cause-effect:-Requesting-data-correction)\n",
    "\n",
    "    6.5 [Cause-Effect: Requesting data anonymization](#Cause-effect:-Requesting-anonymization)\n",
    "    \n",
    "    6.6 [Cause-effect: Data deletion](#Cause-effect:-Data-deletion)\n",
    "    \n",
    "    6.7 [Cause-effect: Technology unavailability](#Cause-effect:-Technology-unavailability)\n",
    "    \n",
    "    6.8 [Cause-effect: Inconsistent behavior](#Cause-effect:-Inconsistent-behavior)\n",
    "    \n",
    "    6.9 [Cause-effect: Data portability](#Cause-effect:-Data-portability)"
   ]
  },
  {
   "cell_type": "markdown",
   "id": "cc83b3b0",
   "metadata": {},
   "source": [
    "### Scenario Description: Public Health\n",
    "\n",
    "**Data Subject agrees with the Data Controller consent term, but then decided to revoke his/her consent.**\n",
    "\n",
    "The Data Controller RioHealth wants to use John's (Data Subject) personal data and health data to research genetic factors related to COVID-19 from Wednesday, May 26, 2021 1:21:00 PM to Thursday, November 26, 2021 1:21:00 PM (180 days). Also, RioHealth will apply cryptographic algorithms and access politics to avoid data breaches and unauthorized access. The personal and sensitive data will be stored in a private cloud where RioHealth has complete control of applied technologies. Furthermore, RioHealth is committed to sharing the data with third parties if the purpose is vaccination prioritization information.\n",
    "\n",
    "To do so, the Data Controller must send the consent term to the Data Subject. The consent term must present all the information defined in the LGPD art. 9.\n",
    "\n",
    "However, after accepting the consent term, the Data Subject decides to revoke his consent on Saturday, June 26, 2021 1:07:55 PM.\n",
    "\n",
    "Agents\n",
    " - Data Subject - John\n",
    " - Data Controller and processor - RioHealth\n",
    "\n",
    "Action\n",
    " - Defined in the consent term.\n",
    " - Risk: the data subjects should evaluate what they consider as low, medium, or high risk. For instance, they may consider the following definitions to guide their decision:\n",
    "   - Low: when there is no sensitive data requisition; \n",
    "   - Medium: there are no sensitive data foreseen in the LGPD, but there are data that may generate discrimination actions to the data subject; \n",
    "   - High: At least one sensitive data foreseen in the LGPD shared with the data controller.\n",
    " - Jurisdiction: Brazilian Law\n",
    " \n",
    "Consent Term\n",
    " - As the scenario description has all the required information for a consent term, it will be considered as the consent term on this occasion.\n",
    "\n",
    "Right\n",
    " - After the Data Subject decides to agree with the consent terms, he will have all the LGPD foreseen rights\n",
    " - The consent revocation should not impact the other rights.\n",
    " \n",
    "Deontic Operator\n",
    " - The Data Subject has the permission to call for any action related to his rights\n",
    " - The Data Controller is obligated to abide by the Data Subject solicitations, except when the law says the opposite.\n",
    " - The Data Controller is prohibited from using the personal data collected under other circumstances than the ones that are in the consent term\n",
    " - Violation and compliance will be explored in the extended scenarios in the end of this notebook\n",
    "\n",
    "\n",
    "The following figure depicts this macro scenario process.\n",
    "\n",
    "![Scenario2_Process](./img/Scenario2_Process.png \"Process 2\")\n",
    "Fig.5 - Macro Scenario Process.\n",
    "\n",
    "Moreover, other four cause-effect scenarios were explored in order to show some possibilities regarding to the data subject's rights. \n",
    "\n",
    "The goal is to creating a scenario with Prolog to explore the facts in different time range and some cause-effect scenarios. This notebook tries to keep general facts that could occurr in any domain. Specific domain facts were not exploered.\n",
    " \n",
    "*PS-1: The timestamp is used to provide the time spectrum. The following tool was used to convert human time to timestamp and the other way around. https://www.epochconverter.com/ - 180 days is equivalent to add the value 15811200 in the timestamp*\n",
    "\n",
    "*PS-2: To help the usage of timestamp, we considered the following association.*\n",
    "- *Wednesday, May 26, 2021 1:21:00 PM = 1622035260*\n",
    "- *Friday, November 26, 2021 1:07:55 PM = 1637846460*\n",
    "\n",
    " ---------"
   ]
  },
  {
   "cell_type": "markdown",
   "id": "598222fa",
   "metadata": {},
   "source": [
    "### Scene 1: Set consent term."
   ]
  },
  {
   "cell_type": "markdown",
   "id": "e030a8e9",
   "metadata": {},
   "source": [
    "The first step is the consent setup. The consent must have all information described in the LGPD Art. 9. The following method receives all the required information.\n",
    "\n",
    "\n",
    "The **Data Subject John** allows the **Data Controller RioHealth** to access, store, and process his **phone number** and **blood factor/type** to perform **research** regarding **genetic factors related to COVID-19** using **statistical analysis** for **180 days**. However, the phone number **will not be public available** and will be used only in emergency situations. \n",
    "\n",
    "RioHealth will apply **cryptographic algorithms** and **access politics** to avoid data breaches and unauthorized access. The personal and sensitive data will be **stored in a private cloud** where RioHealth has complete control of applied technologies. \n",
    "\n",
    "The Data Controller is allowed to **share** the Data Subject data **only** with the **vaccination prioritization purpose**.\n",
    "\n",
    "To make any request, please use the Data Controller communication channel by **email lgpd@riohealth.br**.\n",
    "\n",
    "\n",
    "PS: The Data Controllers must inform in any case if they are processing the personal data if requested.\n"
   ]
  },
  {
   "cell_type": "code",
   "execution_count": 1,
   "id": "64c60967",
   "metadata": {},
   "outputs": [
    {
     "name": "stdout",
     "output_type": "stream",
     "text": []
    }
   ],
   "source": [
    "% Description: This function defines a consent term including all \n",
    "%  required information described in the LGPD Art. 9\n",
    "% The consent term must inform:\n",
    "%    i. Consent ID\n",
    "%   ii. Data Controller\n",
    "%  iii. Data Subject\n",
    "%   iv. Specific Purpose\n",
    "%    v. Form \n",
    "%   vi. Time length of processing\n",
    "%  vii. The purpose when sharing the data with third parties, when applied\n",
    "% viii. Communication channel to the data subject request any information\n",
    "%   ix. Data Controller contact\n",
    "%    x. Cryptography Algoritm\n",
    "%   xi. Access Politics\n",
    "%  xii. Storage Platform\n",
    "\n",
    "\n",
    "createConsentTerm(ID,DC,DS,PData,SData,Purpose,\n",
    "                SpecificPurpose,\n",
    "                Form,\n",
    "                TimeLength,\n",
    "                ThirdPartyPurpose,\n",
    "                Channel,\n",
    "                DCContact,\n",
    "                CA, AP, SP) :-\n",
    "\n",
    "                assertz(id(ID)),\n",
    "                assertz(dataSubject(DS)),\n",
    "                assertz(dataController(DC)),\n",
    "                assertz(personalData(DS,PData)),\n",
    "                assertz(sensitiveData(DS,SData)),\n",
    "                assertz(purpose(DC,DS,Purpose)),\n",
    "                assertz(specificPurpose(DC,DS,Purpose,SpecificPurpose)),\n",
    "                assertz(form(DC,DS,Purpose,SpecificPurpose,Form)),\n",
    "                assertz(timeLength(DC,DS,Purpose,SpecificPurpose,TimeLength)),\n",
    "                assertz(thirdyPartySharingPurpose(DC,DS,Purpose,SpecificPurpose,\n",
    "                                                    TimeLength,ThirdPartyPurpose)),\n",
    "                assertz(channelToProvideInformation(DC,DS,Channel,DCContact)),\n",
    "                assertz(criptographyAlgoritm(CA)),\n",
    "                assertz(accessPolitics(AP)),\n",
    "                assertz(storagePlatform(SP))."
   ]
  },
  {
   "cell_type": "code",
   "execution_count": 2,
   "id": "4747b8a8",
   "metadata": {},
   "outputs": [
    {
     "name": "stdout",
     "output_type": "stream",
     "text": [
      "true."
     ]
    }
   ],
   "source": [
    "% This is a function call that defines a consent term with the informed params\n",
    "\n",
    "?- createConsentTerm(10,'RioHealth','John',976635869,'A+',research,\n",
    "                'genetic_factors_related_to_COVID-19',\n",
    "                'statistic_analysis',\n",
    "                15811200,\n",
    "                'vaccination_priorization',\n",
    "                'e-mail',\n",
    "                'lgpd@riohealth.br',\n",
    "                'SHA256',\n",
    "                'Authorized researchers can access the data only',\n",
    "                'RioHealth private cloud')."
   ]
  },
  {
   "cell_type": "code",
   "execution_count": 3,
   "id": "027715ee",
   "metadata": {},
   "outputs": [
    {
     "name": "stdout",
     "output_type": "stream",
     "text": [
      "true."
     ]
    }
   ],
   "source": [
    "% This function defines the right to request processing confirmation to the Data Subject\n",
    "\n",
    "dsRight(processingConfirmation,dataSubject('John'),dataController('RioHealth')).\n",
    "?- assertz(log('Data Subject can ask if the Data Controller is processing his/her data','Explanation','Permission',1622035260))."
   ]
  },
  {
   "cell_type": "markdown",
   "id": "329c71df",
   "metadata": {},
   "source": [
    " ---------"
   ]
  },
  {
   "cell_type": "markdown",
   "id": "78ad55c8",
   "metadata": {},
   "source": [
    "### Scene 2: Data Subject agrees with the consent term."
   ]
  },
  {
   "cell_type": "markdown",
   "id": "f06757c0",
   "metadata": {},
   "source": [
    "First, the Data Subject verifies if all the crutial elements are described in the consent term present by the Data Controller. If so, the program will set that the consent term is ok, i.e., it has all the required information."
   ]
  },
  {
   "cell_type": "code",
   "execution_count": 4,
   "id": "9a29c4ee",
   "metadata": {},
   "outputs": [
    {
     "name": "stdout",
     "output_type": "stream",
     "text": []
    }
   ],
   "source": [
    "% Description: This function verifies if a consent term includes all required information described in the LGPD Art. 9\n",
    "% The consent term must inform:\n",
    "%    i. Consent ID\n",
    "%   ii. Data Controller\n",
    "%  iii. Data Subject\n",
    "%   iv. Specific Purpose\n",
    "%    v. Form \n",
    "%   vi. Time length of processing\n",
    "%  vii. The purpose when sharing the data with third parties, when applied\n",
    "% viii. Communication channel to the data subject request any information\n",
    "%   ix. Data Controller contact\n",
    "\n",
    "checkConsentTerm(id(ID),dataController(DC),\n",
    "                dataSubject(DS),\n",
    "                purpose(DC,Purpose),\n",
    "                SpecificPurpose,\n",
    "                Form,\n",
    "                TimeLength,\n",
    "                ThirdPartyPurpose,\n",
    "                Channel,\n",
    "                DCContact,\n",
    "                Date) :-\n",
    "    (\n",
    "        form(DC,DS,Purpose,SpecificPurpose,Form),\n",
    "        timeLength(DC,DS,Purpose,SpecificPurpose,TimeLength),\n",
    "        thirdyPartySharingPurpose(DC,DS,Purpose,SpecificPurpose,TimeLength,ThirdPartyPurpose),\n",
    "        channelToProvideInformation(DC,DS,Channel,DCContact),\n",
    "        purpose(DC,DS,Purpose),\n",
    "        specificPurpose(DC,DS,Purpose,SpecificPurpose),\n",
    "        assertz(consentTermStatus(id(ID),dataController(DC),dataSubject(DS),status('Valid'))),\n",
    "        assertz(log('Data Subject verified the consent term and it was ok','Explanation','Obligation',Date))\n",
    "    )."
   ]
  },
  {
   "cell_type": "code",
   "execution_count": 5,
   "id": "0c30406f",
   "metadata": {},
   "outputs": [
    {
     "name": "stdout",
     "output_type": "stream",
     "text": [
      "true."
     ]
    }
   ],
   "source": [
    "% This is a function call returns true if the consent term is ok, or false if not.\n",
    "\n",
    "?- checkConsentTerm(id(10),dataController('RioHealth'),\n",
    "                        dataSubject('John'),\n",
    "                        purpose('RioHealth',research),\n",
    "                        'genetic_factors_related_to_COVID-19',\n",
    "                        'statistic_analysis',\n",
    "                        15811200,\n",
    "                        'vaccination_priorization',\n",
    "                        'e-mail',\n",
    "                        'lgpd@riohealth.br',\n",
    "                        1622035260)."
   ]
  },
  {
   "cell_type": "markdown",
   "id": "2364d019",
   "metadata": {},
   "source": [
    "So, if the consent term is ok, the Data Subject can inform that he/she agrees with the consent term.\n",
    "\n",
    "Hence, the Data Controller can collect, store and process the Data Subject's data."
   ]
  },
  {
   "cell_type": "code",
   "execution_count": 6,
   "id": "56ad4032",
   "metadata": {},
   "outputs": [
    {
     "name": "stdout",
     "output_type": "stream",
     "text": []
    }
   ],
   "source": [
    "% Description: This function sets that the Data Subject agreed with the consent term.\n",
    "% This function receives the params:\n",
    "%    i. Consent ID\n",
    "%   ii. Data Subject\n",
    "%  iii. Data Controller\n",
    "%   iv. Request Format (Direct/Expresso or Implicit/Tacito)\n",
    "%   iv. Personal Data\n",
    "%    v. Sensitive Data\n",
    "%   vi. Start Date - Timestamp\n",
    "%   vi. End Date - Timestamp\n",
    "\n",
    "setThatdsAgreeWithConsentTerms(id(ID),dataSubject(DS),\n",
    "                                dataController(DC),\n",
    "                                requestFormat(RF,DS,LPC),\n",
    "                                personalData(DS,PData),\n",
    "                                sensitiveData(DS,SData),\n",
    "                                startDate(StartTS),\n",
    "                                endDate(EndTS)) :-\n",
    "    consentTermStatus(id(ID),dataController(DC),dataSubject(DS),status('Valid')),\n",
    "    \n",
    "    assertz(origin(id(ID),dataSubject(DS),dataController(DC),requestFormat(RF,DS,LPC))),\n",
    "    assertz(requestFormat(RF,DS,LPC)),\n",
    "    \n",
    "    assertz(dsAgreeWithConsentTerms(dataSubject(DS),dataController(DC),startDate(TS),endDate(TS))),\n",
    "    assertz(log('Data Subject agrees with consent term','Communication','Compliance',StartTS)),\n",
    "\n",
    "    assertz(dcIsCollectingDSData(id(ID),dataController(DC),dataSubject(DS),personalData(DS,PData),sensitiveData(DS,SData),startDate(StartTS),endDate(EndTS))),\n",
    "    assertz(log('Data Controller can collect the Data Subject information','Explanation','Permission',StartTS)),\n",
    "    \n",
    "    assertz(dcIsStoringDSData(id(ID),dataController(DC),dataSubject(DS),personalData(DS,PData),sensitiveData(DS,SData),startDate(StartTS),endDate(EndTS))),\n",
    "    assertz(log('Data Controller can store the Data Subject information','Explanation','Permission',StartTS)),\n",
    "        \n",
    "    assertz(dcIsProcessingDSData(id(ID),dataController(DC),dataSubject(DS),personalData(DS,PData),sensitiveData(DS,SData),startDate(StartTS),endDate(EndTS))),\n",
    "    assertz(log('Data Controller can process the Data Subject information','Explanation','Permission',StartTS))."
   ]
  },
  {
   "cell_type": "code",
   "execution_count": 7,
   "id": "08b164c9",
   "metadata": {},
   "outputs": [
    {
     "name": "stdout",
     "output_type": "stream",
     "text": [
      "EndDate = 1637846460 ."
     ]
    }
   ],
   "source": [
    "% This is a function call returns true in case of success.\n",
    "\n",
    "?- setThatdsAgreeWithConsentTerms(id(10),\n",
    "                                dataSubject('John'),\n",
    "                                dataController('RioHealth'),\n",
    "                                requestFormat('Direct','John','null'),\n",
    "                                personalData('John',976635869),\n",
    "                                sensitiveData('John','A+'),\n",
    "                                startDate(1622035260),\n",
    "                                endDate(EndDate)), EndDate is 1622035260+15811200."
   ]
  },
  {
   "cell_type": "markdown",
   "id": "0248cdc8",
   "metadata": {},
   "source": [
    "Now, the Data Controller can collect, store and process the Data Subject's data."
   ]
  },
  {
   "cell_type": "code",
   "execution_count": 8,
   "id": "edb753c9",
   "metadata": {},
   "outputs": [
    {
     "name": "stdout",
     "output_type": "stream",
     "text": [
      "true."
     ]
    }
   ],
   "source": [
    "?- dcIsCollectingDSData(id(10),dataController('RioHealth'),dataSubject('John'),\n",
    "                        personalData('John',976635869),sensitiveData('John','A+'),\n",
    "                        startDate(1622035260),endDate(1637846460)),\n",
    "                        \n",
    "dcIsProcessingDSData(id(10),dataController('RioHealth'),dataSubject('John'),\n",
    "                    personalData('John',976635869),sensitiveData('John','A+'),\n",
    "                    startDate(1622035260),endDate(1637846460)),\n",
    "                    \n",
    "dcIsStoringDSData(id(10),dataController('RioHealth'),dataSubject('John'),\n",
    "                    personalData('John',976635869),sensitiveData('John','A+'),\n",
    "                    startDate(1622035260),endDate(1637846460))."
   ]
  },
  {
   "cell_type": "markdown",
   "id": "eea5829e",
   "metadata": {},
   "source": [
    "---------"
   ]
  },
  {
   "cell_type": "markdown",
   "id": "8d60c694",
   "metadata": {},
   "source": [
    "### Scene 3: Defining the Data Subject's rights."
   ]
  },
  {
   "cell_type": "markdown",
   "id": "079be990",
   "metadata": {},
   "source": [
    "According to the LGPD Art. 18, when the Data Subject is sharing data with a Data Controller, he/she has the following rights:\n",
    "1. Data Access\n",
    "2. Data Copy\n",
    "3. Data Correction\n",
    "4. Data Anonymization\n",
    "5. Data Portability\n",
    "6. Data Deletion\n",
    "7. Information regarding the data sharing with a third party\n",
    "8. Request consent revocation."
   ]
  },
  {
   "cell_type": "code",
   "execution_count": 9,
   "id": "f689d793",
   "metadata": {},
   "outputs": [
    {
     "name": "stdout",
     "output_type": "stream",
     "text": []
    }
   ],
   "source": [
    "% Description: This function sets all Data Subject right's foreseed in the LGPD.\n",
    "% This function receives the params:\n",
    "%  i. Data Subject\n",
    "% ii. Data Controller\n",
    "\n",
    "setDSRights(dataSubject(DS),dataController(DC),startDate(StartTS)) :-\n",
    "    assertz(dsRight(dataAccess,dataSubject(DS),dataController(DC))),\n",
    "    assertz(dsRight(dataCopy,dataSubject(DS),dataController(DC))),\n",
    "    assertz(dsRight(dataCorrection,dataSubject(DS),dataController(DC))),\n",
    "    assertz(dsRight(dataAnonymization,dataSubject(DS),dataController(DC))),\n",
    "    assertz(dsRight(dataPortability,dataSubject(DS),dataController(DC))),\n",
    "    assertz(dsRight(dataDeletion,dataSubject(DS),dataController(DC))),\n",
    "    assertz(dsRight(dataSharingInformation,dataSubject(DS),dataController(DC))),\n",
    "    assertz(dsRight(requestConsentRevocation,dataSubject(DS),dataController(DC))),\n",
    "    assertz(log('Data Subject can now have all foressen rights','Explanation',\n",
    "    'Permission',StartTS))."
   ]
  },
  {
   "cell_type": "code",
   "execution_count": 10,
   "id": "d23962ea",
   "metadata": {},
   "outputs": [
    {
     "name": "stdout",
     "output_type": "stream",
     "text": [
      "true."
     ]
    }
   ],
   "source": [
    "% This is a function call returns true if all Data Subject's right was associated \n",
    "%  to him/her.\n",
    "\n",
    "?- setDSRights(dataSubject('John'),dataController('RioHealth'),startDate(1622035260))."
   ]
  },
  {
   "cell_type": "markdown",
   "id": "ac406f89",
   "metadata": {},
   "source": [
    " ---------"
   ]
  },
  {
   "cell_type": "markdown",
   "id": "e56931ef",
   "metadata": {},
   "source": [
    "### Scene 4: Data Subject's consent revocation."
   ]
  },
  {
   "cell_type": "markdown",
   "id": "ee33ba60",
   "metadata": {},
   "source": [
    "As mentioned in the scenario's description, the Data Subject decides to revoke his/her consent.\n",
    "The Data Subject considered that the purpose limitation is not adequate. \n",
    "\n",
    "Once performed, the action of requesting the consent revocation cannot be executed again, and the Data Controller is forbidden to still collecting the Data Subject's data."
   ]
  },
  {
   "cell_type": "code",
   "execution_count": 11,
   "id": "a0ec4159",
   "metadata": {},
   "outputs": [
    {
     "name": "stdout",
     "output_type": "stream",
     "text": []
    }
   ],
   "source": [
    "% Description: This function revoke the Data Controller's action of collecting the \n",
    "%  Data Subject's data.\n",
    "% This function receives the params:\n",
    "%   i. Consent ID\n",
    "%  ii. Data Subject\n",
    "% iii. Data Controller\n",
    "%  iv. Personal Data\n",
    "%   v. Sensitive Data\n",
    "\n",
    "setDSRevokeConsent(id(ID),\n",
    "                    dataSubject(DS),\n",
    "                    dataController(DC),\n",
    "                    personalData(DS,PData),\n",
    "                    sensitiveData(DS,SData),\n",
    "                    now(Date),\n",
    "                    startDate(StartTS),\n",
    "                    endDate(EndTS)                    \n",
    "                    ) :-\n",
    "    \n",
    "    requestFormat('Direct',DS,'null'),                \n",
    "    not(dsRight(requestConsentRevocation,dataSubject(DS),dataController(DC))),\n",
    "    assertz(log('Data Subject tried to revoke his/her consent, but fail',\n",
    "            'Explanation','Prohibition',Date));\n",
    "    \n",
    "    retract(dsRight(requestConsentRevocation,dataSubject(DS),dataController(DC))),\n",
    "    assertz(log('Data Subject requested to the Data Controller to revoke his/her\n",
    "            consent','Communication','Permission',Date)),\n",
    "    \n",
    "    retract(dcIsCollectingDSData(id(ID),dataController(DC),dataSubject(DS),\n",
    "            personalData(DS,PData),sensitiveData(DS,SData),startDate(StartTS),\n",
    "            endDate(EndTS))),\n",
    "    assertz(log('From now, the Data Controller cannot collect the Data Subject \n",
    "            information','Communication','Prohibition',Date)),\n",
    "    \n",
    "    retract(dcIsProcessingDSData(id(ID),dataController(DC),dataSubject(DS),\n",
    "            personalData(DS,PData),sensitiveData(DS,SData),startDate(StartTS),\n",
    "            endDate(EndTS))),\n",
    "    assertz(log('From now, the Data Controller cannot process the Data Subject\n",
    "            information','Communication','Prohibition',Date)),\n",
    "    \n",
    "    retract(consentTermStatus(id(ID),dataController(DC),dataSubject(DS),\n",
    "            status('Valid'))),\n",
    "    assertz(consentTermStatus(id(ID),dataController(DC),dataSubject(DS),\n",
    "            status('Invalid'))),\n",
    "    assertz(log('From now, consent is not valid to be used by the data controller',\n",
    "            'Explanation','Prohibition',Date))."
   ]
  },
  {
   "cell_type": "code",
   "execution_count": 12,
   "id": "3c113b41",
   "metadata": {},
   "outputs": [
    {
     "name": "stdout",
     "output_type": "stream",
     "text": [
      "true.\n",
      "EndDate = 1637846460 ."
     ]
    }
   ],
   "source": [
    "% This call store the Data Subject's motivation to request the cosent revocation.\n",
    "?- assertz(log('Data Subject considered that the purpose limitation is not adequate','Communication','Permission',1624712875)).\n",
    "\n",
    "% This is a function call returns true if all Data Subject's request was successfully performed.\n",
    "?- setDSRevokeConsent(id(10),\n",
    "                        dataSubject('John'),\n",
    "                        dataController('RioHealth'),\n",
    "                        personalData('John',976635869),\n",
    "                        sensitiveData('John','A+'),\n",
    "                        now(1624712875),\n",
    "                        startDate(1622035260),\n",
    "                        endDate(EndDate)\n",
    "                        ), \n",
    "                        EndDate is 1622035260+15811200.\n",
    "    "
   ]
  },
  {
   "cell_type": "markdown",
   "id": "62f7bcf1",
   "metadata": {},
   "source": [
    "Therefore, the consent revocation request, motivited by diagreement with the purpose of data colleting, impacts many LGPD relationships as depicted in Figure 6."
   ]
  },
  {
   "cell_type": "markdown",
   "id": "8633f172",
   "metadata": {},
   "source": [
    "![RootScenarioImpact](./img/RootScenarioImpact.png \"Root Scenario Impact\")\n",
    "Fig.6 - Consent Revocation Impact.\n",
    "\n",
    "The red entities suffered impact directly, or indirectly, when the consent was revoked. First,  the data controller must stop collecting personal data immediately. Next, the data controller must update the sharing politics and access restriction to prevent unauthorized access or new data processing. Still, the consent status will change to \"invalid\", as the controller cannot use this consent anymore."
   ]
  },
  {
   "cell_type": "markdown",
   "id": "680944f7",
   "metadata": {},
   "source": [
    " ---------"
   ]
  },
  {
   "cell_type": "markdown",
   "id": "4283b37f",
   "metadata": {},
   "source": [
    "### Performing explanation exercises regarding possible scenarios\n",
    "\n",
    "Here, we are going to perform questions regarding access confirmation, rights compliance, and information about consent term. Those questions will exercise the data subject and controller understanding regarding possible scenarios during the relationship between these two actors.\n"
   ]
  },
  {
   "cell_type": "markdown",
   "id": "6239f32d",
   "metadata": {},
   "source": [
    "Are the riohealth data controller using the data subject John's data? \n",
    "\n",
    "Expected: As the Data Subject requested to revoke his consent, the data controller is **prohibited** to still using the Data Subjects data."
   ]
  },
  {
   "cell_type": "code",
   "execution_count": 13,
   "id": "b31d83d3",
   "metadata": {},
   "outputs": [
    {
     "name": "stdout",
     "output_type": "stream",
     "text": [
      "false."
     ]
    }
   ],
   "source": [
    "?- dcIsProcessingDSData(id(10),dataController('RioHealth'),dataSubject('John'),\n",
    "        personalData('John',PData),sensitiveData('John',SData),startDate(1622035260),\n",
    "        endDate(1637846460))."
   ]
  },
  {
   "cell_type": "markdown",
   "id": "8de9a61e",
   "metadata": {},
   "source": [
    "Why?"
   ]
  },
  {
   "cell_type": "code",
   "execution_count": 14,
   "id": "46fc26ea",
   "metadata": {},
   "outputs": [
    {
     "name": "stdout",
     "output_type": "stream",
     "text": [
      "Event = Data Subject considered that the purpose limitation is not adequate, Type = Permission ;\n",
      "Event = Data Subject requested to the Data Controller to revoke his/her consent, Type = Permission ;\n",
      "Event = From now, the Data Controller cannot collect the Data Subject information, Type = Prohibition ;\n",
      "Event = From now, the Data Controller cannot process the Data Subject information, Type = Prohibition ."
     ]
    }
   ],
   "source": [
    "?- log(Event,'Communication',Type, 1624712875)."
   ]
  },
  {
   "cell_type": "markdown",
   "id": "0cc10cfe",
   "metadata": {},
   "source": [
    "What are the Data Subject rights right now?\n",
    "\n",
    "Expected: As the Data Subject requested to revoke his consent, he is **prohibited** to create such request again, even though he has **permission** to request the other rights foreseen by the LGPD."
   ]
  },
  {
   "cell_type": "code",
   "execution_count": 15,
   "id": "2c241578",
   "metadata": {},
   "outputs": [
    {
     "name": "stdout",
     "output_type": "stream",
     "text": [
      "RIGHT = processingConfirmation ;\n",
      "RIGHT = dataAccess ;\n",
      "RIGHT = dataCopy ;\n",
      "RIGHT = dataCorrection ;\n",
      "RIGHT = dataAnonymization ;\n",
      "RIGHT = dataPortability ;\n",
      "RIGHT = dataDeletion ;\n",
      "RIGHT = dataSharingInformation ."
     ]
    }
   ],
   "source": [
    "?- dsRight(RIGHT,dataSubject('John'),dataController('RioHealth'))."
   ]
  },
  {
   "cell_type": "markdown",
   "id": "723dfcb6",
   "metadata": {},
   "source": [
    "Can all items from art. 9 be informed?"
   ]
  },
  {
   "cell_type": "code",
   "execution_count": 16,
   "id": "aad7d26d",
   "metadata": {
    "scrolled": true
   },
   "outputs": [
    {
     "name": "stdout",
     "output_type": "stream",
     "text": [
      "SPECIFICPURPOSE = genetic_factors_related_to_COVID-19 ."
     ]
    }
   ],
   "source": [
    "?- specificPurpose('RioHealth','John',research,SPECIFICPURPOSE)."
   ]
  },
  {
   "cell_type": "code",
   "execution_count": 17,
   "id": "d25f269d",
   "metadata": {},
   "outputs": [
    {
     "name": "stdout",
     "output_type": "stream",
     "text": [
      "TimeRange = 15811200 ."
     ]
    }
   ],
   "source": [
    "?- timeLength('RioHealth', 'John', research, 'genetic_factors_related_to_COVID-19',TimeRange)."
   ]
  },
  {
   "cell_type": "markdown",
   "id": "fc11dcb4",
   "metadata": {},
   "source": [
    "Who are collecting the Data Subject's personal data and what are the respective data?"
   ]
  },
  {
   "cell_type": "code",
   "execution_count": 18,
   "id": "74a410e4",
   "metadata": {},
   "outputs": [
    {
     "name": "stdout",
     "output_type": "stream",
     "text": [
      "false."
     ]
    }
   ],
   "source": [
    "?- dcIsCollectingDSData(id(ID),dataController(DC),dataSubject('John'),personalData('John',PData),sensitiveData('John',SData),startDate(1622035260),endDate(1637846460))."
   ]
  },
  {
   "cell_type": "markdown",
   "id": "7943eb67",
   "metadata": {},
   "source": [
    "Why?"
   ]
  },
  {
   "cell_type": "code",
   "execution_count": 19,
   "id": "8b867447",
   "metadata": {},
   "outputs": [
    {
     "name": "stdout",
     "output_type": "stream",
     "text": [
      "Event = Data Subject considered that the purpose limitation is not adequate, Type = Permission ;\n",
      "Event = Data Subject requested to the Data Controller to revoke his/her consent, Type = Permission ;\n",
      "Event = From now, the Data Controller cannot collect the Data Subject information, Type = Prohibition ;\n",
      "Event = From now, the Data Controller cannot process the Data Subject information, Type = Prohibition ."
     ]
    }
   ],
   "source": [
    "?- log(Event,'Communication',Type, 1624712875)."
   ]
  },
  {
   "cell_type": "markdown",
   "id": "4e2db676",
   "metadata": {},
   "source": [
    "Who are storing the Data Subject's personal data and what are the respective data?\n",
    "\n",
    "Expected: Although the Data Subject requested to revoke his consent, he did not request for data deletion, so the Data Controller is **permitted** to store his dada."
   ]
  },
  {
   "cell_type": "code",
   "execution_count": 20,
   "id": "86967521",
   "metadata": {},
   "outputs": [
    {
     "name": "stdout",
     "output_type": "stream",
     "text": [
      "ID = 10, DC = RioHealth, PData = 976635869, SData = A+ ."
     ]
    }
   ],
   "source": [
    "?- dcIsStoringDSData(id(ID),dataController(DC),dataSubject('John'),personalData('John',PData),sensitiveData('John',SData),startDate(1622035260),endDate(1637846460))."
   ]
  },
  {
   "cell_type": "markdown",
   "id": "68d9afd5",
   "metadata": {},
   "source": [
    "Show all events."
   ]
  },
  {
   "cell_type": "code",
   "execution_count": 21,
   "id": "7f036d4f",
   "metadata": {},
   "outputs": [
    {
     "name": "stdout",
     "output_type": "stream",
     "text": [
      "Event = Data Subject can ask if the Data Controller is processing his/her data, Type = Explanation, DeonticOperator = Permission, Date = 1622035260 ;\n",
      "Event = Data Subject verified the consent term and it was ok, Type = Explanation, DeonticOperator = Obligation, Date = 1622035260 ;\n",
      "Event = Data Subject agrees with consent term, Type = Communication, DeonticOperator = Compliance, Date = 1622035260 ;\n",
      "Event = Data Controller can collect the Data Subject information, Type = Explanation, DeonticOperator = Permission, Date = 1622035260 ;\n",
      "Event = Data Controller can store the Data Subject information, Type = Explanation, DeonticOperator = Permission, Date = 1622035260 ;\n",
      "Event = Data Controller can process the Data Subject information, Type = Explanation, DeonticOperator = Permission, Date = 1622035260 ;\n",
      "Event = Data Subject can now have all foressen rights, Type = Explanation, DeonticOperator = Permission, Date = 1622035260 ;\n",
      "Event = Data Subject considered that the purpose limitation is not adequate, Type = Communication, DeonticOperator = Permission, Date = 1624712875 ;\n",
      "Event = Data Subject requested to the Data Controller to revoke his/her consent, Type = Communication, DeonticOperator = Permission, Date = 1624712875 ;\n",
      "Event = From now, the Data Controller cannot collect the Data Subject information, Type = Communication, DeonticOperator = Prohibition, Date = 1624712875 ;\n",
      "Event = From now, the Data Controller cannot process the Data Subject information, Type = Communication, DeonticOperator = Prohibition, Date = 1624712875 ;\n",
      "Event = From now, consent is not valid to be used by the data controller, Type = Explanation, DeonticOperator = Prohibition, Date = 1624712875 ."
     ]
    }
   ],
   "source": [
    "?- log(Event,Type,DeonticOperator,Date) {-1}."
   ]
  },
  {
   "cell_type": "markdown",
   "id": "7d719688",
   "metadata": {},
   "source": [
    "----"
   ]
  },
  {
   "cell_type": "markdown",
   "id": "070e5cea",
   "metadata": {},
   "source": [
    "#### Cause-effect: How to evidence when the Data Controller did not respect the consent revocation?\n",
    "\n",
    "Let's picture that the Data Controller did not respect the Data Subject's request and still collecting the Data Subject's data. In such plot, fines must be applied.\n",
    "\n",
    "<div>\n",
    "<img src=\"./img/Scenario2.1_Process.png\" width=\"600\"/>\n",
    "</div>\n",
    "Fig.7 - Consent Revocation Scenario Process."
   ]
  },
  {
   "cell_type": "code",
   "execution_count": 22,
   "id": "dfcc2a44",
   "metadata": {},
   "outputs": [
    {
     "name": "stdout",
     "output_type": "stream",
     "text": []
    }
   ],
   "source": [
    "% This command sets that the Data Controller is collecting the Data Subject's data.\n",
    "\n",
    "dcIsCollectingDSData(id(10),dataController('RioHealth'),dataSubject('John'),\n",
    "                        personalData('John',976635869),sensitiveData('John','A+'),\n",
    "                        startDate(1622035260),endDate(1637846460))."
   ]
  },
  {
   "cell_type": "markdown",
   "id": "232ba410",
   "metadata": {},
   "source": [
    "So, now the data controller is collecting unauthorized data, it was **prohibited** since the data subject requested consent revocation. The following command will check the environment facts and it will insert this fact regarding the rights **violation** in the log."
   ]
  },
  {
   "cell_type": "code",
   "execution_count": 23,
   "id": "d74e9295",
   "metadata": {
    "scrolled": true
   },
   "outputs": [
    {
     "name": "stdout",
     "output_type": "stream",
     "text": [
      "true."
     ]
    }
   ],
   "source": [
    "% This command:\n",
    "%   (i) verifies if the Data Controller is collecting the Data Subject's data;\n",
    "%  (ii) verifies if there is no consent with a valid status\n",
    "% (iii) verifies in the log if the Data Subject requested consent revocation;\n",
    "%  (iv) if all previous verifications are true, insert in the log that the Data Controller did not respect \n",
    "%       the Data Subject's will.\n",
    "\n",
    "?- dcIsCollectingDSData(id(10),dataController('RioHealth'),dataSubject('John'),\n",
    "                        personalData('John',976635869),sensitiveData('John','A+'),\n",
    "                        startDate(1622035260),endDate(1637846460)),\n",
    "                        \n",
    "    not(consentTermStatus(id(10),dataController('RioHealth'),dataSubject('John'),status('Valid'))),\n",
    "    \n",
    "    log('Data Subject requested to the Data Controller to revoke his/her consent','Communication','Permission',1624712875),\n",
    "    \n",
    "    assertz(log('Data Controller did not respect the consent revocation requested by the Data Subject, \n",
    "                and still processing. Thus, fines should be applied','Communication','Violation',1624712875))."
   ]
  },
  {
   "cell_type": "markdown",
   "id": "c4979ee1",
   "metadata": {},
   "source": [
    "In this sense, the program log should help the Data Subject to create evidence of his/her requests. The log will show that the consent was violated revoked and the Data Controller **violated** the data subject will."
   ]
  },
  {
   "cell_type": "code",
   "execution_count": 24,
   "id": "cd9900ed",
   "metadata": {
    "scrolled": true
   },
   "outputs": [
    {
     "name": "stdout",
     "output_type": "stream",
     "text": [
      "Event = Data Subject can ask if the Data Controller is processing his/her data, Type = Explanation, DeonticConcept = Permission, Date = 1622035260 ;\n",
      "Event = Data Subject verified the consent term and it was ok, Type = Explanation, DeonticConcept = Obligation, Date = 1622035260 ;\n",
      "Event = Data Subject agrees with consent term, Type = Communication, DeonticConcept = Compliance, Date = 1622035260 ;\n",
      "Event = Data Controller can collect the Data Subject information, Type = Explanation, DeonticConcept = Permission, Date = 1622035260 ;\n",
      "Event = Data Controller can store the Data Subject information, Type = Explanation, DeonticConcept = Permission, Date = 1622035260 ;\n",
      "Event = Data Controller can process the Data Subject information, Type = Explanation, DeonticConcept = Permission, Date = 1622035260 ;\n",
      "Event = Data Subject can now have all foressen rights, Type = Explanation, DeonticConcept = Permission, Date = 1622035260 ;\n",
      "Event = Data Subject considered that the purpose limitation is not adequate, Type = Communication, DeonticConcept = Permission, Date = 1624712875 ;\n",
      "Event = Data Subject requested to the Data Controller to revoke his/her consent, Type = Communication, DeonticConcept = Permission, Date = 1624712875 ;\n",
      "Event = From now, the Data Controller cannot collect the Data Subject information, Type = Communication, DeonticConcept = Prohibition, Date = 1624712875 ;\n",
      "Event = From now, the Data Controller cannot process the Data Subject information, Type = Communication, DeonticConcept = Prohibition, Date = 1624712875 ;\n",
      "Event = From now, consent is not valid to be used by the data controller, Type = Explanation, DeonticConcept = Prohibition, Date = 1624712875 ;\n",
      "Event = Data Controller did not respect the consent revocation requested by the Data Subject, and still processing. Thus, fines should be applied, Type = Communication, DeonticConcept = Violation, Date = 1624712875 ."
     ]
    }
   ],
   "source": [
    "?- log(Event,Type,DeonticConcept,Date) {-1}."
   ]
  },
  {
   "cell_type": "markdown",
   "id": "eaf1700d",
   "metadata": {},
   "source": [
    "Moreover, Figure 6 may also be used to mitigate if the consent revocation was properly attended. If there is no modification in the red entities, something is not in compliance with LGPD."
   ]
  },
  {
   "cell_type": "code",
   "execution_count": 25,
   "id": "36da4884",
   "metadata": {},
   "outputs": [
    {
     "name": "stdout",
     "output_type": "stream",
     "text": [
      "true."
     ]
    }
   ],
   "source": [
    "% Resetting scenario\n",
    "?- retract(dcIsCollectingDSData(id(10),dataController('RioHealth'),dataSubject('John'),\n",
    "                        personalData('John',976635869),sensitiveData('John','A+'),\n",
    "                        startDate(1622035260),endDate(1637846460))),\n",
    "                        \n",
    "    retract((log('Data Controller did not respect the consent revocation requested by the Data Subject, \n",
    "                and still processing. Thus, fines should be applied','Communication','Violation',1624712875)))."
   ]
  },
  {
   "cell_type": "markdown",
   "id": "cf288a4f",
   "metadata": {},
   "source": [
    "----\n",
    "#### Cause-effect: Data breach, what to do? \n",
    "\n",
    "The Data Controller must inform to national authority and to the Data Subject when a data breach occurs that may cause risks or damage to the Data Subject.\n",
    "\n",
    "Such communication has to be done as soon as possible and should inform:\n",
    "- personal data category\n",
    "- what data were leaked\n",
    "- what were the technical and security measures used to protect data\n",
    "- the risks related to the incident\n",
    "- what the data controller will do to revert or mitigate the damage\n",
    "\n",
    "Depending on the incident severity, the Data Controller will have to disclose such an event in high-impact communication media.\n",
    "\n",
    "In this sense, lets picture that Data Controller suffered from a hacker attack and Data Subject's personal data were leaked on the social media and he is receiving few calls from different numbers. So, Data Controller is **obligated to** inform the incident to ANPD and inform the Data Subject that his phone number was leaked. \n",
    "\n",
    "Even as Data Subject has revoked his consent, he has to be informed regarding the data breach as his data still on the Data Controller's database.\n",
    "\n",
    "![Scenario2_DataBreach](./img/Scenario2_DataBreach.png \"Process 2.2\")\n",
    "Fig.8 - Data Breach Scenario Process.\n",
    "\n",
    "Thus, let translate this scenario in Prolog facts.\n",
    "\n",
    "First, once RioHealth figure out that there is a data breach, the ANPD and the data subjects involved have to be informed about that."
   ]
  },
  {
   "cell_type": "code",
   "execution_count": 26,
   "id": "d41a24f2",
   "metadata": {},
   "outputs": [
    {
     "name": "stdout",
     "output_type": "stream",
     "text": []
    }
   ],
   "source": [
    "log('Data Controller RioHealth triggered an alert to ANPD and to all data subjects affected by\n",
    "    the data breach informing that all phone numbers were exposed','Communication','Obligation',1624712870)."
   ]
  },
  {
   "cell_type": "markdown",
   "id": "3a86cdf4",
   "metadata": {},
   "source": [
    "Next, RioHealth has to explain that they had adopted security actions to avoid data breach. "
   ]
  },
  {
   "cell_type": "code",
   "execution_count": 27,
   "id": "bbb211dc",
   "metadata": {},
   "outputs": [
    {
     "name": "stdout",
     "output_type": "stream",
     "text": []
    }
   ],
   "source": [
    "log('Data Controller RioHealth informed the security measures to do not let data breach occurs',\n",
    "    'Communication','Obligation',1624712871)."
   ]
  },
  {
   "cell_type": "markdown",
   "id": "1f87c3df",
   "metadata": {},
   "source": [
    "Then, RioHealth fixed the vulnerability and inform the data subjects as well."
   ]
  },
  {
   "cell_type": "code",
   "execution_count": 28,
   "id": "c1b360b5",
   "metadata": {},
   "outputs": [
    {
     "name": "stdout",
     "output_type": "stream",
     "text": []
    }
   ],
   "source": [
    "log('Data Controller RioHealth informed that the vulnerability was found \n",
    "    and there is no unauthorized access anymore','Communication','Compliance',1624712872)."
   ]
  },
  {
   "cell_type": "markdown",
   "id": "6591d9c5",
   "metadata": {},
   "source": [
    "Furthermore, RioHealth inform to Data Subjects that there is a technical group available to help anyone that have had troubles caused by this incident."
   ]
  },
  {
   "cell_type": "code",
   "execution_count": 29,
   "id": "035a3579",
   "metadata": {},
   "outputs": [
    {
     "name": "stdout",
     "output_type": "stream",
     "text": []
    }
   ],
   "source": [
    "log('Data Controller RioHealth created a technical team to help any data subject \n",
    "    that have had issues with this incident','Communication','Obligation',1624712873)."
   ]
  },
  {
   "cell_type": "markdown",
   "id": "470856e5",
   "metadata": {},
   "source": [
    "As the log shows, this case can present many different ends depending on the damage caused to the data subjects involved. Here, as the data subject received just a few calls and there was low damage, he decided not to enter in dispute to get reparation compensations, even though the data controller has **violated** the Data Subject's privacy.\n",
    "\n",
    "Moreover, the omission of any fact related to informing the Data Subjects about unauthorized access or neglect the system security, fines should be applied to the Data Controller.\n",
    "\n",
    "Last but not least, if the Data Controller noticed a data breach, once informed, the Data Controller has to act immediately. **LGPD Art. 48**"
   ]
  },
  {
   "cell_type": "code",
   "execution_count": 30,
   "id": "f9de3ca5",
   "metadata": {},
   "outputs": [
    {
     "name": "stdout",
     "output_type": "stream",
     "text": [
      "Event = Data Subject can ask if the Data Controller is processing his/her data, Type = Explanation, DeonticOperator = Permission, Date = 1622035260 ;\n",
      "Event = Data Subject verified the consent term and it was ok, Type = Explanation, DeonticOperator = Obligation, Date = 1622035260 ;\n",
      "Event = Data Subject agrees with consent term, Type = Communication, DeonticOperator = Compliance, Date = 1622035260 ;\n",
      "Event = Data Controller can collect the Data Subject information, Type = Explanation, DeonticOperator = Permission, Date = 1622035260 ;\n",
      "Event = Data Controller can store the Data Subject information, Type = Explanation, DeonticOperator = Permission, Date = 1622035260 ;\n",
      "Event = Data Controller can process the Data Subject information, Type = Explanation, DeonticOperator = Permission, Date = 1622035260 ;\n",
      "Event = Data Subject can now have all foressen rights, Type = Explanation, DeonticOperator = Permission, Date = 1622035260 ;\n",
      "Event = Data Subject considered that the purpose limitation is not adequate, Type = Communication, DeonticOperator = Permission, Date = 1624712875 ;\n",
      "Event = Data Subject requested to the Data Controller to revoke his/her consent, Type = Communication, DeonticOperator = Permission, Date = 1624712875 ;\n",
      "Event = From now, the Data Controller cannot collect the Data Subject information, Type = Communication, DeonticOperator = Prohibition, Date = 1624712875 ;\n",
      "Event = From now, the Data Controller cannot process the Data Subject information, Type = Communication, DeonticOperator = Prohibition, Date = 1624712875 ;\n",
      "Event = From now, consent is not valid to be used by the data controller, Type = Explanation, DeonticOperator = Prohibition, Date = 1624712875 ;\n",
      "Event = Data Controller RioHealth triggered an alert to ANPD and to all data subjects affected by the data breach informing that all phone numbers were exposed, Type = Communication, DeonticOperator = Obligation, Date = 1624712870 ;\n",
      "Event = Data Controller RioHealth informed the security measures to do not let data breach occurs, Type = Communication, DeonticOperator = Obligation, Date = 1624712871 ;\n",
      "Event = Data Controller RioHealth informed that the vulnerability was found and there is no unauthorized access anymore, Type = Communication, DeonticOperator = Compliance, Date = 1624712872 ;\n",
      "Event = Data Controller RioHealth created a technical team to help any data subject that have had issues with this incident, Type = Communication, DeonticOperator = Obligation, Date = 1624712873 ."
     ]
    }
   ],
   "source": [
    "?- log(Event,Type,DeonticOperator,Date) {-1}."
   ]
  },
  {
   "cell_type": "markdown",
   "id": "d45ce67d",
   "metadata": {},
   "source": [
    "Therefore, the data breach impacts many LGPD relationships as depicted in Figure 9.\n"
   ]
  },
  {
   "cell_type": "markdown",
   "id": "88ff8393",
   "metadata": {},
   "source": [
    "![DataBreachImpact](./img/DataBreachImpact.png \"Data Breach Impact\")\n",
    "Fig.9 - Data Breach Impact."
   ]
  },
  {
   "cell_type": "markdown",
   "id": "17b86437",
   "metadata": {},
   "source": [
    "First, as mentioned before, a data breach event must be informed to all agents impacted. This message must contain the security methods and the storage technologies applied to avoid a data breach. However, this is an event that could trigger other impacts. For instance, after a data breach, the data subject could enter in a dispute resolution claiming discrimination, loss, and unauthorized uses of his/her data. \n",
    "\n",
    "Furthermore, the Data Subject might request changes in the consent term, impacting the sharing politics and access restriction. Also, the Data Subject might request consent revocation, data deletion, which affects data collecting, processing, and storing."
   ]
  },
  {
   "cell_type": "code",
   "execution_count": 31,
   "id": "4d1d2bef",
   "metadata": {},
   "outputs": [
    {
     "name": "stdout",
     "output_type": "stream",
     "text": [
      "true.\n",
      "true.\n",
      "true.\n",
      "true."
     ]
    }
   ],
   "source": [
    "% Resetting scenario\n",
    "?- retract(log('Data Controller RioHealth triggered an alert to ANPD and to all data subjects affected by\n",
    "    the data breach informing that all phone numbers were exposed','Communication','Obligation',1624712870)).\n",
    "    \n",
    "?- retract(log('Data Controller RioHealth informed the security measures to do not let data breach \n",
    "    occurs','Communication','Obligation',1624712871)).\n",
    "                        \n",
    "?- retract(log('Data Controller RioHealth informed that the vulnerability was found \n",
    "    and there is no unauthorized access anymore','Communication','Compliance',1624712872)).\n",
    "    \n",
    "?- retract(log('Data Controller RioHealth created a technical team to help any data subject \n",
    "    that have had issues with this incident','Communication','Obligation',1624712873))."
   ]
  },
  {
   "cell_type": "markdown",
   "id": "bf5f8293",
   "metadata": {},
   "source": [
    "----\n",
    "#### Cause-effect: How to get evidences that the Data Controller leaked the Data Subject's data? "
   ]
  },
  {
   "cell_type": "markdown",
   "id": "adc3c232",
   "metadata": {},
   "source": [
    "To create concrete evidence that a Data Controller leaked a Data Subject's data, first, it is important to verify who has such data. If there is just one Data Controller legally storing such data; hence, the chances of such Data Controller had leaked personal data is higher.\n",
    "\n",
    "Moreover, the data controller is **obligated** to inform if personal or sensitive data is stored in the database. The data subject can request such information for each data controller.\n",
    "\n",
    "Last but not least, the data subject should check the consent term to verify if there is any clause/ condition which permits the data controller to share data with others. If the data subject disagrees with such clause, he is **permitted** to revoke the consent term anytime.\n",
    "\n",
    "![Scenario2.2_Process](./img/Scenario2.2_Process.png \"Process 2.2\")\n",
    "Fig.10 - Data Leak Process."
   ]
  },
  {
   "cell_type": "code",
   "execution_count": 32,
   "id": "4e3d352b",
   "metadata": {},
   "outputs": [
    {
     "name": "stdout",
     "output_type": "stream",
     "text": [
      "ID = 10, DataController = RioHealth ."
     ]
    }
   ],
   "source": [
    "% This command verifies who is storing John's personal and health data.\n",
    "\n",
    "?- dcIsStoringDSData(id(ID),dataController(DataController),dataSubject('John'),\n",
    "                    personalData('John',976635869),sensitiveData('John','A+'),\n",
    "                    startDate(1622035260),endDate(1637846460))."
   ]
  },
  {
   "cell_type": "markdown",
   "id": "91fa04a8",
   "metadata": {},
   "source": [
    "Now, let's picture that the Data Controller WellBeingInstitution has John's data."
   ]
  },
  {
   "cell_type": "code",
   "execution_count": 33,
   "id": "c0c202ba",
   "metadata": {},
   "outputs": [
    {
     "name": "stdout",
     "output_type": "stream",
     "text": []
    }
   ],
   "source": [
    "dcIsStoringDSData(id(null),dataController(wellbeinginstitution),dataSubject('John'),\n",
    "                    personalData('John',976635869),sensitiveData('John','A+'),\n",
    "                    startDate(1622035260),endDate(1637846460))"
   ]
  },
  {
   "cell_type": "code",
   "execution_count": 34,
   "id": "f48d2bbf",
   "metadata": {},
   "outputs": [
    {
     "name": "stdout",
     "output_type": "stream",
     "text": [
      "false.\n",
      "false.\n",
      "false.\n",
      "true."
     ]
    }
   ],
   "source": [
    "% These commands:\n",
    "%   (i) verifies if the Data Controller is storing the Data Subject's data;\n",
    "%  (ii) verifies if there is any evidence that the Data Subject allowed the Data Controller to process his/her data;\n",
    "% (iii) if all previous verifications are true, insert in the log that the Data Controller is not allowed \n",
    "%       to collect the Data Subject's data.\n",
    "\n",
    "%(i)\n",
    "?- dcIsStoringDSData(id(null),dataController(wellbeinginstitution),dataSubject('John'),\n",
    "                    personalData('John',976635869),sensitiveData('John','A+'),\n",
    "                    startDate(1622035260),endDate(1637846460)).\n",
    "\n",
    "%(ii)\n",
    "?- dsAgreeWithConsentTerms(dataSubject(wellbeinginstitution),dataController('John'),startDate(1622035260),endDate(1637846460)).\n",
    "   \n",
    "%(ii)\n",
    "?- consentTermStatus(id(10),dataController('RioHealth'),dataSubject('John'),status('Valid')).\n",
    "\n",
    "%(iii)\n",
    "?- assertz(log('Data Subject did not agree with WellBeingInstitution consent term, so the data was improperly collected, \n",
    "    fines should be applied','Explanation','Violation',1624712875))."
   ]
  },
  {
   "cell_type": "markdown",
   "id": "c4f55ab5",
   "metadata": {},
   "source": [
    "Therefore, the event log will show that there is not consent agreement between John and WellBeingInstitution. \n",
    "\n",
    "Hence, WellBeingInstitution was **prohibited** to use such data, i.e., the data was improperly collected. \n",
    "Moreover, as RioHealth is the only Data Controller storing John's data, probably RioHealth **violated**, on purpose or not, the consent term and the data was leaked from Friocruz to WellBeingInstitution.\n",
    "\n",
    "Moreover, this scenario presents the same possible impacts depicted in Figure 9 of the previous plot."
   ]
  },
  {
   "cell_type": "code",
   "execution_count": 35,
   "id": "59302011",
   "metadata": {},
   "outputs": [
    {
     "name": "stdout",
     "output_type": "stream",
     "text": [
      "Event = Data Subject can ask if the Data Controller is processing his/her data, Type = Explanation, DeonticOperator = Permission, Date = 1622035260 ;\n",
      "Event = Data Subject verified the consent term and it was ok, Type = Explanation, DeonticOperator = Obligation, Date = 1622035260 ;\n",
      "Event = Data Subject agrees with consent term, Type = Communication, DeonticOperator = Compliance, Date = 1622035260 ;\n",
      "Event = Data Controller can collect the Data Subject information, Type = Explanation, DeonticOperator = Permission, Date = 1622035260 ;\n",
      "Event = Data Controller can store the Data Subject information, Type = Explanation, DeonticOperator = Permission, Date = 1622035260 ;\n",
      "Event = Data Controller can process the Data Subject information, Type = Explanation, DeonticOperator = Permission, Date = 1622035260 ;\n",
      "Event = Data Subject can now have all foressen rights, Type = Explanation, DeonticOperator = Permission, Date = 1622035260 ;\n",
      "Event = Data Subject considered that the purpose limitation is not adequate, Type = Communication, DeonticOperator = Permission, Date = 1624712875 ;\n",
      "Event = Data Subject requested to the Data Controller to revoke his/her consent, Type = Communication, DeonticOperator = Permission, Date = 1624712875 ;\n",
      "Event = From now, the Data Controller cannot collect the Data Subject information, Type = Communication, DeonticOperator = Prohibition, Date = 1624712875 ;\n",
      "Event = From now, the Data Controller cannot process the Data Subject information, Type = Communication, DeonticOperator = Prohibition, Date = 1624712875 ;\n",
      "Event = From now, consent is not valid to be used by the data controller, Type = Explanation, DeonticOperator = Prohibition, Date = 1624712875 ;\n",
      "Event = Data Subject did not agree with WellBeingInstitution consent term, so the data was improperly collected, fines should be applied, Type = Explanation, DeonticOperator = Violation, Date = 1624712875 ."
     ]
    }
   ],
   "source": [
    "?- log(Event,Type,DeonticOperator,Date) {-1}."
   ]
  },
  {
   "cell_type": "code",
   "execution_count": 36,
   "id": "ff397b10",
   "metadata": {},
   "outputs": [
    {
     "name": "stdout",
     "output_type": "stream",
     "text": [
      "false."
     ]
    }
   ],
   "source": [
    "% Resetting scenario\n",
    "?- retract(log('Data Subject did not agree with WellBeingInstitution consent term, so the data was improperly collected, \n",
    "    fines should be applied','Explanation','Violation',1624712875)),\n",
    "    \n",
    "    retract(dcIsStoringDSData(id(null),dataController(wellbeinginstitution),dataSubject('John'),\n",
    "                    personalData('John',976635869),sensitiveData('John','A+'),\n",
    "                    startDate(1622035260),endDate(1637846460)))."
   ]
  },
  {
   "cell_type": "markdown",
   "id": "96f2c683",
   "metadata": {},
   "source": [
    "----\n",
    "#### Cause-effect: Requesting data correction"
   ]
  },
  {
   "cell_type": "markdown",
   "id": "356082fe",
   "metadata": {},
   "source": [
    "Data correction is one of the Data Subject's right foreseen in LGPD in the moment that the consent term was accepted.\n",
    "Even if the Data Subject revoke his/her consent, the data will not be deleted; a express data deletion request is required.\n",
    "\n",
    "So, in order to check if the data corretion request was accomplished, the Data Subject should call another right - data access.\n",
    "\n",
    "The data controller is **obligated** to abide by the data subjects' requests as correction as data access.\n",
    "Also, the controller is **obligated** to inform all processors regarding the correction.\n",
    "\n",
    "\n",
    "<div>\n",
    "<img src=\"./img/Scenario2.3_Process.png\" width=\"600\"/>\n",
    "</div>\n",
    "Fig.11 - Data Correction Process.\n",
    "\n",
    "First, the Data Subject should verify if the Data Controller is storing his/her data."
   ]
  },
  {
   "cell_type": "code",
   "execution_count": 37,
   "id": "119ccf93",
   "metadata": {},
   "outputs": [
    {
     "name": "stdout",
     "output_type": "stream",
     "text": [
      "true."
     ]
    }
   ],
   "source": [
    "?- dcIsStoringDSData(id(10),dataController('RioHealth'),dataSubject('John'),\n",
    "                    personalData('John',976635869),sensitiveData('John','A+'),\n",
    "                    startDate(1622035260),endDate(1637846460))."
   ]
  },
  {
   "cell_type": "markdown",
   "id": "01e403cf",
   "metadata": {},
   "source": [
    "If true, the Data Subject should have the right to data access and data correction."
   ]
  },
  {
   "cell_type": "code",
   "execution_count": 38,
   "id": "ba89c6ce",
   "metadata": {},
   "outputs": [
    {
     "name": "stdout",
     "output_type": "stream",
     "text": [
      "true."
     ]
    }
   ],
   "source": [
    "?- dsRight(dataAccess,dataSubject('John'),dataController('RioHealth')),\n",
    "    dsRight(dataCorrection,dataSubject('John'),dataController('RioHealth'))."
   ]
  },
  {
   "cell_type": "markdown",
   "id": "18b3db3a",
   "metadata": {},
   "source": [
    "Then, the Data Subject is able to request and verify if the data was changed."
   ]
  },
  {
   "cell_type": "code",
   "execution_count": 39,
   "id": "209b62a5",
   "metadata": {},
   "outputs": [
    {
     "name": "stdout",
     "output_type": "stream",
     "text": []
    }
   ],
   "source": [
    "log('Data Subject requested to change his blood type to A+','Communication','Permission',1624712876)."
   ]
  },
  {
   "cell_type": "markdown",
   "id": "c934599e",
   "metadata": {},
   "source": [
    "And the Data Controller executed this correction."
   ]
  },
  {
   "cell_type": "code",
   "execution_count": 40,
   "id": "634be98e",
   "metadata": {
    "scrolled": true
   },
   "outputs": [
    {
     "name": "stdout",
     "output_type": "stream",
     "text": [
      "true."
     ]
    }
   ],
   "source": [
    "% First, the Data Controller verifies if the Data Subject has the rights requiered to perform such action.\n",
    "% Then, remove the incorrect data and insert the new data.\n",
    "\n",
    "\n",
    "?-  dsRight(dataCorrection,dataSubject('John'),dataController('RioHealth')),\n",
    "\n",
    "    retract(dcIsStoringDSData(id(10),dataController('RioHealth'),dataSubject('John'),\n",
    "                    personalData('John',976635869),sensitiveData('John','A+'),\n",
    "                    startDate(1622035260),endDate(1637846460))),\n",
    "\n",
    "    assertz(dcIsStoringDSData(id(10),dataController('RioHealth'),dataSubject('John'),\n",
    "                    personalData('John',976635869),sensitiveData('John','A+'),\n",
    "                    startDate(1622035260),endDate(1637846460))),\n",
    "    \n",
    "    assertz(log('Data Controller has to execute the Data Subject s requerst','Explanation','Obligation',1624712876)),\n",
    "        \n",
    "    assertz(log('Data Controller changed the data as requested by the Data Subject','Communication','Compliance',1624712880)),\n",
    "    \n",
    "    assertz(log('Data Controller notified all processors regarding the data corretion','Communication','Compliance',1624712880))."
   ]
  },
  {
   "cell_type": "markdown",
   "id": "5f66160a",
   "metadata": {},
   "source": [
    "Hence, as the data controler attended the data subject's request, it still in **compliance** with the LGPD. The Data Subject can verify if the data was fixed."
   ]
  },
  {
   "cell_type": "code",
   "execution_count": 41,
   "id": "46ac038a",
   "metadata": {},
   "outputs": [
    {
     "name": "stdout",
     "output_type": "stream",
     "text": [
      "DataController = RioHealth, BloodType = A+ ."
     ]
    }
   ],
   "source": [
    "% If the Data Subject has the right to access his/her data, then he/she is able to verify if his/her data was fixed.\n",
    "\n",
    "?-  dsRight(dataAccess,dataSubject('John'),dataController('RioHealth')),\n",
    "    dcIsStoringDSData(id(10),dataController(DataController),dataSubject('John'),\n",
    "                    personalData('John',976635869),sensitiveData('John',BloodType),\n",
    "                    startDate(1622035260),endDate(1637846460)),\n",
    "    assertz(log('Data Subject confirmed that the data was fixed','Explanation','Permission',1624712886))."
   ]
  },
  {
   "cell_type": "code",
   "execution_count": 42,
   "id": "80439aab",
   "metadata": {},
   "outputs": [
    {
     "name": "stdout",
     "output_type": "stream",
     "text": [
      "Event = Data Subject requested to change his blood type to A+, Type = Communication, DeonticOperator = Permission, Date = 1624712876 ;\n",
      "Event = Data Controller has to execute the Data Subject s requerst, Type = Explanation, DeonticOperator = Obligation, Date = 1624712876 ;\n",
      "Event = Data Controller changed the data as requested by the Data Subject, Type = Communication, DeonticOperator = Compliance, Date = 1624712880 ;\n",
      "Event = Data Controller notified all processors regarding the data corretion, Type = Communication, DeonticOperator = Compliance, Date = 1624712880 ;\n",
      "Event = Data Subject confirmed that the data was fixed, Type = Explanation, DeonticOperator = Permission, Date = 1624712886 ."
     ]
    }
   ],
   "source": [
    "?- log(Event,Type,DeonticOperator,Date), Date >= 1624712876 {-1}."
   ]
  },
  {
   "cell_type": "markdown",
   "id": "3f8c30a5",
   "metadata": {},
   "source": [
    "Therefore, the data correction impacts many LGPD relationships as depicted in Figure 12."
   ]
  },
  {
   "cell_type": "markdown",
   "id": "c2d1e593",
   "metadata": {},
   "source": [
    "![DataCorrectionImpact](./img/DataCorrectionImpact.png \"Data Correction Impact\")\n",
    "Fig.12 - Data Correction Impact."
   ]
  },
  {
   "cell_type": "markdown",
   "id": "c4acbc1b",
   "metadata": {},
   "source": [
    "The data correction impacts data processing and data storage, as the personal or sensitive data were changed. Therefore, Data Controllers and Processors should also verify if the copy requested by the Data Subject is the updated personal and sensitive data."
   ]
  },
  {
   "cell_type": "code",
   "execution_count": 43,
   "id": "cb481a4d",
   "metadata": {},
   "outputs": [
    {
     "name": "stdout",
     "output_type": "stream",
     "text": [
      "true."
     ]
    }
   ],
   "source": [
    "% Resetting scenario\n",
    "?-  retract(log('Data Subject requested to change his blood type to A+','Communication','Permission',1624712876)),\n",
    "    retract(log('Data Controller has to execute the Data Subject s requerst','Explanation','Obligation',1624712876)),\n",
    "    retract(log('Data Controller changed the data as requested by the Data Subject','Communication','Compliance',1624712880)),\n",
    "    retract(log('Data Subject confirmed that the data was fixed','Explanation','Permission',1624712886)),\n",
    "    retract(log('Data Controller notified all processors regarding the data corretion','Communication','Compliance',1624712880)),\n",
    "    retract(dcIsStoringDSData(id(10),dataController('RioHealth'),dataSubject('John'),\n",
    "                    personalData('John',976635869),sensitiveData('John','A+'),\n",
    "                    startDate(1622035260),endDate(1637846460))),\n",
    "    assertz(dcIsStoringDSData(id(10),dataController('RioHealth'),dataSubject('John'),\n",
    "                    personalData('John',976635869),sensitiveData('John','A+'),\n",
    "                    startDate(1622035260),endDate(1637846460)))."
   ]
  },
  {
   "cell_type": "markdown",
   "id": "89f7c177",
   "metadata": {},
   "source": [
    "----\n",
    "#### Cause-effect: Requesting anonymization\n",
    "\n",
    "Let's picture that the Data Subject requested the data anonymization right. Once the data is anonymized, the Data Controller will not have the resources to give any details about such data, including correction. Hence, after this request, the data controller is **not obligated** to comply with requests that should involve reidentification actions.\n",
    "\n",
    "Also, the controller is **obligated** to inform all processors regarding the anonymization.\n",
    "\n",
    "Here, questions regarding the anonymization algorithms could emerge, but this is not the focus of this work.\n",
    "This work focus on the causes and consequences understanding of possible scenarios.\n",
    "\n",
    "\n",
    "<div>\n",
    "<img src=\"./img/Scenario2.4_Process.png\" width=\"600\"/>\n",
    "</div>\n",
    "Fig.13 - Data Anonymization Process.\n",
    "\n",
    "First, the Data Subject should show that the Data Controller has his data."
   ]
  },
  {
   "cell_type": "code",
   "execution_count": 44,
   "id": "386639b6",
   "metadata": {},
   "outputs": [
    {
     "name": "stdout",
     "output_type": "stream",
     "text": [
      "true."
     ]
    }
   ],
   "source": [
    "?- dcIsStoringDSData(id(10),dataController('RioHealth'),dataSubject('John'),\n",
    "                    personalData('John',976635869),sensitiveData('John','A+'),\n",
    "                    startDate(1622035260),endDate(1637846460)),\n",
    "                    \n",
    "    assertz(log('Data Subject requested to anonymize his data','Communication','Permission',1624712877))."
   ]
  },
  {
   "cell_type": "markdown",
   "id": "8930e4c8",
   "metadata": {},
   "source": [
    "Next, the Data Controller accomplish the Data Subject request."
   ]
  },
  {
   "cell_type": "code",
   "execution_count": 45,
   "id": "d093fa07",
   "metadata": {},
   "outputs": [
    {
     "name": "stdout",
     "output_type": "stream",
     "text": [
      "true."
     ]
    }
   ],
   "source": [
    "?- dcIsStoringDSData(id(10),dataController('RioHealth'),dataSubject('John'),\n",
    "                    personalData('John',976635869),sensitiveData('John','A+'),\n",
    "                    startDate(1622035260),endDate(1637846460)), \n",
    "\n",
    "    retract(dcIsStoringDSData(id(10),dataController('RioHealth'),dataSubject('John'),\n",
    "                    personalData('John',976635869),sensitiveData('John','A+'),\n",
    "                    startDate(1622035260),endDate(1637846460))),\n",
    "\n",
    "    assertz(dcIsStoringDSData(id(_),dataController('RioHealth'),dataSubject(_),\n",
    "                    personalData(_,_),sensitiveData(_,'A+'),\n",
    "                    startDate(1622035260),endDate(1637846460))),\n",
    "\n",
    "    assertz(log('Data Controller has to execute the Data Subject s request','Delete-Anonymise','Compliance',1624712878)),\n",
    "    assertz(log('Data Controller has to notify all processors regarding the anonymization request','Delete-Anonymise','Compliance',1624712878)),\n",
    "    assertz(log('Data Controller anonymized the Data Subjects data','Delete-Anonymise','Compliance',1624712878)),\n",
    "    assertz(log('Data Subject cannot request data: access, copy, correction,anonymization, \n",
    "            portability, deletion, and details of data sharing','Communication','Prohibition',1624712878)),\n",
    "    \n",
    "    retract(dsRight(dataAccess,dataSubject('John'),dataController('RioHealth'))),\n",
    "    retract(dsRight(dataCopy,dataSubject('John'),dataController('RioHealth'))),\n",
    "    retract(dsRight(dataCorrection,dataSubject('John'),dataController('RioHealth'))),\n",
    "    retract(dsRight(dataAnonymization,dataSubject('John'),dataController('RioHealth'))),\n",
    "    retract(dsRight(dataPortability,dataSubject('John'),dataController('RioHealth'))),\n",
    "    retract(dsRight(dataDeletion,dataSubject('John'),dataController('RioHealth'))),\n",
    "    retract(dsRight(dataSharingInformation,dataSubject('John'),dataController('RioHealth')))."
   ]
  },
  {
   "cell_type": "markdown",
   "id": "e0855f52",
   "metadata": {},
   "source": [
    "Now, the Data Subject's blood type is not associated with any personal data that could identify that such data is from the Data Subject. Hence, the data controller is in **compliance** with LGPD."
   ]
  },
  {
   "cell_type": "code",
   "execution_count": 46,
   "id": "2ff0d1fa",
   "metadata": {},
   "outputs": [
    {
     "name": "stdout",
     "output_type": "stream",
     "text": [
      "DataSubject = Variable(70) ."
     ]
    }
   ],
   "source": [
    "?- dcIsStoringDSData(id(_),dataController('RioHealth'),dataSubject(DataSubject),\n",
    "                    personalData(_,_),sensitiveData(_,'A+'),\n",
    "                    startDate(1622035260),endDate(1637846460))."
   ]
  },
  {
   "cell_type": "code",
   "execution_count": 47,
   "id": "db733936",
   "metadata": {},
   "outputs": [
    {
     "name": "stdout",
     "output_type": "stream",
     "text": [
      "Event = Data Subject requested to anonymize his data, Type = Communication, DeonticOperator = Permission, Date = 1624712877 ;\n",
      "Event = Data Controller has to execute the Data Subject s request, Type = Delete-Anonymise, DeonticOperator = Compliance, Date = 1624712878 ;\n",
      "Event = Data Controller has to notify all processors regarding the anonymization request, Type = Delete-Anonymise, DeonticOperator = Compliance, Date = 1624712878 ;\n",
      "Event = Data Controller anonymized the Data Subjects data, Type = Delete-Anonymise, DeonticOperator = Compliance, Date = 1624712878 ;\n",
      "Event = Data Subject cannot request data: access, copy, correction,anonymization, portability, deletion, and details of data sharing, Type = Communication, DeonticOperator = Prohibition, Date = 1624712878 ."
     ]
    }
   ],
   "source": [
    "?- log(Event,Type,DeonticOperator,Date), Date >= 1624712876 {-1}."
   ]
  },
  {
   "cell_type": "markdown",
   "id": "6055ee75",
   "metadata": {},
   "source": [
    "So, the remain right is the one that every Data Subject has: the right to ask if a Data Controller is processing his/her data."
   ]
  },
  {
   "cell_type": "code",
   "execution_count": 48,
   "id": "46123744",
   "metadata": {},
   "outputs": [
    {
     "name": "stdout",
     "output_type": "stream",
     "text": [
      "RIGHT = processingConfirmation ."
     ]
    }
   ],
   "source": [
    "?- dsRight(RIGHT,dataSubject('John'),dataController('RioHealth'))."
   ]
  },
  {
   "cell_type": "markdown",
   "id": "876ea09a",
   "metadata": {},
   "source": [
    "Therefore, the data anonymization impacts many LGPD relationships, as depicted in Figure 14."
   ]
  },
  {
   "cell_type": "markdown",
   "id": "a68e562c",
   "metadata": {},
   "source": [
    "![DataAnonymizationImpact](./img/DataAnonymizationImpact.png \"Data Anonymization Impact\")\n",
    "Fig.14-  Data anonymization Impact."
   ]
  },
  {
   "cell_type": "markdown",
   "id": "d50d1085",
   "metadata": {},
   "source": [
    "Data anonymization impacts almost all Data Subjects Rights. The anonymization process may turn the personal data not identifiable anymore. Hence, the anonymized data is out of LGPD's scope. In this sense, requests related to data access, deletion, correction, portability, or copy, may not be answered by the Data Controller, as the Controller might not identify the Data Subject anymore."
   ]
  },
  {
   "cell_type": "code",
   "execution_count": 49,
   "id": "ed8d00f4",
   "metadata": {},
   "outputs": [
    {
     "name": "stdout",
     "output_type": "stream",
     "text": [
      "true."
     ]
    }
   ],
   "source": [
    "% Resetting scenario\n",
    "?-  retract(dcIsStoringDSData(id(_),dataController('RioHealth'),dataSubject(_),\n",
    "                    personalData(_,_),sensitiveData(_,'A+'),\n",
    "                    startDate(1622035260),endDate(1637846460))),\n",
    "    retract(log('Data Subject requested to anonymize his data','Communication','Permission',1624712877)),\n",
    "    retract(log('Data Controller has to execute the Data Subject s request','Delete-Anonymise','Compliance',1624712878)),\n",
    "    retract(log('Data Controller has to notify all processors regarding the anonymization request','Delete-Anonymise','Compliance',1624712878)),\n",
    "    retract(log('Data Controller anonymized the Data Subjects data','Delete-Anonymise','Compliance',1624712878)),\n",
    "    retract(log('Data Subject cannot request data: access, copy, correction,anonymization, \n",
    "            portability, deletion, and details of data sharing','Communication','Prohibition',1624712878)),\n",
    "    assertz(dsRight(dataAccess,dataSubject('John'),dataController('RioHealth'))),\n",
    "    assertz(dsRight(dataCopy,dataSubject('John'),dataController('RioHealth'))),\n",
    "    assertz(dsRight(dataCorrection,dataSubject('John'),dataController('RioHealth'))),\n",
    "    assertz(dsRight(dataAnonymization,dataSubject('John'),dataController('RioHealth'))),\n",
    "    assertz(dsRight(dataPortability,dataSubject('John'),dataController('RioHealth'))),\n",
    "    assertz(dsRight(dataDeletion,dataSubject('John'),dataController('RioHealth'))),\n",
    "    assertz(dsRight(dataSharingInformation,dataSubject('John'),dataController('RioHealth')))."
   ]
  },
  {
   "cell_type": "code",
   "execution_count": 50,
   "id": "74d24dae",
   "metadata": {},
   "outputs": [
    {
     "name": "stdout",
     "output_type": "stream",
     "text": [
      "true."
     ]
    }
   ],
   "source": [
    "?-  assertz(dcIsStoringDSData(id(10),dataController('RioHealth'),dataSubject('John'),\n",
    "                    personalData('John',976635869),sensitiveData('John','A+'),\n",
    "                    startDate(1622035260),endDate(1637846460)))."
   ]
  },
  {
   "cell_type": "code",
   "execution_count": 51,
   "id": "20c7b538",
   "metadata": {},
   "outputs": [
    {
     "name": "stdout",
     "output_type": "stream",
     "text": [
      "true."
     ]
    }
   ],
   "source": [
    "?- dcIsStoringDSData(id(10),dataController('RioHealth'),dataSubject('John'),\n",
    "                    personalData('John',976635869),sensitiveData('John','A+'),\n",
    "                    startDate(1622035260),endDate(1637846460))."
   ]
  },
  {
   "cell_type": "markdown",
   "id": "ecba5029",
   "metadata": {},
   "source": [
    "----\n",
    "#### Cause-effect: Data deletion"
   ]
  },
  {
   "cell_type": "markdown",
   "id": "8f31665e",
   "metadata": {},
   "source": [
    "As mentioned before, there is more than one definition for data deletion. In the case aforementioned, we anonymized the data, which can be considered as data deletion. Now, let's picture that the Data Subject John wants to destroy his data from the RioHealth database. \n",
    "\n",
    "However, the LGPD foresees some situations that the Data Controller can persist the personal data even with an explicit request to delete from the Data Subject.\n",
    "\n",
    "The following purposes, also described in LGPD art. 16, legitimizes, i.e., **allow** the Data Controller to have still the personal data stored in the database:\n",
    " - I - compliance with a legal or regulatory obligation by the controller;\n",
    " - II - study by a research institution, ensuring, whenever possible, the anonymization of personal data;\n",
    " - III - transfer to a third party, provided that the data processing requirements set out in this Law is respected; or\n",
    " - IV - exclusive use of the controller, its access by a third party is prohibited, and anonymization is required as well."
   ]
  },
  {
   "cell_type": "markdown",
   "id": "e59e67fd",
   "metadata": {},
   "source": [
    "<div>\n",
    "<img src=\"./img/Scenario2_DataDeletion.png\" width=\"600\"/>\n",
    "</div>\n",
    "Fig.15 - Data Deletion Process."
   ]
  },
  {
   "cell_type": "markdown",
   "id": "03fff1f7",
   "metadata": {},
   "source": [
    "As the RioHealth purpose is based on the research; hence, RioHealth can reject the Data Subject request."
   ]
  },
  {
   "cell_type": "code",
   "execution_count": 52,
   "id": "a775aa85",
   "metadata": {},
   "outputs": [
    {
     "name": "stdout",
     "output_type": "stream",
     "text": [
      "Purpose = research ."
     ]
    }
   ],
   "source": [
    "?- purpose('RioHealth','John',Purpose)."
   ]
  },
  {
   "cell_type": "markdown",
   "id": "515afe66",
   "metadata": {},
   "source": [
    "In order to specify the rule that defines if the Data Controller has the right to keep the Data Subject's data, we developed the following function."
   ]
  },
  {
   "cell_type": "code",
   "execution_count": 53,
   "id": "4d8de40d",
   "metadata": {},
   "outputs": [
    {
     "name": "stdout",
     "output_type": "stream",
     "text": []
    }
   ],
   "source": [
    "% Description: This function verifies if the Data Controller purpose is elegible to hold the Data Subject's data.\n",
    "% This function receives the params:\n",
    "%  i. Data Subject\n",
    "% ii. Data Controller\n",
    "\n",
    "verifyIfDCCanHoldDSData(dataController(DC),dataSubject(DS)) :-\n",
    "    purpose(DC,DS,legalObligation), assertz(dcCanHoldData(dataController(DC),dataSubject(DS)));\n",
    "    purpose(DC,DS,research), assertz(dcCanHoldData(dataController(DC),dataSubject(DS)));\n",
    "    purpose(DC,DS,transferToThirdParty), assertz(dcCanHoldData(dataController(DC),dataSubject(DS)));\n",
    "    purpose(DC,DS,exclusiveDCUse), assertz(dcCanHoldData(dataController(DC),dataSubject(DS)));\n",
    "    assertz(dcCanHoldData('',''))."
   ]
  },
  {
   "cell_type": "markdown",
   "id": "ee6de86b",
   "metadata": {},
   "source": [
    "So, let's run the above function to verify if a new fact is generated informing that the Data Controller can hold de Data Subject's data."
   ]
  },
  {
   "cell_type": "code",
   "execution_count": 54,
   "id": "7154aa75",
   "metadata": {},
   "outputs": [
    {
     "name": "stdout",
     "output_type": "stream",
     "text": [
      " ;\n",
      " ."
     ]
    }
   ],
   "source": [
    "?- verifyIfDCCanHoldDSData(dataController('RioHealth'),dataSubject('John'))."
   ]
  },
  {
   "cell_type": "markdown",
   "id": "3fabdba6",
   "metadata": {},
   "source": [
    "Then, let's verify if such a fact was generated."
   ]
  },
  {
   "cell_type": "code",
   "execution_count": 55,
   "id": "0dcb3074",
   "metadata": {},
   "outputs": [
    {
     "name": "stdout",
     "output_type": "stream",
     "text": [
      "true."
     ]
    }
   ],
   "source": [
    "?- dcCanHoldData(dataController('RioHealth'),dataSubject('John'))."
   ]
  },
  {
   "cell_type": "markdown",
   "id": "251f1922",
   "metadata": {},
   "source": [
    "In this sense, let's simulate the request for data deletion from the Data Subject John to the Data Controller RioHealth."
   ]
  },
  {
   "cell_type": "code",
   "execution_count": 56,
   "id": "10ac9091",
   "metadata": {},
   "outputs": [
    {
     "name": "stdout",
     "output_type": "stream",
     "text": []
    }
   ],
   "source": [
    "log('Data Subject requested to delete his data','Communication','Permission',1624712877)."
   ]
  },
  {
   "cell_type": "code",
   "execution_count": 57,
   "id": "61c9e45a",
   "metadata": {},
   "outputs": [
    {
     "name": "stdout",
     "output_type": "stream",
     "text": []
    }
   ],
   "source": [
    "log('Data Controller received the data deletion request and will evaluate the solicitation','Communication','Compliance',1624712878)."
   ]
  },
  {
   "cell_type": "code",
   "execution_count": 58,
   "id": "541e5c4c",
   "metadata": {},
   "outputs": [
    {
     "name": "stdout",
     "output_type": "stream",
     "text": [
      "true."
     ]
    }
   ],
   "source": [
    "?- dcCanHoldData(dataController('RioHealth'),dataSubject('John')),\n",
    "    \n",
    "    assertz(log('Data Controller can hold the data because its purpose allows it.','Explanation','Permission',1624712879)),\n",
    "\n",
    "    assertz(log('Data Controller decided to keep the data on the database.','Communication','Compliance',1624712880))."
   ]
  },
  {
   "cell_type": "code",
   "execution_count": 59,
   "id": "5e3d3108",
   "metadata": {},
   "outputs": [
    {
     "name": "stdout",
     "output_type": "stream",
     "text": []
    }
   ],
   "source": [
    "% Description: This function defines delete the Data Subject's data if the Data Controller is allowed to do that.\n",
    "% This function receives the params:\n",
    "%    i. Data Subject\n",
    "%   ii. Data Controller\n",
    "%  iii. Date Time\n",
    "\n",
    "\n",
    "requestToDeleteDSData(dataSubject(DS),dataController(DC),date(DT)) :- \n",
    " not(dcCanHoldData(dataController(DC),dataSubject(DS))),\n",
    " assertz(log('Data Controller has to delete the data.','Communication','Obligation',DT))."
   ]
  },
  {
   "cell_type": "code",
   "execution_count": 60,
   "id": "979bb139",
   "metadata": {},
   "outputs": [
    {
     "name": "stdout",
     "output_type": "stream",
     "text": [
      "false."
     ]
    }
   ],
   "source": [
    "?- requestToDeleteDSData(dataSubject('John'),dataController('RioHealth'),date(1624712881))."
   ]
  },
  {
   "cell_type": "markdown",
   "id": "8b35e918",
   "metadata": {},
   "source": [
    "Why 1: This method returned false because the Data Controller can keep the Data Subject's data, as presented bellow."
   ]
  },
  {
   "cell_type": "code",
   "execution_count": 61,
   "id": "73d3c01b",
   "metadata": {},
   "outputs": [
    {
     "name": "stdout",
     "output_type": "stream",
     "text": [
      "true."
     ]
    }
   ],
   "source": [
    "?-  dcCanHoldData(dataController('RioHealth'),dataSubject('John'))."
   ]
  },
  {
   "cell_type": "markdown",
   "id": "fbbdd1e7",
   "metadata": {},
   "source": [
    "Why 2: The Data Controller can keep personal data because it will be used for research purposes."
   ]
  },
  {
   "cell_type": "code",
   "execution_count": 62,
   "id": "f9c57d00",
   "metadata": {},
   "outputs": [
    {
     "name": "stdout",
     "output_type": "stream",
     "text": [
      "DC = RioHealth, Purpose = research ."
     ]
    }
   ],
   "source": [
    "?- purpose(DC,'John',Purpose)."
   ]
  },
  {
   "cell_type": "markdown",
   "id": "cae27e3b",
   "metadata": {},
   "source": [
    "It means that the purpose presented by the Data Controller is valid to **permits** that RioHealth holds the Data Subject's data. However, it is important to note that LGPD recommends anonymizing data in these cases."
   ]
  },
  {
   "cell_type": "code",
   "execution_count": 63,
   "id": "fbdf9f95",
   "metadata": {},
   "outputs": [
    {
     "name": "stdout",
     "output_type": "stream",
     "text": [
      "Event = Data Subject requested to delete his data, Type = Communication, DeonticOperator = Permission, Date = 1624712877 ;\n",
      "Event = Data Controller received the data deletion request and will evaluate the solicitation, Type = Communication, DeonticOperator = Compliance, Date = 1624712878 ;\n",
      "Event = Data Controller can hold the data because its purpose allows it., Type = Explanation, DeonticOperator = Permission, Date = 1624712879 ;\n",
      "Event = Data Controller decided to keep the data on the database., Type = Communication, DeonticOperator = Compliance, Date = 1624712880 ."
     ]
    }
   ],
   "source": [
    "?- log(Event,Type,DeonticOperator,Date), Date >= 1624712876 {-1}."
   ]
  },
  {
   "cell_type": "markdown",
   "id": "1c0d4fe1",
   "metadata": {},
   "source": [
    "Therefore, as depicted in Figure 16, the request for data deletion may impacts differently depending on the purpose limitation. For example, the data storage may have to anonymize the data. Moreover, if the data was deleted or anonymized, the Data Controller cannot achieve requests related to data correction, portability, and copy anymore."
   ]
  },
  {
   "cell_type": "markdown",
   "id": "3ac906a8",
   "metadata": {},
   "source": [
    "![DataDeletionImpact](./img/DataDeletionImpact.png \"Data Deletion Impact\")\n",
    "Fig.16 - Data Deletion Impact."
   ]
  },
  {
   "cell_type": "code",
   "execution_count": 64,
   "id": "572c79a3",
   "metadata": {},
   "outputs": [
    {
     "name": "stdout",
     "output_type": "stream",
     "text": [
      "true."
     ]
    }
   ],
   "source": [
    "% Resetting scenario\n",
    "?-  retract(dcCanHoldData(dataController('RioHealth'),dataSubject('John'))),\n",
    "    retract(log('Data Subject requested to delete his data','Communication','Permission',1624712877)),\n",
    "    retract(log('Data Controller received the data deletion request and will evaluate the solicitation',\n",
    "        'Communication','Compliance',1624712878)),\n",
    "    retract(log('Data Controller can hold the data because its purpose allows it.','Explanation','Permission',1624712879)),\n",
    "    retract(log('Data Controller decided to keep the data on the database.','Communication','Compliance',1624712880))."
   ]
  },
  {
   "cell_type": "markdown",
   "id": "74d8864d",
   "metadata": {},
   "source": [
    "----\n",
    "#### Cause-effect: Technology unavailability\n",
    "\n",
    "Companies are vulnerable to technical fault, unavailability, or security breach. In this sense, Data Subjects might be impacted by technology throubles, or not. In some cases, the technology unavailability may not impact Data Subjects, but only internal companies' processes.\n",
    "\n",
    "In this scenario, we will simulate an event of technology unavailability, i.e., let's picture that RioHealth cloud server, which has the personal data storage, is offline. Internally, RioHealth suffered a high impact of this unavailability; all systems that depend on this database are offline, i.e., the internal data governance is jeopardized/ compromised.\n",
    "\n",
    "Figure 17 depicts the impact of system unavailability."
   ]
  },
  {
   "cell_type": "markdown",
   "id": "810db33c",
   "metadata": {},
   "source": [
    "![DataUnavailabilityImpact](./img/DataUnavailabilityImpact.png \"Data Unavilability Impact\")\n",
    "Fig.17 - Data Unavailability Impact."
   ]
  },
  {
   "cell_type": "markdown",
   "id": "f6cfdc44",
   "metadata": {},
   "source": [
    "Besides the governance, data unavailability may impacts directly the users' rights. For example, without the system, the Data Controller and Processor cannot delete or execute data corrections. Moreover, if a Data Controller requests for portability, anonymization, or portability, the Data Controller will not be able to attend to such requests as fast as expected; a considerable delay is expected, instead. Furthermore, depending on the delay, fines can be applied, but they should be evaluated case-by-case."
   ]
  },
  {
   "cell_type": "markdown",
   "id": "584bfd7a",
   "metadata": {},
   "source": [
    "----\n",
    "#### Cause-effect: Inconsistent behavior\n",
    "\n",
    "Forecast human behavior can be a big challenge; the strange behaviors can be originated from different aspects, such as by a bad interface, system instability or error, or by a malicious person. In this sense, let's picture a person who agrees and revokes consent repeatedly in a short time-space."
   ]
  },
  {
   "cell_type": "code",
   "execution_count": 65,
   "id": "a0c27ef9",
   "metadata": {},
   "outputs": [
    {
     "name": "stdout",
     "output_type": "stream",
     "text": [
      "EndDate = 1640524090 ."
     ]
    }
   ],
   "source": [
    "?- createConsentTerm(12,'RioHealth','Brian',9000000,'AB+',research,\n",
    "                'genetic_factors_related_to_COVID-19',\n",
    "                'statistic_analysis',\n",
    "                15811200,\n",
    "                'vaccination_priorization',\n",
    "                'e-mail',\n",
    "                'lgpd@riohealth.br',\n",
    "                'SHA256',\n",
    "                'Authorized researchers can access the data only',\n",
    "                'RioHealth private cloud'),\n",
    "                \n",
    "    assertz(dsRight(processingConfirmation,dataSubject('Brian'),dataController('RioHealth'))),\n",
    "    assertz(log('Data Subject can ask if the Data Controller is processing his/her data','Explanation','Permission',1624712890)),\n",
    "\n",
    "    checkConsentTerm(id(12),dataController('RioHealth'),\n",
    "                        dataSubject('Brian'),\n",
    "                        purpose('RioHealth',research),\n",
    "                        'genetic_factors_related_to_COVID-19',\n",
    "                        'statistic_analysis',\n",
    "                        15811200,\n",
    "                        'vaccination_priorization',\n",
    "                        'e-mail',\n",
    "                        'lgpd@riohealth.br',\n",
    "                        1624712890),\n",
    "                        \n",
    "    setThatdsAgreeWithConsentTerms(id(12),\n",
    "                                dataSubject('Brian'),\n",
    "                                dataController('RioHealth'),\n",
    "                                requestFormat('Direct','Brian','null'),                                \n",
    "                                personalData('Brian',9000000),\n",
    "                                sensitiveData('Brian','AB+'),\n",
    "                                startDate(1622035290),\n",
    "                                endDate(EndDate)), EndDate is 1624712890+15811200,\n",
    "                        \n",
    "    setDSRights(dataSubject('Brian'),dataController('RioHealth'),startDate(1624712890))."
   ]
  },
  {
   "cell_type": "code",
   "execution_count": 66,
   "id": "bf688cfa",
   "metadata": {},
   "outputs": [
    {
     "name": "stdout",
     "output_type": "stream",
     "text": [
      "EndDate = 1640524090 ."
     ]
    }
   ],
   "source": [
    "?- setDSRevokeConsent(id(12),\n",
    "                        dataSubject('Brian'),\n",
    "                        dataController('RioHealth'),\n",
    "                        personalData('Brian',9000000),\n",
    "                        sensitiveData('Brian','AB+'),\n",
    "                        now(1624712892),\n",
    "                        startDate(1622035290),\n",
    "                        endDate(EndDate)), \n",
    "                        EndDate is 1624712890+15811200."
   ]
  },
  {
   "cell_type": "code",
   "execution_count": 67,
   "id": "cd221fed",
   "metadata": {},
   "outputs": [
    {
     "name": "stdout",
     "output_type": "stream",
     "text": [
      "EndDate = 1640524092 ;\n",
      "EndDate = 1640524092 ;\n",
      "EndDate = 1640524092 ;\n",
      "EndDate = 1640524092 ;\n",
      "EndDate = 1640524092 ;\n",
      "EndDate = 1640524092 ;\n",
      "EndDate = 1640524092 ;\n",
      "EndDate = 1640524092 ;\n",
      "EndDate = 1640524092 ;\n",
      "EndDate = 1640524092 ."
     ]
    }
   ],
   "source": [
    "?- createConsentTerm(13,'RioHealth','Brian',9000000,'AB+',research,\n",
    "                'genetic_factors_related_to_COVID-19',\n",
    "                'statistic_analysis',\n",
    "                15811200,\n",
    "                'vaccination_priorization',\n",
    "                'e-mail',\n",
    "                'lgpd@riohealth.br',\n",
    "                'SHA256',\n",
    "                'Authorized researchers can access the data only',\n",
    "                'RioHealth private cloud'),\n",
    "                \n",
    "    assertz(dsRight(processingConfirmation,dataSubject('Brian'),dataController('RioHealth'))),\n",
    "    assertz(log('Data Subject can ask if the Data Controller is processing his/her data','Explanation','Permission',1624712892)),\n",
    "\n",
    "    checkConsentTerm(id(13),dataController('RioHealth'),\n",
    "                        dataSubject('Brian'),\n",
    "                        purpose('RioHealth',research),\n",
    "                        'genetic_factors_related_to_COVID-19',\n",
    "                        'statistic_analysis',\n",
    "                        15811200,\n",
    "                        'vaccination_priorization',\n",
    "                        'e-mail',\n",
    "                        'lgpd@riohealth.br',\n",
    "                        1624712892),\n",
    "                        \n",
    "    setThatdsAgreeWithConsentTerms(id(13),\n",
    "                                dataSubject('Brian'),\n",
    "                                dataController('RioHealth'),\n",
    "                                requestFormat('Direct','Brian','null'),                                      \n",
    "                                personalData('Brian',9000000),\n",
    "                                sensitiveData('Brian','AB+'),\n",
    "                                startDate(1624712892),\n",
    "                                endDate(EndDate)), EndDate is 1624712892+15811200,\n",
    "                        \n",
    "    setDSRights(dataSubject('Brian'),dataController('RioHealth'),startDate(1624712892))."
   ]
  },
  {
   "cell_type": "code",
   "execution_count": 68,
   "id": "26ec736b",
   "metadata": {},
   "outputs": [
    {
     "name": "stdout",
     "output_type": "stream",
     "text": [
      "EndDate = 1640524092 ;\n",
      "EndDate = 1640524092 ;\n",
      "EndDate = 1640524092 ;\n",
      "EndDate = 1640524092 ."
     ]
    }
   ],
   "source": [
    "?- setDSRevokeConsent(id(13),\n",
    "                        dataSubject('Brian'),\n",
    "                        dataController('RioHealth'),\n",
    "                        personalData('Brian',9000000),\n",
    "                        sensitiveData('Brian','AB+'),\n",
    "                        now(1624712892),\n",
    "                        startDate(1624712892),\n",
    "                        endDate(EndDate)), \n",
    "                        EndDate is 1624712892+15811200."
   ]
  },
  {
   "cell_type": "markdown",
   "id": "2d75310c",
   "metadata": {},
   "source": [
    "Figure 18 depicts the impacted entities.\n",
    "\n",
    "![InconsistentBehaviorImpact](./img/InconsistentBehaviorImpact.png \"Inconsistent Behaviour Impact\")\n",
    "Fig.18 - Inconsistent Behavior Impact."
   ]
  },
  {
   "cell_type": "markdown",
   "id": "a31940c4",
   "metadata": {},
   "source": [
    "This unusual behaviour can be catched analysing the event log. Depending on the magnitude, this kind of of event may cause damage to the system, as the Deny of Service attack, for instance. \n",
    "\n",
    "Even though there is no evidence of the motivation for this behavior, the Data Controller should be aware of this situation and should look for the cause, if it is just a users testing his/her possibilities in the system, or if there is a bug in the system, or if there is a malicious person trying to create some damage to the Data Controller, among others."
   ]
  },
  {
   "cell_type": "code",
   "execution_count": 69,
   "id": "d0c0392c",
   "metadata": {},
   "outputs": [
    {
     "name": "stdout",
     "output_type": "stream",
     "text": [
      "Event = Data Subject can ask if the Data Controller is processing his/her data, Type = Explanation, DeonticOperator = Permission, Date = 1624712890 ;\n",
      "Event = Data Subject verified the consent term and it was ok, Type = Explanation, DeonticOperator = Obligation, Date = 1624712890 ;\n",
      "Event = Data Subject can now have all foressen rights, Type = Explanation, DeonticOperator = Permission, Date = 1624712890 ;\n",
      "Event = Data Subject requested to the Data Controller to revoke his/her consent, Type = Communication, DeonticOperator = Permission, Date = 1624712892 ;\n",
      "Event = From now, the Data Controller cannot collect the Data Subject information, Type = Communication, DeonticOperator = Prohibition, Date = 1624712892 ;\n",
      "Event = From now, the Data Controller cannot process the Data Subject information, Type = Communication, DeonticOperator = Prohibition, Date = 1624712892 ;\n",
      "Event = From now, consent is not valid to be used by the data controller, Type = Explanation, DeonticOperator = Prohibition, Date = 1624712892 ;\n",
      "Event = Data Subject can ask if the Data Controller is processing his/her data, Type = Explanation, DeonticOperator = Permission, Date = 1624712892 ;\n",
      "Event = Data Subject verified the consent term and it was ok, Type = Explanation, DeonticOperator = Obligation, Date = 1624712892 ;\n",
      "Event = Data Subject agrees with consent term, Type = Communication, DeonticOperator = Compliance, Date = 1624712892 ;\n",
      "Event = Data Controller can collect the Data Subject information, Type = Explanation, DeonticOperator = Permission, Date = 1624712892 ;\n",
      "Event = Data Controller can store the Data Subject information, Type = Explanation, DeonticOperator = Permission, Date = 1624712892 ;\n",
      "Event = Data Controller can process the Data Subject information, Type = Explanation, DeonticOperator = Permission, Date = 1624712892 ;\n",
      "Event = Data Subject can now have all foressen rights, Type = Explanation, DeonticOperator = Permission, Date = 1624712892 ;\n",
      "Event = Data Subject verified the consent term and it was ok, Type = Explanation, DeonticOperator = Obligation, Date = 1624712892 ;\n",
      "Event = Data Subject agrees with consent term, Type = Communication, DeonticOperator = Compliance, Date = 1624712892 ;\n",
      "Event = Data Controller can collect the Data Subject information, Type = Explanation, DeonticOperator = Permission, Date = 1624712892 ;\n",
      "Event = Data Controller can store the Data Subject information, Type = Explanation, DeonticOperator = Permission, Date = 1624712892 ;\n",
      "Event = Data Controller can process the Data Subject information, Type = Explanation, DeonticOperator = Permission, Date = 1624712892 ;\n",
      "Event = Data Subject can now have all foressen rights, Type = Explanation, DeonticOperator = Permission, Date = 1624712892 ;\n",
      "Event = Data Subject agrees with consent term, Type = Communication, DeonticOperator = Compliance, Date = 1624712892 ;\n",
      "Event = Data Controller can collect the Data Subject information, Type = Explanation, DeonticOperator = Permission, Date = 1624712892 ;\n",
      "Event = Data Controller can store the Data Subject information, Type = Explanation, DeonticOperator = Permission, Date = 1624712892 ;\n",
      "Event = Data Controller can process the Data Subject information, Type = Explanation, DeonticOperator = Permission, Date = 1624712892 ;\n",
      "Event = Data Subject can now have all foressen rights, Type = Explanation, DeonticOperator = Permission, Date = 1624712892 ;\n",
      "Event = Data Subject verified the consent term and it was ok, Type = Explanation, DeonticOperator = Obligation, Date = 1624712892 ;\n",
      "Event = Data Subject agrees with consent term, Type = Communication, DeonticOperator = Compliance, Date = 1624712892 ;\n",
      "Event = Data Controller can collect the Data Subject information, Type = Explanation, DeonticOperator = Permission, Date = 1624712892 ;\n",
      "Event = Data Controller can store the Data Subject information, Type = Explanation, DeonticOperator = Permission, Date = 1624712892 ;\n",
      "Event = Data Controller can process the Data Subject information, Type = Explanation, DeonticOperator = Permission, Date = 1624712892 ;\n",
      "Event = Data Subject can now have all foressen rights, Type = Explanation, DeonticOperator = Permission, Date = 1624712892 ;\n",
      "Event = Data Subject agrees with consent term, Type = Communication, DeonticOperator = Compliance, Date = 1624712892 ;\n",
      "Event = Data Controller can collect the Data Subject information, Type = Explanation, DeonticOperator = Permission, Date = 1624712892 ;\n",
      "Event = Data Controller can store the Data Subject information, Type = Explanation, DeonticOperator = Permission, Date = 1624712892 ;\n",
      "Event = Data Controller can process the Data Subject information, Type = Explanation, DeonticOperator = Permission, Date = 1624712892 ;\n",
      "Event = Data Subject can now have all foressen rights, Type = Explanation, DeonticOperator = Permission, Date = 1624712892 ;\n",
      "Event = Data Subject agrees with consent term, Type = Communication, DeonticOperator = Compliance, Date = 1624712892 ;\n",
      "Event = Data Controller can collect the Data Subject information, Type = Explanation, DeonticOperator = Permission, Date = 1624712892 ;\n",
      "Event = Data Controller can store the Data Subject information, Type = Explanation, DeonticOperator = Permission, Date = 1624712892 ;\n",
      "Event = Data Controller can process the Data Subject information, Type = Explanation, DeonticOperator = Permission, Date = 1624712892 ;\n",
      "Event = Data Subject can now have all foressen rights, Type = Explanation, DeonticOperator = Permission, Date = 1624712892 ;\n",
      "Event = Data Subject verified the consent term and it was ok, Type = Explanation, DeonticOperator = Obligation, Date = 1624712892 ;\n",
      "Event = Data Subject agrees with consent term, Type = Communication, DeonticOperator = Compliance, Date = 1624712892 ;\n",
      "Event = Data Controller can collect the Data Subject information, Type = Explanation, DeonticOperator = Permission, Date = 1624712892 ;\n",
      "Event = Data Controller can store the Data Subject information, Type = Explanation, DeonticOperator = Permission, Date = 1624712892 ;\n",
      "Event = Data Controller can process the Data Subject information, Type = Explanation, DeonticOperator = Permission, Date = 1624712892 ;\n",
      "Event = Data Subject can now have all foressen rights, Type = Explanation, DeonticOperator = Permission, Date = 1624712892 ;\n",
      "Event = Data Subject agrees with consent term, Type = Communication, DeonticOperator = Compliance, Date = 1624712892 ;\n",
      "Event = Data Controller can collect the Data Subject information, Type = Explanation, DeonticOperator = Permission, Date = 1624712892 ;\n",
      "Event = Data Controller can store the Data Subject information, Type = Explanation, DeonticOperator = Permission, Date = 1624712892 ;\n",
      "Event = Data Controller can process the Data Subject information, Type = Explanation, DeonticOperator = Permission, Date = 1624712892 ;\n",
      "Event = Data Subject can now have all foressen rights, Type = Explanation, DeonticOperator = Permission, Date = 1624712892 ;\n",
      "Event = Data Subject agrees with consent term, Type = Communication, DeonticOperator = Compliance, Date = 1624712892 ;\n",
      "Event = Data Controller can collect the Data Subject information, Type = Explanation, DeonticOperator = Permission, Date = 1624712892 ;\n",
      "Event = Data Controller can store the Data Subject information, Type = Explanation, DeonticOperator = Permission, Date = 1624712892 ;\n",
      "Event = Data Controller can process the Data Subject information, Type = Explanation, DeonticOperator = Permission, Date = 1624712892 ;\n",
      "Event = Data Subject can now have all foressen rights, Type = Explanation, DeonticOperator = Permission, Date = 1624712892 ;\n",
      "Event = Data Subject agrees with consent term, Type = Communication, DeonticOperator = Compliance, Date = 1624712892 ;\n",
      "Event = Data Controller can collect the Data Subject information, Type = Explanation, DeonticOperator = Permission, Date = 1624712892 ;\n",
      "Event = Data Controller can store the Data Subject information, Type = Explanation, DeonticOperator = Permission, Date = 1624712892 ;\n",
      "Event = Data Controller can process the Data Subject information, Type = Explanation, DeonticOperator = Permission, Date = 1624712892 ;\n",
      "Event = Data Subject can now have all foressen rights, Type = Explanation, DeonticOperator = Permission, Date = 1624712892 ;\n",
      "Event = Data Subject requested to the Data Controller to revoke his/her consent, Type = Communication, DeonticOperator = Permission, Date = 1624712892 ;\n",
      "Event = From now, the Data Controller cannot collect the Data Subject information, Type = Communication, DeonticOperator = Prohibition, Date = 1624712892 ;\n",
      "Event = From now, the Data Controller cannot process the Data Subject information, Type = Communication, DeonticOperator = Prohibition, Date = 1624712892 ;\n",
      "Event = From now, consent is not valid to be used by the data controller, Type = Explanation, DeonticOperator = Prohibition, Date = 1624712892 ;\n",
      "Event = From now, consent is not valid to be used by the data controller, Type = Explanation, DeonticOperator = Prohibition, Date = 1624712892 ;\n",
      "Event = From now, consent is not valid to be used by the data controller, Type = Explanation, DeonticOperator = Prohibition, Date = 1624712892 ;\n",
      "Event = From now, consent is not valid to be used by the data controller, Type = Explanation, DeonticOperator = Prohibition, Date = 1624712892 ;\n",
      "Event = From now, the Data Controller cannot process the Data Subject information, Type = Communication, DeonticOperator = Prohibition, Date = 1624712892 ;\n",
      "Event = From now, the Data Controller cannot process the Data Subject information, Type = Communication, DeonticOperator = Prohibition, Date = 1624712892 ;\n",
      "Event = From now, the Data Controller cannot process the Data Subject information, Type = Communication, DeonticOperator = Prohibition, Date = 1624712892 ;\n",
      "Event = From now, the Data Controller cannot process the Data Subject information, Type = Communication, DeonticOperator = Prohibition, Date = 1624712892 ;\n",
      "Event = From now, the Data Controller cannot process the Data Subject information, Type = Communication, DeonticOperator = Prohibition, Date = 1624712892 ;\n",
      "Event = From now, the Data Controller cannot process the Data Subject information, Type = Communication, DeonticOperator = Prohibition, Date = 1624712892 ;\n",
      "Event = From now, the Data Controller cannot process the Data Subject information, Type = Communication, DeonticOperator = Prohibition, Date = 1624712892 ;\n",
      "Event = From now, the Data Controller cannot process the Data Subject information, Type = Communication, DeonticOperator = Prohibition, Date = 1624712892 ;\n",
      "Event = From now, the Data Controller cannot process the Data Subject information, Type = Communication, DeonticOperator = Prohibition, Date = 1624712892 ;\n",
      "Event = From now, the Data Controller cannot collect the Data Subject information, Type = Communication, DeonticOperator = Prohibition, Date = 1624712892 ;\n",
      "Event = From now, the Data Controller cannot collect the Data Subject information, Type = Communication, DeonticOperator = Prohibition, Date = 1624712892 ;\n",
      "Event = From now, the Data Controller cannot collect the Data Subject information, Type = Communication, DeonticOperator = Prohibition, Date = 1624712892 ;\n",
      "Event = From now, the Data Controller cannot collect the Data Subject information, Type = Communication, DeonticOperator = Prohibition, Date = 1624712892 ;\n",
      "Event = From now, the Data Controller cannot collect the Data Subject information, Type = Communication, DeonticOperator = Prohibition, Date = 1624712892 ;\n",
      "Event = From now, the Data Controller cannot collect the Data Subject information, Type = Communication, DeonticOperator = Prohibition, Date = 1624712892 ;\n",
      "Event = From now, the Data Controller cannot collect the Data Subject information, Type = Communication, DeonticOperator = Prohibition, Date = 1624712892 ;\n",
      "Event = From now, the Data Controller cannot collect the Data Subject information, Type = Communication, DeonticOperator = Prohibition, Date = 1624712892 ;\n",
      "Event = From now, the Data Controller cannot collect the Data Subject information, Type = Communication, DeonticOperator = Prohibition, Date = 1624712892 ;\n",
      "Event = Data Subject requested to the Data Controller to revoke his/her consent, Type = Communication, DeonticOperator = Permission, Date = 1624712892 ;\n",
      "Event = Data Subject requested to the Data Controller to revoke his/her consent, Type = Communication, DeonticOperator = Permission, Date = 1624712892 ;\n",
      "Event = Data Subject requested to the Data Controller to revoke his/her consent, Type = Communication, DeonticOperator = Permission, Date = 1624712892 ;\n",
      "Event = Data Subject requested to the Data Controller to revoke his/her consent, Type = Communication, DeonticOperator = Permission, Date = 1624712892 ;\n",
      "Event = Data Subject requested to the Data Controller to revoke his/her consent, Type = Communication, DeonticOperator = Permission, Date = 1624712892 ;\n",
      "Event = Data Subject requested to the Data Controller to revoke his/her consent, Type = Communication, DeonticOperator = Permission, Date = 1624712892 ;\n",
      "Event = Data Subject requested to the Data Controller to revoke his/her consent, Type = Communication, DeonticOperator = Permission, Date = 1624712892 ;\n",
      "Event = Data Subject requested to the Data Controller to revoke his/her consent, Type = Communication, DeonticOperator = Permission, Date = 1624712892 ;\n",
      "Event = Data Subject requested to the Data Controller to revoke his/her consent, Type = Communication, DeonticOperator = Permission, Date = 1624712892 ."
     ]
    }
   ],
   "source": [
    "?- log(Event,Type,DeonticOperator,Date), Date >= 1624712890 {-1}."
   ]
  },
  {
   "cell_type": "markdown",
   "id": "81ded592",
   "metadata": {},
   "source": [
    "----\n",
    "#### Cause-effect: Data portability\n"
   ]
  },
  {
   "cell_type": "markdown",
   "id": "e34d49b1",
   "metadata": {},
   "source": [
    "Data portability can be explored at least in two ways. First, as cellphone companies, data portability means migrating the data subject phone number to another company. The client information should be migrated from one company to another. Second, like streaming video companies, data portability may mean just the act of copying the data to another company. Both companies would have the same client data at the moment of data portability request. \n",
    "\n",
    "In our scenario, let's define that data portability acts like the second case. The Data Subject wants to share his personal data with WellBeingInstitution, another health institution. But, first, the Data Subject has to accept the WellBeingInstitution's consent term and then ask RioHealth to send a copy of his data.\n",
    "In this sense, RioHealth is **obligated** to comply with such request and send the requested information. \n",
    "\n",
    "<div>\n",
    "<img src=\"./img/Scenario2_DataPortability.png\" width=\"800\"/>\n",
    "</div>\n",
    "Fig.19 - Data Portability Process."
   ]
  },
  {
   "cell_type": "markdown",
   "id": "a8347841",
   "metadata": {},
   "source": [
    "In this sense, lets create the consent term from WellBeingInstitution to John."
   ]
  },
  {
   "cell_type": "code",
   "execution_count": 70,
   "id": "e6c2789a",
   "metadata": {},
   "outputs": [
    {
     "name": "stdout",
     "output_type": "stream",
     "text": [
      "true."
     ]
    }
   ],
   "source": [
    "?- createConsentTerm(11,wellbeinginstitution,'John',\"Cellphone number to be informed by data portability\",\"Blood type to be informed by data portability\",research,\n",
    "                'genetic_factors_related_to_COVID-19',\n",
    "                'statistic_analysis',\n",
    "                15811200,\n",
    "                'vaccination_priorization',\n",
    "                'e-mail',\n",
    "                'lgpd@wellbeinginstitution.br',\n",
    "                'SHA256',\n",
    "                'Authorized researchers can access the data only',\n",
    "                'WellBeingInstitution private cloud')."
   ]
  },
  {
   "cell_type": "code",
   "execution_count": 71,
   "id": "9274ddf5",
   "metadata": {},
   "outputs": [
    {
     "name": "stdout",
     "output_type": "stream",
     "text": [
      "true."
     ]
    }
   ],
   "source": [
    "% This function defines the right to request processing confirmation to the Data Subject\n",
    "\n",
    "dsRight(processingConfirmation,dataSubject('John'),dataController(wellbeinginstitution)).\n",
    "?- assertz(log('Data Subject can ask if the Data Controller is processing his/her data','Explanation','Permission',1625712876))."
   ]
  },
  {
   "cell_type": "code",
   "execution_count": 72,
   "id": "79c7cefc",
   "metadata": {},
   "outputs": [
    {
     "name": "stdout",
     "output_type": "stream",
     "text": [
      "EndDate = 1640846470 ."
     ]
    }
   ],
   "source": [
    "?- checkConsentTerm(id(11),dataController(wellbeinginstitution),\n",
    "                        dataSubject('John'),\n",
    "                        purpose(wellbeinginstitution,research),\n",
    "                        'genetic_factors_related_to_COVID-19',\n",
    "                        'statistic_analysis',\n",
    "                        15811200,\n",
    "                        'vaccination_priorization',\n",
    "                        'e-mail',\n",
    "                        'lgpd@wellbeinginstitution.br',\n",
    "                        1625035270),\n",
    "    \n",
    "    setThatdsAgreeWithConsentTerms(id(11),\n",
    "                                dataSubject('John'),\n",
    "                                dataController(wellbeinginstitution),\n",
    "                                requestFormat('Direct','John','null'),                                      \n",
    "                                personalData('John',\"Cellphone number to be informed by data portability\"),\n",
    "                                sensitiveData('John',\"Blood type to be informed by data portability\"),\n",
    "                                startDate(1625035270),\n",
    "                                endDate(EndDate)), EndDate is 1625035270+15811200,\n",
    "\n",
    "    setDSRights(dataSubject('John'),dataController(wellbeinginstitution),startDate(1625035270)),\n",
    "    \n",
    "    dcIsStoringDSData(id(11),dataController(wellbeinginstitution),dataSubject('John'),\n",
    "                    personalData('John',\"Cellphone number to be informed by data portability\"),\n",
    "                    sensitiveData('John',\"Blood type to be informed by data portability\"),\n",
    "                    startDate(1625035270),endDate(1640846470))."
   ]
  },
  {
   "cell_type": "markdown",
   "id": "f8cae545",
   "metadata": {},
   "source": [
    "Now, the Data Subject requests data portability from RioHealth to WellBeingInstitution, which means a data copy from one institution to another."
   ]
  },
  {
   "cell_type": "code",
   "execution_count": 73,
   "id": "2c12a76e",
   "metadata": {},
   "outputs": [
    {
     "name": "stdout",
     "output_type": "stream",
     "text": [
      "true."
     ]
    }
   ],
   "source": [
    "?- assertz(log('Data Subject requestested data portability from RioHealth to WellBeingInstitution','Communication','Obligation',1625712877))."
   ]
  },
  {
   "cell_type": "code",
   "execution_count": 74,
   "id": "e9358daa",
   "metadata": {},
   "outputs": [
    {
     "name": "stdout",
     "output_type": "stream",
     "text": [
      "true.\n",
      "true.\n",
      "true.\n",
      "true."
     ]
    }
   ],
   "source": [
    "?- \n",
    "\n",
    "% First, RioHealth should have the right to store John s data.\n",
    "\n",
    "    dcIsStoringDSData(id(10),dataController('RioHealth'),dataSubject('John'),\n",
    "                    personalData('John',976635869),sensitiveData('John','A+'),\n",
    "                    startDate(1622035260),endDate(1637846460)). \n",
    "                    \n",
    "?-\n",
    "% As the Data Subject agreed with the consent term, the Data Controller has the right to store the DS personal data.\n",
    "\n",
    "    dcIsStoringDSData(id(11),dataController(wellbeinginstitution),dataSubject('John'),\n",
    "                    personalData('John',\"Cellphone number to be informed by data portability\"),\n",
    "                    sensitiveData('John',\"Blood type to be informed by data portability\"),\n",
    "                    startDate(1625035270),endDate(1640846470)).\n",
    "                    \n",
    "?- \n",
    "% Next, we have to update the WellBeingInstitution s database with data with the data sent from RioHealth. \n",
    "    retract(dcIsStoringDSData(id(11),dataController(wellbeinginstitution),dataSubject('John'),\n",
    "                    personalData('John',\"Cellphone number to be informed by data portability\"),\n",
    "                    sensitiveData('John',\"Blood type to be informed by data portability\"),\n",
    "                    startDate(1625035270),endDate(1640846470))),\n",
    "                    \n",
    "    assertz(dcIsStoringDSData(id(11),dataController(wellbeinginstitution),dataSubject('John'),\n",
    "                    personalData('John',976635869),sensitiveData('John','A+'),\n",
    "                    startDate(1625035270),endDate(1640846470))).\n",
    "\n",
    "?- \n",
    "% Last but not least, the following log registered the action log.\n",
    "                    \n",
    "    assertz(log('Data Controller RioHealth achived the Data Subject request','Communication','Obligation',1625712878)),\n",
    "    \n",
    "    assertz(log('Data Subject should check if the data are correct','Explanation','Permission',1625712879)).\n",
    "                "
   ]
  },
  {
   "cell_type": "code",
   "execution_count": 75,
   "id": "41c21d94",
   "metadata": {
    "scrolled": true
   },
   "outputs": [
    {
     "name": "stdout",
     "output_type": "stream",
     "text": [
      "Event = Data Subject can ask if the Data Controller is processing his/her data, Type = Explanation, DeonticOperator = Permission, Date = 1625712876 ;\n",
      "Event = Data Subject requestested data portability from RioHealth to WellBeingInstitution, Type = Communication, DeonticOperator = Obligation, Date = 1625712877 ;\n",
      "Event = Data Controller RioHealth achived the Data Subject request, Type = Communication, DeonticOperator = Obligation, Date = 1625712878 ;\n",
      "Event = Data Subject should check if the data are correct, Type = Explanation, DeonticOperator = Permission, Date = 1625712879 ."
     ]
    }
   ],
   "source": [
    "?- log(Event,Type,DeonticOperator,Date), Date >= 1625712876 {-1}."
   ]
  },
  {
   "cell_type": "markdown",
   "id": "7c247232",
   "metadata": {},
   "source": [
    "In this sense, as the new relationship between John and WellBeingInstitution requires a new consent term, all relationships are impacted, as depicted in Figure 20.\n",
    "\n",
    "![DataPortabilityImpact](./img/DataPortabilityImpact.png \"Data Portability Impact\")\n",
    "Fig.20 - Data Portability Impact."
   ]
  },
  {
   "cell_type": "markdown",
   "id": "f7a16bf5",
   "metadata": {},
   "source": [
    "Finally, let's check who has the John's data."
   ]
  },
  {
   "cell_type": "code",
   "execution_count": 76,
   "id": "e5fb8ebf",
   "metadata": {},
   "outputs": [
    {
     "name": "stdout",
     "output_type": "stream",
     "text": [
      "ID = 10, DataController = RioHealth, StartDate = 1622035260, EndDate = 1637846460 ;\n",
      "ID = 11, DataController = wellbeinginstitution, StartDate = 1625035270, EndDate = 1640846470 ."
     ]
    }
   ],
   "source": [
    "?- dcIsStoringDSData(id(ID),dataController(DataController),dataSubject('John'),\n",
    "                    personalData('John',976635869),sensitiveData('John','A+'),\n",
    "                    startDate(StartDate),endDate(EndDate))."
   ]
  }
 ],
 "metadata": {
  "kernelspec": {
   "display_name": "SWI-Prolog",
   "language": "",
   "name": "jswipl"
  },
  "language_info": {
   "mimetype": "text/plain",
   "name": "swipl"
  }
 },
 "nbformat": 4,
 "nbformat_minor": 5
}
