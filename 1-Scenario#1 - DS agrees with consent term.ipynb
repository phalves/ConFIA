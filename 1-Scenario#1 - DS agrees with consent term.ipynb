{
 "cells": [
  {
   "cell_type": "markdown",
   "id": "2dba5670",
   "metadata": {},
   "source": [
    "# Scenario 1 - Data Subject agrees with the Data Controller consent term."
   ]
  },
  {
   "cell_type": "markdown",
   "id": "83d78d11",
   "metadata": {},
   "source": [
    "## Table of Contents\n",
    "1. [Scenario Description](#Scenario-Description)\n",
    "2. [Scene 1: Set Consent Term](#Scene-1:-Set-consent-term.)\n",
    "3. [Scene 2: Data Subject Agrees with the Consent Term](#Scene-2:-Data-Subject-agrees-with-the-consent-term.)\n",
    "4. [Questions to Ask](#Questions-to-ask)\n",
    "\n",
    "### Scenario Description\n",
    "\n",
    "The Data Controller Fiocruz wants to use the Data Subjects' personal data and health data to research genetic factors in the COVID-19 plot.\n",
    "\n",
    "To do so, the Data Controller must send the consent term to the Data Subject. The consent term must present all the information defined in the LGPD art. 9.\n",
    "\n",
    "Next, if the Data Subject agreed with the Fiocruz consent terms, he/she will have all LGPD foreseen rights. \n",
    "\n",
    "The following figure depicts this macro scenario process.\n",
    "\n",
    "![Scenario1_Process](./img/Scenario1_Process.png \"Process 1\")\n",
    "\n",
    "Art. 9 \n",
    "- I - finalidade específica do tratamento;\n",
    "- II - forma e duração do tratamento, observados os segredos comercial - e industrial;\n",
    "- III - identificação do controlador;\n",
    "- IV - informações de contato do controlador;\n",
    "- V - informações acerca do uso compartilhado de dados pelo controlador e a finalidade;\n",
    "- VI - responsabilidades dos agentes que realizarão o tratamento; e\n",
    "- VII - direitos do titular, com menção explícita aos direitos contidos no art. 18 desta Lei. \n",
    "\n",
    "At the end of this scenario execution, many questions can be made to Prolog to test the rules and facts.\n",
    "\n",
    " ---------\n",
    "\n",
    "### Scene 1: Set consent term.\n",
    "\n",
    "The Data Subject Paulo allows the Data Controller Fiocruz to access, store, and process his personal data and health data to perform research regarding genetic factors related to COVID-19 using statistical analysis for 180 days.\n",
    "\n",
    "\n",
    "The Data Controller is allowed to share the Data Subject data only with the vaccination prioritization purpose.\n",
    "\n",
    "\n",
    "To make any request, please use the Data Controller communication channel by email lgpd@fiocruz.br.\n",
    "\n",
    "\n",
    "PS: The Data Controllers must inform in any case if they are processing the personal data if requested.\n",
    "\n",
    "This consent text can be splited into the following clauses:"
   ]
  },
  {
   "cell_type": "markdown",
   "id": "a380e375",
   "metadata": {},
   "source": [
    "`The Data Subject Paulo allows ...`"
   ]
  },
  {
   "cell_type": "markdown",
   "id": "5c46e8dd",
   "metadata": {},
   "source": [
    "`... the Data Controller Fiocruz ...`"
   ]
  },
  {
   "cell_type": "markdown",
   "id": "2ff6a7c9",
   "metadata": {},
   "source": [
    "`... access, store, and process his personal data ...`"
   ]
  },
  {
   "cell_type": "markdown",
   "id": "5258b7f4",
   "metadata": {},
   "source": [
    "`... and his health data ...`"
   ]
  },
  {
   "cell_type": "markdown",
   "id": "900c4515",
   "metadata": {},
   "source": [
    "`... under the purpose to perform research ...`"
   ]
  },
  {
   "cell_type": "markdown",
   "id": "71056add",
   "metadata": {},
   "source": [
    "`... regarding genetic factors related to COVID-19 ...`"
   ]
  },
  {
   "cell_type": "markdown",
   "id": "eea9edc8",
   "metadata": {},
   "source": [
    "`... using statistical analysis ...`"
   ]
  },
  {
   "cell_type": "markdown",
   "id": "22761e4b",
   "metadata": {},
   "source": [
    "`... for 180 days. `"
   ]
  },
  {
   "cell_type": "markdown",
   "id": "e030a8e9",
   "metadata": {},
   "source": [
    "`The Data Controller is allowed to share the Data Subject data only with the vaccination priorization purpose.`"
   ]
  },
  {
   "cell_type": "markdown",
   "id": "74abd124",
   "metadata": {},
   "source": [
    "`To do any request, please use the Data Controller communication channel by email lgpd@fiocruz.br.`"
   ]
  },
  {
   "cell_type": "code",
   "execution_count": 1,
   "id": "7bc79718",
   "metadata": {},
   "outputs": [
    {
     "name": "stdout",
     "output_type": "stream",
     "text": []
    }
   ],
   "source": [
    "dataSubject(paulo)."
   ]
  },
  {
   "cell_type": "code",
   "execution_count": 2,
   "id": "5ad706aa",
   "metadata": {},
   "outputs": [
    {
     "name": "stdout",
     "output_type": "stream",
     "text": []
    }
   ],
   "source": [
    "dataController(fiocruz)."
   ]
  },
  {
   "cell_type": "code",
   "execution_count": 3,
   "id": "4287ec2b",
   "metadata": {},
   "outputs": [
    {
     "name": "stdout",
     "output_type": "stream",
     "text": []
    }
   ],
   "source": [
    "personalData(paulo,976635869)."
   ]
  },
  {
   "cell_type": "code",
   "execution_count": 4,
   "id": "84e309e7",
   "metadata": {},
   "outputs": [
    {
     "name": "stdout",
     "output_type": "stream",
     "text": []
    }
   ],
   "source": [
    "healthData(paulo, oPlus)."
   ]
  },
  {
   "cell_type": "code",
   "execution_count": 5,
   "id": "d8d2a3b5",
   "metadata": {},
   "outputs": [
    {
     "name": "stdout",
     "output_type": "stream",
     "text": []
    }
   ],
   "source": [
    "purpose(fiocruz,paulo,research)."
   ]
  },
  {
   "cell_type": "code",
   "execution_count": 6,
   "id": "2a294882",
   "metadata": {},
   "outputs": [
    {
     "name": "stdout",
     "output_type": "stream",
     "text": []
    }
   ],
   "source": [
    "specificPurpose(fiocruz,paulo,research,'genetic_factors_related_to_COVID-19')."
   ]
  },
  {
   "cell_type": "code",
   "execution_count": 7,
   "id": "b28281ae",
   "metadata": {},
   "outputs": [
    {
     "name": "stdout",
     "output_type": "stream",
     "text": []
    }
   ],
   "source": [
    "form(fiocruz,paulo,research,'genetic_factors_related_to_COVID-19','statistic_analysis')."
   ]
  },
  {
   "cell_type": "code",
   "execution_count": 8,
   "id": "cad7c749",
   "metadata": {},
   "outputs": [
    {
     "name": "stdout",
     "output_type": "stream",
     "text": []
    }
   ],
   "source": [
    "timeLength(fiocruz,paulo,research,'genetic_factors_related_to_COVID-19',180)."
   ]
  },
  {
   "cell_type": "code",
   "execution_count": 9,
   "id": "66203b57",
   "metadata": {},
   "outputs": [
    {
     "name": "stdout",
     "output_type": "stream",
     "text": []
    }
   ],
   "source": [
    "thirdyPartySharingPurpose(fiocruz,paulo,research,'genetic_factors_related_to_COVID-19',180,'vaccination_priorization')."
   ]
  },
  {
   "cell_type": "code",
   "execution_count": 10,
   "id": "6dff3755",
   "metadata": {},
   "outputs": [
    {
     "name": "stdout",
     "output_type": "stream",
     "text": []
    }
   ],
   "source": [
    "channelToProvideInformation(fiocruz,paulo,'e-mail','lgpd@fiocruz.br')."
   ]
  },
  {
   "cell_type": "code",
   "execution_count": 11,
   "id": "027715ee",
   "metadata": {},
   "outputs": [
    {
     "name": "stdout",
     "output_type": "stream",
     "text": []
    }
   ],
   "source": [
    "dsRight(processingConfirmation,dataSubject(paulo),dataController(fiocruz))."
   ]
  },
  {
   "cell_type": "markdown",
   "id": "49202338",
   "metadata": {},
   "source": [
    " ---------"
   ]
  },
  {
   "cell_type": "markdown",
   "id": "174b3fb3",
   "metadata": {},
   "source": [
    "### Scene 2: Data Subject agrees with the consent term."
   ]
  },
  {
   "cell_type": "markdown",
   "id": "f06757c0",
   "metadata": {},
   "source": [
    "First, the Data Subject verifies if all the crutial elements are described in the consent term present by the Data Controller"
   ]
  },
  {
   "cell_type": "code",
   "execution_count": 12,
   "id": "9a29c4ee",
   "metadata": {},
   "outputs": [
    {
     "name": "stdout",
     "output_type": "stream",
     "text": []
    }
   ],
   "source": [
    "% Description: This function verifies if a consent term includes all required information described in the LGPD Art. 9\n",
    "% The consent term must inform:\n",
    "%    i. Data Controller\n",
    "%   ii. Data Subject\n",
    "%  iii. Specific Purpose\n",
    "%   iv. Form (Processing techniques)\n",
    "%    v. Time length of processing\n",
    "%   vi. The purpose when sharing the data with third parties, when applied\n",
    "%  vii. Communication channel to the data subject request any information\n",
    "% viii. Data Controller contact\n",
    "\n",
    "checkConsentTerm(dataController(DC),\n",
    "                dataSubject(DS),\n",
    "                purpose(DC,Purpose),\n",
    "                SpecificPurpose,\n",
    "                Form,\n",
    "                TimeLength,\n",
    "                ThirdPartyPurpose,\n",
    "                Channel,\n",
    "                DCContact) :-\n",
    "    (\n",
    "        form(DC,DS,Purpose,SpecificPurpose,Form),\n",
    "        timeLength(DC,DS,Purpose,SpecificPurpose,TimeLength),\n",
    "        thirdyPartySharingPurpose(DC,DS,Purpose,SpecificPurpose,TimeLength,ThirdPartyPurpose),\n",
    "        channelToProvideInformation(DC,DS,Channel,DCContact),\n",
    "        purpose(DC,DS,Purpose),\n",
    "        specificPurpose(DC,DS,Purpose,SpecificPurpose),\n",
    "        assertz(consentTermOk(dataController(DC),dataSubject(DS)))\n",
    "    )."
   ]
  },
  {
   "cell_type": "code",
   "execution_count": 13,
   "id": "0c30406f",
   "metadata": {},
   "outputs": [
    {
     "name": "stdout",
     "output_type": "stream",
     "text": [
      "true."
     ]
    }
   ],
   "source": [
    "% This is a function call that verifies if the consent term have all the information required\n",
    "\n",
    "?- checkConsentTerm(dataController(fiocruz),dataSubject(paulo),purpose(fiocruz,research),\n",
    "'genetic_factors_related_to_COVID-19','statistic_analysis',180,'vaccination_priorization','e-mail','lgpd@fiocruz.br')."
   ]
  },
  {
   "cell_type": "markdown",
   "id": "2364d019",
   "metadata": {},
   "source": [
    "If ok, the Data Subject decides to agree with the presented terms."
   ]
  },
  {
   "cell_type": "code",
   "execution_count": 14,
   "id": "56ad4032",
   "metadata": {},
   "outputs": [
    {
     "name": "stdout",
     "output_type": "stream",
     "text": []
    }
   ],
   "source": [
    "% Description: This function sets that the Data Subject agreed with the consent term.\n",
    "% This function receives the params:\n",
    "%    i. Consent ID\n",
    "%   ii. Data Subject\n",
    "%  iii. Data Controller\n",
    "%   iv. Personal Data\n",
    "%    v. Health Data\n",
    "\n",
    "setThatdsAgreeWithConsentTerms(id(ID),dataSubject(DS),\n",
    "                                dataController(DC),\n",
    "                                personalData(DS,PData),\n",
    "                                healthData(DS,HData)) :-\n",
    "    consentTermOk(dataController(DC),dataSubject(DS)),\n",
    "    assertz(dsAgreeWithConsentTerms(dataSubject(DS),dataController(DC))),\n",
    "    assertz(dcIsCollectingDSData(id(ID),dataController(DC),dataSubject(DS),personalData(DS,PData),healthData(DS,HData))),\n",
    "    assertz(dcIsStoringDSData(id(ID),dataController(DC),dataSubject(DS),personalData(DS,PData),healthData(DS,HData))),\n",
    "    assertz(dcIsProcessingDSData(id(ID),dataController(DC),dataSubject(DS),personalData(DS,PData),healthData(DS,HData)))."
   ]
  },
  {
   "cell_type": "code",
   "execution_count": 15,
   "id": "08b164c9",
   "metadata": {},
   "outputs": [
    {
     "name": "stdout",
     "output_type": "stream",
     "text": [
      "true."
     ]
    }
   ],
   "source": [
    "% This is a function call returns true in case of success.\n",
    "\n",
    "?- setThatdsAgreeWithConsentTerms(id(10),dataSubject(paulo),dataController(fiocruz),personalData(paulo,976635869),healthData(paulo,oPlus))."
   ]
  },
  {
   "cell_type": "markdown",
   "id": "0248cdc8",
   "metadata": {},
   "source": [
    "Now, the Data Controller can collect, store and process the Data Subject's data."
   ]
  },
  {
   "cell_type": "code",
   "execution_count": 16,
   "id": "aad899c9",
   "metadata": {},
   "outputs": [
    {
     "name": "stdout",
     "output_type": "stream",
     "text": [
      "true."
     ]
    }
   ],
   "source": [
    "?- dcIsCollectingDSData(id(10),dataController(fiocruz),dataSubject(paulo),personalData(paulo,976635869),healthData(paulo,oPlus)),\n",
    "dcIsProcessingDSData(id(10),dataController(fiocruz),dataSubject(paulo),personalData(paulo,976635869),healthData(paulo,oPlus)),\n",
    "dcIsStoringDSData(id(10),dataController(fiocruz),dataSubject(paulo),personalData(paulo,976635869),healthData(paulo,oPlus))."
   ]
  },
  {
   "cell_type": "markdown",
   "id": "2b259e5a",
   "metadata": {},
   "source": [
    " ---------"
   ]
  },
  {
   "cell_type": "markdown",
   "id": "916e8465",
   "metadata": {},
   "source": [
    "### Scene 3: Defining the Data Subject's rights."
   ]
  },
  {
   "cell_type": "markdown",
   "id": "7cae1838",
   "metadata": {},
   "source": [
    "According to the LGPD Art. 18, when the Data Subject is sharing data with a Data Controller, he/she has the following rights:\n",
    "1. Data Acess\n",
    "2. Data Copy\n",
    "3. Data Correction\n",
    "4. Data Anonymization\n",
    "5. Data Portability\n",
    "6. Data Deletion\n",
    "7. Information regarding the data sharing with a third party\n",
    "8. Request consent revocation."
   ]
  },
  {
   "cell_type": "code",
   "execution_count": 17,
   "id": "f689d793",
   "metadata": {},
   "outputs": [
    {
     "name": "stdout",
     "output_type": "stream",
     "text": []
    }
   ],
   "source": [
    "% Description: This function sets all Data Subject right's foreseed in the LGPD.\n",
    "% This function receives the params:\n",
    "%  i. Data Subject\n",
    "% ii. Data Controller\n",
    "\n",
    "setDSRights(dataSubject(DS),dataController(DC)) :-\n",
    "\tassertz(dsRight(dataAccess,dataSubject(DS),dataController(DC))),\n",
    "\tassertz(dsRight(dataCopy,dataSubject(DS),dataController(DC))),\n",
    "\tassertz(dsRight(dataCorrection,dataSubject(DS),dataController(DC))),\n",
    "\tassertz(dsRight(dataAnonymization,dataSubject(DS),dataController(DC))),\n",
    "\tassertz(dsRight(dataPortability,dataSubject(DS),dataController(DC))),\n",
    "\tassertz(dsRight(dataDeletion,dataSubject(DS),dataController(DC))),\n",
    "\tassertz(dsRight(dataSharingInformation,dataSubject(DS),dataController(DC))),\n",
    "\tassertz(dsRight(requestConsentRevocation,dataSubject(DS),dataController(DC)))."
   ]
  },
  {
   "cell_type": "code",
   "execution_count": 18,
   "id": "d23962ea",
   "metadata": {},
   "outputs": [
    {
     "name": "stdout",
     "output_type": "stream",
     "text": [
      "true."
     ]
    }
   ],
   "source": [
    "% This is a function call returns true if all Data Subject's right was associated to him/her.\n",
    "\n",
    "?- setDSRights(dataSubject(paulo),dataController(fiocruz))."
   ]
  },
  {
   "cell_type": "markdown",
   "id": "cf0c4dea",
   "metadata": {},
   "source": [
    " ---------"
   ]
  },
  {
   "cell_type": "markdown",
   "id": "4283b37f",
   "metadata": {},
   "source": [
    "### Questions to ask"
   ]
  },
  {
   "cell_type": "markdown",
   "id": "6239f32d",
   "metadata": {},
   "source": [
    "Are the fiocruz data controller using the data subject Paulo's data? "
   ]
  },
  {
   "cell_type": "code",
   "execution_count": 19,
   "id": "b31d83d3",
   "metadata": {},
   "outputs": [
    {
     "name": "stdout",
     "output_type": "stream",
     "text": [
      "PData = 976635869, HData = oPlus ."
     ]
    }
   ],
   "source": [
    "?- dcIsProcessingDSData(id(10),dataController(fiocruz),dataSubject(paulo),personalData(paulo,PData),healthData(paulo,HData))."
   ]
  },
  {
   "cell_type": "markdown",
   "id": "0cc10cfe",
   "metadata": {},
   "source": [
    "What are the Data Subject rights right now?"
   ]
  },
  {
   "cell_type": "code",
   "execution_count": 20,
   "id": "2c241578",
   "metadata": {},
   "outputs": [
    {
     "name": "stdout",
     "output_type": "stream",
     "text": [
      "RIGHT = processingConfirmation ;\n",
      "RIGHT = dataAccess ;\n",
      "RIGHT = dataCopy ;\n",
      "RIGHT = dataCorrection ;\n",
      "RIGHT = dataAnonymization ;\n",
      "RIGHT = dataPortability ;\n",
      "RIGHT = dataDeletion ;\n",
      "RIGHT = dataSharingInformation ;\n",
      "RIGHT = requestConsentRevocation ."
     ]
    }
   ],
   "source": [
    "?- dsRight(RIGHT,dataSubject(paulo),dataController(fiocruz))."
   ]
  },
  {
   "cell_type": "markdown",
   "id": "723dfcb6",
   "metadata": {},
   "source": [
    "Can all items from art. 9 be informed?"
   ]
  },
  {
   "cell_type": "code",
   "execution_count": 21,
   "id": "aad7d26d",
   "metadata": {},
   "outputs": [
    {
     "name": "stdout",
     "output_type": "stream",
     "text": [
      "SPECIFICPURPOSE = genetic_factors_related_to_COVID-19 ."
     ]
    }
   ],
   "source": [
    "?- specificPurpose(fiocruz,paulo,research,SPECIFICPURPOSE)."
   ]
  },
  {
   "cell_type": "code",
   "execution_count": 22,
   "id": "d25f269d",
   "metadata": {},
   "outputs": [
    {
     "name": "stdout",
     "output_type": "stream",
     "text": [
      "DAYS = 180 ."
     ]
    }
   ],
   "source": [
    "?- timeLength(fiocruz, paulo, research, 'genetic_factors_related_to_COVID-19',DAYS)."
   ]
  },
  {
   "cell_type": "markdown",
   "id": "9b071aa1",
   "metadata": {},
   "source": [
    "Who are processing the Data Subject's personal data and what are the respective data?"
   ]
  },
  {
   "cell_type": "code",
   "execution_count": 23,
   "id": "fb76ac29",
   "metadata": {},
   "outputs": [
    {
     "name": "stdout",
     "output_type": "stream",
     "text": [
      "ID = 10, DC = fiocruz, PData = 976635869, HData = oPlus ."
     ]
    }
   ],
   "source": [
    "?- dcIsProcessingDSData(id(ID),dataController(DC),dataSubject(paulo),personalData(paulo,PData),healthData(paulo,HData))."
   ]
  }
 ],
 "metadata": {
  "kernelspec": {
   "display_name": "SWI-Prolog",
   "language": "",
   "name": "jswipl"
  },
  "language_info": {
   "mimetype": "text/plain",
   "name": "swipl"
  }
 },
 "nbformat": 4,
 "nbformat_minor": 5
}
