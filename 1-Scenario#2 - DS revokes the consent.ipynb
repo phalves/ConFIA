{
 "cells": [
  {
   "cell_type": "markdown",
   "id": "2dba5670",
   "metadata": {},
   "source": [
    "# Scenario 2 - Data Subject agrees with the Data Controller consent term, but then decided to revoke his/her consent."
   ]
  },
  {
   "cell_type": "markdown",
   "id": "d13fadbf",
   "metadata": {},
   "source": [
    "## Table of Contents\n",
    "1. [Scenario Description](#Scenario-Description)\n",
    "2. [Scene 1: Set Consent Term](#Scene-1:-Set-consent-term.)\n",
    "3. [Scene 2: Data Subject Agrees with the Consent Term](#Scene-2:-Data-Subject-agrees-with-the-consent-term.)\n",
    "4. [Scene 3: Defining the Data Subject's Rights](#Scene-3:-Defining-the-Data-Subject's-rights.)\n",
    "5. [Scene 4: Data Subject's Consent Revocation](#Scene-4:-Data-Subject's-consent-revocation.)\n",
    "6. [Questions to Ask](#Questions-to-ask)"
   ]
  },
  {
   "cell_type": "markdown",
   "id": "099fbaca",
   "metadata": {},
   "source": [
    "### Scenario Description\n",
    "\n",
    "The Data Controller Fiocruz wants to use the Data Subjects' personal data and health data to research genetic factors in the COVID-19 plot from Wednesday, May 26, 2021 1:07:55 PM to Friday, November 26, 2021 1:07:55 PM.\n",
    "\n",
    "To do so, the Data Controller must send the consent term to the Data Subject. The consent term must present all the information defined in the LGPD art. 9.\n",
    "\n",
    "However, after accepting the consent term, Saturday, June 26, 2021 1:07:55 PM the Data Subjects decides to revoke his consent and request the data deletion.\n",
    "\n",
    "The following figure depicts this macro scenario process.\n",
    "\n",
    "![Scenario2_Process](./img/Scenario2_Process.png \"Process 2\")\n",
    "\n",
    "It is important to note that this scenario presents a particularity. According to the LGPD art. 16 there are some situations that the Data Controller can store the Data Subject's data even when the Data Subject requested the data deletion:\n",
    "\n",
    "\n",
    "Art. 16\n",
    "\n",
    " - I - cumprimento de obrigação legal ou regulatória pelo controlador;\n",
    " - II - estudo por órgão de pesquisa, garantida, sempre que possível, a anonimização dos dados pessoais;\n",
    " - III - transferência a terceiro, desde que respeitados os requisitos de tratamento de dados dispostos nesta Lei; ou \n",
    " - IV - uso exclusivo do controlador, vedado seu acesso por terceiro, e desde que anonimizados os dados.\n",
    " \n",
    "PS: The timestamp is used to provide the time spectrum. The following tool was used to convert human time to timestamp and the other way around. https://www.epochconverter.com/\n",
    "\n",
    " \n",
    " ---------"
   ]
  },
  {
   "cell_type": "markdown",
   "id": "598222fa",
   "metadata": {},
   "source": [
    "### Scene 1: Set consent term."
   ]
  },
  {
   "cell_type": "markdown",
   "id": "e030a8e9",
   "metadata": {},
   "source": [
    "The first step is the consent setup. The consent must have all information described in the LGPD Art. 9. The following method receives all the required information.\n",
    "\n",
    "\n",
    "The Data Subject Paulo allows the Data Controller Fiocruz to access, store, and process his personal data and health data to perform research regarding genetic factors related to COVID-19 using statistical analysis for 180 days.\n",
    "\n",
    "\n",
    "The Data Controller is allowed to share the Data Subject data only with the vaccination prioritization purpose.\n",
    "\n",
    "\n",
    "To make any request, please use the Data Controller communication channel by email lgpd@fiocruz.br.\n",
    "\n",
    "\n",
    "PS: The Data Controllers must inform in any case if they are processing the personal data if requested.\n"
   ]
  },
  {
   "cell_type": "code",
   "execution_count": 1,
   "id": "64c60967",
   "metadata": {},
   "outputs": [
    {
     "name": "stdout",
     "output_type": "stream",
     "text": []
    }
   ],
   "source": [
    "% Description: This function defines a consent term including all required information described in the LGPD Art. 9\n",
    "% The consent term must inform:\n",
    "%    i. Data Controller\n",
    "%   ii. Data Subject\n",
    "%  iii. Specific Purpose\n",
    "%   iv. Form (Processing techniques)\n",
    "%    v. Time length of processing\n",
    "%   vi. The purpose when sharing the data with third parties, when applied\n",
    "%  vii. Communication channel to the data subject request any information\n",
    "% viii. Data Controller contact\n",
    "\n",
    "createConsentTerm(DC,DS,PData,HData,Purpose,\n",
    "                SpecificPurpose,\n",
    "                Form,\n",
    "                TimeLength,\n",
    "                ThirdPartyPurpose,\n",
    "                Channel,\n",
    "                DCContact) :-\n",
    "\n",
    "                assertz(dataSubject(DS)),\n",
    "                assertz(dataController(DC)),\n",
    "                assertz(personalData(DS,PData)),\n",
    "                assertz(healthData(DS, HData)),\n",
    "                assertz(purpose(DC,DS,Purpose)),\n",
    "                assertz(specificPurpose(DC,DS,Purpose,SpecificPurpose)),\n",
    "                assertz(form(DC,DS,Purpose,SpecificPurpose,Form)),\n",
    "                assertz(timeLength(DC,DS,Purpose,SpecificPurpose,TimeLength)),\n",
    "                assertz(thirdyPartySharingPurpose(DC,DS,Purpose,SpecificPurpose,\n",
    "                                                    TimeLength,ThirdPartyPurpose)),\n",
    "                assertz(channelToProvideInformation(DC,DS,Channel,DCContact))."
   ]
  },
  {
   "cell_type": "code",
   "execution_count": 2,
   "id": "4747b8a8",
   "metadata": {},
   "outputs": [
    {
     "name": "stdout",
     "output_type": "stream",
     "text": [
      "true."
     ]
    }
   ],
   "source": [
    "% This is a function call that defines a consent term with the informed params\n",
    "\n",
    "?- createConsentTerm(fiocruz,paulo,976635869,oPlus,research,\n",
    "                'genetic_factors_related_to_COVID-19',\n",
    "                'statistic_analysis',\n",
    "                180,\n",
    "                'vaccination_priorization',\n",
    "                'e-mail',\n",
    "                'lgpd@fiocruz.br')."
   ]
  },
  {
   "cell_type": "code",
   "execution_count": 3,
   "id": "027715ee",
   "metadata": {},
   "outputs": [
    {
     "name": "stdout",
     "output_type": "stream",
     "text": [
      "true."
     ]
    }
   ],
   "source": [
    "% This function defines the right to request processing confirmation to the Data Subject\n",
    "\n",
    "dsRight(processingConfirmation,dataSubject(paulo),dataController(fiocruz)).\n",
    "?- assertz(log('Data Subject can store the Data Subject information',1622035260))."
   ]
  },
  {
   "cell_type": "markdown",
   "id": "329c71df",
   "metadata": {},
   "source": [
    " ---------"
   ]
  },
  {
   "cell_type": "markdown",
   "id": "78ad55c8",
   "metadata": {},
   "source": [
    "### Scene 2: Data Subject agrees with the consent term."
   ]
  },
  {
   "cell_type": "markdown",
   "id": "f06757c0",
   "metadata": {},
   "source": [
    "First, the Data Subject verifies if all the crutial elements are described in the consent term present by the Data Controller. If so, the program will set that the consent term is ok, i.e., it has all the required information."
   ]
  },
  {
   "cell_type": "code",
   "execution_count": 4,
   "id": "9a29c4ee",
   "metadata": {},
   "outputs": [
    {
     "name": "stdout",
     "output_type": "stream",
     "text": []
    }
   ],
   "source": [
    "% Description: This function verifies if a consent term includes all required information described in the LGPD Art. 9\n",
    "% The consent term must inform:\n",
    "%    i. Data Controller\n",
    "%   ii. Data Subject\n",
    "%  iii. Specific Purpose\n",
    "%   iv. Form (Processing techniques)\n",
    "%    v. Time length of processing\n",
    "%   vi. The purpose when sharing the data with third parties, when applied\n",
    "%  vii. Communication channel to the data subject request any information\n",
    "% viii. Data Controller contact\n",
    "\n",
    "checkConsentTerm(dataController(DC),\n",
    "                dataSubject(DS),\n",
    "                purpose(DC,Purpose),\n",
    "                SpecificPurpose,\n",
    "                Form,\n",
    "                TimeLength,\n",
    "                ThirdPartyPurpose,\n",
    "                Channel,\n",
    "                DCContact,\n",
    "                Date) :-\n",
    "    (\n",
    "        form(DC,DS,Purpose,SpecificPurpose,Form),\n",
    "        timeLength(DC,DS,Purpose,SpecificPurpose,TimeLength),\n",
    "        thirdyPartySharingPurpose(DC,DS,Purpose,SpecificPurpose,TimeLength,ThirdPartyPurpose),\n",
    "        channelToProvideInformation(DC,DS,Channel,DCContact),\n",
    "        purpose(DC,DS,Purpose),\n",
    "        specificPurpose(DC,DS,Purpose,SpecificPurpose),\n",
    "        assertz(consentTermOk(dataController(DC),dataSubject(DS))),\n",
    "        assertz(log('Data Subject verified the consent term and it was ok',Date))\n",
    "    )."
   ]
  },
  {
   "cell_type": "code",
   "execution_count": 5,
   "id": "0c30406f",
   "metadata": {},
   "outputs": [
    {
     "name": "stdout",
     "output_type": "stream",
     "text": [
      "true."
     ]
    }
   ],
   "source": [
    "% This is a function call returns true if the consent term is ok, or false if not.\n",
    "\n",
    "?- checkConsentTerm(dataController(fiocruz),\n",
    "                        dataSubject(paulo),\n",
    "                        purpose(fiocruz,research),\n",
    "                        'genetic_factors_related_to_COVID-19',\n",
    "                        'statistic_analysis',\n",
    "                        180,\n",
    "                        'vaccination_priorization',\n",
    "                        'e-mail',\n",
    "                        'lgpd@fiocruz.br',\n",
    "                        1622035260)."
   ]
  },
  {
   "cell_type": "markdown",
   "id": "2364d019",
   "metadata": {},
   "source": [
    "So, if the consent term is ok, the Data Subject can inform that he/she agrees with the consent term.\n",
    "\n",
    "Hence, the Data Controller can collect, store and process the Data Subject's data."
   ]
  },
  {
   "cell_type": "code",
   "execution_count": 6,
   "id": "56ad4032",
   "metadata": {},
   "outputs": [
    {
     "name": "stdout",
     "output_type": "stream",
     "text": []
    }
   ],
   "source": [
    "% Description: This function sets that the Data Subject agreed with the consent term.\n",
    "% This function receives the params:\n",
    "%    i. Consent ID\n",
    "%   ii. Data Subject\n",
    "%  iii. Data Controller\n",
    "%   iv. Personal Data\n",
    "%    v. Health Data\n",
    "%   vi. Start Date - Timestamp\n",
    "%   vi. End Date - Timestamp\n",
    "\n",
    "setThatdsAgreeWithConsentTerms(id(ID),dataSubject(DS),\n",
    "                                dataController(DC),\n",
    "                                personalData(DS,PData),\n",
    "                                healthData(DS,HData),\n",
    "                                startDate(StartTS),\n",
    "                                endDate(EndTS)) :-\n",
    "    consentTermOk(dataController(DC),dataSubject(DS)),\n",
    "    \n",
    "    assertz(dsAgreeWithConsentTerms(dataSubject(DS),dataController(DC),startDate(TS),endDate(TS))),\n",
    "    assertz(log('Data Subject agrees with consent term',StartTS)),\n",
    "\n",
    "    assertz(dcIsCollectingDSData(id(ID),dataController(DC),dataSubject(DS),personalData(DS,PData),healthData(DS,HData),startDate(StartTS),endDate(EndTS))),\n",
    "    assertz(log('Data Controller can collect the Data Subject information',StartTS)),\n",
    "    \n",
    "    assertz(dcIsStoringDSData(id(ID),dataController(DC),dataSubject(DS),personalData(DS,PData),healthData(DS,HData),startDate(StartTS),endDate(EndTS))),\n",
    "    assertz(log('Data Controller can store the Data Subject information',StartTS)),\n",
    "        \n",
    "    assertz(dcIsProcessingDSData(id(ID),dataController(DC),dataSubject(DS),personalData(DS,PData),healthData(DS,HData),startDate(StartTS),endDate(EndTS))),\n",
    "    assertz(log('Data Controller can process the Data Subject information',StartTS))."
   ]
  },
  {
   "cell_type": "code",
   "execution_count": 7,
   "id": "08b164c9",
   "metadata": {},
   "outputs": [
    {
     "name": "stdout",
     "output_type": "stream",
     "text": [
      "true."
     ]
    }
   ],
   "source": [
    "% This is a function call returns true in case of success.\n",
    "\n",
    "?- setThatdsAgreeWithConsentTerms(id(10),\n",
    "                                dataSubject(paulo),\n",
    "                                dataController(fiocruz),\n",
    "                                personalData(paulo,976635869),\n",
    "                                healthData(paulo,oPlus),\n",
    "                                startDate(1622035260),\n",
    "                                endDate(1637932075))."
   ]
  },
  {
   "cell_type": "markdown",
   "id": "0248cdc8",
   "metadata": {},
   "source": [
    "Now, the Data Controller can collect, store and process the Data Subject's data."
   ]
  },
  {
   "cell_type": "code",
   "execution_count": 8,
   "id": "edb753c9",
   "metadata": {},
   "outputs": [
    {
     "name": "stdout",
     "output_type": "stream",
     "text": [
      "true."
     ]
    }
   ],
   "source": [
    "?- dcIsCollectingDSData(id(10),dataController(fiocruz),dataSubject(paulo),\n",
    "                        personalData(paulo,976635869),healthData(paulo,oPlus),\n",
    "                        startDate(1622035260),endDate(1637932075)),\n",
    "                        \n",
    "dcIsProcessingDSData(id(10),dataController(fiocruz),dataSubject(paulo),\n",
    "                    personalData(paulo,976635869),healthData(paulo,oPlus),\n",
    "                    startDate(1622035260),endDate(1637932075)),\n",
    "                    \n",
    "dcIsStoringDSData(id(10),dataController(fiocruz),dataSubject(paulo),\n",
    "                    personalData(paulo,976635869),healthData(paulo,oPlus),\n",
    "                    startDate(1622035260),endDate(1637932075))."
   ]
  },
  {
   "cell_type": "markdown",
   "id": "eea5829e",
   "metadata": {},
   "source": [
    "---------"
   ]
  },
  {
   "cell_type": "markdown",
   "id": "8d60c694",
   "metadata": {},
   "source": [
    "### Scene 3: Defining the Data Subject's rights."
   ]
  },
  {
   "cell_type": "markdown",
   "id": "079be990",
   "metadata": {},
   "source": [
    "According to the LGPD Art. 18, when the Data Subject is sharing data with a Data Controller, he/she has the following rights:\n",
    "1. Data Acess\n",
    "2. Data Copy\n",
    "3. Data Correction\n",
    "4. Data Anonymization\n",
    "5. Data Portability\n",
    "6. Data Deletion\n",
    "7. Information regarding the data sharing with a third party\n",
    "8. Request consent revocation."
   ]
  },
  {
   "cell_type": "code",
   "execution_count": 9,
   "id": "f689d793",
   "metadata": {},
   "outputs": [
    {
     "name": "stdout",
     "output_type": "stream",
     "text": []
    }
   ],
   "source": [
    "% Description: This function sets all Data Subject right's foreseed in the LGPD.\n",
    "% This function receives the params:\n",
    "%  i. Data Subject\n",
    "% ii. Data Controller\n",
    "\n",
    "setDSRights(dataSubject(DS),dataController(DC),startDate(StartTS)) :-\n",
    "    assertz(dsRight(dataAccess,dataSubject(DS),dataController(DC))),\n",
    "    assertz(dsRight(dataCopy,dataSubject(DS),dataController(DC))),\n",
    "    assertz(dsRight(dataCorrection,dataSubject(DS),dataController(DC))),\n",
    "    assertz(dsRight(dataAnonymization,dataSubject(DS),dataController(DC))),\n",
    "    assertz(dsRight(dataPortability,dataSubject(DS),dataController(DC))),\n",
    "    assertz(dsRight(dataDeletion,dataSubject(DS),dataController(DC))),\n",
    "    assertz(dsRight(dataSharingInformation,dataSubject(DS),dataController(DC))),\n",
    "    assertz(dsRight(requestConsentRevocation,dataSubject(DS),dataController(DC))),\n",
    "    assertz(log('Data Subject can now have all foressen rights',StartTS))."
   ]
  },
  {
   "cell_type": "code",
   "execution_count": 10,
   "id": "d23962ea",
   "metadata": {},
   "outputs": [
    {
     "name": "stdout",
     "output_type": "stream",
     "text": [
      "true."
     ]
    }
   ],
   "source": [
    "% This is a function call returns true if all Data Subject's right was associated to him/her.\n",
    "\n",
    "?- setDSRights(dataSubject(paulo),dataController(fiocruz),startDate(1622035260))."
   ]
  },
  {
   "cell_type": "markdown",
   "id": "ac406f89",
   "metadata": {},
   "source": [
    " ---------"
   ]
  },
  {
   "cell_type": "markdown",
   "id": "e56931ef",
   "metadata": {},
   "source": [
    "### Scene 4: Data Subject's consent revocation."
   ]
  },
  {
   "cell_type": "markdown",
   "id": "ee33ba60",
   "metadata": {},
   "source": [
    "As mentioned in the scenario's description, the Data Subject decides to revoke his/her consent.\n",
    "\n",
    "Once performed, the action of requesting the consent revocation cannot be executed again, and the Data Controller is forbidden to still collecting the Data Subject's data."
   ]
  },
  {
   "cell_type": "code",
   "execution_count": 11,
   "id": "a0ec4159",
   "metadata": {},
   "outputs": [
    {
     "name": "stdout",
     "output_type": "stream",
     "text": []
    }
   ],
   "source": [
    "% Description: This function revoke the Data Controller's action of collecting the Data Subject's data.\n",
    "% This function receives the params:\n",
    "%   i. Consent ID\n",
    "%  ii. Data Subject\n",
    "% iii. Data Controller\n",
    "%  iv. Personal Data\n",
    "%   v. Health Data\n",
    "\n",
    "setDSRevokeConsent(id(ID),\n",
    "                    dataSubject(DS),\n",
    "                    dataController(DC),\n",
    "                    personalData(DS,PData),\n",
    "                    healthData(DS,HData),\n",
    "                    now(Date),\n",
    "                    startDate(StartTS),\n",
    "                    endDate(EndTS)) :-\n",
    "                    \n",
    "    not(dsRight(requestConsentRevocation,dataSubject(paulo),dataController(fiocruz))),\n",
    "    assertz(log('Data Subject tried to revoke his/her consent, but fail',1624712875));\n",
    "    \n",
    "    retract(dsRight(requestConsentRevocation,dataSubject(DS),dataController(DC))),\n",
    "    assertz(log('Data Subject requested to the Data Controller to revoke his/her consent',Date)),\n",
    "    \n",
    "    retract(dcIsCollectingDSData(id(ID),dataController(DC),dataSubject(DS),personalData(DS,PData),healthData(DS,HData),startDate(StartTS),endDate(EndTS))),\n",
    "    assertz(log('From now, the Data Controller cannot collect the Data Subject information',Date)),\n",
    "    \n",
    "    retract(dcIsProcessingDSData(id(ID),dataController(DC),dataSubject(DS),personalData(DS,PData),healthData(DS,HData),startDate(StartTS),endDate(EndTS))),\n",
    "    assertz(log('From now, the Data Controller cannot process the Data Subject information',Date)).\n",
    "\n",
    "    "
   ]
  },
  {
   "cell_type": "code",
   "execution_count": 12,
   "id": "3c113b41",
   "metadata": {},
   "outputs": [
    {
     "name": "stdout",
     "output_type": "stream",
     "text": [
      "true."
     ]
    }
   ],
   "source": [
    "% This is a function call returns true if all Data Subject's request was successfully performed.\n",
    "\n",
    "?- setDSRevokeConsent(id(10),\n",
    "                        dataSubject(paulo),\n",
    "                        dataController(fiocruz),\n",
    "                        personalData(paulo,976635869),\n",
    "                        healthData(paulo,oPlus),\n",
    "                        now(1624712875),\n",
    "                        startDate(1622035260),\n",
    "                        endDate(1637932075)).\n",
    "    "
   ]
  },
  {
   "cell_type": "markdown",
   "id": "680944f7",
   "metadata": {},
   "source": [
    " ---------"
   ]
  },
  {
   "cell_type": "markdown",
   "id": "4283b37f",
   "metadata": {},
   "source": [
    "### Questions to ask"
   ]
  },
  {
   "cell_type": "markdown",
   "id": "6239f32d",
   "metadata": {},
   "source": [
    "Are the fiocruz data controller using the data subject Paulo's data? "
   ]
  },
  {
   "cell_type": "code",
   "execution_count": 13,
   "id": "b31d83d3",
   "metadata": {},
   "outputs": [
    {
     "name": "stdout",
     "output_type": "stream",
     "text": [
      "false."
     ]
    }
   ],
   "source": [
    "?- dcIsProcessingDSData(id(10),dataController(fiocruz),dataSubject(paulo),personalData(paulo,PData),healthData(paulo,HData),startDate(1622035260),endDate(1637932075))."
   ]
  },
  {
   "cell_type": "markdown",
   "id": "0cc10cfe",
   "metadata": {},
   "source": [
    "What are the Data Subject rights right now?"
   ]
  },
  {
   "cell_type": "code",
   "execution_count": 14,
   "id": "2c241578",
   "metadata": {},
   "outputs": [
    {
     "name": "stdout",
     "output_type": "stream",
     "text": [
      "RIGHT = processingConfirmation ;\n",
      "RIGHT = dataAccess ;\n",
      "RIGHT = dataCopy ;\n",
      "RIGHT = dataCorrection ;\n",
      "RIGHT = dataAnonymization ;\n",
      "RIGHT = dataPortability ;\n",
      "RIGHT = dataDeletion ;\n",
      "RIGHT = dataSharingInformation ."
     ]
    }
   ],
   "source": [
    "?- dsRight(RIGHT,dataSubject(paulo),dataController(fiocruz))."
   ]
  },
  {
   "cell_type": "markdown",
   "id": "723dfcb6",
   "metadata": {},
   "source": [
    "Can all items from art. 9 be informed?"
   ]
  },
  {
   "cell_type": "code",
   "execution_count": 15,
   "id": "aad7d26d",
   "metadata": {
    "scrolled": true
   },
   "outputs": [
    {
     "name": "stdout",
     "output_type": "stream",
     "text": [
      "SPECIFICPURPOSE = genetic_factors_related_to_COVID-19 ."
     ]
    }
   ],
   "source": [
    "?- specificPurpose(fiocruz,paulo,research,SPECIFICPURPOSE)."
   ]
  },
  {
   "cell_type": "code",
   "execution_count": 16,
   "id": "d25f269d",
   "metadata": {},
   "outputs": [
    {
     "name": "stdout",
     "output_type": "stream",
     "text": [
      "DAYS = 180 ."
     ]
    }
   ],
   "source": [
    "?- timeLength(fiocruz, paulo, research, 'genetic_factors_related_to_COVID-19',DAYS)."
   ]
  },
  {
   "cell_type": "markdown",
   "id": "fc11dcb4",
   "metadata": {},
   "source": [
    "Who are collecting the Data Subject's personal data and what are the respective data?"
   ]
  },
  {
   "cell_type": "code",
   "execution_count": 17,
   "id": "74a410e4",
   "metadata": {},
   "outputs": [
    {
     "name": "stdout",
     "output_type": "stream",
     "text": [
      "false."
     ]
    }
   ],
   "source": [
    "?- dcIsCollectingDSData(id(ID),dataController(DC),dataSubject(paulo),personalData(paulo,PData),healthData(paulo,HData),startDate(1622035260),endDate(1637932075))."
   ]
  },
  {
   "cell_type": "code",
   "execution_count": 18,
   "id": "86967521",
   "metadata": {},
   "outputs": [
    {
     "name": "stdout",
     "output_type": "stream",
     "text": [
      "ID = 10, DC = fiocruz, PData = 976635869, HData = oPlus ."
     ]
    }
   ],
   "source": [
    "?- dcIsStoringDSData(id(ID),dataController(DC),dataSubject(paulo),personalData(paulo,PData),healthData(paulo,HData),startDate(1622035260),endDate(1637932075))."
   ]
  },
  {
   "cell_type": "markdown",
   "id": "68d9afd5",
   "metadata": {},
   "source": [
    "Show all events."
   ]
  },
  {
   "cell_type": "code",
   "execution_count": 19,
   "id": "7f036d4f",
   "metadata": {},
   "outputs": [
    {
     "name": "stdout",
     "output_type": "stream",
     "text": [
      "Event = Data Subject can store the Data Subject information, Date = 1622035260 ;\n",
      "Event = Data Subject verified the consent term and it was ok, Date = 1622035260 ;\n",
      "Event = Data Subject agrees with consent term, Date = 1622035260 ;\n",
      "Event = Data Controller can collect the Data Subject information, Date = 1622035260 ;\n",
      "Event = Data Controller can store the Data Subject information, Date = 1622035260 ;\n",
      "Event = Data Controller can process the Data Subject information, Date = 1622035260 ;\n",
      "Event = Data Subject can now have all foressen rights, Date = 1622035260 ;\n",
      "Event = Data Subject requested to the Data Controller to revoke his/her consent, Date = 1624712875 ;\n",
      "Event = From now, the Data Controller cannot collect the Data Subject information, Date = 1624712875 ;\n",
      "Event = From now, the Data Controller cannot process the Data Subject information, Date = 1624712875 ."
     ]
    }
   ],
   "source": [
    "?- log(Event,Date) {-1}."
   ]
  },
  {
   "cell_type": "markdown",
   "id": "7d719688",
   "metadata": {},
   "source": [
    "----"
   ]
  },
  {
   "cell_type": "markdown",
   "id": "070e5cea",
   "metadata": {},
   "source": [
    "#### Cause-effect: 1 How to evidence when the Data Controller did not respect the consent revocation/\n",
    "\n",
    "Lets picture that the Data Controller did not repect the Data Subject's request and still collecting the Data Subject's data. In such plot, fines must be applied."
   ]
  },
  {
   "cell_type": "code",
   "execution_count": 20,
   "id": "dfcc2a44",
   "metadata": {},
   "outputs": [
    {
     "name": "stdout",
     "output_type": "stream",
     "text": []
    }
   ],
   "source": [
    "% This command sets that the Data Controller is collecting the Data Subject's data.\n",
    "\n",
    "dcIsCollectingDSData(id(10),dataController(fiocruz),dataSubject(paulo),\n",
    "                        personalData(paulo,976635869),healthData(paulo,oPlus),\n",
    "                        startDate(1622035260),endDate(1637932075))."
   ]
  },
  {
   "cell_type": "code",
   "execution_count": 21,
   "id": "d74e9295",
   "metadata": {},
   "outputs": [
    {
     "name": "stdout",
     "output_type": "stream",
     "text": [
      "true."
     ]
    }
   ],
   "source": [
    "% This command:\n",
    "%   (i) verifies if the Data Controller is collecting the Data Subject's data;\n",
    "%  (ii) verifies in the log if the Data Subject requested consent revocation;\n",
    "% (iii) if all previous verifications are true, insert in the log that the Data Controller did not respect \n",
    "%       the Data Subject's will.\n",
    "\n",
    "?- dcIsCollectingDSData(id(10),dataController(fiocruz),dataSubject(paulo),\n",
    "                        personalData(paulo,976635869),healthData(paulo,oPlus),\n",
    "                        startDate(1622035260),endDate(1637932075)),\n",
    "                        \n",
    "    log('Data Subject requested to the Data Controller to revoke his/her consent',1624712875),\n",
    "    \n",
    "    assertz(log('Data Controller did not respect the consent revocation requested by the Data Subject, \n",
    "                and still processing. Thus, fines should be applied',1624712875))."
   ]
  },
  {
   "cell_type": "markdown",
   "id": "c4979ee1",
   "metadata": {},
   "source": [
    "In this sense, the program log should help the Data Subject to create evidence of his/her requests. The log will show that the consent was revoked and the Data Controller did not respect such requisition."
   ]
  },
  {
   "cell_type": "code",
   "execution_count": 22,
   "id": "cd9900ed",
   "metadata": {
    "scrolled": true
   },
   "outputs": [
    {
     "name": "stdout",
     "output_type": "stream",
     "text": [
      "Event = Data Subject can store the Data Subject information, Date = 1622035260 ;\n",
      "Event = Data Subject verified the consent term and it was ok, Date = 1622035260 ;\n",
      "Event = Data Subject agrees with consent term, Date = 1622035260 ;\n",
      "Event = Data Controller can collect the Data Subject information, Date = 1622035260 ;\n",
      "Event = Data Controller can store the Data Subject information, Date = 1622035260 ;\n",
      "Event = Data Controller can process the Data Subject information, Date = 1622035260 ;\n",
      "Event = Data Subject can now have all foressen rights, Date = 1622035260 ;\n",
      "Event = Data Subject requested to the Data Controller to revoke his/her consent, Date = 1624712875 ;\n",
      "Event = From now, the Data Controller cannot collect the Data Subject information, Date = 1624712875 ;\n",
      "Event = From now, the Data Controller cannot process the Data Subject information, Date = 1624712875 ;\n",
      "Event = Data Controller did not respect the consent revocation requested by the Data Subject, and still processing. Thus, fines should be applied, Date = 1624712875 ."
     ]
    }
   ],
   "source": [
    "?- log(Event,Date) {-1}."
   ]
  },
  {
   "cell_type": "code",
   "execution_count": 23,
   "id": "36da4884",
   "metadata": {},
   "outputs": [
    {
     "name": "stdout",
     "output_type": "stream",
     "text": [
      "true."
     ]
    }
   ],
   "source": [
    "% reseting scenario\n",
    "?- retract(dcIsCollectingDSData(id(10),dataController(fiocruz),dataSubject(paulo),\n",
    "                        personalData(paulo,976635869),healthData(paulo,oPlus),\n",
    "                        startDate(1622035260),endDate(1637932075))),\n",
    "                        \n",
    "    retract((log('Data Controller did not respect the consent revocation requested by the Data Subject, \n",
    "                and still processing. Thus, fines should be applied',1624712875)))."
   ]
  },
  {
   "cell_type": "markdown",
   "id": "cf288a4f",
   "metadata": {},
   "source": [
    "----\n",
    "#### Cause-effect 2: How to evidence that the Data Controller leaked the Data Subject's data? "
   ]
  },
  {
   "cell_type": "markdown",
   "id": "adc3c232",
   "metadata": {},
   "source": [
    "To create concrete evidence that a Data Controller leaked a Data Subject's data, first, it is important to verify who has such data. If there is just one Data Controller legally storing such data; hence, the chances of such Data Controller had leaked personal data is higher."
   ]
  },
  {
   "cell_type": "code",
   "execution_count": 24,
   "id": "4e3d352b",
   "metadata": {},
   "outputs": [
    {
     "name": "stdout",
     "output_type": "stream",
     "text": [
      "ID = 10, DataController = fiocruz ."
     ]
    }
   ],
   "source": [
    "% This command verifies who is storing Paulo's personal and health data.\n",
    "\n",
    "?- dcIsStoringDSData(id(ID),dataController(DataController),dataSubject(paulo),\n",
    "                    personalData(paulo,976635869),healthData(paulo,oPlus),\n",
    "                    startDate(1622035260),endDate(1637932075))."
   ]
  },
  {
   "cell_type": "markdown",
   "id": "91fa04a8",
   "metadata": {},
   "source": [
    "Now, lets picture that the Data Controller Butantan has the Paulo's data."
   ]
  },
  {
   "cell_type": "code",
   "execution_count": 25,
   "id": "c0c202ba",
   "metadata": {},
   "outputs": [
    {
     "name": "stdout",
     "output_type": "stream",
     "text": []
    }
   ],
   "source": [
    "dcIsStoringDSData(id(null),dataController(butantan),dataSubject(paulo),\n",
    "                    personalData(paulo,976635869),healthData(paulo,oPlus),\n",
    "                    startDate(1622035260),endDate(1637932075))."
   ]
  },
  {
   "cell_type": "code",
   "execution_count": 26,
   "id": "f48d2bbf",
   "metadata": {},
   "outputs": [
    {
     "name": "stdout",
     "output_type": "stream",
     "text": [
      "true."
     ]
    }
   ],
   "source": [
    "% This command:\n",
    "%   (i) verifies if the Data Controller is storing the Data Subject's data;\n",
    "%  (ii) verifies if there is any evidence that the Data Subject allowed the Data Controller to process his/her data;\n",
    "% (iii) if all previous verifications are true, insert in the log that the Data Controller is not allowed \n",
    "%       to collect the Data Subject's data.\n",
    "\n",
    "?- dcIsStoringDSData(id(null),dataController(butantan),dataSubject(paulo),\n",
    "                    personalData(paulo,976635869),healthData(paulo,oPlus),\n",
    "                    startDate(1622035260),endDate(1637932075)),\n",
    "\n",
    "    not(dsAgreeWithConsentTerms(dataSubject(butantan),dataController(paulo),startDate(1622035260),endDate(1637932075))),\n",
    "\n",
    "    assertz(log('Data Subject did not agree with Butantan consent term, so the data was improperly collected, \n",
    "    fines should be applied',1624712875))."
   ]
  },
  {
   "cell_type": "markdown",
   "id": "c4f55ab5",
   "metadata": {},
   "source": [
    "Therefore, the event log will show that there is not consent agreement between Paulo and Butantan. \n",
    "\n",
    "Hence, the data was improperly collected. \n",
    "Moreover, as Fiocruz is the only Data Controller storing Paulo's data, probably the data was leaked from Friocruz to Butantan."
   ]
  },
  {
   "cell_type": "code",
   "execution_count": 27,
   "id": "59302011",
   "metadata": {},
   "outputs": [
    {
     "name": "stdout",
     "output_type": "stream",
     "text": [
      "Event = Data Subject can store the Data Subject information, Date = 1622035260 ;\n",
      "Event = Data Subject verified the consent term and it was ok, Date = 1622035260 ;\n",
      "Event = Data Subject agrees with consent term, Date = 1622035260 ;\n",
      "Event = Data Controller can collect the Data Subject information, Date = 1622035260 ;\n",
      "Event = Data Controller can store the Data Subject information, Date = 1622035260 ;\n",
      "Event = Data Controller can process the Data Subject information, Date = 1622035260 ;\n",
      "Event = Data Subject can now have all foressen rights, Date = 1622035260 ;\n",
      "Event = Data Subject requested to the Data Controller to revoke his/her consent, Date = 1624712875 ;\n",
      "Event = From now, the Data Controller cannot collect the Data Subject information, Date = 1624712875 ;\n",
      "Event = From now, the Data Controller cannot process the Data Subject information, Date = 1624712875 ;\n",
      "Event = Data Subject did not agree with Butantan consent term, so the data was improperly collected, fines should be applied, Date = 1624712875 ."
     ]
    }
   ],
   "source": [
    "?- log(Event,Date) {-1}."
   ]
  }
 ],
 "metadata": {
  "kernelspec": {
   "display_name": "SWI-Prolog",
   "language": "",
   "name": "jswipl"
  },
  "language_info": {
   "mimetype": "text/plain",
   "name": "swipl"
  }
 },
 "nbformat": 4,
 "nbformat_minor": 5
}
