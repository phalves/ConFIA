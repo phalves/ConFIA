{
 "cells": [
  {
   "cell_type": "markdown",
   "id": "2dba5670",
   "metadata": {},
   "source": [
    "# Scenario 2 - Data Subject agrees with the Data Controller consent term, but then decided to revoke his/her consent."
   ]
  },
  {
   "cell_type": "markdown",
   "id": "d13fadbf",
   "metadata": {},
   "source": [
    "## Table of Contents\n",
    "1. [Scenario Description](#Scenario-Description)\n",
    "2. [Scene 1: Set Consent Term](#Scene-1:-Set-consent-term.)\n",
    "3. [Scene 2: Data Subject Agrees with the Consent Term](#Scene-2:-Data-Subject-agrees-with-the-consent-term.)\n",
    "4. [Scene 3: Defining the Data Subject's Rights](#Scene-3:-Defining-the-Data-Subject's-rights.)\n",
    "5. [Scene 4: Data Subject's Consent Revocation](#Scene-4:-Data-Subject's-consent-revocation.)\n",
    "6. [Questions to Ask](#Questions-to-ask)\n",
    "    \n",
    "    6.1 [Cause-Effect 1: Consent revocation not respected](#Cause-effect:-1-How-to-evidence-when-the-Data-Controller-did-not-respect-the-consent-revocation?)\n",
    "    \n",
    "    6.2 [Cause-Effect 2: Evidencing data leak](#Cause-effect-2:-How-to-get-evidences-that-the-Data-Controller-leaked-the-Data-Subject's-data?)\n",
    "    \n",
    "    6.3 [Cause-Effect 3: Requesting data correction](#Cause-effect-3:-Requesting-data-correction)\n",
    "\n",
    "    6.3 [Cause-Effect 4: Requesting data anonymization](#Cause-effect-4:-Requesting-anonymization)\n"
   ]
  },
  {
   "cell_type": "markdown",
   "id": "099fbaca",
   "metadata": {},
   "source": [
    "### Scenario Description\n",
    "\n",
    "The Data Controller Fiocruz wants to use the Data Subjects' personal data and health data to research genetic factors related to COVID-19 from Wednesday, May 26, 2021 1:21:00 PM to Thursday, November 25, 2021 1:21:00 PM (180 days).\n",
    "\n",
    "To do so, the Data Controller must send the consent term to the Data Subject. The consent term must present all the information defined in the LGPD art. 9.\n",
    "\n",
    "However, after accepting the consent term, the Data Subjects decides to revoke his consent on Saturday, June 26, 2021 1:07:55 PM.\n",
    "\n",
    "The following figure depicts this macro scenario process.\n",
    "\n",
    "![Scenario2_Process](./img/Scenario2_Process.png \"Process 2\")\n",
    "\n",
    "Moreover, other four cause-effect scenarios were explored in order to show some possibilities regarding to the data subject's rights. \n",
    "\n",
    "The goal is to creating a scenario with Prolog to explore the facts in different time range and some cause-effect scenarios. This notebook tries to keep general facts that could occurr in any domain. Specific domain facts were not exploered.\n",
    " \n",
    "*PS-1: The timestamp is used to provide the time spectrum. The following tool was used to convert human time to timestamp and the other way around. https://www.epochconverter.com/ - 180 days is equivalent to add the value 15811200 in the timestamp*\n",
    "\n",
    "*PS-2: To help the usage of timestamp, we considered the following association.*\n",
    "- *Wednesday, May 26, 2021 1:21:00 PM = 1622035260*\n",
    "- *Friday, November 26, 2021 1:07:55 PM = 1637846460*\n",
    "- *Saturday, June 26, 2021 1:07:55 PM = 1624712875*\n",
    "\n",
    " \n",
    " ---------"
   ]
  },
  {
   "cell_type": "markdown",
   "id": "598222fa",
   "metadata": {},
   "source": [
    "### Scene 1: Set consent term."
   ]
  },
  {
   "cell_type": "markdown",
   "id": "e030a8e9",
   "metadata": {},
   "source": [
    "The first step is the consent setup. The consent must have all information described in the LGPD Art. 9. The following method receives all the required information.\n",
    "\n",
    "\n",
    "The **Data Subject Paulo** allows the **Data Controller Fiocruz** to access, store, and process his **phone number** and **blood factor/type** to perform **research** regarding **genetic factors related to COVID-19** using **statistical analysis** for **180 days**. However, the phone number **will not be public available** and will be used only in emergency situations.\n",
    "\n",
    "The Data Controller is allowed to **share** the Data Subject data **only** with the **vaccination prioritization purpose**.\n",
    "\n",
    "\n",
    "To make any request, please use the Data Controller communication channel by **email lgpd@fiocruz.br**.\n",
    "\n",
    "\n",
    "PS: The Data Controllers must inform in any case if they are processing the personal data if requested.\n"
   ]
  },
  {
   "cell_type": "code",
   "execution_count": 1,
   "id": "64c60967",
   "metadata": {},
   "outputs": [
    {
     "name": "stdout",
     "output_type": "stream",
     "text": []
    }
   ],
   "source": [
    "% Description: This function defines a consent term including all required information described in the LGPD Art. 9\n",
    "% The consent term must inform:\n",
    "%    i. Data Controller\n",
    "%   ii. Data Subject\n",
    "%  iii. Specific Purpose\n",
    "%   iv. Form (Processing techniques)\n",
    "%    v. Time length of processing\n",
    "%   vi. The purpose when sharing the data with third parties, when applied\n",
    "%  vii. Communication channel to the data subject request any information\n",
    "% viii. Data Controller contact\n",
    "\n",
    "createConsentTerm(DC,DS,PData,HData,Purpose,\n",
    "                SpecificPurpose,\n",
    "                Form,\n",
    "                TimeLength,\n",
    "                ThirdPartyPurpose,\n",
    "                Channel,\n",
    "                DCContact) :-\n",
    "\n",
    "                assertz(dataSubject(DS)),\n",
    "                assertz(dataController(DC)),\n",
    "                assertz(personalData(DS,PData)),\n",
    "                assertz(healthData(DS, HData)),\n",
    "                assertz(purpose(DC,DS,Purpose)),\n",
    "                assertz(specificPurpose(DC,DS,Purpose,SpecificPurpose)),\n",
    "                assertz(form(DC,DS,Purpose,SpecificPurpose,Form)),\n",
    "                assertz(timeLength(DC,DS,Purpose,SpecificPurpose,TimeLength)),\n",
    "                assertz(thirdyPartySharingPurpose(DC,DS,Purpose,SpecificPurpose,\n",
    "                                                    TimeLength,ThirdPartyPurpose)),\n",
    "                assertz(channelToProvideInformation(DC,DS,Channel,DCContact))."
   ]
  },
  {
   "cell_type": "code",
   "execution_count": 2,
   "id": "4747b8a8",
   "metadata": {},
   "outputs": [
    {
     "name": "stdout",
     "output_type": "stream",
     "text": [
      "true."
     ]
    }
   ],
   "source": [
    "% This is a function call that defines a consent term with the informed params\n",
    "\n",
    "?- createConsentTerm(fiocruz,paulo,976635869,oPlus,research,\n",
    "                'genetic_factors_related_to_COVID-19',\n",
    "                'statistic_analysis',\n",
    "                15811200,\n",
    "                'vaccination_priorization',\n",
    "                'e-mail',\n",
    "                'lgpd@fiocruz.br')."
   ]
  },
  {
   "cell_type": "code",
   "execution_count": 3,
   "id": "027715ee",
   "metadata": {},
   "outputs": [
    {
     "name": "stdout",
     "output_type": "stream",
     "text": [
      "true."
     ]
    }
   ],
   "source": [
    "% This function defines the right to request processing confirmation to the Data Subject\n",
    "\n",
    "dsRight(processingConfirmation,dataSubject(paulo),dataController(fiocruz)).\n",
    "?- assertz(log('Data Subject can ask if the Data Controller is processing his/her data',1622035260))."
   ]
  },
  {
   "cell_type": "markdown",
   "id": "329c71df",
   "metadata": {},
   "source": [
    " ---------"
   ]
  },
  {
   "cell_type": "markdown",
   "id": "78ad55c8",
   "metadata": {},
   "source": [
    "### Scene 2: Data Subject agrees with the consent term."
   ]
  },
  {
   "cell_type": "markdown",
   "id": "f06757c0",
   "metadata": {},
   "source": [
    "First, the Data Subject verifies if all the crutial elements are described in the consent term present by the Data Controller. If so, the program will set that the consent term is ok, i.e., it has all the required information."
   ]
  },
  {
   "cell_type": "code",
   "execution_count": 4,
   "id": "9a29c4ee",
   "metadata": {},
   "outputs": [
    {
     "name": "stdout",
     "output_type": "stream",
     "text": []
    }
   ],
   "source": [
    "% Description: This function verifies if a consent term includes all required information described in the LGPD Art. 9\n",
    "% The consent term must inform:\n",
    "%    i. Data Controller\n",
    "%   ii. Data Subject\n",
    "%  iii. Specific Purpose\n",
    "%   iv. Form (Processing techniques)\n",
    "%    v. Time length of processing\n",
    "%   vi. The purpose when sharing the data with third parties, when applied\n",
    "%  vii. Communication channel to the data subject request any information\n",
    "% viii. Data Controller contact\n",
    "\n",
    "checkConsentTerm(dataController(DC),\n",
    "                dataSubject(DS),\n",
    "                purpose(DC,Purpose),\n",
    "                SpecificPurpose,\n",
    "                Form,\n",
    "                TimeLength,\n",
    "                ThirdPartyPurpose,\n",
    "                Channel,\n",
    "                DCContact,\n",
    "                Date) :-\n",
    "    (\n",
    "        form(DC,DS,Purpose,SpecificPurpose,Form),\n",
    "        timeLength(DC,DS,Purpose,SpecificPurpose,TimeLength),\n",
    "        thirdyPartySharingPurpose(DC,DS,Purpose,SpecificPurpose,TimeLength,ThirdPartyPurpose),\n",
    "        channelToProvideInformation(DC,DS,Channel,DCContact),\n",
    "        purpose(DC,DS,Purpose),\n",
    "        specificPurpose(DC,DS,Purpose,SpecificPurpose),\n",
    "        assertz(consentTermOk(dataController(DC),dataSubject(DS))),\n",
    "        assertz(log('Data Subject verified the consent term and it was ok',Date))\n",
    "    )."
   ]
  },
  {
   "cell_type": "code",
   "execution_count": 5,
   "id": "0c30406f",
   "metadata": {},
   "outputs": [
    {
     "name": "stdout",
     "output_type": "stream",
     "text": [
      "true."
     ]
    }
   ],
   "source": [
    "% This is a function call returns true if the consent term is ok, or false if not.\n",
    "\n",
    "?- checkConsentTerm(dataController(fiocruz),\n",
    "                        dataSubject(paulo),\n",
    "                        purpose(fiocruz,research),\n",
    "                        'genetic_factors_related_to_COVID-19',\n",
    "                        'statistic_analysis',\n",
    "                        15811200,\n",
    "                        'vaccination_priorization',\n",
    "                        'e-mail',\n",
    "                        'lgpd@fiocruz.br',\n",
    "                        1622035260)."
   ]
  },
  {
   "cell_type": "markdown",
   "id": "2364d019",
   "metadata": {},
   "source": [
    "So, if the consent term is ok, the Data Subject can inform that he/she agrees with the consent term.\n",
    "\n",
    "Hence, the Data Controller can collect, store and process the Data Subject's data."
   ]
  },
  {
   "cell_type": "code",
   "execution_count": 6,
   "id": "56ad4032",
   "metadata": {},
   "outputs": [
    {
     "name": "stdout",
     "output_type": "stream",
     "text": []
    }
   ],
   "source": [
    "% Description: This function sets that the Data Subject agreed with the consent term.\n",
    "% This function receives the params:\n",
    "%    i. Consent ID\n",
    "%   ii. Data Subject\n",
    "%  iii. Data Controller\n",
    "%   iv. Personal Data\n",
    "%    v. Health Data\n",
    "%   vi. Start Date - Timestamp\n",
    "%   vi. End Date - Timestamp\n",
    "\n",
    "setThatdsAgreeWithConsentTerms(id(ID),dataSubject(DS),\n",
    "                                dataController(DC),\n",
    "                                personalData(DS,PData),\n",
    "                                healthData(DS,HData),\n",
    "                                startDate(StartTS),\n",
    "                                endDate(EndTS)) :-\n",
    "    consentTermOk(dataController(DC),dataSubject(DS)),\n",
    "    \n",
    "    assertz(dsAgreeWithConsentTerms(dataSubject(DS),dataController(DC),startDate(TS),endDate(TS))),\n",
    "    assertz(log('Data Subject agrees with consent term',StartTS)),\n",
    "\n",
    "    assertz(dcIsCollectingDSData(id(ID),dataController(DC),dataSubject(DS),personalData(DS,PData),healthData(DS,HData),startDate(StartTS),endDate(EndTS))),\n",
    "    assertz(log('Data Controller can collect the Data Subject information',StartTS)),\n",
    "    \n",
    "    assertz(dcIsStoringDSData(id(ID),dataController(DC),dataSubject(DS),personalData(DS,PData),healthData(DS,HData),startDate(StartTS),endDate(EndTS))),\n",
    "    assertz(log('Data Controller can store the Data Subject information',StartTS)),\n",
    "        \n",
    "    assertz(dcIsProcessingDSData(id(ID),dataController(DC),dataSubject(DS),personalData(DS,PData),healthData(DS,HData),startDate(StartTS),endDate(EndTS))),\n",
    "    assertz(log('Data Controller can process the Data Subject information',StartTS))."
   ]
  },
  {
   "cell_type": "code",
   "execution_count": 7,
   "id": "08b164c9",
   "metadata": {},
   "outputs": [
    {
     "name": "stdout",
     "output_type": "stream",
     "text": [
      "EndDate = 1637846460 ."
     ]
    }
   ],
   "source": [
    "% This is a function call returns true in case of success.\n",
    "\n",
    "?- setThatdsAgreeWithConsentTerms(id(10),\n",
    "                                dataSubject(paulo),\n",
    "                                dataController(fiocruz),\n",
    "                                personalData(paulo,976635869),\n",
    "                                healthData(paulo,oPlus),\n",
    "                                startDate(1622035260),\n",
    "                                endDate(EndDate)), EndDate is 1622035260+15811200."
   ]
  },
  {
   "cell_type": "markdown",
   "id": "0248cdc8",
   "metadata": {},
   "source": [
    "Now, the Data Controller can collect, store and process the Data Subject's data."
   ]
  },
  {
   "cell_type": "code",
   "execution_count": 8,
   "id": "edb753c9",
   "metadata": {},
   "outputs": [
    {
     "name": "stdout",
     "output_type": "stream",
     "text": [
      "true."
     ]
    }
   ],
   "source": [
    "?- dcIsCollectingDSData(id(10),dataController(fiocruz),dataSubject(paulo),\n",
    "                        personalData(paulo,976635869),healthData(paulo,oPlus),\n",
    "                        startDate(1622035260),endDate(1637846460)),\n",
    "                        \n",
    "dcIsProcessingDSData(id(10),dataController(fiocruz),dataSubject(paulo),\n",
    "                    personalData(paulo,976635869),healthData(paulo,oPlus),\n",
    "                    startDate(1622035260),endDate(1637846460)),\n",
    "                    \n",
    "dcIsStoringDSData(id(10),dataController(fiocruz),dataSubject(paulo),\n",
    "                    personalData(paulo,976635869),healthData(paulo,oPlus),\n",
    "                    startDate(1622035260),endDate(1637846460))."
   ]
  },
  {
   "cell_type": "markdown",
   "id": "eea5829e",
   "metadata": {},
   "source": [
    "---------"
   ]
  },
  {
   "cell_type": "markdown",
   "id": "8d60c694",
   "metadata": {},
   "source": [
    "### Scene 3: Defining the Data Subject's rights."
   ]
  },
  {
   "cell_type": "markdown",
   "id": "079be990",
   "metadata": {},
   "source": [
    "According to the LGPD Art. 18, when the Data Subject is sharing data with a Data Controller, he/she has the following rights:\n",
    "1. Data Acess\n",
    "2. Data Copy\n",
    "3. Data Correction\n",
    "4. Data Anonymization\n",
    "5. Data Portability\n",
    "6. Data Deletion\n",
    "7. Information regarding the data sharing with a third party\n",
    "8. Request consent revocation."
   ]
  },
  {
   "cell_type": "code",
   "execution_count": 9,
   "id": "f689d793",
   "metadata": {},
   "outputs": [
    {
     "name": "stdout",
     "output_type": "stream",
     "text": []
    }
   ],
   "source": [
    "% Description: This function sets all Data Subject right's foreseed in the LGPD.\n",
    "% This function receives the params:\n",
    "%  i. Data Subject\n",
    "% ii. Data Controller\n",
    "\n",
    "setDSRights(dataSubject(DS),dataController(DC),startDate(StartTS)) :-\n",
    "    assertz(dsRight(dataAccess,dataSubject(DS),dataController(DC))),\n",
    "    assertz(dsRight(dataCopy,dataSubject(DS),dataController(DC))),\n",
    "    assertz(dsRight(dataCorrection,dataSubject(DS),dataController(DC))),\n",
    "    assertz(dsRight(dataAnonymization,dataSubject(DS),dataController(DC))),\n",
    "    assertz(dsRight(dataPortability,dataSubject(DS),dataController(DC))),\n",
    "    assertz(dsRight(dataDeletion,dataSubject(DS),dataController(DC))),\n",
    "    assertz(dsRight(dataSharingInformation,dataSubject(DS),dataController(DC))),\n",
    "    assertz(dsRight(requestConsentRevocation,dataSubject(DS),dataController(DC))),\n",
    "    assertz(log('Data Subject can now have all foressen rights',StartTS))."
   ]
  },
  {
   "cell_type": "code",
   "execution_count": 10,
   "id": "d23962ea",
   "metadata": {},
   "outputs": [
    {
     "name": "stdout",
     "output_type": "stream",
     "text": [
      "true."
     ]
    }
   ],
   "source": [
    "% This is a function call returns true if all Data Subject's right was associated to him/her.\n",
    "\n",
    "?- setDSRights(dataSubject(paulo),dataController(fiocruz),startDate(1622035260))."
   ]
  },
  {
   "cell_type": "markdown",
   "id": "ac406f89",
   "metadata": {},
   "source": [
    " ---------"
   ]
  },
  {
   "cell_type": "markdown",
   "id": "e56931ef",
   "metadata": {},
   "source": [
    "### Scene 4: Data Subject's consent revocation."
   ]
  },
  {
   "cell_type": "markdown",
   "id": "ee33ba60",
   "metadata": {},
   "source": [
    "As mentioned in the scenario's description, the Data Subject decides to revoke his/her consent.\n",
    "The Data Subject considered that the purpose limitation is not adequate. \n",
    "\n",
    "Once performed, the action of requesting the consent revocation cannot be executed again, and the Data Controller is forbidden to still collecting the Data Subject's data."
   ]
  },
  {
   "cell_type": "code",
   "execution_count": 11,
   "id": "a0ec4159",
   "metadata": {},
   "outputs": [
    {
     "name": "stdout",
     "output_type": "stream",
     "text": []
    }
   ],
   "source": [
    "% Description: This function revoke the Data Controller's action of collecting the Data Subject's data.\n",
    "% This function receives the params:\n",
    "%   i. Consent ID\n",
    "%  ii. Data Subject\n",
    "% iii. Data Controller\n",
    "%  iv. Personal Data\n",
    "%   v. Health Data\n",
    "\n",
    "setDSRevokeConsent(id(ID),\n",
    "                    dataSubject(DS),\n",
    "                    dataController(DC),\n",
    "                    personalData(DS,PData),\n",
    "                    healthData(DS,HData),\n",
    "                    now(Date),\n",
    "                    startDate(StartTS),\n",
    "                    endDate(EndTS),\n",
    "                    requestDate(ReqDate)) :-\n",
    "                    \n",
    "    not(dsRight(requestConsentRevocation,dataSubject(paulo),dataController(fiocruz))),\n",
    "    assertz(log('Data Subject tried to revoke his/her consent, but fail',ReqDate));\n",
    "    \n",
    "    retract(dsRight(requestConsentRevocation,dataSubject(DS),dataController(DC))),\n",
    "    assertz(log('Data Subject requested to the Data Controller to revoke his/her consent',Date)),\n",
    "    \n",
    "    retract(dcIsCollectingDSData(id(ID),dataController(DC),dataSubject(DS),personalData(DS,PData),healthData(DS,HData),startDate(StartTS),endDate(EndTS))),\n",
    "    assertz(log('From now, the Data Controller cannot collect the Data Subject information',Date)),\n",
    "    \n",
    "    retract(dcIsProcessingDSData(id(ID),dataController(DC),dataSubject(DS),personalData(DS,PData),healthData(DS,HData),startDate(StartTS),endDate(EndTS))),\n",
    "    assertz(log('From now, the Data Controller cannot process the Data Subject information',Date)).\n",
    "\n",
    "    "
   ]
  },
  {
   "cell_type": "code",
   "execution_count": 12,
   "id": "3c113b41",
   "metadata": {},
   "outputs": [
    {
     "name": "stdout",
     "output_type": "stream",
     "text": [
      "true.\n",
      "EndDate = 1637846460 ."
     ]
    }
   ],
   "source": [
    "% This call store the Data Subject's motivation to request the cosent revocation.\n",
    "?- assertz(log('Data Subject considered that the purpose limitation is not adequate',1624712875)).\n",
    "\n",
    "% This is a function call returns true if all Data Subject's request was successfully performed.\n",
    "?- setDSRevokeConsent(id(10),\n",
    "                        dataSubject(paulo),\n",
    "                        dataController(fiocruz),\n",
    "                        personalData(paulo,976635869),\n",
    "                        healthData(paulo,oPlus),\n",
    "                        now(1624712875),\n",
    "                        startDate(1622035260),\n",
    "                        endDate(EndDate),\n",
    "                        requestDate(1624712875)), \n",
    "                        EndDate is 1622035260+15811200.\n",
    "    "
   ]
  },
  {
   "cell_type": "markdown",
   "id": "680944f7",
   "metadata": {},
   "source": [
    " ---------"
   ]
  },
  {
   "cell_type": "markdown",
   "id": "4283b37f",
   "metadata": {},
   "source": [
    "### Questions to ask"
   ]
  },
  {
   "cell_type": "markdown",
   "id": "6239f32d",
   "metadata": {},
   "source": [
    "Are the fiocruz data controller using the data subject Paulo's data? "
   ]
  },
  {
   "cell_type": "code",
   "execution_count": 13,
   "id": "b31d83d3",
   "metadata": {},
   "outputs": [
    {
     "name": "stdout",
     "output_type": "stream",
     "text": [
      "false."
     ]
    }
   ],
   "source": [
    "?- dcIsProcessingDSData(id(10),dataController(fiocruz),dataSubject(paulo),personalData(paulo,PData),healthData(paulo,HData),startDate(1622035260),endDate(1637846460))."
   ]
  },
  {
   "cell_type": "markdown",
   "id": "0cc10cfe",
   "metadata": {},
   "source": [
    "What are the Data Subject rights right now?"
   ]
  },
  {
   "cell_type": "code",
   "execution_count": 14,
   "id": "2c241578",
   "metadata": {},
   "outputs": [
    {
     "name": "stdout",
     "output_type": "stream",
     "text": [
      "RIGHT = processingConfirmation ;\n",
      "RIGHT = dataAccess ;\n",
      "RIGHT = dataCopy ;\n",
      "RIGHT = dataCorrection ;\n",
      "RIGHT = dataAnonymization ;\n",
      "RIGHT = dataPortability ;\n",
      "RIGHT = dataDeletion ;\n",
      "RIGHT = dataSharingInformation ."
     ]
    }
   ],
   "source": [
    "?- dsRight(RIGHT,dataSubject(paulo),dataController(fiocruz))."
   ]
  },
  {
   "cell_type": "markdown",
   "id": "723dfcb6",
   "metadata": {},
   "source": [
    "Can all items from art. 9 be informed?"
   ]
  },
  {
   "cell_type": "code",
   "execution_count": 15,
   "id": "aad7d26d",
   "metadata": {
    "scrolled": true
   },
   "outputs": [
    {
     "name": "stdout",
     "output_type": "stream",
     "text": [
      "SPECIFICPURPOSE = genetic_factors_related_to_COVID-19 ."
     ]
    }
   ],
   "source": [
    "?- specificPurpose(fiocruz,paulo,research,SPECIFICPURPOSE)."
   ]
  },
  {
   "cell_type": "code",
   "execution_count": 16,
   "id": "d25f269d",
   "metadata": {},
   "outputs": [
    {
     "name": "stdout",
     "output_type": "stream",
     "text": [
      "TimeRange = 15811200 ."
     ]
    }
   ],
   "source": [
    "?- timeLength(fiocruz, paulo, research, 'genetic_factors_related_to_COVID-19',TimeRange)."
   ]
  },
  {
   "cell_type": "markdown",
   "id": "fc11dcb4",
   "metadata": {},
   "source": [
    "Who are collecting the Data Subject's personal data and what are the respective data?"
   ]
  },
  {
   "cell_type": "code",
   "execution_count": 17,
   "id": "74a410e4",
   "metadata": {},
   "outputs": [
    {
     "name": "stdout",
     "output_type": "stream",
     "text": [
      "false."
     ]
    }
   ],
   "source": [
    "?- dcIsCollectingDSData(id(ID),dataController(DC),dataSubject(paulo),personalData(paulo,PData),healthData(paulo,HData),startDate(1622035260),endDate(1637846460))."
   ]
  },
  {
   "cell_type": "code",
   "execution_count": 18,
   "id": "86967521",
   "metadata": {},
   "outputs": [
    {
     "name": "stdout",
     "output_type": "stream",
     "text": [
      "ID = 10, DC = fiocruz, PData = 976635869, HData = oPlus ."
     ]
    }
   ],
   "source": [
    "?- dcIsStoringDSData(id(ID),dataController(DC),dataSubject(paulo),personalData(paulo,PData),healthData(paulo,HData),startDate(1622035260),endDate(1637846460))."
   ]
  },
  {
   "cell_type": "markdown",
   "id": "68d9afd5",
   "metadata": {},
   "source": [
    "Show all events."
   ]
  },
  {
   "cell_type": "code",
   "execution_count": 19,
   "id": "7f036d4f",
   "metadata": {},
   "outputs": [
    {
     "name": "stdout",
     "output_type": "stream",
     "text": [
      "Event = Data Subject can ask if the Data Controller is processing his/her data, Date = 1622035260 ;\n",
      "Event = Data Subject verified the consent term and it was ok, Date = 1622035260 ;\n",
      "Event = Data Subject agrees with consent term, Date = 1622035260 ;\n",
      "Event = Data Controller can collect the Data Subject information, Date = 1622035260 ;\n",
      "Event = Data Controller can store the Data Subject information, Date = 1622035260 ;\n",
      "Event = Data Controller can process the Data Subject information, Date = 1622035260 ;\n",
      "Event = Data Subject can now have all foressen rights, Date = 1622035260 ;\n",
      "Event = Data Subject considered that the purpose limitation is not adequate, Date = 1624712875 ;\n",
      "Event = Data Subject requested to the Data Controller to revoke his/her consent, Date = 1624712875 ;\n",
      "Event = From now, the Data Controller cannot collect the Data Subject information, Date = 1624712875 ;\n",
      "Event = From now, the Data Controller cannot process the Data Subject information, Date = 1624712875 ."
     ]
    }
   ],
   "source": [
    "?- log(Event,Date) {-1}."
   ]
  },
  {
   "cell_type": "markdown",
   "id": "7d719688",
   "metadata": {},
   "source": [
    "----"
   ]
  },
  {
   "cell_type": "markdown",
   "id": "070e5cea",
   "metadata": {},
   "source": [
    "#### Cause-effect: 1 How to evidence when the Data Controller did not respect the consent revocation?\n",
    "\n",
    "Let's picture that the Data Controller did not respect the Data Subject's request and still collecting the Data Subject's data. In such plot, fines must be applied.\n",
    "\n",
    "<div>\n",
    "<img src=\"./img/Scenario2.1_Process.png\" width=\"600\"/>\n",
    "</div>"
   ]
  },
  {
   "cell_type": "code",
   "execution_count": 20,
   "id": "dfcc2a44",
   "metadata": {},
   "outputs": [
    {
     "name": "stdout",
     "output_type": "stream",
     "text": []
    }
   ],
   "source": [
    "% This command sets that the Data Controller is collecting the Data Subject's data.\n",
    "\n",
    "dcIsCollectingDSData(id(10),dataController(fiocruz),dataSubject(paulo),\n",
    "                        personalData(paulo,976635869),healthData(paulo,oPlus),\n",
    "                        startDate(1622035260),endDate(1637846460))."
   ]
  },
  {
   "cell_type": "code",
   "execution_count": 21,
   "id": "d74e9295",
   "metadata": {},
   "outputs": [
    {
     "name": "stdout",
     "output_type": "stream",
     "text": [
      "true."
     ]
    }
   ],
   "source": [
    "% This command:\n",
    "%   (i) verifies if the Data Controller is collecting the Data Subject's data;\n",
    "%  (ii) verifies in the log if the Data Subject requested consent revocation;\n",
    "% (iii) if all previous verifications are true, insert in the log that the Data Controller did not respect \n",
    "%       the Data Subject's will.\n",
    "\n",
    "?- dcIsCollectingDSData(id(10),dataController(fiocruz),dataSubject(paulo),\n",
    "                        personalData(paulo,976635869),healthData(paulo,oPlus),\n",
    "                        startDate(1622035260),endDate(1637846460)),\n",
    "                        \n",
    "    log('Data Subject requested to the Data Controller to revoke his/her consent',1624712875),\n",
    "    \n",
    "    assertz(log('Data Controller did not respect the consent revocation requested by the Data Subject, \n",
    "                and still processing. Thus, fines should be applied',1624712875))."
   ]
  },
  {
   "cell_type": "markdown",
   "id": "c4979ee1",
   "metadata": {},
   "source": [
    "In this sense, the program log should help the Data Subject to create evidence of his/her requests. The log will show that the consent was revoked and the Data Controller did not respect such requisition."
   ]
  },
  {
   "cell_type": "code",
   "execution_count": 22,
   "id": "cd9900ed",
   "metadata": {
    "scrolled": true
   },
   "outputs": [
    {
     "name": "stdout",
     "output_type": "stream",
     "text": [
      "Event = Data Subject can ask if the Data Controller is processing his/her data, Date = 1622035260 ;\n",
      "Event = Data Subject verified the consent term and it was ok, Date = 1622035260 ;\n",
      "Event = Data Subject agrees with consent term, Date = 1622035260 ;\n",
      "Event = Data Controller can collect the Data Subject information, Date = 1622035260 ;\n",
      "Event = Data Controller can store the Data Subject information, Date = 1622035260 ;\n",
      "Event = Data Controller can process the Data Subject information, Date = 1622035260 ;\n",
      "Event = Data Subject can now have all foressen rights, Date = 1622035260 ;\n",
      "Event = Data Subject considered that the purpose limitation is not adequate, Date = 1624712875 ;\n",
      "Event = Data Subject requested to the Data Controller to revoke his/her consent, Date = 1624712875 ;\n",
      "Event = From now, the Data Controller cannot collect the Data Subject information, Date = 1624712875 ;\n",
      "Event = From now, the Data Controller cannot process the Data Subject information, Date = 1624712875 ;\n",
      "Event = Data Controller did not respect the consent revocation requested by the Data Subject, and still processing. Thus, fines should be applied, Date = 1624712875 ."
     ]
    }
   ],
   "source": [
    "?- log(Event,Date) {-1}."
   ]
  },
  {
   "cell_type": "code",
   "execution_count": 23,
   "id": "36da4884",
   "metadata": {},
   "outputs": [
    {
     "name": "stdout",
     "output_type": "stream",
     "text": [
      "true."
     ]
    }
   ],
   "source": [
    "% Resetting scenario\n",
    "?- retract(dcIsCollectingDSData(id(10),dataController(fiocruz),dataSubject(paulo),\n",
    "                        personalData(paulo,976635869),healthData(paulo,oPlus),\n",
    "                        startDate(1622035260),endDate(1637846460))),\n",
    "                        \n",
    "    retract((log('Data Controller did not respect the consent revocation requested by the Data Subject, \n",
    "                and still processing. Thus, fines should be applied',1624712875)))."
   ]
  },
  {
   "cell_type": "markdown",
   "id": "cf288a4f",
   "metadata": {},
   "source": [
    "----\n",
    "#### Cause-effect 2: How to get evidences that the Data Controller leaked the Data Subject's data? "
   ]
  },
  {
   "cell_type": "markdown",
   "id": "adc3c232",
   "metadata": {},
   "source": [
    "To create concrete evidence that a Data Controller leaked a Data Subject's data, first, it is important to verify who has such data. If there is just one Data Controller legally storing such data; hence, the chances of such Data Controller had leaked personal data is higher.\n",
    "\n",
    "![Scenario2.2_Process](./img/Scenario2.2_Process.png \"Process 2.2\")"
   ]
  },
  {
   "cell_type": "code",
   "execution_count": 24,
   "id": "4e3d352b",
   "metadata": {},
   "outputs": [
    {
     "name": "stdout",
     "output_type": "stream",
     "text": [
      "ID = 10, DataController = fiocruz ."
     ]
    }
   ],
   "source": [
    "% This command verifies who is storing Paulo's personal and health data.\n",
    "\n",
    "?- dcIsStoringDSData(id(ID),dataController(DataController),dataSubject(paulo),\n",
    "                    personalData(paulo,976635869),healthData(paulo,oPlus),\n",
    "                    startDate(1622035260),endDate(1637846460))."
   ]
  },
  {
   "cell_type": "markdown",
   "id": "91fa04a8",
   "metadata": {},
   "source": [
    "Now, let's picture that the Data Controller Butantan has Paulo's data."
   ]
  },
  {
   "cell_type": "code",
   "execution_count": 25,
   "id": "c0c202ba",
   "metadata": {},
   "outputs": [
    {
     "name": "stdout",
     "output_type": "stream",
     "text": []
    }
   ],
   "source": [
    "dcIsStoringDSData(id(null),dataController(butantan),dataSubject(paulo),\n",
    "                    personalData(paulo,976635869),healthData(paulo,oPlus),\n",
    "                    startDate(1622035260),endDate(1637846460))."
   ]
  },
  {
   "cell_type": "code",
   "execution_count": 26,
   "id": "f48d2bbf",
   "metadata": {},
   "outputs": [
    {
     "name": "stdout",
     "output_type": "stream",
     "text": [
      "true."
     ]
    }
   ],
   "source": [
    "% This command:\n",
    "%   (i) verifies if the Data Controller is storing the Data Subject's data;\n",
    "%  (ii) verifies if there is any evidence that the Data Subject allowed the Data Controller to process his/her data;\n",
    "% (iii) if all previous verifications are true, insert in the log that the Data Controller is not allowed \n",
    "%       to collect the Data Subject's data.\n",
    "\n",
    "?- dcIsStoringDSData(id(null),dataController(butantan),dataSubject(paulo),\n",
    "                    personalData(paulo,976635869),healthData(paulo,oPlus),\n",
    "                    startDate(1622035260),endDate(1637846460)),\n",
    "\n",
    "    not(dsAgreeWithConsentTerms(dataSubject(butantan),dataController(paulo),startDate(1622035260),endDate(1637846460))),\n",
    "\n",
    "    assertz(log('Data Subject did not agree with Butantan consent term, so the data was improperly collected, \n",
    "    fines should be applied',1624712875))."
   ]
  },
  {
   "cell_type": "markdown",
   "id": "c4f55ab5",
   "metadata": {},
   "source": [
    "Therefore, the event log will show that there is not consent agreement between Paulo and Butantan. \n",
    "\n",
    "Hence, the data was improperly collected. \n",
    "Moreover, as Fiocruz is the only Data Controller storing Paulo's data, probably the data was leaked from Friocruz to Butantan."
   ]
  },
  {
   "cell_type": "code",
   "execution_count": 27,
   "id": "59302011",
   "metadata": {},
   "outputs": [
    {
     "name": "stdout",
     "output_type": "stream",
     "text": [
      "Event = Data Subject can ask if the Data Controller is processing his/her data, Date = 1622035260 ;\n",
      "Event = Data Subject verified the consent term and it was ok, Date = 1622035260 ;\n",
      "Event = Data Subject agrees with consent term, Date = 1622035260 ;\n",
      "Event = Data Controller can collect the Data Subject information, Date = 1622035260 ;\n",
      "Event = Data Controller can store the Data Subject information, Date = 1622035260 ;\n",
      "Event = Data Controller can process the Data Subject information, Date = 1622035260 ;\n",
      "Event = Data Subject can now have all foressen rights, Date = 1622035260 ;\n",
      "Event = Data Subject considered that the purpose limitation is not adequate, Date = 1624712875 ;\n",
      "Event = Data Subject requested to the Data Controller to revoke his/her consent, Date = 1624712875 ;\n",
      "Event = From now, the Data Controller cannot collect the Data Subject information, Date = 1624712875 ;\n",
      "Event = From now, the Data Controller cannot process the Data Subject information, Date = 1624712875 ;\n",
      "Event = Data Subject did not agree with Butantan consent term, so the data was improperly collected, fines should be applied, Date = 1624712875 ."
     ]
    }
   ],
   "source": [
    "?- log(Event,Date) {-1}."
   ]
  },
  {
   "cell_type": "code",
   "execution_count": 28,
   "id": "ff397b10",
   "metadata": {},
   "outputs": [
    {
     "name": "stdout",
     "output_type": "stream",
     "text": [
      "true."
     ]
    }
   ],
   "source": [
    "% Resetting scenario\n",
    "?- retract(log('Data Subject did not agree with Butantan consent term, so the data was improperly collected, \n",
    "    fines should be applied',1624712875)),\n",
    "    \n",
    "    retract(dcIsStoringDSData(id(null),dataController(butantan),dataSubject(paulo),\n",
    "                    personalData(paulo,976635869),healthData(paulo,oPlus),\n",
    "                    startDate(1622035260),endDate(1637846460)))."
   ]
  },
  {
   "cell_type": "markdown",
   "id": "96f2c683",
   "metadata": {},
   "source": [
    "----\n",
    "#### Cause-effect 3: Requesting data correction"
   ]
  },
  {
   "cell_type": "markdown",
   "id": "356082fe",
   "metadata": {},
   "source": [
    "Data correction is one of the Data Subject's right foreseen in LGPD in the moment that the consent term was accepted.\n",
    "Even if the Data Subject revoke his/her consent, the data will not be deleted; a express data deletion request is required.\n",
    "\n",
    "So, in order to check if the data corretion request was accomplished, the Data Subject should call another right - data access.\n",
    "\n",
    "\n",
    "<div>\n",
    "<img src=\"./img/Scenario2.3_Process.png\" width=\"600\"/>\n",
    "</div>\n",
    "\n",
    "First, the Data Subject should verify if the Data Controller is storing his/her data."
   ]
  },
  {
   "cell_type": "code",
   "execution_count": 29,
   "id": "119ccf93",
   "metadata": {},
   "outputs": [
    {
     "name": "stdout",
     "output_type": "stream",
     "text": [
      "true."
     ]
    }
   ],
   "source": [
    "?- dcIsStoringDSData(id(10),dataController(fiocruz),dataSubject(paulo),\n",
    "                    personalData(paulo,976635869),healthData(paulo,oPlus),\n",
    "                    startDate(1622035260),endDate(1637846460))."
   ]
  },
  {
   "cell_type": "markdown",
   "id": "01e403cf",
   "metadata": {},
   "source": [
    "If true, the Data Subject should have the right to data access and data correction."
   ]
  },
  {
   "cell_type": "code",
   "execution_count": 30,
   "id": "ba89c6ce",
   "metadata": {},
   "outputs": [
    {
     "name": "stdout",
     "output_type": "stream",
     "text": [
      "true."
     ]
    }
   ],
   "source": [
    "?- dsRight(dataAccess,dataSubject(paulo),dataController(fiocruz)),\n",
    "    dsRight(dataCorrection,dataSubject(paulo),dataController(fiocruz))."
   ]
  },
  {
   "cell_type": "markdown",
   "id": "18b3db3a",
   "metadata": {},
   "source": [
    "Then, the Data Subject is able to request and verify if the data was changed."
   ]
  },
  {
   "cell_type": "code",
   "execution_count": 31,
   "id": "209b62a5",
   "metadata": {},
   "outputs": [
    {
     "name": "stdout",
     "output_type": "stream",
     "text": []
    }
   ],
   "source": [
    "log('Data Subject requested to change his blood type to A+',1624712876)."
   ]
  },
  {
   "cell_type": "markdown",
   "id": "c934599e",
   "metadata": {},
   "source": [
    "And the Data Controller executed this correction."
   ]
  },
  {
   "cell_type": "code",
   "execution_count": 32,
   "id": "634be98e",
   "metadata": {
    "scrolled": true
   },
   "outputs": [
    {
     "name": "stdout",
     "output_type": "stream",
     "text": [
      "true."
     ]
    }
   ],
   "source": [
    "% First, the Data Controller verifies if the Data Subject has the rights requiered to perform such action.\n",
    "% Then, remove the incorrect data and insert the new data.\n",
    "\n",
    "\n",
    "?-  dsRight(dataCorrection,dataSubject(paulo),dataController(fiocruz)),\n",
    "\n",
    "    retract(dcIsStoringDSData(id(10),dataController(fiocruz),dataSubject(paulo),\n",
    "                    personalData(paulo,976635869),healthData(paulo,oPlus),\n",
    "                    startDate(1622035260),endDate(1637846460))),\n",
    "\n",
    "    assertz(dcIsStoringDSData(id(10),dataController(fiocruz),dataSubject(paulo),\n",
    "                    personalData(paulo,976635869),healthData(paulo,'A+'),\n",
    "                    startDate(1622035260),endDate(1637846460))),\n",
    "                    \n",
    "    assertz(log('Data Controller changed the data as requested by the Data Subject',1624712876))."
   ]
  },
  {
   "cell_type": "markdown",
   "id": "5f66160a",
   "metadata": {},
   "source": [
    "Now, the Data Subject can verify if the data was fixed."
   ]
  },
  {
   "cell_type": "code",
   "execution_count": 33,
   "id": "46ac038a",
   "metadata": {},
   "outputs": [
    {
     "name": "stdout",
     "output_type": "stream",
     "text": [
      "DataController = fiocruz, BloodType = A+ ."
     ]
    }
   ],
   "source": [
    "% If the Data Subject has the right to access his/her data, then he/she is able to verify if his/her data was fixed.\n",
    "\n",
    "?-  dsRight(dataAccess,dataSubject(paulo),dataController(fiocruz)),\n",
    "    dcIsStoringDSData(id(10),dataController(DataController),dataSubject(paulo),\n",
    "                    personalData(paulo,976635869),healthData(paulo,BloodType),\n",
    "                    startDate(1622035260),endDate(1637846460)),\n",
    "    assertz(log('Data Subject confirmed that the data was fixed',1624712876))."
   ]
  },
  {
   "cell_type": "code",
   "execution_count": 34,
   "id": "80439aab",
   "metadata": {},
   "outputs": [
    {
     "name": "stdout",
     "output_type": "stream",
     "text": [
      "Event = Data Subject requested to change his blood type to A+, Date = 1624712876 ;\n",
      "Event = Data Controller changed the data as requested by the Data Subject, Date = 1624712876 ;\n",
      "Event = Data Subject confirmed that the data was fixed, Date = 1624712876 ."
     ]
    }
   ],
   "source": [
    "?- log(Event,Date), Date >= 1624712876 {-1}."
   ]
  },
  {
   "cell_type": "code",
   "execution_count": 35,
   "id": "cb481a4d",
   "metadata": {},
   "outputs": [
    {
     "name": "stdout",
     "output_type": "stream",
     "text": [
      "true."
     ]
    }
   ],
   "source": [
    "% Resetting scenario\n",
    "?-  retract(log('Data Subject requested to change his blood type to A+',1624712876)),\n",
    "    retract(log('Data Subject confirmed that the data was fixed',1624712876)),\n",
    "    retract(log('Data Controller changed the data as requested by the Data Subject',1624712876)),\n",
    "    retract(dcIsStoringDSData(id(10),dataController(fiocruz),dataSubject(paulo),\n",
    "                    personalData(paulo,976635869),healthData(paulo,'A+'),\n",
    "                    startDate(1622035260),endDate(1637846460))),\n",
    "    assertz(dcIsStoringDSData(id(10),dataController(fiocruz),dataSubject(paulo),\n",
    "                    personalData(paulo,976635869),healthData(paulo,oPlus),\n",
    "                    startDate(1622035260),endDate(1637846460)))."
   ]
  },
  {
   "cell_type": "markdown",
   "id": "89f7c177",
   "metadata": {},
   "source": [
    "----\n",
    "#### Cause-effect 4: Requesting anonymization\n",
    "\n",
    "Let's picture that the Data Subject requested the data minimization right. Once the data is anonymized, the Data Controller will not have the resources to give any details about such data, including correction.\n",
    "\n",
    "Here, questions regarding the anonymization algorithms could emerge, but this is not the focus of this work.\n",
    "This work focus on the causes and consequences understanding of possible scenarios.\n",
    "\n",
    "<div>\n",
    "<img src=\"./img/Scenario2.4_Process.png\" width=\"600\"/>\n",
    "</div>\n",
    "\n",
    "First, the Data Subject should show that the Data Controller has his data."
   ]
  },
  {
   "cell_type": "code",
   "execution_count": 36,
   "id": "386639b6",
   "metadata": {},
   "outputs": [
    {
     "name": "stdout",
     "output_type": "stream",
     "text": [
      "true."
     ]
    }
   ],
   "source": [
    "?- dcIsStoringDSData(id(10),dataController(fiocruz),dataSubject(paulo),\n",
    "                    personalData(paulo,976635869),healthData(paulo,oPlus),\n",
    "                    startDate(1622035260),endDate(1637846460)),\n",
    "                    \n",
    "    assertz(log('Data Subject requested to anonymize his data',1624712877))."
   ]
  },
  {
   "cell_type": "markdown",
   "id": "8930e4c8",
   "metadata": {},
   "source": [
    "Next, the Data Controller accomplish the Data Subject request."
   ]
  },
  {
   "cell_type": "code",
   "execution_count": 37,
   "id": "d093fa07",
   "metadata": {},
   "outputs": [
    {
     "name": "stdout",
     "output_type": "stream",
     "text": [
      "true."
     ]
    }
   ],
   "source": [
    "?- dcIsStoringDSData(id(10),dataController(fiocruz),dataSubject(paulo),\n",
    "                    personalData(paulo,976635869),healthData(paulo,oPlus),\n",
    "                    startDate(1622035260),endDate(1637846460)), \n",
    "\n",
    "    retract(dcIsStoringDSData(id(10),dataController(fiocruz),dataSubject(paulo),\n",
    "                    personalData(paulo,976635869),healthData(paulo,oPlus),\n",
    "                    startDate(1622035260),endDate(1637846460))),\n",
    "\n",
    "    assertz(dcIsStoringDSData(id(_),dataController(fiocruz),dataSubject(_),\n",
    "                    personalData(_,_),healthData(_,'A+'),\n",
    "                    startDate(1622035260),endDate(1637846460))),\n",
    "                    \n",
    "    assertz(log('Data Controller anonymized the Data Subjects data',1624712878)),\n",
    "    assertz(log('Data Subject cannot request data: access, copy, correction,anonymization, \n",
    "            portability, deletion, and details of data sharing',1624712878)),\n",
    "    \n",
    "    retract(dsRight(dataAccess,dataSubject(paulo),dataController(fiocruz))),\n",
    "    retract(dsRight(dataCopy,dataSubject(paulo),dataController(fiocruz))),\n",
    "    retract(dsRight(dataCorrection,dataSubject(paulo),dataController(fiocruz))),\n",
    "    retract(dsRight(dataAnonymization,dataSubject(paulo),dataController(fiocruz))),\n",
    "    retract(dsRight(dataPortability,dataSubject(paulo),dataController(fiocruz))),\n",
    "    retract(dsRight(dataDeletion,dataSubject(paulo),dataController(fiocruz))),\n",
    "    retract(dsRight(dataSharingInformation,dataSubject(paulo),dataController(fiocruz)))."
   ]
  },
  {
   "cell_type": "markdown",
   "id": "e0855f52",
   "metadata": {},
   "source": [
    "Now, the Data Subject's blood type is not associated with any personal data that could identify that such data is from the Data Subject."
   ]
  },
  {
   "cell_type": "code",
   "execution_count": 38,
   "id": "2ff0d1fa",
   "metadata": {},
   "outputs": [
    {
     "name": "stdout",
     "output_type": "stream",
     "text": [
      "DataSubject = Variable(70) ."
     ]
    }
   ],
   "source": [
    "?- dcIsStoringDSData(id(_),dataController(fiocruz),dataSubject(DataSubject),\n",
    "                    personalData(_,_),healthData(_,'A+'),\n",
    "                    startDate(1622035260),endDate(1637846460))."
   ]
  },
  {
   "cell_type": "code",
   "execution_count": 39,
   "id": "db733936",
   "metadata": {},
   "outputs": [
    {
     "name": "stdout",
     "output_type": "stream",
     "text": [
      "Event = Data Subject requested to anonymize his data, Date = 1624712877 ;\n",
      "Event = Data Controller anonymized the Data Subjects data, Date = 1624712878 ;\n",
      "Event = Data Subject cannot request data: access, copy, correction,anonymization, portability, deletion, and details of data sharing, Date = 1624712878 ."
     ]
    }
   ],
   "source": [
    "?- log(Event,Date), Date >= 1624712876 {-1}."
   ]
  },
  {
   "cell_type": "markdown",
   "id": "6055ee75",
   "metadata": {},
   "source": [
    "So, the remain right is the one that every Data Subject has: the right to ask if a Data Controller is processing his/her data."
   ]
  },
  {
   "cell_type": "code",
   "execution_count": 40,
   "id": "cbf59d01",
   "metadata": {},
   "outputs": [
    {
     "name": "stdout",
     "output_type": "stream",
     "text": [
      "RIGHT = processingConfirmation ."
     ]
    }
   ],
   "source": [
    "?- dsRight(RIGHT,dataSubject(paulo),dataController(fiocruz))."
   ]
  },
  {
   "cell_type": "code",
   "execution_count": 43,
   "id": "a241e9b2",
   "metadata": {},
   "outputs": [
    {
     "name": "stdout",
     "output_type": "stream",
     "text": [
      "false."
     ]
    }
   ],
   "source": [
    "?- timeLength(fiocruz,paulo,research,'genetic_factors_related_to_COVID-19',180)."
   ]
  },
  {
   "cell_type": "code",
   "execution_count": null,
   "id": "c64e531f",
   "metadata": {},
   "outputs": [],
   "source": []
  }
 ],
 "metadata": {
  "kernelspec": {
   "display_name": "SWI-Prolog",
   "language": "",
   "name": "jswipl"
  },
  "language_info": {
   "mimetype": "text/plain",
   "name": "swipl"
  }
 },
 "nbformat": 4,
 "nbformat_minor": 5
}
