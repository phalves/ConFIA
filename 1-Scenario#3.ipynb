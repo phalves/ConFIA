{
 "cells": [
  {
   "cell_type": "markdown",
   "id": "2dba5670",
   "metadata": {},
   "source": [
    "## Scenario 3 - Data Subject agrees with the Data Controller consent term, but then decided to revoke his/her consent and requested to delete his data."
   ]
  },
  {
   "cell_type": "markdown",
   "id": "099fbaca",
   "metadata": {},
   "source": [
    "### Scenario Description\n",
    "\n",
    "The Data Controller Fiocruz wants to use the Data Subjects personal data and health data to conduct research related to genectic factors in the COVID-19 plot.\n",
    "\n",
    "To do so, the Data Controller must send the consent term to the Data Subject.\n",
    "\n",
    "However, after accepting the consent term, the Data Subjects decides to revoke his consent and request the data deletion.\n",
    "\n",
    "![Scenario3_Process](./img/Scenario3_Process.png \"Title\")\n",
    "\n",
    "It is important to note that this scenario presents a particularity. According to the LGPD art. 16 there are some situations that the Data Controller can store the Data Subject's data even when the Data Subject requested the data deletion:\n",
    "\n",
    "\n",
    "Art. 16\n",
    "\n",
    " - I - cumprimento de obrigação legal ou regulatória pelo controlador;\n",
    " - II - estudo por órgão de pesquisa, garantida, sempre que possível, a anonimização dos dados pessoais;\n",
    " - III - transferência a terceiro, desde que respeitados os requisitos de tratamento de dados dispostos nesta Lei; ou \n",
    " - IV - uso exclusivo do controlador, vedado seu acesso por terceiro, e desde que anonimizados os dados.\n",
    " \n",
    " ---------"
   ]
  },
  {
   "cell_type": "markdown",
   "id": "598222fa",
   "metadata": {},
   "source": [
    "### Scene 1 - Set consent term."
   ]
  },
  {
   "cell_type": "markdown",
   "id": "e030a8e9",
   "metadata": {},
   "source": [
    "The first step is the consent setup. The consent must have all information described in the LGPD Art. 9. The following method receives all the required information.\n",
    "\n",
    "\n",
    "The Data Subject Paulo allows the Data Controller Fiocruz to access, store, and process his personal data and his health data with the purpose to perform research regarding genetic factors related to COVID-19 using statistical analysis for 180 days.\n",
    "\n",
    "\n",
    "The Data Controller is allowed to share the Data Subject data only with the vaccination priorization purpose.\n",
    "\n",
    "\n",
    "To do any request, please use the Data Controller communication channel by email lgpd@fiocruz.br.\n",
    "\n",
    "\n",
    "PS: The Data Controllers must inform in any case if they are processing the personal data, if requested.\n"
   ]
  },
  {
   "cell_type": "code",
   "execution_count": 1,
   "id": "64c60967",
   "metadata": {},
   "outputs": [
    {
     "name": "stdout",
     "output_type": "stream",
     "text": []
    }
   ],
   "source": [
    "% Description: This function defines a consent term including all required information described in the LGPD Art. 9\n",
    "% The consent term must inform:\n",
    "%    i. Data Controller\n",
    "%   ii. Data Subject\n",
    "%  iii. Specific Purpose\n",
    "%   iv. Form (Processing techniques)\n",
    "%    v. Time length of processing\n",
    "%   vi. The purpose when sharing the data with third parties, when applied\n",
    "%  vii. Communication channel to the data subject request any information\n",
    "% viii. Data Controller contact\n",
    "\n",
    "createConsentTerm(DC,DS,PData,HData,Purpose,\n",
    "                SpecificPurpose,\n",
    "                Form,\n",
    "                TimeLength,\n",
    "                ThirdPartyPurpose,\n",
    "                Channel,\n",
    "                DCContact) :-\n",
    "\n",
    "                assertz(dataSubject(DS)),\n",
    "                assertz(dataController(DC)),\n",
    "                assertz(personalData(DS,PData)),\n",
    "                assertz(healthData(DS, HData)),\n",
    "                assertz(purpose(DC,DS,Purpose)),\n",
    "                assertz(specificPurpose(DC,DS,Purpose,SpecificPurpose)),\n",
    "                assertz(form(DC,DS,Purpose,SpecificPurpose,Form)),\n",
    "                assertz(timeLength(DC,DS,Purpose,SpecificPurpose,TimeLength)),\n",
    "                assertz(thirdyPartySharingPurpose(DC,DS,Purpose,SpecificPurpose,\n",
    "                                                    TimeLength,ThirdPartyPurpose)),\n",
    "                assertz(channelToProvideInformation(DC,DS,Channel,DCContact))."
   ]
  },
  {
   "cell_type": "code",
   "execution_count": 2,
   "id": "4747b8a8",
   "metadata": {},
   "outputs": [
    {
     "name": "stdout",
     "output_type": "stream",
     "text": [
      "true."
     ]
    }
   ],
   "source": [
    "% This is a function call that defines a consent term with the informed params\n",
    "\n",
    "?- createConsentTerm(fiocruz,paulo,976635869,oPlus,research,\n",
    "                'genetic_factors_related_to_COVID-19',\n",
    "                'statistic_analysis',\n",
    "                180,\n",
    "                'vaccination_priorization',\n",
    "                'e-mail',\n",
    "                'lgpd@fiocruz.br')."
   ]
  },
  {
   "cell_type": "code",
   "execution_count": 3,
   "id": "027715ee",
   "metadata": {},
   "outputs": [
    {
     "name": "stdout",
     "output_type": "stream",
     "text": []
    }
   ],
   "source": [
    "% This function defines the right to request processing confirmation to the Data Subject\n",
    "\n",
    "dsRight(processingConfirmation,dataSubject(paulo),dataController(fiocruz))."
   ]
  },
  {
   "cell_type": "markdown",
   "id": "329c71df",
   "metadata": {},
   "source": [
    " ---------"
   ]
  },
  {
   "cell_type": "markdown",
   "id": "78ad55c8",
   "metadata": {},
   "source": [
    "### Scene 2 - Data Subject agrees with the consent term."
   ]
  },
  {
   "cell_type": "markdown",
   "id": "f06757c0",
   "metadata": {},
   "source": [
    "First, the Data Subject verifies if all the crutial elements are described in the consent term present by the Data Controller. If so, the program will set that the consent term is ok, i.e., it has all the required information."
   ]
  },
  {
   "cell_type": "code",
   "execution_count": 4,
   "id": "9a29c4ee",
   "metadata": {},
   "outputs": [
    {
     "name": "stdout",
     "output_type": "stream",
     "text": []
    }
   ],
   "source": [
    "% Description: This function receives all required params and verifies if they match with the initial consent. \n",
    "% In case of any missing information, the program will return an error, or false if the information does not \n",
    "% match with the initial consent.\n",
    "\n",
    "checkConsentTerm(dataController(DC),\n",
    "                dataSubject(DS),\n",
    "                purpose(DC,Purpose),\n",
    "                SpecificPurpose,\n",
    "                Form,\n",
    "                TimeLength,\n",
    "                ThirdPartyPurpose,\n",
    "                Channel,\n",
    "                DCContact) :-\n",
    "    (\n",
    "        form(DC,DS,Purpose,SpecificPurpose,Form),\n",
    "        timeLength(DC,DS,Purpose,SpecificPurpose,TimeLength),\n",
    "        thirdyPartySharingPurpose(DC,DS,Purpose,SpecificPurpose,TimeLength,ThirdPartyPurpose),\n",
    "        channelToProvideInformation(DC,DS,Channel,DCContact),\n",
    "        purpose(DC,DS,Purpose),\n",
    "        specificPurpose(DC,DS,Purpose,SpecificPurpose),\n",
    "        assertz(consentTermOk(dataController(DC),dataSubject(DS)))\n",
    "    )."
   ]
  },
  {
   "cell_type": "code",
   "execution_count": 5,
   "id": "0c30406f",
   "metadata": {},
   "outputs": [
    {
     "name": "stdout",
     "output_type": "stream",
     "text": [
      "true."
     ]
    }
   ],
   "source": [
    "% This is a function call returns true if the consent term is ok, or false if not.\n",
    "\n",
    "?- checkConsentTerm(dataController(fiocruz),\n",
    "                        dataSubject(paulo),\n",
    "                        purpose(fiocruz,research),\n",
    "                        'genetic_factors_related_to_COVID-19',\n",
    "                        'statistic_analysis',\n",
    "                        180,\n",
    "                        'vaccination_priorization',\n",
    "                        'e-mail',\n",
    "                        'lgpd@fiocruz.br')."
   ]
  },
  {
   "cell_type": "markdown",
   "id": "2364d019",
   "metadata": {},
   "source": [
    "So, if the consent term is ok, the Data Subject can inform that he/she agrees with the consent term.\n",
    "\n",
    "Hence, the Data Controller can collect, store and process the Data Subject's data."
   ]
  },
  {
   "cell_type": "code",
   "execution_count": 6,
   "id": "56ad4032",
   "metadata": {},
   "outputs": [
    {
     "name": "stdout",
     "output_type": "stream",
     "text": []
    }
   ],
   "source": [
    "% Description: This function sets that the Data Subject agreed with the consent term.\n",
    "% This function receives the params:\n",
    "%    i. Consent ID\n",
    "%   ii. Data Subject\n",
    "%  iii. Data Controller\n",
    "%   iv. Personal Data\n",
    "%    v. Health Data\n",
    "\n",
    "setThatdsAgreeWithConsentTerms(id(ID),dataSubject(DS),\n",
    "                                dataController(DC),\n",
    "                                personalData(DS,PData),\n",
    "                                healthData(DS,HData)) :-\n",
    "    consentTermOk(dataController(DC),dataSubject(DS)),\n",
    "    assertz(dsAgreeWithConsentTerms(dataSubject(DS),dataController(DC))),\n",
    "    assertz(dcIsCollectingDSData(id(ID),dataController(DC),dataSubject(DS),personalData(DS,PData),healthData(DS,HData))),\n",
    "    assertz(dcIsStoringDSData(id(ID),dataController(DC),dataSubject(DS),personalData(DS,PData),healthData(DS,HData))),\n",
    "    assertz(dcIsProcessingDSData(id(ID),dataController(DC),dataSubject(DS),personalData(DS,PData),healthData(DS,HData)))."
   ]
  },
  {
   "cell_type": "code",
   "execution_count": 7,
   "id": "08b164c9",
   "metadata": {},
   "outputs": [
    {
     "name": "stdout",
     "output_type": "stream",
     "text": [
      "true."
     ]
    }
   ],
   "source": [
    "% This is a function call returns true in case of success.\n",
    "\n",
    "?- setThatdsAgreeWithConsentTerms(id(10),dataSubject(paulo),dataController(fiocruz),personalData(paulo,976635869),healthData(paulo,oPlus))."
   ]
  },
  {
   "cell_type": "markdown",
   "id": "0248cdc8",
   "metadata": {},
   "source": [
    "Now, the Data Controller can collect, store and process the Data Subject's data.\n",
    "\n",
    " ---------"
   ]
  },
  {
   "cell_type": "markdown",
   "id": "8d60c694",
   "metadata": {},
   "source": [
    "### Scene 3 - Defining the Data Subject's rights."
   ]
  },
  {
   "cell_type": "markdown",
   "id": "079be990",
   "metadata": {},
   "source": [
    "According to the LGPD, when the Data Subject is sharing data with a Data Controller, he/she has the following rights:\n",
    "1. Data Acess\n",
    "2. Data Copy\n",
    "3. Data Correction\n",
    "4. Data Anonymization\n",
    "5. Data Portability\n",
    "6. Data Deletion\n",
    "7. Information regarding the data sharing with a third party\n",
    "8. Request consent revocation."
   ]
  },
  {
   "cell_type": "code",
   "execution_count": 8,
   "id": "f689d793",
   "metadata": {},
   "outputs": [
    {
     "name": "stdout",
     "output_type": "stream",
     "text": []
    }
   ],
   "source": [
    "% Description: This function sets all Data Subject right's foreseed in the LGPD.\n",
    "% This function receives the params:\n",
    "%  i. Data Subject\n",
    "% ii. Data Controller\n",
    "\n",
    "setDSRights(dataSubject(DS),dataController(DC)) :-\n",
    "\tassertz(dsRight(dataAccess,dataSubject(DS),dataController(DC))),\n",
    "\tassertz(dsRight(dataCopy,dataSubject(DS),dataController(DC))),\n",
    "\tassertz(dsRight(dataCorrection,dataSubject(DS),dataController(DC))),\n",
    "\tassertz(dsRight(dataAnonymization,dataSubject(DS),dataController(DC))),\n",
    "\tassertz(dsRight(dataPortability,dataSubject(DS),dataController(DC))),\n",
    "\tassertz(dsRight(dataDeletion,dataSubject(DS),dataController(DC))),\n",
    "\tassertz(dsRight(dataSharingInformation,dataSubject(DS),dataController(DC))),\n",
    "\tassertz(dsRight(requestConsentRevocation,dataSubject(DS),dataController(DC)))."
   ]
  },
  {
   "cell_type": "code",
   "execution_count": 9,
   "id": "d23962ea",
   "metadata": {},
   "outputs": [
    {
     "name": "stdout",
     "output_type": "stream",
     "text": [
      "true."
     ]
    }
   ],
   "source": [
    "% This is a function call returns true if all Data Subject's right was associated to him/her.\n",
    "\n",
    "?- setDSRights(dataSubject(paulo),dataController(fiocruz))."
   ]
  },
  {
   "cell_type": "markdown",
   "id": "ac406f89",
   "metadata": {},
   "source": [
    " ---------"
   ]
  },
  {
   "cell_type": "markdown",
   "id": "e56931ef",
   "metadata": {},
   "source": [
    "### Scene 4 - Data Subject's consent revocation"
   ]
  },
  {
   "cell_type": "markdown",
   "id": "ee33ba60",
   "metadata": {},
   "source": [
    "As mentioned in the scenario's description, the Data Subject decides to revoke his/her consent.\n",
    "\n",
    "Once performed, the action of requesting the consent revocation cannot be executed again, and the Data Controller is forbidden to still collecting the Data Subject's data."
   ]
  },
  {
   "cell_type": "code",
   "execution_count": 10,
   "id": "a0ec4159",
   "metadata": {},
   "outputs": [
    {
     "name": "stdout",
     "output_type": "stream",
     "text": []
    }
   ],
   "source": [
    "% Description: This function revoke the Data Controller's action of collecting the Data Subject's data.\n",
    "% This function receives the params:\n",
    "%   i. Consent ID\n",
    "%  ii. Data Subject\n",
    "% iii. Data Controller\n",
    "%  iv. Personal Data\n",
    "%   v. Health Data\n",
    "\n",
    "setDSRevokeConsent(id(ID),\n",
    "                    dataSubject(DS),\n",
    "                    dataController(DC),\n",
    "                    personalData(DS,PData),\n",
    "                    healthData(DS,HData)) :-\n",
    "    retract(dsRight(requestConsentRevocation,dataSubject(DS),dataController(DC))),\n",
    "    retract(dcIsCollectingDSData(id(ID),dataController(DC),dataSubject(DS),personalData(DS,PData),healthData(DS,HData)))."
   ]
  },
  {
   "cell_type": "code",
   "execution_count": 11,
   "id": "3c113b41",
   "metadata": {},
   "outputs": [
    {
     "name": "stdout",
     "output_type": "stream",
     "text": [
      "true."
     ]
    }
   ],
   "source": [
    "% This is a function call returns true if all Data Subject's request was successfully performed.\n",
    "\n",
    "?- setDSRevokeConsent(id(10),\n",
    "                        dataSubject(paulo),\n",
    "                        dataController(fiocruz),\n",
    "                        personalData(paulo,976635869),\n",
    "                        healthData(paulo,oPlus))."
   ]
  },
  {
   "cell_type": "markdown",
   "id": "680944f7",
   "metadata": {},
   "source": [
    " ---------"
   ]
  },
  {
   "cell_type": "markdown",
   "id": "3dd3528f",
   "metadata": {},
   "source": [
    "### Scene 5 - Data deletion requestion\n",
    "\n",
    "Now, the Data Subject requested the data deletion. To do so, first, we need to know if the Data Controller's purpose is one of the purposes that allow the Data Controller still storing the Data Subject's data even when the Data Subject requests the data deletion.\n",
    "\n",
    "\n",
    "The purposes that allow the Data Controller to still holding the Data Subject's data are described in LGPD Art. 16:\n",
    " - I - cumprimento de obrigação legal ou regulatória pelo controlador;\n",
    " - II - estudo por órgão de pesquisa, garantida, sempre que possível, a anonimização dos dados pessoais;\n",
    " - III - transferência a terceiro, desde que respeitados os requisitos de tratamento de dados dispostos nesta Lei; ou\n",
    " - IV - uso exclusivo do controlador, vedado seu acesso por terceiro, e desde que anonimizados os dados. \n",
    " \n",
    "As the Fiocfruz's purpose is \"research\", so this institution can hold the Data Subject's data."
   ]
  },
  {
   "cell_type": "code",
   "execution_count": 12,
   "id": "46f86477",
   "metadata": {},
   "outputs": [
    {
     "name": "stdout",
     "output_type": "stream",
     "text": []
    }
   ],
   "source": [
    "% Description: This function verifies if the Data Controller purpose is elegible to hold the Data Subject's data.\n",
    "% This function receives the params:\n",
    "%  i. Data Subject\n",
    "% ii. Data Controller\n",
    "\n",
    "auxToSetIfDCCanHoldDSData(dataController(DC),dataSubject(DS)) :-\n",
    "\tpurpose(DC,DS,legalObligation), assertz(dcCanHoldData(dataController(DC),dataSubject(DS)));\n",
    "\tpurpose(DC,DS,research), assertz(dcCanHoldData(dataController(DC),dataSubject(DS)));\n",
    "\tpurpose(DC,DS,transferToThirdParty), assertz(dcCanHoldData(dataController(DC),dataSubject(DS)));\n",
    "\tpurpose(DC,DS,exclusiveDCUse), assertz(dcCanHoldData(dataController(DC),dataSubject(DS)));\n",
    "\tassertz(dcCanHoldData('','')).\t"
   ]
  },
  {
   "cell_type": "code",
   "execution_count": 13,
   "id": "100701c5",
   "metadata": {},
   "outputs": [
    {
     "name": "stdout",
     "output_type": "stream",
     "text": [
      " ;\n",
      " ."
     ]
    }
   ],
   "source": [
    "% This is a function call always returns true, even when the purpose was not one of the foreseed in the law.\n",
    "% It happens because the prolog program has to have at least a declared empty fact to not return an error.\n",
    "\n",
    "?- auxToSetIfDCCanHoldDSData(dataController(fiocruz),\n",
    "                            dataSubject(paulo))."
   ]
  },
  {
   "cell_type": "markdown",
   "id": "89fd963e",
   "metadata": {},
   "source": [
    "If the Data Controller can hold de Data Subject's data, then nothing happens but the Data Subject cannot request data deletion anymore."
   ]
  },
  {
   "cell_type": "code",
   "execution_count": 14,
   "id": "0867d030",
   "metadata": {},
   "outputs": [
    {
     "name": "stdout",
     "output_type": "stream",
     "text": [
      "true."
     ]
    }
   ],
   "source": [
    "% This call verifies if the Data Controller can hold the Data Subject's data and remove the right to request the data deletion\n",
    "\n",
    "?- dcCanHoldData(dataController(fiocruz),dataSubject(paulo)),\n",
    "retract(dsRight(dataDeletion,dataSubject(paulo),dataController(fiocruz)))."
   ]
  },
  {
   "cell_type": "markdown",
   "id": "3b2674e0",
   "metadata": {},
   "source": [
    "Else, if the Data Controller cannot hold the Data Subject's data, the Data Controller cannot store the Data Subject's data, and the Data Subject has no more rights related to this Data Controller. However, as the Data Controller's  purpose is \"reseach\" the Data Subject will loose the right to request data deletion only."
   ]
  },
  {
   "cell_type": "code",
   "execution_count": 15,
   "id": "86b1045a",
   "metadata": {},
   "outputs": [
    {
     "name": "stdout",
     "output_type": "stream",
     "text": []
    }
   ],
   "source": [
    "% Description: This function remove the Data Subject's rights related to the Data Controller.\n",
    "% This function receives the params:\n",
    "%   i. Consent ID\n",
    "%  ii. Data Subject\n",
    "% iii. Data Controller\n",
    "%  iv. Personal Data\n",
    "%   v. Health Data\n",
    "\n",
    "deleteDSData(id(ID),dataSubject(DS),dataController(DC),personalData(DS,PData),healthData(DS,HData)) :-\n",
    "        not(dcCanHoldData(dataController(DC),dataSubject(DS))),\n",
    "\t\tretract(dsRight(dataAccess,dataSubject(DS),dataController(DC))),\n",
    "\t\tretract(dsRight(dataCopy,dataSubject(DS),dataController(DC))),\n",
    "\t\tretract(dsRight(dataCorrection,dataSubject(DS),dataController(DC))),\n",
    "\t\tretract(dsRight(dataAnonymization,dataSubject(DS),dataController(DC))),\n",
    "\t\tretract(dsRight(dataPortability,dataSubject(DS),dataController(DC))),\n",
    "\t\tretract(dsRight(dataDeletion,dataSubject(DS),dataController(DC))),\n",
    "\t\tretract(dsRight(dataSharingInformation,dataSubject(DS),dataController(DC))),\n",
    "\t\tretract(dcIsProcessingDSData(id(ID),dataController(DC),dataSubject(DS),personalData(DS,PData),healthData(DS,HData)))."
   ]
  },
  {
   "cell_type": "code",
   "execution_count": 16,
   "id": "fb61e373",
   "metadata": {},
   "outputs": [
    {
     "name": "stdout",
     "output_type": "stream",
     "text": [
      "false."
     ]
    }
   ],
   "source": [
    "% This function call verifies if the Data Controller can hold the data and if doesen't, so the Data Subject's data will be deleted.\n",
    "\n",
    "?- deleteDSData(id(10),\n",
    "                dataSubject(paulo),\n",
    "                dataController(fiocruz),\n",
    "                personalData(paulo,976635869),\n",
    "                healthData(paulo,oPlus))."
   ]
  },
  {
   "cell_type": "markdown",
   "id": "811ea26b",
   "metadata": {},
   "source": [
    "In this case, the result is false because the purpose is research.\n",
    "<p> Try with another purpose different than research, legalObligation, transferToThirdParty, exclusiveDCUse.</p>\n",
    "<p> IMPORTANT: Remember to change the purpose in the fuction <b><i>checkConsentTerm</i></b> to the new purpose.</p>\n",
    "\n",
    " ---------"
   ]
  },
  {
   "cell_type": "markdown",
   "id": "4283b37f",
   "metadata": {},
   "source": [
    "### Questions to ask"
   ]
  },
  {
   "cell_type": "markdown",
   "id": "6239f32d",
   "metadata": {},
   "source": [
    "Are the fiocruz data controller using the data subject Paulo's data? "
   ]
  },
  {
   "cell_type": "code",
   "execution_count": 17,
   "id": "b31d83d3",
   "metadata": {},
   "outputs": [
    {
     "name": "stdout",
     "output_type": "stream",
     "text": [
      "true."
     ]
    }
   ],
   "source": [
    "?- dsRight(processingConfirmation,dataSubject(paulo),dataController(fiocruz))."
   ]
  },
  {
   "cell_type": "markdown",
   "id": "0cc10cfe",
   "metadata": {},
   "source": [
    "What are the Data Subject rights right now?"
   ]
  },
  {
   "cell_type": "code",
   "execution_count": 18,
   "id": "2c241578",
   "metadata": {},
   "outputs": [
    {
     "name": "stdout",
     "output_type": "stream",
     "text": [
      "RIGHT = processingConfirmation ;\n",
      "RIGHT = dataAccess ;\n",
      "RIGHT = dataCopy ;\n",
      "RIGHT = dataCorrection ;\n",
      "RIGHT = dataAnonymization ;\n",
      "RIGHT = dataPortability ;\n",
      "RIGHT = dataSharingInformation ."
     ]
    }
   ],
   "source": [
    "?- dsRight(RIGHT,dataSubject(paulo),dataController(fiocruz))."
   ]
  },
  {
   "cell_type": "markdown",
   "id": "723dfcb6",
   "metadata": {},
   "source": [
    "Can all items from art. 9 be informed?"
   ]
  },
  {
   "cell_type": "code",
   "execution_count": 19,
   "id": "aad7d26d",
   "metadata": {
    "scrolled": true
   },
   "outputs": [
    {
     "name": "stdout",
     "output_type": "stream",
     "text": [
      "SPECIFICPURPOSE = genetic_factors_related_to_COVID-19 ."
     ]
    }
   ],
   "source": [
    "?- specificPurpose(fiocruz,paulo,research,SPECIFICPURPOSE)."
   ]
  },
  {
   "cell_type": "code",
   "execution_count": 20,
   "id": "d25f269d",
   "metadata": {},
   "outputs": [
    {
     "name": "stdout",
     "output_type": "stream",
     "text": [
      "DAYS = 180 ."
     ]
    }
   ],
   "source": [
    "?- timeLength(fiocruz, paulo, research, 'genetic_factors_related_to_COVID-19',DAYS)."
   ]
  },
  {
   "cell_type": "markdown",
   "id": "9b071aa1",
   "metadata": {},
   "source": [
    "Who are processing the Data Subject's personal data and what are the respective data?"
   ]
  },
  {
   "cell_type": "code",
   "execution_count": 21,
   "id": "fb76ac29",
   "metadata": {},
   "outputs": [
    {
     "name": "stdout",
     "output_type": "stream",
     "text": [
      "ID = 10, DC = fiocruz, PData = 976635869, HData = oPlus ."
     ]
    }
   ],
   "source": [
    "?- dcIsProcessingDSData(id(ID),dataController(DC),dataSubject(paulo),personalData(paulo,PData),healthData(paulo,HData))."
   ]
  },
  {
   "cell_type": "markdown",
   "id": "fc11dcb4",
   "metadata": {},
   "source": [
    "Who are collecting the Data Subject's personal data and what are the respective data?"
   ]
  },
  {
   "cell_type": "code",
   "execution_count": 22,
   "id": "74a410e4",
   "metadata": {},
   "outputs": [
    {
     "name": "stdout",
     "output_type": "stream",
     "text": [
      "false."
     ]
    }
   ],
   "source": [
    "?- dcIsCollectingDSData(id(ID),dataController(DC),dataSubject(paulo),personalData(paulo,PData),healthData(paulo,HData))."
   ]
  }
 ],
 "metadata": {
  "kernelspec": {
   "display_name": "SWI-Prolog",
   "language": "",
   "name": "jswipl"
  },
  "language_info": {
   "mimetype": "text/plain",
   "name": "swipl"
  }
 },
 "nbformat": 4,
 "nbformat_minor": 5
}
