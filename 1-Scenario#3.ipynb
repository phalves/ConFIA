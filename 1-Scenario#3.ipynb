{
 "cells": [
  {
   "cell_type": "markdown",
   "id": "2dba5670",
   "metadata": {},
   "source": [
    "### Scenario 3 - Data Subject agrees with the Data Controller consent term, but then revoke his/her consent and request to delete his data."
   ]
  },
  {
   "cell_type": "markdown",
   "id": "099fbaca",
   "metadata": {},
   "source": [
    "<i> Scenario Description </i>\n",
    "<p>This scenario presents a particularity. According to the LGPD art. 16. there are some situations that the Data Controller can store the Data Subject's data even when the Data Subject requested the data deletion.</p>\n",
    "<p> Art. 16</p>\n",
    "<p> I - cumprimento de obrigação legal ou regulatória pelo controlador;</p>\n",
    "<p> II - estudo por órgão de pesquisa, garantida, sempre que possível, a anonimização dos dados pessoais;</p>\n",
    "<p> III - transferência a terceiro, desde que respeitados os requisitos de tratamento de dados dispostos nesta Lei; ou </p>\n",
    "<p> IV - uso exclusivo do controlador, vedado seu acesso por terceiro, e desde que anonimizados os dados.</p>"
   ]
  },
  {
   "cell_type": "markdown",
   "id": "598222fa",
   "metadata": {},
   "source": [
    "#### Set consent term."
   ]
  },
  {
   "cell_type": "markdown",
   "id": "e030a8e9",
   "metadata": {},
   "source": [
    "The Data Subject Paulo allows the Data Controller Fiocruz to access, store, and process his personal data and his health data with the purpose to perform research regarding genetic factors related to COVID-19 using statistical analysis for 180 days.\n",
    "<p>The Data Controller is allowed to share the Data Subject data only with the vaccination priorization purpose.</p>\n",
    "<p>To do any request, please use the Data Controller communication channel by email lgpd@fiocruz.br.</p>\n",
    "<p>PS: The Data Controllers must inform in any case if they are processing the personal data, if requested. </p>\n"
   ]
  },
  {
   "cell_type": "code",
   "execution_count": 1,
   "id": "64c60967",
   "metadata": {},
   "outputs": [
    {
     "name": "stdout",
     "output_type": "stream",
     "text": []
    }
   ],
   "source": [
    "createConsentTerm(DC,DS,PData,HData,Purpose,\n",
    "\t\t\t\tSpecificPurpose,\n",
    "\t\t\t\tForm,\n",
    "\t\t\t\tTimeLength,\n",
    "\t\t\t\tThirdPartyPurpose,\n",
    "\t\t\t\tChannel,\n",
    "\t\t\t\tDCContact) :-\n",
    "                \n",
    "                assertz(dataSubject(DS)),\n",
    "                assertz(dataController(DC)),\n",
    "                assertz(personalData(DS,PData)),\n",
    "                assertz(healthData(DS, HData)),\n",
    "                assertz(purpose(DC,DS,Purpose)),\n",
    "                assertz(specificPurpose(DC,DS,Purpose,SpecificPurpose)),\n",
    "                assertz(form(DC,DS,Purpose,SpecificPurpose,Form)),\n",
    "                assertz(timeLength(DC,DS,Purpose,SpecificPurpose,TimeLength)),\n",
    "                assertz(thirdyPartySharingPurpose(DC,DS,Purpose,SpecificPurpose,TimeLength,ThirdPartyPurpose)),\n",
    "                assertz(channelToProvideInformation(DC,DS,Channel,DCContact))."
   ]
  },
  {
   "cell_type": "code",
   "execution_count": 2,
   "id": "4747b8a8",
   "metadata": {},
   "outputs": [
    {
     "name": "stdout",
     "output_type": "stream",
     "text": [
      "true."
     ]
    }
   ],
   "source": [
    "?- createConsentTerm(fiocruz,paulo,976635869,oPlus,research,\n",
    "\t\t\t\t'genetic_factors_related_to_COVID-19',\n",
    "\t\t\t\t'statistic_analysis',\n",
    "\t\t\t\t180,\n",
    "\t\t\t\t'vaccination_priorization',\n",
    "\t\t\t\t'e-mail',\n",
    "\t\t\t\t'lgpd@fiocruz.br')."
   ]
  },
  {
   "cell_type": "code",
   "execution_count": 3,
   "id": "7bc79718",
   "metadata": {},
   "outputs": [
    {
     "name": "stdout",
     "output_type": "stream",
     "text": [
      "true."
     ]
    }
   ],
   "source": [
    "?- dataSubject(paulo)."
   ]
  },
  {
   "cell_type": "code",
   "execution_count": 4,
   "id": "5ad706aa",
   "metadata": {},
   "outputs": [
    {
     "name": "stdout",
     "output_type": "stream",
     "text": [
      "true."
     ]
    }
   ],
   "source": [
    "?- dataController(fiocruz)."
   ]
  },
  {
   "cell_type": "code",
   "execution_count": 5,
   "id": "4287ec2b",
   "metadata": {},
   "outputs": [
    {
     "name": "stdout",
     "output_type": "stream",
     "text": [
      "true."
     ]
    }
   ],
   "source": [
    "?- personalData(paulo,976635869)."
   ]
  },
  {
   "cell_type": "code",
   "execution_count": 6,
   "id": "84e309e7",
   "metadata": {},
   "outputs": [
    {
     "name": "stdout",
     "output_type": "stream",
     "text": [
      "true."
     ]
    }
   ],
   "source": [
    "?- healthData(paulo, oPlus)."
   ]
  },
  {
   "cell_type": "code",
   "execution_count": 7,
   "id": "d8d2a3b5",
   "metadata": {},
   "outputs": [
    {
     "name": "stdout",
     "output_type": "stream",
     "text": [
      "true."
     ]
    }
   ],
   "source": [
    "?- purpose(fiocruz,paulo,research)."
   ]
  },
  {
   "cell_type": "code",
   "execution_count": 8,
   "id": "2a294882",
   "metadata": {},
   "outputs": [
    {
     "name": "stdout",
     "output_type": "stream",
     "text": [
      "true."
     ]
    }
   ],
   "source": [
    "?- specificPurpose(fiocruz,paulo,research,'genetic_factors_related_to_COVID-19')."
   ]
  },
  {
   "cell_type": "code",
   "execution_count": 9,
   "id": "b28281ae",
   "metadata": {},
   "outputs": [
    {
     "name": "stdout",
     "output_type": "stream",
     "text": [
      "true."
     ]
    }
   ],
   "source": [
    "?- form(fiocruz,paulo,research,'genetic_factors_related_to_COVID-19','statistic_analysis')."
   ]
  },
  {
   "cell_type": "code",
   "execution_count": 10,
   "id": "cad7c749",
   "metadata": {},
   "outputs": [
    {
     "name": "stdout",
     "output_type": "stream",
     "text": [
      "true."
     ]
    }
   ],
   "source": [
    "?- timeLength(fiocruz,paulo,research,'genetic_factors_related_to_COVID-19',180)."
   ]
  },
  {
   "cell_type": "code",
   "execution_count": 11,
   "id": "66203b57",
   "metadata": {},
   "outputs": [
    {
     "name": "stdout",
     "output_type": "stream",
     "text": [
      "true."
     ]
    }
   ],
   "source": [
    "?- thirdyPartySharingPurpose(fiocruz,paulo,research,'genetic_factors_related_to_COVID-19',180,'vaccination_priorization')."
   ]
  },
  {
   "cell_type": "code",
   "execution_count": 12,
   "id": "6dff3755",
   "metadata": {},
   "outputs": [
    {
     "name": "stdout",
     "output_type": "stream",
     "text": [
      "true."
     ]
    }
   ],
   "source": [
    "?- channelToProvideInformation(fiocruz,paulo,'e-mail','lgpd@fiocruz.br')."
   ]
  },
  {
   "cell_type": "code",
   "execution_count": 13,
   "id": "027715ee",
   "metadata": {},
   "outputs": [
    {
     "name": "stdout",
     "output_type": "stream",
     "text": []
    }
   ],
   "source": [
    "dsRight(processingConfirmation,dataSubject(paulo),dataController(fiocruz))."
   ]
  },
  {
   "cell_type": "markdown",
   "id": "174b3fb3",
   "metadata": {},
   "source": [
    "Data Subject agrees with the Data Controller consent term."
   ]
  },
  {
   "cell_type": "markdown",
   "id": "f06757c0",
   "metadata": {},
   "source": [
    "First, the Data Subject verifies if all the crutial elements are described in the consent term present by the Data Controller"
   ]
  },
  {
   "cell_type": "code",
   "execution_count": 14,
   "id": "9a29c4ee",
   "metadata": {},
   "outputs": [
    {
     "name": "stdout",
     "output_type": "stream",
     "text": []
    }
   ],
   "source": [
    "checkConsentTerm(dataController(DC),\n",
    "\t\t\t\tdataSubject(DS),\n",
    "\t\t\t\tpurpose(DC,Purpose),\n",
    "\t\t\t\tSpecificPurpose,\n",
    "\t\t\t\tForm,\n",
    "\t\t\t\tTimeLength,\n",
    "\t\t\t\tThirdPartyPurpose,\n",
    "\t\t\t\tChannel,\n",
    "\t\t\t\tDCContact) :-\n",
    "\t(\n",
    "\t\tform(DC,DS,Purpose,SpecificPurpose,Form),\n",
    "\t\ttimeLength(DC,DS,Purpose,SpecificPurpose,TimeLength),\n",
    "\t\tthirdyPartySharingPurpose(DC,DS,Purpose,SpecificPurpose,TimeLength,ThirdPartyPurpose),\n",
    "\t\tchannelToProvideInformation(DC,DS,Channel,DCContact),\n",
    "\t\tpurpose(DC,DS,Purpose),\n",
    "\t\tspecificPurpose(DC,DS,Purpose,SpecificPurpose),\n",
    "\t\tassertz(consentTermOk(dataController(DC),dataSubject(DS)))\n",
    "\t)."
   ]
  },
  {
   "cell_type": "code",
   "execution_count": 15,
   "id": "0c30406f",
   "metadata": {},
   "outputs": [
    {
     "name": "stdout",
     "output_type": "stream",
     "text": [
      "true."
     ]
    }
   ],
   "source": [
    "?- checkConsentTerm(dataController(fiocruz),dataSubject(paulo),purpose(fiocruz,research),\n",
    "'genetic_factors_related_to_COVID-19','statistic_analysis',180,'vaccination_priorization','e-mail','lgpd@fiocruz.br')."
   ]
  },
  {
   "cell_type": "markdown",
   "id": "2364d019",
   "metadata": {},
   "source": [
    "If ok, the Data Subject decides to agree with the presented terms."
   ]
  },
  {
   "cell_type": "code",
   "execution_count": 16,
   "id": "56ad4032",
   "metadata": {},
   "outputs": [
    {
     "name": "stdout",
     "output_type": "stream",
     "text": []
    }
   ],
   "source": [
    "setThatdsAgreeWithConsentTerms(id(ID),dataSubject(DS),\n",
    "                                dataController(DC),\n",
    "                                personalData(DS,PData),\n",
    "                                healthData(DS,HData)) :-\n",
    "\tconsentTermOk(dataController(DC),dataSubject(DS)),\n",
    "\tassertz(dsAgreeWithConsentTerms(dataSubject(DS),dataController(DC))),\n",
    "\tassertz(dcCanCollectStoreAndProcessDSData(dataController(DC),dataSubject(DS))),\n",
    "   \tassertz(dcIsProcessingDSData(id(ID),dataController(DC),dataSubject(DS),personalData(DS,PData),healthData(DS,HData))),\n",
    "   \tassertz(dcIsCollectingDSData(id(ID),dataController(DC),dataSubject(DS),personalData(DS,PData),healthData(DS,HData))).\n"
   ]
  },
  {
   "cell_type": "code",
   "execution_count": 17,
   "id": "08b164c9",
   "metadata": {},
   "outputs": [
    {
     "name": "stdout",
     "output_type": "stream",
     "text": [
      "true."
     ]
    }
   ],
   "source": [
    "?- setThatdsAgreeWithConsentTerms(id(10),dataSubject(paulo),dataController(fiocruz),personalData(paulo,976635869),healthData(paulo,oPlus))."
   ]
  },
  {
   "cell_type": "markdown",
   "id": "0248cdc8",
   "metadata": {},
   "source": [
    "Now, the Data Controller can collect, store and process the Data Subject's data."
   ]
  },
  {
   "cell_type": "code",
   "execution_count": 18,
   "id": "aad899c9",
   "metadata": {},
   "outputs": [
    {
     "name": "stdout",
     "output_type": "stream",
     "text": []
    }
   ],
   "source": [
    "dcCanCollectStoreAndPRocessDSData(dataController(DC),dataSubject(DS)) :- \n",
    "    dsAgreeWithConsentTerms(dataSubject(DS),dataController(DC)),\n",
    "    assertz(dcCanCollectStoreAndProcessDSData(dataController(DC),dataSubject(DS)));\n",
    "    not(dsAgreeWithConsentTerms(dataSubject(DS),dataController(DC))),\n",
    "    assertz(dcCanCollectStoreAndProcessDSData(dataController(''),dataSubject('')))."
   ]
  },
  {
   "cell_type": "code",
   "execution_count": 19,
   "id": "7a9b62ee",
   "metadata": {},
   "outputs": [
    {
     "name": "stdout",
     "output_type": "stream",
     "text": [
      "true."
     ]
    }
   ],
   "source": [
    "?- dcCanCollectStoreAndProcessDSData(dataController(fiocruz),dataSubject(paulo))."
   ]
  },
  {
   "cell_type": "markdown",
   "id": "079be990",
   "metadata": {},
   "source": [
    "And the Data Subject is able to request his/her other rights."
   ]
  },
  {
   "cell_type": "code",
   "execution_count": 20,
   "id": "f689d793",
   "metadata": {},
   "outputs": [
    {
     "name": "stdout",
     "output_type": "stream",
     "text": []
    }
   ],
   "source": [
    "setDSRights(dataSubject(DS),dataController(DC)) :-\n",
    "\tassertz(dsRight(dataAccess,dataSubject(DS),dataController(DC))),\n",
    "\tassertz(dsRight(dataCopy,dataSubject(DS),dataController(DC))),\n",
    "\tassertz(dsRight(dataCorrection,dataSubject(DS),dataController(DC))),\n",
    "\tassertz(dsRight(dataAnonimization,dataSubject(DS),dataController(DC))),\n",
    "\tassertz(dsRight(dataPortability,dataSubject(DS),dataController(DC))),\n",
    "\tassertz(dsRight(dataDeletion,dataSubject(DS),dataController(DC))),\n",
    "\tassertz(dsRight(dataSharingInformation,dataSubject(DS),dataController(DC))),\n",
    "\tassertz(dsRight(requestConsentRevokation,dataSubject(DS),dataController(DC)))."
   ]
  },
  {
   "cell_type": "code",
   "execution_count": 21,
   "id": "d23962ea",
   "metadata": {},
   "outputs": [
    {
     "name": "stdout",
     "output_type": "stream",
     "text": [
      "true."
     ]
    }
   ],
   "source": [
    "?- setDSRights(dataSubject(paulo),dataController(fiocruz))."
   ]
  },
  {
   "cell_type": "markdown",
   "id": "ee33ba60",
   "metadata": {},
   "source": [
    "#### However, the Data Subject decides to revoke his consent."
   ]
  },
  {
   "cell_type": "code",
   "execution_count": 22,
   "id": "a0ec4159",
   "metadata": {},
   "outputs": [
    {
     "name": "stdout",
     "output_type": "stream",
     "text": []
    }
   ],
   "source": [
    "setDSRevokeConsent(id(ID),dataSubject(DS),dataController(DC),personalData(DS,PData),healthData(DS,HData)) :-\n",
    "\tretract(dsRight(requestConsentRevokation,dataSubject(DS),dataController(DC))),\n",
    "   \tretract(dcIsCollectingDSData(id(ID),dataController(DC),dataSubject(DS),personalData(DS,PData),healthData(DS,HData)))."
   ]
  },
  {
   "cell_type": "code",
   "execution_count": 23,
   "id": "3c113b41",
   "metadata": {},
   "outputs": [
    {
     "name": "stdout",
     "output_type": "stream",
     "text": [
      "true."
     ]
    }
   ],
   "source": [
    "?- setDSRevokeConsent(id(10),dataSubject(paulo),dataController(fiocruz),personalData(paulo,976635869),healthData(paulo,oPlus))."
   ]
  },
  {
   "cell_type": "markdown",
   "id": "3dd3528f",
   "metadata": {},
   "source": [
    "#### And next, decides to request the data deletion\n",
    "<p> To do so, first, we need to know if the Data Controller's purpose is one of the purposes that allow the Data Controller still storing the Data Subject's data even when the Data Subject requests the data deletion </p>"
   ]
  },
  {
   "cell_type": "code",
   "execution_count": 24,
   "id": "46f86477",
   "metadata": {},
   "outputs": [
    {
     "name": "stdout",
     "output_type": "stream",
     "text": []
    }
   ],
   "source": [
    "auxToSetIfDCCanHoldDSData(dataController(DC),dataSubject(DS)) :-\n",
    "\tpurpose(DC,DS,legalObligation), assertz(dcCanHoldData(dataController(DC),dataSubject(DS)));\n",
    "\tpurpose(DC,DS,research), assertz(dcCanHoldData(dataController(DC),dataSubject(DS)));\n",
    "\tpurpose(DC,DS,transferToThirdParty), assertz(dcCanHoldData(dataController(DC),dataSubject(DS)));\n",
    "\tpurpose(DC,DS,exclusiveDCUse), assertz(dcCanHoldData(dataController(DC),dataSubject(DS)));\n",
    "\tassertz(dcCanHoldData('','')).\t"
   ]
  },
  {
   "cell_type": "code",
   "execution_count": 25,
   "id": "100701c5",
   "metadata": {},
   "outputs": [
    {
     "name": "stdout",
     "output_type": "stream",
     "text": [
      " ;\n",
      " ."
     ]
    }
   ],
   "source": [
    "?- auxToSetIfDCCanHoldDSData(dataController(fiocruz),dataSubject(paulo))."
   ]
  },
  {
   "cell_type": "code",
   "execution_count": 26,
   "id": "47493505",
   "metadata": {},
   "outputs": [
    {
     "name": "stdout",
     "output_type": "stream",
     "text": [
      "true."
     ]
    }
   ],
   "source": [
    "?- dcCanHoldData(dataController(fiocruz),dataSubject(paulo))."
   ]
  },
  {
   "cell_type": "markdown",
   "id": "89fd963e",
   "metadata": {},
   "source": [
    "If the Data Controller can hold de Data Subject's data, then nothing happens but the Data Subject cannot request data deletion anymore."
   ]
  },
  {
   "cell_type": "code",
   "execution_count": 27,
   "id": "0867d030",
   "metadata": {},
   "outputs": [
    {
     "name": "stdout",
     "output_type": "stream",
     "text": [
      "true."
     ]
    }
   ],
   "source": [
    "?- dcCanHoldData(dataController(fiocruz),dataSubject(paulo)),\n",
    "retract(dsRight(dataDeletion,dataSubject(paulo),dataController(fiocruz)))."
   ]
  },
  {
   "cell_type": "markdown",
   "id": "3b2674e0",
   "metadata": {},
   "source": [
    "Else, if the Data Controller cannot hold the Data Subject's data, the Data Controller cannot store the Data Subject's data, and the Data Subject has no more rights related to this Data Controller."
   ]
  },
  {
   "cell_type": "code",
   "execution_count": 28,
   "id": "86b1045a",
   "metadata": {},
   "outputs": [
    {
     "name": "stdout",
     "output_type": "stream",
     "text": []
    }
   ],
   "source": [
    "deleteDSData(id(ID),dataSubject(DS),dataController(DC),personalData(DS,PData),healthData(DS,HData)) :-\n",
    "        not(dcCanHoldData(dataController(DC),dataSubject(DS))),\n",
    "\t\tretract(dsRight(dataAccess,dataSubject(DS),dataController(DC))),\n",
    "\t\tretract(dsRight(dataCopy,dataSubject(DS),dataController(DC))),\n",
    "\t\tretract(dsRight(dataCorrection,dataSubject(DS),dataController(DC))),\n",
    "\t\tretract(dsRight(dataAnonimization,dataSubject(DS),dataController(DC))),\n",
    "\t\tretract(dsRight(dataPortability,dataSubject(DS),dataController(DC))),\n",
    "\t\tretract(dsRight(dataDeletion,dataSubject(DS),dataController(DC))),\n",
    "\t\tretract(dsRight(dataSharingInformation,dataSubject(DS),dataController(DC))),\n",
    "\t\tretract(dcIsProcessingDSData(id(ID),dataController(DC),dataSubject(DS),personalData(DS,PData),healthData(DS,HData)))."
   ]
  },
  {
   "cell_type": "code",
   "execution_count": 29,
   "id": "fb61e373",
   "metadata": {},
   "outputs": [
    {
     "name": "stdout",
     "output_type": "stream",
     "text": [
      "false."
     ]
    }
   ],
   "source": [
    "?- deleteDSData(id(10),dataSubject(paulo),dataController(fiocruz),personalData(paulo,976635869),healthData(paulo,oPlus))."
   ]
  },
  {
   "cell_type": "markdown",
   "id": "811ea26b",
   "metadata": {},
   "source": [
    "In this case, the result is false because the purpose is research.\n",
    "<p> Try with another purpose different than research, legalObligation, transferToThirdParty, exclusiveDCUse.</p>\n",
    "<p> IMPORTANT: Remember to change the purpose in the fuction <b><i>checkConsentTerm</i></b> to the new purpose.</p>"
   ]
  },
  {
   "cell_type": "markdown",
   "id": "4283b37f",
   "metadata": {},
   "source": [
    "#### Questions to ask"
   ]
  },
  {
   "cell_type": "markdown",
   "id": "6239f32d",
   "metadata": {},
   "source": [
    "Are the fiocruz data controller using the data subject Paulo's data? "
   ]
  },
  {
   "cell_type": "code",
   "execution_count": 30,
   "id": "b31d83d3",
   "metadata": {},
   "outputs": [
    {
     "name": "stdout",
     "output_type": "stream",
     "text": [
      "true."
     ]
    }
   ],
   "source": [
    "?- dsRight(processingConfirmation,dataSubject(paulo),dataController(fiocruz))."
   ]
  },
  {
   "cell_type": "markdown",
   "id": "0cc10cfe",
   "metadata": {},
   "source": [
    "What are the Data Subject rights right now?"
   ]
  },
  {
   "cell_type": "code",
   "execution_count": 31,
   "id": "2c241578",
   "metadata": {},
   "outputs": [
    {
     "name": "stdout",
     "output_type": "stream",
     "text": [
      "RIGHT = processingConfirmation ;\n",
      "RIGHT = dataAccess ;\n",
      "RIGHT = dataCopy ;\n",
      "RIGHT = dataCorrection ;\n",
      "RIGHT = dataAnonimization ;\n",
      "RIGHT = dataPortability ;\n",
      "RIGHT = dataSharingInformation ."
     ]
    }
   ],
   "source": [
    "?- dsRight(RIGHT,dataSubject(paulo),dataController(fiocruz))."
   ]
  },
  {
   "cell_type": "markdown",
   "id": "723dfcb6",
   "metadata": {},
   "source": [
    "Can all items from art. 9 be informed?"
   ]
  },
  {
   "cell_type": "code",
   "execution_count": 32,
   "id": "aad7d26d",
   "metadata": {},
   "outputs": [
    {
     "name": "stdout",
     "output_type": "stream",
     "text": [
      "SPECIFICPURPOSE = genetic_factors_related_to_COVID-19 ."
     ]
    }
   ],
   "source": [
    "?- specificPurpose(fiocruz,paulo,research,SPECIFICPURPOSE)."
   ]
  },
  {
   "cell_type": "code",
   "execution_count": 33,
   "id": "d25f269d",
   "metadata": {},
   "outputs": [
    {
     "name": "stdout",
     "output_type": "stream",
     "text": [
      "DAYS = 180 ."
     ]
    }
   ],
   "source": [
    "?- timeLength(fiocruz, paulo, research, 'genetic_factors_related_to_COVID-19',DAYS)."
   ]
  },
  {
   "cell_type": "markdown",
   "id": "9b071aa1",
   "metadata": {},
   "source": [
    "Who are processing the Data Subject's personal data and what are the respective data?"
   ]
  },
  {
   "cell_type": "code",
   "execution_count": 34,
   "id": "fb76ac29",
   "metadata": {},
   "outputs": [
    {
     "name": "stdout",
     "output_type": "stream",
     "text": [
      "ID = 10, DC = fiocruz, PData = 976635869, HData = oPlus ."
     ]
    }
   ],
   "source": [
    "?- dcIsProcessingDSData(id(ID),dataController(DC),dataSubject(paulo),personalData(paulo,PData),healthData(paulo,HData))."
   ]
  },
  {
   "cell_type": "markdown",
   "id": "fc11dcb4",
   "metadata": {},
   "source": [
    "Who are collecting the Data Subject's personal data and what are the respective data?"
   ]
  },
  {
   "cell_type": "code",
   "execution_count": 35,
   "id": "74a410e4",
   "metadata": {},
   "outputs": [
    {
     "name": "stdout",
     "output_type": "stream",
     "text": [
      "false."
     ]
    }
   ],
   "source": [
    "?- dcIsCollectingDSData(id(ID),dataController(DC),dataSubject(paulo),personalData(paulo,PData),healthData(paulo,HData))."
   ]
  }
 ],
 "metadata": {
  "kernelspec": {
   "display_name": "SWI-Prolog",
   "language": "",
   "name": "jswipl"
  },
  "language_info": {
   "mimetype": "text/plain",
   "name": "swipl"
  }
 },
 "nbformat": 4,
 "nbformat_minor": 5
}
